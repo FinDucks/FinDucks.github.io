{
 "cells": [
  {
   "cell_type": "code",
   "execution_count": 5,
   "id": "42a0e5c3",
   "metadata": {},
   "outputs": [],
   "source": [
    "def gen_bingo():\n",
    "    numbers = list(range(1,26))\n",
    "    import random as rnd\n",
    "    rows = []\n",
    "    for _ in range(5):\n",
    "        row = []\n",
    "        for _ in range(5):\n",
    "            index = rnd.randint(0,len(numbers)-1)\n",
    "            number = numbers.pop(index)\n",
    "            row.append(number)\n",
    "        rows.append(row)\n",
    "    return rows\n",
    "\n",
    "def set_0(game, search_num):\n",
    "    for row in game:\n",
    "        if search_num in row:\n",
    "            index = row.index(search_num)\n",
    "            row[index] = 0\n",
    "            break\n",
    "    else:\n",
    "        print(\"이미 한번 찾은 숫자입니다.\")\n",
    "        \n",
    "def get_bingocount(game):\n",
    "    bingo_count = 0\n",
    "    # 한줄이 빙고인지?\n",
    "    for row in game:\n",
    "        if row.count(0) == 5:\n",
    "            print(\"1 row bingo\")\n",
    "            bingo_count += 1\n",
    "\n",
    "    # 한 컬럼이 빙고인지?\n",
    "    for column in range(5):\n",
    "        row_count = 0\n",
    "        for row in game:\n",
    "            if row[column] == 0:\n",
    "                row_count+=1\n",
    "        if row_count == 5:\n",
    "            print(\"1 column bingo\")\n",
    "            bingo_count += 1\n",
    "\n",
    "    count = 0\n",
    "    for index in range(5):\n",
    "        if game[index][index] == 0:\n",
    "            count += 1\n",
    "    if count == 5:\n",
    "        print(\"대각선 bingo\")\n",
    "        bingo_count += 1\n",
    "\n",
    "    count = 0\n",
    "    for index in range(5):\n",
    "        if game[index][4-index] == 0:\n",
    "            count += 1\n",
    "    if count == 5:\n",
    "        print(\"대각선 bingo\")\n",
    "        bingo_count += 1\n",
    "\n",
    "    print(\"총 빙고 갯수\", bingo_count)\n",
    "    return bingo_count\n",
    "\n",
    "\n",
    "\n",
    "\n"
   ]
  },
  {
   "cell_type": "code",
   "execution_count": null,
   "id": "15c0b7fd",
   "metadata": {},
   "outputs": [],
   "source": []
  },
  {
   "cell_type": "code",
   "execution_count": null,
   "id": "d46c1e2d",
   "metadata": {},
   "outputs": [],
   "source": [
    "# 1. 프로그램을 실행하자마자 빙고 게임 생성해서 출력\n",
    "# 2. 빙고가 총 3줄이 나오기 전까지 계속 숫자 입력받기\n",
    "# 3. 숫자가 입력되면, 해당 숫자를 찾아서 0으로 바꾸고, 게임판 다시 출력\n",
    "# 4. 빙고가 3줄이 되면 게임 종료"
   ]
  },
  {
   "cell_type": "code",
   "execution_count": 6,
   "id": "0dc8b516",
   "metadata": {},
   "outputs": [
    {
     "name": "stdout",
     "output_type": "stream",
     "text": [
      "숫자 : 1\n",
      "총 빙고 갯수 0\n",
      "[[5, 6, 25, 21, 10], [20, 7, 11, 0, 18], [2, 22, 12, 15, 23], [17, 4, 16, 3, 24], [8, 14, 9, 13, 19]]\n",
      "숫자 : 18\n",
      "총 빙고 갯수 0\n",
      "[[5, 6, 25, 21, 10], [20, 7, 11, 0, 0], [2, 22, 12, 15, 23], [17, 4, 16, 3, 24], [8, 14, 9, 13, 19]]\n",
      "숫자 : 3\n",
      "총 빙고 갯수 0\n",
      "[[5, 6, 25, 21, 10], [20, 7, 11, 0, 0], [2, 22, 12, 15, 23], [17, 4, 16, 0, 24], [8, 14, 9, 13, 19]]\n",
      "숫자 : 27\n",
      "이미 한번 찾은 숫자입니다.\n",
      "총 빙고 갯수 0\n",
      "[[5, 6, 25, 21, 10], [20, 7, 11, 0, 0], [2, 22, 12, 15, 23], [17, 4, 16, 0, 24], [8, 14, 9, 13, 19]]\n"
     ]
    },
    {
     "ename": "KeyboardInterrupt",
     "evalue": "Interrupted by user",
     "output_type": "error",
     "traceback": [
      "\u001b[0;31m---------------------------------------------------------------------------\u001b[0m",
      "\u001b[0;31mKeyboardInterrupt\u001b[0m                         Traceback (most recent call last)",
      "Input \u001b[0;32mIn [6]\u001b[0m, in \u001b[0;36m<cell line: 5>\u001b[0;34m()\u001b[0m\n\u001b[1;32m      1\u001b[0m game \u001b[38;5;241m=\u001b[39m gen_bingo() \u001b[38;5;66;03m# 원본 게임판 준비\u001b[39;00m\n\u001b[1;32m      3\u001b[0m \u001b[38;5;28;01mwhile\u001b[39;00m \u001b[38;5;28;01mTrue\u001b[39;00m:\n\u001b[1;32m      4\u001b[0m     \u001b[38;5;66;03m# 맞출 숫자 하나 입력하기\u001b[39;00m\n\u001b[0;32m----> 5\u001b[0m     number \u001b[38;5;241m=\u001b[39m \u001b[38;5;28;43minput\u001b[39;49m\u001b[43m(\u001b[49m\u001b[38;5;124;43m\"\u001b[39;49m\u001b[38;5;124;43m숫자 : \u001b[39;49m\u001b[38;5;124;43m\"\u001b[39;49m\u001b[43m)\u001b[49m\n\u001b[1;32m      6\u001b[0m     number \u001b[38;5;241m=\u001b[39m \u001b[38;5;28mint\u001b[39m(number)\n\u001b[1;32m      7\u001b[0m     \u001b[38;5;66;03m# 그 숫자가 있다면 0으로 체크\u001b[39;00m\n",
      "File \u001b[0;32m/usr/local/lib/python3.9/site-packages/ipykernel/kernelbase.py:1165\u001b[0m, in \u001b[0;36mKernel.raw_input\u001b[0;34m(self, prompt)\u001b[0m\n\u001b[1;32m   1161\u001b[0m \u001b[38;5;28;01mif\u001b[39;00m \u001b[38;5;129;01mnot\u001b[39;00m \u001b[38;5;28mself\u001b[39m\u001b[38;5;241m.\u001b[39m_allow_stdin:\n\u001b[1;32m   1162\u001b[0m     \u001b[38;5;28;01mraise\u001b[39;00m StdinNotImplementedError(\n\u001b[1;32m   1163\u001b[0m         \u001b[38;5;124m\"\u001b[39m\u001b[38;5;124mraw_input was called, but this frontend does not support input requests.\u001b[39m\u001b[38;5;124m\"\u001b[39m\n\u001b[1;32m   1164\u001b[0m     )\n\u001b[0;32m-> 1165\u001b[0m \u001b[38;5;28;01mreturn\u001b[39;00m \u001b[38;5;28;43mself\u001b[39;49m\u001b[38;5;241;43m.\u001b[39;49m\u001b[43m_input_request\u001b[49m\u001b[43m(\u001b[49m\n\u001b[1;32m   1166\u001b[0m \u001b[43m    \u001b[49m\u001b[38;5;28;43mstr\u001b[39;49m\u001b[43m(\u001b[49m\u001b[43mprompt\u001b[49m\u001b[43m)\u001b[49m\u001b[43m,\u001b[49m\n\u001b[1;32m   1167\u001b[0m \u001b[43m    \u001b[49m\u001b[38;5;28;43mself\u001b[39;49m\u001b[38;5;241;43m.\u001b[39;49m\u001b[43m_parent_ident\u001b[49m\u001b[43m[\u001b[49m\u001b[38;5;124;43m\"\u001b[39;49m\u001b[38;5;124;43mshell\u001b[39;49m\u001b[38;5;124;43m\"\u001b[39;49m\u001b[43m]\u001b[49m\u001b[43m,\u001b[49m\n\u001b[1;32m   1168\u001b[0m \u001b[43m    \u001b[49m\u001b[38;5;28;43mself\u001b[39;49m\u001b[38;5;241;43m.\u001b[39;49m\u001b[43mget_parent\u001b[49m\u001b[43m(\u001b[49m\u001b[38;5;124;43m\"\u001b[39;49m\u001b[38;5;124;43mshell\u001b[39;49m\u001b[38;5;124;43m\"\u001b[39;49m\u001b[43m)\u001b[49m\u001b[43m,\u001b[49m\n\u001b[1;32m   1169\u001b[0m \u001b[43m    \u001b[49m\u001b[43mpassword\u001b[49m\u001b[38;5;241;43m=\u001b[39;49m\u001b[38;5;28;43;01mFalse\u001b[39;49;00m\u001b[43m,\u001b[49m\n\u001b[1;32m   1170\u001b[0m \u001b[43m\u001b[49m\u001b[43m)\u001b[49m\n",
      "File \u001b[0;32m/usr/local/lib/python3.9/site-packages/ipykernel/kernelbase.py:1207\u001b[0m, in \u001b[0;36mKernel._input_request\u001b[0;34m(self, prompt, ident, parent, password)\u001b[0m\n\u001b[1;32m   1204\u001b[0m             \u001b[38;5;28;01mbreak\u001b[39;00m\n\u001b[1;32m   1205\u001b[0m \u001b[38;5;28;01mexcept\u001b[39;00m \u001b[38;5;167;01mKeyboardInterrupt\u001b[39;00m:\n\u001b[1;32m   1206\u001b[0m     \u001b[38;5;66;03m# re-raise KeyboardInterrupt, to truncate traceback\u001b[39;00m\n\u001b[0;32m-> 1207\u001b[0m     \u001b[38;5;28;01mraise\u001b[39;00m \u001b[38;5;167;01mKeyboardInterrupt\u001b[39;00m(\u001b[38;5;124m\"\u001b[39m\u001b[38;5;124mInterrupted by user\u001b[39m\u001b[38;5;124m\"\u001b[39m) \u001b[38;5;28;01mfrom\u001b[39;00m \u001b[38;5;28mNone\u001b[39m\n\u001b[1;32m   1208\u001b[0m \u001b[38;5;28;01mexcept\u001b[39;00m \u001b[38;5;167;01mException\u001b[39;00m:\n\u001b[1;32m   1209\u001b[0m     \u001b[38;5;28mself\u001b[39m\u001b[38;5;241m.\u001b[39mlog\u001b[38;5;241m.\u001b[39mwarning(\u001b[38;5;124m\"\u001b[39m\u001b[38;5;124mInvalid Message:\u001b[39m\u001b[38;5;124m\"\u001b[39m, exc_info\u001b[38;5;241m=\u001b[39m\u001b[38;5;28;01mTrue\u001b[39;00m)\n",
      "\u001b[0;31mKeyboardInterrupt\u001b[0m: Interrupted by user"
     ]
    }
   ],
   "source": [
    "game = gen_bingo() # 원본 게임판 준비\n",
    "\n",
    "while True:\n",
    "    # 맞출 숫자 하나 입력하기\n",
    "    number = input(\"숫자 : \")\n",
    "    number = int(number)\n",
    "    # 그 숫자가 있다면 0으로 체크\n",
    "    set_0(game, number)\n",
    "    # 빙고가 됐는지 확인\n",
    "    game_count = get_bingocount(game)\n",
    "    \n",
    "    print(game) # 원본 게임판 재 출력\n",
    "    if game_count == 3:\n",
    "        print(\"Bingo!!!!\")\n",
    "        break"
   ]
  },
  {
   "cell_type": "code",
   "execution_count": null,
   "id": "59c5b035",
   "metadata": {},
   "outputs": [],
   "source": []
  }
 ],
 "metadata": {
  "kernelspec": {
   "display_name": "Python 3 (ipykernel)",
   "language": "python",
   "name": "python3"
  },
  "language_info": {
   "codemirror_mode": {
    "name": "ipython",
    "version": 3
   },
   "file_extension": ".py",
   "mimetype": "text/x-python",
   "name": "python",
   "nbconvert_exporter": "python",
   "pygments_lexer": "ipython3",
   "version": "3.9.7"
  },
  "toc": {
   "base_numbering": 1,
   "nav_menu": {},
   "number_sections": true,
   "sideBar": true,
   "skip_h1_title": false,
   "title_cell": "Table of Contents",
   "title_sidebar": "Contents",
   "toc_cell": false,
   "toc_position": {},
   "toc_section_display": true,
   "toc_window_display": false
  }
 },
 "nbformat": 4,
 "nbformat_minor": 5
}
