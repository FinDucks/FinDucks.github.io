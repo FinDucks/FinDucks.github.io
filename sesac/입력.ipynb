{
 "cells": [
  {
   "cell_type": "markdown",
   "id": "c1991885",
   "metadata": {},
   "source": [
    "## input\n",
    "- 변수=input()\n",
    "     1. input으로 받은 데이터는 전부 문자열(str)이다.\n",
    "     2. ()안에는 주로 안내 메세지를 작성한다.\n",
    "    "
   ]
  },
  {
   "cell_type": "markdown",
   "id": "d2b2408d",
   "metadata": {},
   "source": [
    "- 문자열이 아닌 형태로 사용하고 싶다면 형변환을 사용한다. \n",
    "\n",
    "            변수 = ???(변수값)\n",
    "    \n",
    "??? 에는 타입을 입력하며 int,float,str, bool, list, dict, tuple, set 등 바꾸고 싶은 타입을 넣으면 된다.\n",
    "\n",
    "ex) intAge= int(Age)\n",
    "\n",
    "- 오류가 발생할 수 있어서 Try-except 구문을 같이 쓴다."
   ]
  },
  {
   "cell_type": "code",
   "execution_count": null,
   "id": "4058812c",
   "metadata": {},
   "outputs": [],
   "source": []
  }
 ],
 "metadata": {
  "kernelspec": {
   "display_name": "Python 3 (ipykernel)",
   "language": "python",
   "name": "python3"
  },
  "language_info": {
   "codemirror_mode": {
    "name": "ipython",
    "version": 3
   },
   "file_extension": ".py",
   "mimetype": "text/x-python",
   "name": "python",
   "nbconvert_exporter": "python",
   "pygments_lexer": "ipython3",
   "version": "3.9.7"
  }
 },
 "nbformat": 4,
 "nbformat_minor": 5
}
