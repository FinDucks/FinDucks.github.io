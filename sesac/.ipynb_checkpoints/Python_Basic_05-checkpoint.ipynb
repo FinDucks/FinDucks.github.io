{
 "cells": [
  {
   "cell_type": "code",
   "execution_count": null,
   "id": "3a37607b",
   "metadata": {},
   "outputs": [],
   "source": [
    "# 파일 다루기\n",
    "# 절차!\n",
    "# 1. 열기\n",
    "# 2. 사용하기\n",
    "# 3. 닫기"
   ]
  },
  {
   "cell_type": "code",
   "execution_count": null,
   "id": "a97db5bf",
   "metadata": {},
   "outputs": [],
   "source": [
    "file = open(파일 경로와 파일명)\n",
    "\n",
    "file.read()\n",
    "readline()\n",
    "readlines()\n",
    "\n",
    "file.close()"
   ]
  },
  {
   "cell_type": "code",
   "execution_count": 8,
   "id": "41553323",
   "metadata": {},
   "outputs": [],
   "source": [
    "text = \"a b c d e\"\n",
    "text2 = \"a,b,c,d,e\""
   ]
  },
  {
   "cell_type": "code",
   "execution_count": 10,
   "id": "66df00c4",
   "metadata": {},
   "outputs": [
    {
     "data": {
      "text/plain": [
       "['a', 'b', 'c', 'd', 'e']"
      ]
     },
     "execution_count": 10,
     "metadata": {},
     "output_type": "execute_result"
    }
   ],
   "source": [
    "text2.split(\",\")"
   ]
  },
  {
   "cell_type": "code",
   "execution_count": null,
   "id": "88578aa8",
   "metadata": {},
   "outputs": [],
   "source": [
    "for char in text:\n",
    "    if char != \" \":\n",
    "        print(char)"
   ]
  },
  {
   "cell_type": "code",
   "execution_count": null,
   "id": "e732e708",
   "metadata": {},
   "outputs": [],
   "source": [
    "# 1. 간단한 메모장을 만들어보시오.\n",
    "# input으로 입력받은 내용을 파일에 기록하고\n",
    "# 입력을 종료하면 파일을 저장한다.\n",
    "# 내용 불러오기 메뉴를 선택하면 기존에 작성했던 메모를 화면에 보여준다."
   ]
  },
  {
   "cell_type": "code",
   "execution_count": 18,
   "id": "cd901c21",
   "metadata": {},
   "outputs": [
    {
     "name": "stdout",
     "output_type": "stream",
     "text": [
      "1. 메모 입력\n",
      "2. 메모 출력\n",
      "3. 프로그램 종료\n",
      "메뉴 선택 : 1\n",
      "남길 메모 : sdas\n",
      "남길 메모 : wer\n",
      "남길 메모 : wer\n",
      "남길 메모 : wer\n",
      "남길 메모 : we\n",
      "남길 메모 : vsd\n",
      "남길 메모 : wr2\n",
      "남길 메모 : r3\n",
      "남길 메모 : \n",
      "1. 메모 입력\n",
      "2. 메모 출력\n",
      "3. 프로그램 종료\n",
      "메뉴 선택 : 2\n",
      "test\n",
      "\n",
      "sdas\n",
      "wer\n",
      "wer\n",
      "wer\n",
      "we\n",
      "vsd\n",
      "wr2\n",
      "r3\n",
      "\n",
      "\n",
      "1. 메모 입력\n",
      "2. 메모 출력\n",
      "3. 프로그램 종료\n",
      "메뉴 선택 : 3\n"
     ]
    }
   ],
   "source": [
    "while True:\n",
    "    print(\"1. 메모 입력\")\n",
    "    print(\"2. 메모 출력\")\n",
    "    print(\"3. 프로그램 종료\")\n",
    "    menu = input(\"메뉴 선택 : \")\n",
    "    if menu == \"1\":\n",
    "        file = open(\"memo.txt\", \"a\")\n",
    "        while True:\n",
    "            msg = input(\"남길 메모 : \")\n",
    "            print(msg, file=file)\n",
    "            if not msg:\n",
    "                break\n",
    "        file.close()\n",
    "    elif menu == \"2\":\n",
    "        file = open(\"memo.txt\", \"r\")\n",
    "        print(file.read())\n",
    "        file.close()\n",
    "    elif menu == \"3\":\n",
    "        break"
   ]
  },
  {
   "cell_type": "code",
   "execution_count": 17,
   "id": "fbe20099",
   "metadata": {},
   "outputs": [
    {
     "name": "stdout",
     "output_type": "stream",
     "text": [
      "test\n",
      "\n",
      "\n"
     ]
    }
   ],
   "source": []
  },
  {
   "cell_type": "code",
   "execution_count": null,
   "id": "b62f0d36",
   "metadata": {},
   "outputs": [],
   "source": [
    "조건식 -> 명제 -> True, False"
   ]
  },
  {
   "cell_type": "code",
   "execution_count": null,
   "id": "cde72794",
   "metadata": {},
   "outputs": [],
   "source": [
    "while True:"
   ]
  },
  {
   "cell_type": "code",
   "execution_count": 12,
   "id": "8c91436e",
   "metadata": {},
   "outputs": [
    {
     "data": {
      "text/plain": [
       "False"
      ]
     },
     "execution_count": 12,
     "metadata": {},
     "output_type": "execute_result"
    }
   ],
   "source": [
    "0 == True"
   ]
  },
  {
   "cell_type": "code",
   "execution_count": 14,
   "id": "af1d29c4",
   "metadata": {
    "scrolled": true
   },
   "outputs": [
    {
     "data": {
      "text/plain": [
       "False"
      ]
     },
     "execution_count": 14,
     "metadata": {},
     "output_type": "execute_result"
    }
   ],
   "source": [
    "-1 == False"
   ]
  },
  {
   "cell_type": "code",
   "execution_count": null,
   "id": "cf0057a3",
   "metadata": {},
   "outputs": [],
   "source": [
    "# 변수의 값이 True, False인 경우\n",
    "숫자 : 0만 False 나머지는 True\n",
    "문자 : ''만 False 나머지는 True\n",
    "불 : False, True\n",
    "리스트 : []\n",
    "딕셔너리 : {}\n",
    "비어있는 리스트 []는 False다.\n",
    "[[]] ?"
   ]
  },
  {
   "cell_type": "code",
   "execution_count": null,
   "id": "08894613",
   "metadata": {},
   "outputs": [],
   "source": [
    "if msg == \"\":"
   ]
  },
  {
   "cell_type": "code",
   "execution_count": null,
   "id": "68325eb3",
   "metadata": {},
   "outputs": [],
   "source": [
    "# 2. 로또 번호 생성기를 만들고\n",
    "# 생성된 번호를 텍스트 파일에 저장하시오.\n",
    "# 번호 불러오기 메뉴를 선택하면 기존에 저장된 번호를 화면에 보여준다.\n",
    "# * 번호를 불러올 때 각 번호별로 리스트에 저장하고 나서, 화면에 출력하시오."
   ]
  },
  {
   "cell_type": "code",
   "execution_count": 20,
   "id": "5633ebb1",
   "metadata": {},
   "outputs": [
    {
     "name": "stdout",
     "output_type": "stream",
     "text": [
      "[13, 18, 19, 28, 35, 45]\n"
     ]
    }
   ],
   "source": [
    "# 1. 로또 번호 생성하기\n",
    "numbers = list(range(1,46))\n",
    "import random as rnd\n",
    "for _ in range(5):\n",
    "    lotto = sorted(rnd.sample(numbers,6))\n",
    "    print(lotto)\n",
    "    # 2. 파일에 저장하기\n",
    "    lotto_file = open(\"lotto.txt\", \"a\")\n",
    "    print(lotto, file=lotto_file)\n",
    "lotto_file.close()\n",
    "\n",
    "# 3. 파일에 있는 번호 불러와서 리스트로 저장하기\n",
    "lotto_file = open(\"lotto.txt\", \"r\")\n",
    "for data in lotto_file.readlines():\n",
    "    data = data[1:-1]\n",
    "    lotto = data.split(', ')\n",
    "    # 4. 화면에 출력하기\n",
    "    print(lotto)\n",
    "lotto_file.close()\n",
    "\n"
   ]
  },
  {
   "cell_type": "code",
   "execution_count": 31,
   "id": "40fa9df6",
   "metadata": {},
   "outputs": [],
   "source": [
    "test = \"[1, 3, 5, 12, 17, 19]\""
   ]
  },
  {
   "cell_type": "code",
   "execution_count": 32,
   "id": "69ee6092",
   "metadata": {},
   "outputs": [],
   "source": [
    "test = test[1:-1]"
   ]
  },
  {
   "cell_type": "code",
   "execution_count": 33,
   "id": "c6d9656a",
   "metadata": {},
   "outputs": [
    {
     "data": {
      "text/plain": [
       "'1, 3, 5, 12, 17, 19'"
      ]
     },
     "execution_count": 33,
     "metadata": {},
     "output_type": "execute_result"
    }
   ],
   "source": [
    "test"
   ]
  },
  {
   "cell_type": "code",
   "execution_count": 27,
   "id": "970b1f71",
   "metadata": {
    "scrolled": true
   },
   "outputs": [],
   "source": [
    "test = test.split(', ')"
   ]
  },
  {
   "cell_type": "code",
   "execution_count": 29,
   "id": "e3dfac6f",
   "metadata": {},
   "outputs": [],
   "source": [
    "test[0] = test[0][1:]\n",
    "test[-1] = test[-1][:-1]"
   ]
  },
  {
   "cell_type": "code",
   "execution_count": 30,
   "id": "b052a4a6",
   "metadata": {},
   "outputs": [
    {
     "data": {
      "text/plain": [
       "['1', '3', '5', '12', '17', '19']"
      ]
     },
     "execution_count": 30,
     "metadata": {},
     "output_type": "execute_result"
    }
   ],
   "source": [
    "test"
   ]
  },
  {
   "cell_type": "code",
   "execution_count": 35,
   "id": "dc54c0f2",
   "metadata": {},
   "outputs": [
    {
     "data": {
      "text/plain": [
       "False"
      ]
     },
     "execution_count": 35,
     "metadata": {},
     "output_type": "execute_result"
    }
   ],
   "source": [
    "\"x\" in \"hello\""
   ]
  },
  {
   "cell_type": "code",
   "execution_count": null,
   "id": "6c282506",
   "metadata": {},
   "outputs": [],
   "source": [
    "for x in test:\n",
    "    if x != '[' and x!= ']' and x!=',' and x!=' ':\n",
    "    if x not in ['[',']',',',' ']:\n",
    "    if x not in \"[], \":\n",
    "        print(x)"
   ]
  },
  {
   "cell_type": "code",
   "execution_count": null,
   "id": "fec78b0c",
   "metadata": {},
   "outputs": [],
   "source": [
    "# 정규 표현식"
   ]
  },
  {
   "cell_type": "code",
   "execution_count": null,
   "id": "6b66b844",
   "metadata": {},
   "outputs": [],
   "source": [
    "# 1. re 모듈을 임포트 한다. \n",
    "# 2. 정규표현식 패턴을 작성한다.\n",
    "# 3. 패턴을 컴파일한다.\n",
    "# 4. 컴파일된 패턴을 이용해 맞는 문자열을 찾는다."
   ]
  },
  {
   "cell_type": "code",
   "execution_count": 36,
   "id": "e6de74b5",
   "metadata": {},
   "outputs": [],
   "source": [
    "import re"
   ]
  },
  {
   "cell_type": "code",
   "execution_count": null,
   "id": "a6a6aa6b",
   "metadata": {},
   "outputs": [],
   "source": [
    "# 메타 문자 \n",
    "# \\ : 뒤에 있는 글자의 특수 기능을 발동시킨다.\n",
    "# . : 엔터를 제외한 모든 문자 중 하나\n",
    "# \\d : 숫자 하나!\n",
    "# [0-9]\n",
    "# \\D : 숫자가 아닌거\n",
    "# [^0-9]\n",
    "# [a-z] : 소문자\n",
    "# [A-Z] : 대문자\n",
    "# [a-zA-Z] : 알파벳만\n",
    "# \\w : 일반 문자(숫자, 글자)\n",
    "# [a-zA-Z0-9]\n",
    "# \\W : 일반 문자가 아닌거\n",
    "# \\s : 공백문자\n",
    "# \\S : 공백문자가 아닌거\n",
    "# ? : 글자가 0번 혹은 1번\n",
    "# * : 글자가 0번 이상 반복\n",
    "# + : 글자가 1번 이상 반복\n",
    "# {n} : n개의 글자\n",
    "# {n,m} : n~m개의 글자\n",
    "# [?] : 문자들의 그룹, 집합"
   ]
  },
  {
   "cell_type": "code",
   "execution_count": 70,
   "id": "2ffa4703",
   "metadata": {},
   "outputs": [
    {
     "data": {
      "text/plain": [
       "<re.Match object; span=(7, 14), match='-123423'>"
      ]
     },
     "execution_count": 70,
     "metadata": {},
     "output_type": "execute_result"
    }
   ],
   "source": [
    "# 숫자 찾는 법 \n",
    "# - 찾는 법\n",
    "# ?? \n",
    "pattern = \"[0-9-]{7}\"\n",
    "p = re.compile(pattern)\n",
    "p.search(\"python -123423 palskdk asdfasdlfj\")"
   ]
  },
  {
   "cell_type": "code",
   "execution_count": 102,
   "id": "a3fea242",
   "metadata": {},
   "outputs": [],
   "source": [
    "# 주민번호 매칭\n",
    "pattern = \"(\\d{6}-\\d{7}).+(\\d{3}-\\d{3,4}-\\d{4})\"\n",
    "p = re.compile(pattern)\n",
    "result = p.search(\"asdfasdf790423-1405991asdasdf010-5555-6666\")"
   ]
  },
  {
   "cell_type": "code",
   "execution_count": 104,
   "id": "dae679b6",
   "metadata": {},
   "outputs": [
    {
     "data": {
      "text/plain": [
       "'790423-1405991asdasdf010-5555-6666'"
      ]
     },
     "execution_count": 104,
     "metadata": {},
     "output_type": "execute_result"
    }
   ],
   "source": [
    "result.group()"
   ]
  },
  {
   "cell_type": "code",
   "execution_count": 103,
   "id": "08ac8a5e",
   "metadata": {},
   "outputs": [
    {
     "data": {
      "text/plain": [
       "('790423-1405991', '010-5555-6666')"
      ]
     },
     "execution_count": 103,
     "metadata": {},
     "output_type": "execute_result"
    }
   ],
   "source": [
    "result.groups()"
   ]
  },
  {
   "cell_type": "code",
   "execution_count": 82,
   "id": "c4ef98bd",
   "metadata": {},
   "outputs": [
    {
     "data": {
      "text/plain": [
       "(8, 22)"
      ]
     },
     "execution_count": 82,
     "metadata": {},
     "output_type": "execute_result"
    }
   ],
   "source": [
    "result.span() # 찾아낸 글자의 시작 끝 위치 쌍"
   ]
  },
  {
   "cell_type": "code",
   "execution_count": 83,
   "id": "2e5c79e3",
   "metadata": {
    "scrolled": true
   },
   "outputs": [
    {
     "data": {
      "text/plain": [
       "8"
      ]
     },
     "execution_count": 83,
     "metadata": {},
     "output_type": "execute_result"
    }
   ],
   "source": [
    "result.start() # 찾아낸 글자의 시작 위치"
   ]
  },
  {
   "cell_type": "code",
   "execution_count": 84,
   "id": "4e2d889c",
   "metadata": {},
   "outputs": [
    {
     "data": {
      "text/plain": [
       "22"
      ]
     },
     "execution_count": 84,
     "metadata": {},
     "output_type": "execute_result"
    }
   ],
   "source": [
    "result.end() # 찾아낸 글자의 끝 위치"
   ]
  },
  {
   "cell_type": "code",
   "execution_count": 77,
   "id": "6f8ac496",
   "metadata": {},
   "outputs": [
    {
     "data": {
      "text/plain": [
       "<re.Match object; span=(3, 15), match='010-555-6666'>"
      ]
     },
     "execution_count": 77,
     "metadata": {},
     "output_type": "execute_result"
    }
   ],
   "source": [
    "# 전화번호 매칭\n",
    "pattern = \"\\d{3}-\\d{3,4}-\\d{4}\"\n",
    "p = re.compile(pattern)\n",
    "p.search(\"ㄴㅁㅇ010-555-6666sadfslkjrlkj\")"
   ]
  },
  {
   "cell_type": "code",
   "execution_count": null,
   "id": "8b090fcd",
   "metadata": {},
   "outputs": [],
   "source": [
    "# 패턴 작성하는 법\n",
    "# 1. 그냥 글자는 글자 취급\n",
    "# 2. 메타 문자는 특수 취급"
   ]
  },
  {
   "cell_type": "code",
   "execution_count": 42,
   "id": "7e48c6ce",
   "metadata": {},
   "outputs": [
    {
     "data": {
      "text/plain": [
       "<re.Match object; span=(0, 6), match='python'>"
      ]
     },
     "execution_count": 42,
     "metadata": {},
     "output_type": "execute_result"
    }
   ],
   "source": [
    "p.match(\"python palskdk asdfasdlfj\")"
   ]
  },
  {
   "cell_type": "code",
   "execution_count": 43,
   "id": "728d3e09",
   "metadata": {},
   "outputs": [
    {
     "data": {
      "text/plain": [
       "<re.Match object; span=(0, 6), match='python'>"
      ]
     },
     "execution_count": 43,
     "metadata": {},
     "output_type": "execute_result"
    }
   ],
   "source": [
    "p.search(\"python palskdk asdfasdlfj\")"
   ]
  },
  {
   "cell_type": "code",
   "execution_count": 44,
   "id": "2436b2bc",
   "metadata": {},
   "outputs": [],
   "source": [
    "p.match(\"palskdk python asdfasdlfj\")"
   ]
  },
  {
   "cell_type": "code",
   "execution_count": 45,
   "id": "d32d2659",
   "metadata": {},
   "outputs": [
    {
     "data": {
      "text/plain": [
       "<re.Match object; span=(8, 14), match='python'>"
      ]
     },
     "execution_count": 45,
     "metadata": {},
     "output_type": "execute_result"
    }
   ],
   "source": [
    "p.search(\"palskdk python asdfasdlfj\")"
   ]
  },
  {
   "cell_type": "code",
   "execution_count": 46,
   "id": "8a0feb0a",
   "metadata": {},
   "outputs": [
    {
     "data": {
      "text/plain": [
       "['python']"
      ]
     },
     "execution_count": 46,
     "metadata": {},
     "output_type": "execute_result"
    }
   ],
   "source": [
    "p.findall(\"palskdk python asdfasdlfj\")"
   ]
  },
  {
   "cell_type": "code",
   "execution_count": null,
   "id": "4fbc2f45",
   "metadata": {},
   "outputs": [],
   "source": []
  },
  {
   "cell_type": "code",
   "execution_count": null,
   "id": "d578831c",
   "metadata": {},
   "outputs": [],
   "source": [
    "한명씩\n",
    "# 1. 이름\n",
    "# 2. 성별\n",
    "# 3. 생년월일 (xx-xx-xx)\n",
    "를 입력받아\n",
    "리스트에 저장하고\n",
    "파일에 저장하시오.\n",
    "\n",
    "불러오기 메뉴를 실행하면\n",
    "각 사람의 이름과 생년월일을 출력하시오.\n",
    "# 단 'xxx님의 생년월일은 xx년 xx월 xx일입니다.' 라고 출력하시오.\n"
   ]
  },
  {
   "cell_type": "code",
   "execution_count": 112,
   "id": "09476df5",
   "metadata": {},
   "outputs": [
    {
     "name": "stdout",
     "output_type": "stream",
     "text": [
      "이름 : jake\n",
      "성별 : m\n",
      "생년월일 : 88-07-11\n",
      "이름 : philip\n",
      "성별 : m\n",
      "생년월일 : 75-03-12\n",
      "이름 : amy\n",
      "성별 : w\n",
      "생년월일 : 89-08-20\n",
      "이름 : karen\n",
      "성별 : w\n",
      "생년월일 : 99-09-25\n",
      "이름 : \n",
      "성별 : \n",
      "생년월일 : \n"
     ]
    }
   ],
   "source": [
    "info_file = open(\"person.txt\", \"a\")\n",
    "while True:\n",
    "    name = input(\"이름 : \")\n",
    "    if not name:\n",
    "        break\n",
    "    gender = input(\"성별 : \")\n",
    "    birth = input(\"생년월일 : \")\n",
    "    \n",
    "    person = [name, gender, birth]\n",
    "    print(person, file=info_file)\n",
    "\n",
    "info_file.close()\n"
   ]
  },
  {
   "cell_type": "code",
   "execution_count": 142,
   "id": "c7a5f237",
   "metadata": {},
   "outputs": [
    {
     "name": "stdout",
     "output_type": "stream",
     "text": [
      "jake님의 생년월일은 88년 07월 11일입니다.\n",
      "philip님의 생년월일은 75년 03월 12일입니다.\n",
      "amy님의 생년월일은 89년 08월 20일입니다.\n",
      "karen님의 생년월일은 99년 09월 25일입니다.\n"
     ]
    }
   ],
   "source": [
    "import re\n",
    "pattern = \"\\['(\\w+)'.+((\\d{2})-(\\d{2})-(\\d{2}))\"\n",
    "p = re.compile(pattern)\n",
    "\n",
    "info_file = open(\"person.txt\", \"r\")\n",
    "people = info_file.readlines()\n",
    "for person in people:\n",
    "    result = p.match(person)\n",
    "    data = result.groups()\n",
    "    msg = f'{data[0]}님의 생년월일은 {data[2]}년 {data[3]}월 {data[4]}일입니다.'\n",
    "    print(msg)"
   ]
  },
  {
   "cell_type": "code",
   "execution_count": 136,
   "id": "672453cf",
   "metadata": {},
   "outputs": [],
   "source": [
    "import re\n",
    "pattern = \"\\['(\\w+)'.+((\\d{2})-(\\d{2})-(\\d{2}))\"\n",
    "p = re.compile(pattern)\n",
    "result = p.match(\"['jake', 'm', '88-07-11']\")"
   ]
  },
  {
   "cell_type": "code",
   "execution_count": 137,
   "id": "4d5fccb6",
   "metadata": {},
   "outputs": [
    {
     "data": {
      "text/plain": [
       "('jake', '88-07-11', '88', '07', '11')"
      ]
     },
     "execution_count": 137,
     "metadata": {},
     "output_type": "execute_result"
    }
   ],
   "source": [
    "result.groups()"
   ]
  },
  {
   "cell_type": "code",
   "execution_count": null,
   "id": "db3b193e",
   "metadata": {},
   "outputs": [],
   "source": [
    "# 입력 저장 처리 출력\n",
    "# 순차 분기 반복\n",
    "# 함수 - 반복되는 코드를 재 사용하기 위해서 하나의 명령어로 만드는 것 \n",
    "# 클래스 - 반복되는 명령과 로직의 집합을 재사용하기 위해 하나의 설계도로 만들어 두는 것"
   ]
  },
  {
   "cell_type": "code",
   "execution_count": null,
   "id": "118421e8",
   "metadata": {},
   "outputs": [],
   "source": [
    "명령어() <--- 단독으로 사용할 때 함수"
   ]
  },
  {
   "cell_type": "code",
   "execution_count": null,
   "id": "09b4a86e",
   "metadata": {},
   "outputs": [],
   "source": [
    "클래스.명령어() <----- xxx.명령어인 경우 보통 클래스이다."
   ]
  },
  {
   "cell_type": "code",
   "execution_count": null,
   "id": "c62c3fa8",
   "metadata": {},
   "outputs": [],
   "source": [
    "class 클래스이름:\n",
    "    def 함수이름(매개변수...):\n",
    "        내용"
   ]
  },
  {
   "cell_type": "code",
   "execution_count": null,
   "id": "be0bce17",
   "metadata": {},
   "outputs": [],
   "source": [
    "class ???:\n",
    "    def say():\n",
    "        asdf"
   ]
  },
  {
   "cell_type": "code",
   "execution_count": null,
   "id": "8c385635",
   "metadata": {},
   "outputs": [],
   "source": [
    "import random as rnd\n",
    "random.randint()"
   ]
  },
  {
   "cell_type": "code",
   "execution_count": null,
   "id": "d971160c",
   "metadata": {},
   "outputs": [],
   "source": [
    "!pip3 install sklearn"
   ]
  },
  {
   "cell_type": "code",
   "execution_count": 107,
   "id": "89e93087",
   "metadata": {},
   "outputs": [],
   "source": [
    "# LabelEncoder 라는 건물의 설계도를 불러왔다.\n",
    "from sklearn.preprocessing import LabelEncoder"
   ]
  },
  {
   "cell_type": "code",
   "execution_count": 108,
   "id": "933e2511",
   "metadata": {},
   "outputs": [],
   "source": [
    "# LabelEncoder() <--- 건물을 건설하겠다.\n",
    "encoder = LabelEncoder() <---- 명령어처럼 한번 실행"
   ]
  },
  {
   "cell_type": "code",
   "execution_count": null,
   "id": "49587dc8",
   "metadata": {},
   "outputs": [],
   "source": [
    "# 클래스 설계도니까 기능을 쓰려면 건물 만들고 기능 쓰기\n",
    "# 기능을 발동"
   ]
  },
  {
   "cell_type": "code",
   "execution_count": null,
   "id": "58ff1317",
   "metadata": {},
   "outputs": [],
   "source": [
    "# 변수 표기법\n",
    "my name is\n",
    "# MyNameIs : 파스칼 - 클래스 이름\n",
    "# myNameIs : 카멜 - 함수 이름\n",
    "# my_name_is : 스네이크 - 변수 이름"
   ]
  },
  {
   "cell_type": "code",
   "execution_count": null,
   "id": "21a63906",
   "metadata": {},
   "outputs": [],
   "source": [
    "# LabelEncoder클래스의 인스턴스\n",
    "# 인스턴스를 하나 만드세요 -> 클래스를 가지고 변수를 하나 만들어라\n"
   ]
  },
  {
   "cell_type": "code",
   "execution_count": null,
   "id": "63819a41",
   "metadata": {},
   "outputs": [],
   "source": [
    "encoder <----- 건물.기능"
   ]
  },
  {
   "cell_type": "code",
   "execution_count": null,
   "id": "2ab1ad39",
   "metadata": {},
   "outputs": [],
   "source": [
    "# 클래스는 건물의 설계도와 같다.\n",
    "# 건물에 있는 기능을 사용하려면, 설계도를 가지고 건물을 지어야 한다. \n"
   ]
  },
  {
   "cell_type": "code",
   "execution_count": null,
   "id": "85dfacee",
   "metadata": {},
   "outputs": [],
   "source": []
  }
 ],
 "metadata": {
  "kernelspec": {
   "display_name": "Python 3 (ipykernel)",
   "language": "python",
   "name": "python3"
  },
  "language_info": {
   "codemirror_mode": {
    "name": "ipython",
    "version": 3
   },
   "file_extension": ".py",
   "mimetype": "text/x-python",
   "name": "python",
   "nbconvert_exporter": "python",
   "pygments_lexer": "ipython3",
   "version": "3.9.7"
  }
 },
 "nbformat": 4,
 "nbformat_minor": 5
}
