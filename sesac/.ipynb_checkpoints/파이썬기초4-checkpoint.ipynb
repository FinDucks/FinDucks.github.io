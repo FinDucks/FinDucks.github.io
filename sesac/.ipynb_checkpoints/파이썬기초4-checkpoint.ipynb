{
 "cells": [
  {
   "cell_type": "markdown",
   "id": "1c28ea54",
   "metadata": {},
   "source": [
    "## 리스트 딕셔너리, 튜플, 셋"
   ]
  },
  {
   "cell_type": "markdown",
   "id": "24c5c55c",
   "metadata": {},
   "source": [
    "### 바구니 사용법\n",
    "- 만들기\n",
    "- 값 읽기\n",
    "- 변경\n",
    "- 추가\n",
    "- 삭제"
   ]
  },
  {
   "cell_type": "markdown",
   "id": "20fa67ba",
   "metadata": {},
   "source": [
    "### 튜플"
   ]
  },
  {
   "cell_type": "code",
   "execution_count": 3,
   "id": "564bf6e4",
   "metadata": {},
   "outputs": [],
   "source": [
    "test_tuple=tuple()"
   ]
  },
  {
   "cell_type": "code",
   "execution_count": 4,
   "id": "0c10d667",
   "metadata": {},
   "outputs": [
    {
     "data": {
      "text/plain": [
       "tuple"
      ]
     },
     "execution_count": 4,
     "metadata": {},
     "output_type": "execute_result"
    }
   ],
   "source": [
    "type(test_tuple)"
   ]
  },
  {
   "cell_type": "code",
   "execution_count": 5,
   "id": "3c63a3e8",
   "metadata": {},
   "outputs": [],
   "source": [
    "test_list=[]\n",
    "test_dict={}"
   ]
  },
  {
   "cell_type": "code",
   "execution_count": 6,
   "id": "f6490ca7",
   "metadata": {},
   "outputs": [],
   "source": [
    "test_tuple2=()"
   ]
  },
  {
   "cell_type": "code",
   "execution_count": 7,
   "id": "0a628d3d",
   "metadata": {},
   "outputs": [
    {
     "data": {
      "text/plain": [
       "tuple"
      ]
     },
     "execution_count": 7,
     "metadata": {},
     "output_type": "execute_result"
    }
   ],
   "source": [
    "type(test_tuple2)"
   ]
  },
  {
   "cell_type": "code",
   "execution_count": 8,
   "id": "05a4c66c",
   "metadata": {},
   "outputs": [],
   "source": [
    "test_tuple3=(1,2,3)"
   ]
  },
  {
   "cell_type": "code",
   "execution_count": 9,
   "id": "15e4304b",
   "metadata": {
    "scrolled": true
   },
   "outputs": [
    {
     "data": {
      "text/plain": [
       "tuple"
      ]
     },
     "execution_count": 9,
     "metadata": {},
     "output_type": "execute_result"
    }
   ],
   "source": [
    "type(test_tuple3)"
   ]
  },
  {
   "cell_type": "code",
   "execution_count": 10,
   "id": "748494b8",
   "metadata": {},
   "outputs": [],
   "source": [
    "# ? 값이 한개인 경우\n",
    "test_tuple4=(1)"
   ]
  },
  {
   "cell_type": "code",
   "execution_count": 11,
   "id": "af9e66e8",
   "metadata": {},
   "outputs": [
    {
     "data": {
      "text/plain": [
       "int"
      ]
     },
     "execution_count": 11,
     "metadata": {},
     "output_type": "execute_result"
    }
   ],
   "source": [
    "type(test_tuple4)"
   ]
  },
  {
   "cell_type": "markdown",
   "id": "f292476e",
   "metadata": {},
   "source": [
    "값이 1개일 경우 연산으로 착각하여 제대로 만들어 지지 않음.\n",
    "==> 값이 한개인 경우 다음과 같은 방법을 사용함."
   ]
  },
  {
   "cell_type": "code",
   "execution_count": 12,
   "id": "10cecc25",
   "metadata": {},
   "outputs": [],
   "source": [
    "test_tuple4=(1,)"
   ]
  },
  {
   "cell_type": "code",
   "execution_count": 13,
   "id": "5984c8ed",
   "metadata": {},
   "outputs": [
    {
     "data": {
      "text/plain": [
       "tuple"
      ]
     },
     "execution_count": 13,
     "metadata": {},
     "output_type": "execute_result"
    }
   ],
   "source": [
    "type(test_tuple4)"
   ]
  },
  {
   "cell_type": "markdown",
   "id": "22c1ef28",
   "metadata": {},
   "source": [
    "괄호를 없애도 잘 작동됨."
   ]
  },
  {
   "cell_type": "code",
   "execution_count": 15,
   "id": "dbcc7a63",
   "metadata": {},
   "outputs": [],
   "source": [
    "test_tuple4=1,"
   ]
  },
  {
   "cell_type": "code",
   "execution_count": 16,
   "id": "9a5f1170",
   "metadata": {},
   "outputs": [
    {
     "data": {
      "text/plain": [
       "tuple"
      ]
     },
     "execution_count": 16,
     "metadata": {},
     "output_type": "execute_result"
    }
   ],
   "source": [
    "type(test_tuple4)"
   ]
  },
  {
   "cell_type": "code",
   "execution_count": 17,
   "id": "8fd59f71",
   "metadata": {},
   "outputs": [
    {
     "data": {
      "text/plain": [
       "1"
      ]
     },
     "execution_count": 17,
     "metadata": {},
     "output_type": "execute_result"
    }
   ],
   "source": [
    "len(test_tuple4)"
   ]
  },
  {
   "cell_type": "code",
   "execution_count": 19,
   "id": "c40285ee",
   "metadata": {},
   "outputs": [
    {
     "data": {
      "text/plain": [
       "3"
      ]
     },
     "execution_count": 19,
     "metadata": {},
     "output_type": "execute_result"
    }
   ],
   "source": [
    "test_tuple3[2]"
   ]
  },
  {
   "cell_type": "code",
   "execution_count": 25,
   "id": "3528d745",
   "metadata": {},
   "outputs": [
    {
     "ename": "TypeError",
     "evalue": "'tuple' object does not support item assignment",
     "output_type": "error",
     "traceback": [
      "\u001b[1;31m---------------------------------------------------------------------------\u001b[0m",
      "\u001b[1;31mTypeError\u001b[0m                                 Traceback (most recent call last)",
      "\u001b[1;32m~\\AppData\\Local\\Temp/ipykernel_10060/2816048370.py\u001b[0m in \u001b[0;36m<module>\u001b[1;34m\u001b[0m\n\u001b[0;32m      1\u001b[0m \u001b[1;31m# 튜플 값 변경\u001b[0m\u001b[1;33m\u001b[0m\u001b[1;33m\u001b[0m\u001b[0m\n\u001b[1;32m----> 2\u001b[1;33m \u001b[0mtest_tuple3\u001b[0m\u001b[1;33m[\u001b[0m\u001b[1;36m2\u001b[0m\u001b[1;33m]\u001b[0m\u001b[1;33m=\u001b[0m \u001b[1;36m7\u001b[0m\u001b[1;33m\u001b[0m\u001b[1;33m\u001b[0m\u001b[0m\n\u001b[0m",
      "\u001b[1;31mTypeError\u001b[0m: 'tuple' object does not support item assignment"
     ]
    }
   ],
   "source": [
    "# 튜플 값 변경\n",
    "test_tuple3[2]= 7"
   ]
  },
  {
   "cell_type": "code",
   "execution_count": 27,
   "id": "70666b1b",
   "metadata": {},
   "outputs": [
    {
     "data": {
      "text/plain": [
       "(1, 1, 1, 1, 1, 1)"
      ]
     },
     "execution_count": 27,
     "metadata": {},
     "output_type": "execute_result"
    }
   ],
   "source": [
    "(1,1,1,1,1,1)"
   ]
  },
  {
   "cell_type": "markdown",
   "id": "791bb7ef",
   "metadata": {},
   "source": [
    "* 튜플은 값 변경이 불가능하다.\n",
    "* 값 추가, 삭제가 불가능하다."
   ]
  },
  {
   "cell_type": "markdown",
   "id": "265314ae",
   "metadata": {},
   "source": [
    "* 바구니에서 변수명[index]는 변수처럼 사용할 수 있다.\n",
    "#### 변수의 사용처\n",
    "1. 데이터의 저장\n",
    "2. 연산의 피 연산자"
   ]
  },
  {
   "cell_type": "code",
   "execution_count": 22,
   "id": "f268a387",
   "metadata": {},
   "outputs": [],
   "source": [
    "# 할당 연산자\n",
    "a=3"
   ]
  },
  {
   "cell_type": "markdown",
   "id": "297a4e69",
   "metadata": {},
   "source": [
    "3. 함수의 매개변수"
   ]
  },
  {
   "cell_type": "code",
   "execution_count": 26,
   "id": "6156ddd8",
   "metadata": {},
   "outputs": [
    {
     "name": "stdout",
     "output_type": "stream",
     "text": [
      "3\n"
     ]
    }
   ],
   "source": [
    "print(a)"
   ]
  },
  {
   "cell_type": "markdown",
   "id": "f0c0c3d0",
   "metadata": {},
   "source": [
    " ### set (셋) : 집합"
   ]
  },
  {
   "cell_type": "code",
   "execution_count": 28,
   "id": "7553d865",
   "metadata": {},
   "outputs": [],
   "source": [
    "test_set=set()"
   ]
  },
  {
   "cell_type": "code",
   "execution_count": 29,
   "id": "7b7150cb",
   "metadata": {},
   "outputs": [
    {
     "data": {
      "text/plain": [
       "set"
      ]
     },
     "execution_count": 29,
     "metadata": {},
     "output_type": "execute_result"
    }
   ],
   "source": [
    "type(test_set)"
   ]
  },
  {
   "cell_type": "code",
   "execution_count": 40,
   "id": "b6df26e2",
   "metadata": {},
   "outputs": [],
   "source": [
    "test_set={1,2,3,} "
   ]
  },
  {
   "cell_type": "code",
   "execution_count": 41,
   "id": "28e211f9",
   "metadata": {},
   "outputs": [
    {
     "data": {
      "text/plain": [
       "set"
      ]
     },
     "execution_count": 41,
     "metadata": {},
     "output_type": "execute_result"
    }
   ],
   "source": [
    "type(test_set)"
   ]
  },
  {
   "cell_type": "code",
   "execution_count": 34,
   "id": "484bb45b",
   "metadata": {},
   "outputs": [],
   "source": [
    "test_set2={}"
   ]
  },
  {
   "cell_type": "code",
   "execution_count": 35,
   "id": "b89a585a",
   "metadata": {},
   "outputs": [
    {
     "data": {
      "text/plain": [
       "dict"
      ]
     },
     "execution_count": 35,
     "metadata": {},
     "output_type": "execute_result"
    }
   ],
   "source": [
    "type(test_set2)"
   ]
  },
  {
   "cell_type": "code",
   "execution_count": 36,
   "id": "cda716c5",
   "metadata": {},
   "outputs": [
    {
     "data": {
      "text/plain": [
       "set"
      ]
     },
     "execution_count": 36,
     "metadata": {},
     "output_type": "execute_result"
    }
   ],
   "source": [
    "test_set2={1}\n",
    "type(test_set2)"
   ]
  },
  {
   "cell_type": "code",
   "execution_count": 37,
   "id": "da7233cd",
   "metadata": {},
   "outputs": [
    {
     "data": {
      "text/plain": [
       "set"
      ]
     },
     "execution_count": 37,
     "metadata": {},
     "output_type": "execute_result"
    }
   ],
   "source": [
    "test_set2={1,}\n",
    "type(test_set2)"
   ]
  },
  {
   "cell_type": "code",
   "execution_count": 42,
   "id": "ccb24a23",
   "metadata": {},
   "outputs": [
    {
     "data": {
      "text/plain": [
       "3"
      ]
     },
     "execution_count": 42,
     "metadata": {},
     "output_type": "execute_result"
    }
   ],
   "source": [
    "len(test_set)"
   ]
  },
  {
   "cell_type": "code",
   "execution_count": 43,
   "id": "427ab027",
   "metadata": {},
   "outputs": [],
   "source": [
    "test_set.remove(2)"
   ]
  },
  {
   "cell_type": "code",
   "execution_count": 44,
   "id": "f2dd986d",
   "metadata": {},
   "outputs": [
    {
     "data": {
      "text/plain": [
       "{1, 3}"
      ]
     },
     "execution_count": 44,
     "metadata": {},
     "output_type": "execute_result"
    }
   ],
   "source": [
    "test_set"
   ]
  },
  {
   "cell_type": "code",
   "execution_count": 45,
   "id": "5fa8d66c",
   "metadata": {},
   "outputs": [],
   "source": [
    "test_set={1,2,3,4,1,2,3,4}"
   ]
  },
  {
   "cell_type": "code",
   "execution_count": 46,
   "id": "7652650a",
   "metadata": {},
   "outputs": [
    {
     "data": {
      "text/plain": [
       "{1, 2, 3, 4}"
      ]
     },
     "execution_count": 46,
     "metadata": {},
     "output_type": "execute_result"
    }
   ],
   "source": [
    "test_set"
   ]
  },
  {
   "cell_type": "code",
   "execution_count": 47,
   "id": "440633fd",
   "metadata": {},
   "outputs": [],
   "source": [
    "test_set.remove(1)"
   ]
  },
  {
   "cell_type": "code",
   "execution_count": 49,
   "id": "49527474",
   "metadata": {},
   "outputs": [
    {
     "data": {
      "text/plain": [
       "{2, 3, 4}"
      ]
     },
     "execution_count": 49,
     "metadata": {},
     "output_type": "execute_result"
    }
   ],
   "source": [
    "test_set"
   ]
  },
  {
   "cell_type": "code",
   "execution_count": 50,
   "id": "11245701",
   "metadata": {},
   "outputs": [],
   "source": [
    "test_set.add(7)"
   ]
  },
  {
   "cell_type": "code",
   "execution_count": 51,
   "id": "b59463da",
   "metadata": {},
   "outputs": [
    {
     "data": {
      "text/plain": [
       "{2, 3, 4, 7}"
      ]
     },
     "execution_count": 51,
     "metadata": {},
     "output_type": "execute_result"
    }
   ],
   "source": [
    "test_set"
   ]
  },
  {
   "cell_type": "code",
   "execution_count": 70,
   "id": "2c694aaa",
   "metadata": {},
   "outputs": [],
   "source": [
    "test_list=[1,2,3,4,1,2,3,4]"
   ]
  },
  {
   "cell_type": "code",
   "execution_count": 71,
   "id": "c137c96c",
   "metadata": {},
   "outputs": [
    {
     "data": {
      "text/plain": [
       "[1, 2, 3, 4, 1, 2, 3, 4]"
      ]
     },
     "execution_count": 71,
     "metadata": {},
     "output_type": "execute_result"
    }
   ],
   "source": [
    "test_list"
   ]
  },
  {
   "cell_type": "code",
   "execution_count": 76,
   "id": "d5b7730a",
   "metadata": {},
   "outputs": [],
   "source": [
    "# 중복제거\n",
    "number=1\n",
    "number_count=test_list.count(number)\n",
    "for _ in range(number_count-1):\n",
    "    test_list.remove(number)"
   ]
  },
  {
   "cell_type": "code",
   "execution_count": 77,
   "id": "4c7cbd4f",
   "metadata": {},
   "outputs": [
    {
     "data": {
      "text/plain": [
       "[2, 3, 4, 1, 2, 3, 4]"
      ]
     },
     "execution_count": 77,
     "metadata": {},
     "output_type": "execute_result"
    }
   ],
   "source": [
    "test_list"
   ]
  },
  {
   "cell_type": "code",
   "execution_count": 78,
   "id": "eb3e245a",
   "metadata": {},
   "outputs": [],
   "source": [
    "# list -> set -> list를 통해 중복제거를 많이함."
   ]
  },
  {
   "cell_type": "markdown",
   "id": "e502ae2f",
   "metadata": {},
   "source": [
    "- 바구니 : 하나의 변수에 여러개의 값을 담고 싶을 때.\n",
    "- 리스트 : 가장 기본적인 바구니.\n",
    "- 딕셔너리 : 사전형. 키:값 쌍으로 구성됨.\n",
    "- 튜플 : 값들의 연속(리스트랑 비슷), 단, 수정이 불가능.\n",
    "- 셋 : 집합(중복이 불가능)"
   ]
  },
  {
   "cell_type": "markdown",
   "id": "49003e7b",
   "metadata": {},
   "source": [
    "- 만들기\n",
    "- 읽기\n",
    "- 변경\n",
    "- 추가\n",
    "- 삭제"
   ]
  },
  {
   "cell_type": "code",
   "execution_count": 79,
   "id": "75bc00df",
   "metadata": {},
   "outputs": [],
   "source": [
    "# randint와 set을 이용해서\n",
    "# 1-45 사이의 숫자를 랜덤하고 중복없이 6개 뽑는 코드를 작성하시오."
   ]
  },
  {
   "cell_type": "code",
   "execution_count": 93,
   "id": "a0ea7c91",
   "metadata": {},
   "outputs": [
    {
     "name": "stdout",
     "output_type": "stream",
     "text": [
      "{32, 34, 6, 25, 29, 30}\n"
     ]
    }
   ],
   "source": [
    "import random as rd\n",
    "my_lotto = set()\n",
    "while len(my_lotto)<6:\n",
    "    my_lotto.add(rd.randint(1,45))\n",
    "print(my_lotto)"
   ]
  },
  {
   "cell_type": "markdown",
   "id": "6eb435ae",
   "metadata": {},
   "source": [
    "- 명령어 - 함수(Function) - Method\n",
    "- 단독 명령어 print - 함수(function)\n",
    "- 인스턴스 명령어 list.remove - 메서드(method)\n",
    "\n",
    "- 명령어 만드는법\n",
    "- 명령어의 형태가 다양하다.\n",
    "- 사용하는 법"
   ]
  },
  {
   "cell_type": "markdown",
   "id": "37c29c80",
   "metadata": {},
   "source": [
    "def 이름():\n",
    "\n",
    "    내용"
   ]
  },
  {
   "cell_type": "code",
   "execution_count": 94,
   "id": "d67c872f",
   "metadata": {},
   "outputs": [
    {
     "name": "stdout",
     "output_type": "stream",
     "text": [
      "Hello\n"
     ]
    }
   ],
   "source": [
    "# say_hello라는 이름을 가진 함수를 만들고\n",
    "# say_hello를 호출하면 \"Hello\"라는 메세지가 화면에 출려고디도록 하시오.\n",
    "def say_hello():\n",
    "    print(\"Hello\")\n",
    "say_hello()"
   ]
  },
  {
   "cell_type": "markdown",
   "id": "6b25db25",
   "metadata": {},
   "source": [
    "함수는 긴 로직을 하나의 기능으로 만들어 쓰려고 사용한다."
   ]
  },
  {
   "cell_type": "code",
   "execution_count": 100,
   "id": "a2b739cd",
   "metadata": {},
   "outputs": [
    {
     "name": "stdout",
     "output_type": "stream",
     "text": [
      "{4, 5, 43, 19, 22, 25}\n"
     ]
    }
   ],
   "source": [
    "import random as rnd\n",
    "numbers = set()\n",
    "for _ in range(6):\n",
    "    num = rnd.randint(1,45)\n",
    "    numbers.add(num)\n",
    "print(numbers)"
   ]
  },
  {
   "cell_type": "code",
   "execution_count": 101,
   "id": "7256cb1c",
   "metadata": {},
   "outputs": [],
   "source": [
    "# 함수변환\n",
    "def get_numbers():\n",
    "    import random as rnd\n",
    "    numbers = set()\n",
    "    for _ in range(6):\n",
    "        num = rnd.randint(1,45)\n",
    "        numbers.add(num)\n",
    "    print(numbers)"
   ]
  },
  {
   "cell_type": "code",
   "execution_count": 108,
   "id": "03f30a93",
   "metadata": {},
   "outputs": [
    {
     "name": "stdout",
     "output_type": "stream",
     "text": [
      "{4, 5, 40, 41, 17, 25}\n"
     ]
    }
   ],
   "source": [
    "get_numbers()"
   ]
  },
  {
   "cell_type": "code",
   "execution_count": 118,
   "id": "03b93907",
   "metadata": {},
   "outputs": [],
   "source": [
    "# 이름은 알아서 지정\n",
    "# 해당 함수를 실행하면\n",
    "# 사용자에게 정수 하나를 입력받고\n",
    "# 1 - 해당정수까지 1씩 증가하면서 출력하는 함수를 작성하시오\n",
    "def one_to_num():\n",
    "    startnum=1\n",
    "    inum = int(input(\"정수 입력 :\"))\n",
    "    while startnum != inum+1:\n",
    "        print(startnum)\n",
    "        startnum+=1\n",
    "    "
   ]
  },
  {
   "cell_type": "code",
   "execution_count": 119,
   "id": "400f826d",
   "metadata": {},
   "outputs": [
    {
     "name": "stdout",
     "output_type": "stream",
     "text": [
      "정수 입력 :5\n",
      "1\n",
      "2\n",
      "3\n",
      "4\n",
      "5\n"
     ]
    }
   ],
   "source": [
    "one_to_num()"
   ]
  },
  {
   "cell_type": "code",
   "execution_count": 120,
   "id": "c41b493b",
   "metadata": {},
   "outputs": [
    {
     "name": "stdout",
     "output_type": "stream",
     "text": [
      "input int:7\n",
      "1\n",
      "2\n",
      "3\n",
      "4\n",
      "5\n",
      "6\n",
      "7\n"
     ]
    }
   ],
   "source": [
    "# 강사님 code\n",
    "\n",
    "def print_num():\n",
    "    input_num =input(\"input int:\")\n",
    "    end_num=int(input_num)+1\n",
    "    for num in range(1, end_num):\n",
    "        print(num)\n",
    "print_num()"
   ]
  },
  {
   "cell_type": "code",
   "execution_count": null,
   "id": "64834f82",
   "metadata": {},
   "outputs": [],
   "source": [
    "# 함수에 추가로 전달하는 옵션 - 매개변수, 파라메터, 아규먼트\n",
    "\n",
    "print_num(\"?\")\n",
    "print(?, ?,  ?, ?)\n"
   ]
  },
  {
   "cell_type": "code",
   "execution_count": 122,
   "id": "c7bac8fc",
   "metadata": {
    "scrolled": true
   },
   "outputs": [
    {
     "name": "stdout",
     "output_type": "stream",
     "text": [
      "\n"
     ]
    }
   ],
   "source": [
    "# 내가 어떤 함수의 옵션을 부를 때는 파라메터\n",
    "# 함수가 자신의 옵션을 칭할 때는 아규먼트\n",
    "\n",
    "print()"
   ]
  },
  {
   "cell_type": "code",
   "execution_count": 124,
   "id": "18cda1db",
   "metadata": {},
   "outputs": [],
   "source": [
    "def 이름(옵션):\n",
    "    내용"
   ]
  },
  {
   "cell_type": "code",
   "execution_count": null,
   "id": "49a276b9",
   "metadata": {},
   "outputs": [],
   "source": [
    "# 함수는 입력 - 처리 - 출력이 있는 기능 상자라고 얘기한다.\n",
    "# 함수는 처리는 필수 나머지는 옵션"
   ]
  },
  {
   "cell_type": "code",
   "execution_count": 127,
   "id": "bb5b6ad7",
   "metadata": {},
   "outputs": [],
   "source": [
    "# 이름을 입력받아서 \n",
    "# 안녕하세요[이름]님 이라고 출력하는 함수를 작성한다.\n"
   ]
  },
  {
   "cell_type": "code",
   "execution_count": null,
   "id": "9620572c",
   "metadata": {},
   "outputs": [],
   "source": [
    "# 함수의 입, 출력을 명시하는 경우\n",
    "# 이름을 매개변수로 입력(전달)받아서\n",
    "# 안녕하세요 [이름]님 이라고 리턴하는 함수를 작성한다.\n",
    "def hello_with_name(name):\n",
    "    print(f\"안녕하세요. {name}님.\")\n"
   ]
  },
  {
   "cell_type": "code",
   "execution_count": 129,
   "id": "20ad3b3f",
   "metadata": {},
   "outputs": [
    {
     "name": "stdout",
     "output_type": "stream",
     "text": [
      "이름이 뭐야ㅇㅇ\n",
      "안녕하세요. ㅇㅇ님.\n"
     ]
    }
   ],
   "source": [
    "name1 = input(\"이름이 뭐야\")\n",
    "hello_with_name(name1)"
   ]
  },
  {
   "cell_type": "code",
   "execution_count": 130,
   "id": "c24b0875",
   "metadata": {},
   "outputs": [
    {
     "name": "stdout",
     "output_type": "stream",
     "text": [
      "123\n",
      "asdf123\n"
     ]
    },
    {
     "data": {
      "text/plain": [
       "'123'"
      ]
     },
     "execution_count": 130,
     "metadata": {},
     "output_type": "execute_result"
    }
   ],
   "source": [
    "input()\n",
    "input(\"asdf\")\n"
   ]
  },
  {
   "cell_type": "markdown",
   "id": "30e4f338",
   "metadata": {},
   "source": [
    "- 매개변수에 기본값을 지정한다.\n",
    "- 매개변수에 기본값을 지정하는 순간 뒤에 따라오는 모든 매개변수는 기본값을 설정해줘야한다."
   ]
  },
  {
   "cell_type": "code",
   "execution_count": 131,
   "id": "4971d917",
   "metadata": {},
   "outputs": [],
   "source": [
    "def calc_bmi(weight=60, height=170):\n",
    "    bmi= weight/(height/100)**2\n",
    "    print(bmi)"
   ]
  },
  {
   "cell_type": "code",
   "execution_count": 132,
   "id": "813830a3",
   "metadata": {},
   "outputs": [
    {
     "name": "stdout",
     "output_type": "stream",
     "text": [
      "20.76406211499968\n"
     ]
    }
   ],
   "source": [
    "calc_bmi(67.5, 180.3)"
   ]
  },
  {
   "cell_type": "code",
   "execution_count": 133,
   "id": "479853ea",
   "metadata": {},
   "outputs": [
    {
     "name": "stdout",
     "output_type": "stream",
     "text": [
      "24.221453287197235\n"
     ]
    }
   ],
   "source": [
    "calc_bmi(70)"
   ]
  },
  {
   "cell_type": "code",
   "execution_count": 135,
   "id": "f02e172c",
   "metadata": {},
   "outputs": [
    {
     "name": "stdout",
     "output_type": "stream",
     "text": [
      "최종 BMI는 24.221453287197235 입니다.\n"
     ]
    }
   ],
   "source": [
    "# 입력이 있고 처리가 있고, 출력(처리결과 리턴값)이 있다.\n",
    "def calc_bmi(weight=60, height=170):\n",
    "    bmi= weight/(height/100)**2\n",
    "    return bmi\n",
    "result_bmi=calc_bmi(70)\n",
    "print(\"최종 BMI는\", result_bmi, \"입니다.\")"
   ]
  },
  {
   "cell_type": "code",
   "execution_count": 138,
   "id": "7d0609dd",
   "metadata": {},
   "outputs": [
    {
     "data": {
      "text/plain": [
       "(9, 18)"
      ]
     },
     "execution_count": 138,
     "metadata": {},
     "output_type": "execute_result"
    }
   ],
   "source": [
    "# 두개의 숫자를 전달받아서\n",
    "# 두 숫자의 합을 결과로 돌려주는 함수를 작성하시오\n",
    "def sumk(a,b):\n",
    "    sum=a+b\n",
    "    mul=a*b\n",
    "    return sum, mul\n",
    "sumk(3, 6)"
   ]
  },
  {
   "cell_type": "code",
   "execution_count": 139,
   "id": "7a608d5b",
   "metadata": {},
   "outputs": [
    {
     "name": "stdout",
     "output_type": "stream",
     "text": [
      "1 a 3.14\n"
     ]
    }
   ],
   "source": [
    "print(1, 'a', 3.14)\n",
    "# 가변 매개변수 : 매개변수의 갯수가 고정되지 않은 것."
   ]
  },
  {
   "cell_type": "code",
   "execution_count": 140,
   "id": "cd6dba3e",
   "metadata": {},
   "outputs": [
    {
     "name": "stdout",
     "output_type": "stream",
     "text": [
      "11"
     ]
    }
   ],
   "source": [
    "# 기명 매개변수, 가변 매개변수, 가변 키워드 매개변수\n",
    "print(11, end=\"\", sep=\"\")"
   ]
  },
  {
   "cell_type": "code",
   "execution_count": 141,
   "id": "99f33d0c",
   "metadata": {},
   "outputs": [],
   "source": [
    "def total(*numbers):\n",
    "    print(numbers)"
   ]
  },
  {
   "cell_type": "code",
   "execution_count": 142,
   "id": "98a8aefe",
   "metadata": {},
   "outputs": [
    {
     "name": "stdout",
     "output_type": "stream",
     "text": [
      "(1, 2, 3, 3, 'a')\n"
     ]
    }
   ],
   "source": [
    "total(1,2,3,3,'a')"
   ]
  },
  {
   "cell_type": "code",
   "execution_count": 143,
   "id": "bf9213e3",
   "metadata": {},
   "outputs": [],
   "source": [
    "def total(*numbers):\n",
    "    result = 0\n",
    "    for num in numbers:\n",
    "        result +=num\n",
    "    return result"
   ]
  },
  {
   "cell_type": "code",
   "execution_count": 144,
   "id": "a6f0e47d",
   "metadata": {},
   "outputs": [
    {
     "data": {
      "text/plain": [
       "15"
      ]
     },
     "execution_count": 144,
     "metadata": {},
     "output_type": "execute_result"
    }
   ],
   "source": [
    "total(1,2,3,4,5)"
   ]
  },
  {
   "cell_type": "code",
   "execution_count": null,
   "id": "4113d091",
   "metadata": {},
   "outputs": [],
   "source": [
    "def 회원등록(이름, 생년월일, 성별='m', 핸드폰번호, 주소, 직업, 직장주소, ...):\n",
    "    # 회원 등록 과정\n",
    "    pass"
   ]
  },
  {
   "cell_type": "markdown",
   "id": "c2320713",
   "metadata": {},
   "source": [
    "성별에 m을 기본값으로 지정하여 뒤에 값들을 전부 기본값 세팅해주어야함. \n",
    "\n",
    "==> 가변이면 편함.\n"
   ]
  },
  {
   "cell_type": "code",
   "execution_count": 145,
   "id": "95ffd2a9",
   "metadata": {},
   "outputs": [],
   "source": [
    "def 회원등록(*info):\n",
    "    pass"
   ]
  },
  {
   "cell_type": "code",
   "execution_count": null,
   "id": "987ca76c",
   "metadata": {},
   "outputs": [],
   "source": [
    "(이름, 생년월일, 'm', 핸드폰번호, 주소, '무직', 직장주소, ...)"
   ]
  },
  {
   "cell_type": "code",
   "execution_count": 147,
   "id": "0cbc2f5a",
   "metadata": {},
   "outputs": [],
   "source": [
    "# 키워드 매개변수\n",
    "def key_test(**test):\n",
    "    print(test)"
   ]
  },
  {
   "cell_type": "code",
   "execution_count": 148,
   "id": "de21bee0",
   "metadata": {},
   "outputs": [
    {
     "name": "stdout",
     "output_type": "stream",
     "text": [
      "{}\n"
     ]
    }
   ],
   "source": [
    "key_test()"
   ]
  },
  {
   "cell_type": "code",
   "execution_count": 149,
   "id": "7ee54a94",
   "metadata": {},
   "outputs": [
    {
     "ename": "TypeError",
     "evalue": "key_test() takes 0 positional arguments but 1 was given",
     "output_type": "error",
     "traceback": [
      "\u001b[1;31m---------------------------------------------------------------------------\u001b[0m",
      "\u001b[1;31mTypeError\u001b[0m                                 Traceback (most recent call last)",
      "\u001b[1;32m~\\AppData\\Local\\Temp/ipykernel_10060/563790318.py\u001b[0m in \u001b[0;36m<module>\u001b[1;34m\u001b[0m\n\u001b[1;32m----> 1\u001b[1;33m \u001b[0mkey_test\u001b[0m\u001b[1;33m(\u001b[0m\u001b[1;36m1\u001b[0m\u001b[1;33m)\u001b[0m\u001b[1;33m\u001b[0m\u001b[1;33m\u001b[0m\u001b[0m\n\u001b[0m",
      "\u001b[1;31mTypeError\u001b[0m: key_test() takes 0 positional arguments but 1 was given"
     ]
    }
   ],
   "source": [
    "key_test(1)"
   ]
  },
  {
   "cell_type": "markdown",
   "id": "828595f7",
   "metadata": {},
   "source": [
    "위와같이 형식이 맞지 않아 err가 발생"
   ]
  },
  {
   "cell_type": "code",
   "execution_count": 150,
   "id": "b31c3a0a",
   "metadata": {},
   "outputs": [
    {
     "name": "stdout",
     "output_type": "stream",
     "text": [
      "{'a': 7, 'b': 8, 'say': 'hello', 'name': 'jake'}\n"
     ]
    }
   ],
   "source": [
    "key_test(a=7, b=8, say='hello', name='jake')"
   ]
  },
  {
   "cell_type": "code",
   "execution_count": 153,
   "id": "bc8593fb",
   "metadata": {},
   "outputs": [],
   "source": [
    "def tset_func(a, *b, **c):\n",
    "    print(a,b,c)"
   ]
  },
  {
   "cell_type": "code",
   "execution_count": 155,
   "id": "2af61e70",
   "metadata": {},
   "outputs": [
    {
     "name": "stdout",
     "output_type": "stream",
     "text": [
      "1 (2, 3) {}\n"
     ]
    }
   ],
   "source": [
    "tset_func(1,2,3)"
   ]
  },
  {
   "cell_type": "code",
   "execution_count": null,
   "id": "b36acc74",
   "metadata": {},
   "outputs": [],
   "source": [
    "# 리턴은 다중 값이 허용\n",
    "def tset():\n",
    "    return ?"
   ]
  },
  {
   "cell_type": "code",
   "execution_count": 156,
   "id": "4c6bf1e2",
   "metadata": {},
   "outputs": [],
   "source": [
    "def test():\n",
    "    return 13,7,99"
   ]
  },
  {
   "cell_type": "code",
   "execution_count": 157,
   "id": "9f0ddcdb",
   "metadata": {},
   "outputs": [
    {
     "data": {
      "text/plain": [
       "(13, 7, 99)"
      ]
     },
     "execution_count": 157,
     "metadata": {},
     "output_type": "execute_result"
    }
   ],
   "source": [
    "test()"
   ]
  },
  {
   "cell_type": "markdown",
   "id": "1743bc7c",
   "metadata": {},
   "source": [
    "- Bingo Game \n",
    "- 1~25까지의 정수를 모두 사용하여 5x5배열로 나타내시오\n"
   ]
  },
  {
   "cell_type": "code",
   "execution_count": 170,
   "id": "eb088e65",
   "metadata": {},
   "outputs": [
    {
     "name": "stdout",
     "output_type": "stream",
     "text": [
      "[6, 9, 15, 11, 16]\n",
      "[20, 19, 25, 21, 2]\n",
      "[3, 18, 5, 23, 4]\n",
      "[10, 8, 12, 24, 1]\n",
      "[13, 22, 17, 7, 14]\n"
     ]
    }
   ],
   "source": [
    "#ver1\n",
    "import random as rd\n",
    "randlist=list(range(1,2))\n",
    "rd.shuffle(randlist)\n",
    "bingolist=[[0 for j in range(5)] for i in range(5)]\n",
    "for i in range(5):\n",
    "    for k in range(5):\n",
    "        bingolist[i][k]=randlist.pop()\n",
    "    print(bingolist[i])"
   ]
  },
  {
   "cell_type": "code",
   "execution_count": 173,
   "id": "0602572a",
   "metadata": {},
   "outputs": [
    {
     "name": "stdout",
     "output_type": "stream",
     "text": [
      "[25, 9, 1, 8, 2]\n",
      "[5, 24, 14, 23, 17]\n",
      "[16, 4, 19, 6, 12]\n",
      "[7, 18, 20, 3, 10]\n",
      "[15, 11, 22, 13, 21]\n"
     ]
    }
   ],
   "source": [
    "# 강사님 코드\n",
    "numbers= list(range(1,26))\n",
    "rows=[]\n",
    "for _ in range(5):\n",
    "    row=[]\n",
    "    for _ in range(5):\n",
    "        index = rnd.randint(0,len(numbers)-1)\n",
    "        number=numbers.pop(index)\n",
    "        row.append(number)\n",
    "    print(row)\n",
    "    rows.append(row)"
   ]
  },
  {
   "cell_type": "markdown",
   "id": "52a9849e",
   "metadata": {},
   "source": [
    "- 빙고를 위한 값을 찾고 0으로 바꾸세요."
   ]
  },
  {
   "cell_type": "code",
   "execution_count": 189,
   "id": "34276aee",
   "metadata": {},
   "outputs": [],
   "source": [
    "#ver1 함수변환\n",
    "def bingo_game():\n",
    "    import random as rd\n",
    "    randlist=list(range(1,26))\n",
    "    rd.shuffle(randlist)\n",
    "    bingolist=[[0 for j in range(5)] for i in range(5)]\n",
    "    for i in range(5):\n",
    "        for k in range(5):\n",
    "            bingolist[i][k]=randlist.pop()\n",
    "        print(bingolist[i])\n",
    "    return bingolist"
   ]
  },
  {
   "cell_type": "code",
   "execution_count": 246,
   "id": "883e4eeb",
   "metadata": {},
   "outputs": [
    {
     "name": "stdout",
     "output_type": "stream",
     "text": [
      "[22, 15, 14, 1, 9]\n",
      "[17, 24, 21, 6, 4]\n",
      "[5, 7, 3, 10, 25]\n",
      "[8, 13, 11, 19, 18]\n",
      "[20, 2, 12, 16, 23]\n"
     ]
    }
   ],
   "source": [
    "bingo=bingo_game()"
   ]
  },
  {
   "cell_type": "code",
   "execution_count": 245,
   "id": "5b54c96a",
   "metadata": {},
   "outputs": [
    {
     "name": "stdout",
     "output_type": "stream",
     "text": [
      "1\n",
      "4 4 에 있음\n",
      "[[14, 20, 1, 22, 16], [6, 24, 15, 3, 18], [2, 12, 13, 4, 5], [19, 11, 9, 25, 8], [21, 7, 10, 17, 0]]\n"
     ]
    }
   ],
   "source": [
    "#복사\n",
    "bingo_copy=bingo\n",
    "# 찾기\n",
    "bingo_index=[]\n",
    "for i in range(5):\n",
    "    for k in range(5):\n",
    "        if bingo_copy[i][k]==find_num:\n",
    "            print(i, k, \"에 있음\")\n",
    "            bingo_index.append(i)\n",
    "            bingo_index.append(k)\n",
    "# 찾은 값 변환\n",
    "bingo_copy[bingo_index[0]][bingo_index[1]]=0\n",
    "print(bingo_copy)"
   ]
  },
  {
   "cell_type": "code",
   "execution_count": 247,
   "id": "152e6d02",
   "metadata": {},
   "outputs": [],
   "source": [
    "#빙고 리스트 복사\n",
    "bingo_copy=bingo\n",
    "# 함수화\n",
    "def find_zero(bingo_copy, find_num):\n",
    "    bingo_index=[]\n",
    "    for i in range(5):\n",
    "        for k in range(5):\n",
    "            if bingo_copy[i][k]==find_num:\n",
    "                print(i, k, \"에 있음\")\n",
    "                bingo_index.append(i)\n",
    "                bingo_index.append(k)\n",
    "    if len(bingo_index)==2:\n",
    "        # 찾은 값 변환\n",
    "        bingo_copy[bingo_index[0]][bingo_index[1]]=0\n",
    "    else: \n",
    "        print(\"안에 없음.\")"
   ]
  },
  {
   "cell_type": "code",
   "execution_count": 231,
   "id": "72f29a89",
   "metadata": {},
   "outputs": [
    {
     "data": {
      "text/plain": [
       "[[10, 25, 23, 17, 16],\n",
       " [24, 9, 18, 12, 3],\n",
       " [6, 21, 20, 15, 13],\n",
       " [7, 8, 14, 22, 19],\n",
       " [5, 1, 2, 4, 11]]"
      ]
     },
     "execution_count": 231,
     "metadata": {},
     "output_type": "execute_result"
    }
   ],
   "source": [
    "bingo"
   ]
  },
  {
   "cell_type": "code",
   "execution_count": 248,
   "id": "65f587f3",
   "metadata": {
    "scrolled": true
   },
   "outputs": [
    {
     "name": "stdout",
     "output_type": "stream",
     "text": [
      "3 2 에 있음\n"
     ]
    }
   ],
   "source": [
    "find_zero(bingo, 11)"
   ]
  },
  {
   "cell_type": "code",
   "execution_count": 266,
   "id": "1df48de3",
   "metadata": {},
   "outputs": [],
   "source": [
    "# 강사님 코드 함수화\n",
    "import random as rnd\n",
    "def gen_bingo():\n",
    "    numbers= list(range(1,26))\n",
    "    rows=[]\n",
    "    for _ in range(5):\n",
    "        row=[]\n",
    "        for _ in range(5):\n",
    "            index = rnd.randint(0,len(numbers)-1)\n",
    "            number=numbers.pop(index)\n",
    "            row.append(number)\n",
    "        rows.append(row)\n",
    "    return rows\n",
    "\n",
    "\n",
    "# game 변수에 담긴 숫자중에서 원하는 수자를 0으로 바꾸기\n",
    "# 1. 어느 줄에 해당 숫자가 있는지 찾기\n",
    "# 2. 그 줄에 어느 인덱스에 해당 숫자가 있는지 찾기\n",
    "# 3. 해당 칸의 숫자를 0으로 바꾸기.\n",
    "\n",
    "def set_0(game, search_num):\n",
    "    for row in game:\n",
    "        if search_num in row:\n",
    "            index = row.index(search_num)\n",
    "            row[index]=0\n",
    "            break\n",
    "    else:\n",
    "        print(\"이미 한번 찾은 숫자입니다.\")\n",
    "\n"
   ]
  },
  {
   "cell_type": "code",
   "execution_count": 210,
   "id": "56e3fbe3",
   "metadata": {},
   "outputs": [
    {
     "name": "stdout",
     "output_type": "stream",
     "text": [
      "[17, 4, 2, 25, 19]\n",
      "[9, 20, 15, 3, 24]\n",
      "[7, 14, 21, 16, 10]\n",
      "[8, 22, 5, 6, 1]\n",
      "[18, 12, 23, 11, 13]\n"
     ]
    }
   ],
   "source": [
    "game = gem_bingo()"
   ]
  },
  {
   "cell_type": "code",
   "execution_count": 212,
   "id": "0cf76610",
   "metadata": {},
   "outputs": [
    {
     "name": "stdout",
     "output_type": "stream",
     "text": [
      "이미 한번 찾은 숫자입니다.\n"
     ]
    }
   ],
   "source": [
    "set_0(game, 19)"
   ]
  },
  {
   "cell_type": "code",
   "execution_count": 227,
   "id": "4f67ed2a",
   "metadata": {},
   "outputs": [],
   "source": [
    "# 한 줄이 빙고인지?\n",
    "for row in game:\n",
    "    if row.count(0) == 5:\n",
    "        print(\" 1 row bingo\")\n",
    "        bingo_count +=1\n",
    "        "
   ]
  },
  {
   "cell_type": "code",
   "execution_count": 243,
   "id": "75269374",
   "metadata": {},
   "outputs": [],
   "source": [
    "# 열이 빙고인지\n",
    "for column in range(5):\n",
    "    row_count =0\n",
    "    for row in game:\n",
    "        if row[column]==0:\n",
    "            row_count+=1\n",
    "    if row_count ==5:\n",
    "        print(\"1 row bingo\")\n",
    "        bingo_count +=1"
   ]
  },
  {
   "cell_type": "code",
   "execution_count": 251,
   "id": "d5be4cd5",
   "metadata": {},
   "outputs": [],
   "source": [
    "#  대각선 빙고인지\n",
    "count = 0\n",
    "for index in range(5):\n",
    "    if game[index][index] ==0:\n",
    "        count +=1\n",
    "if count == 5:\n",
    "    print(\"대각선 빙고!\")\n",
    "    bingo_count +=1"
   ]
  },
  {
   "cell_type": "code",
   "execution_count": 252,
   "id": "da12a6e1",
   "metadata": {},
   "outputs": [],
   "source": [
    "# 반대 대각선 빙고인지\n",
    "count = 0\n",
    "for index in range(5):\n",
    "    if game[index][4-index] ==0:\n",
    "        count +=1\n",
    "if count == 5:\n",
    "    print(\"qkseo대각선 빙고!\")\n",
    "    bingo_count +=1"
   ]
  },
  {
   "cell_type": "code",
   "execution_count": 264,
   "id": "22619521",
   "metadata": {},
   "outputs": [],
   "source": [
    "def get_bingocount(game):\n",
    "    bingo_count = 0\n",
    "    # 한줄이 빙고인지?\n",
    "    for row in game:\n",
    "        if row.count(0) == 5:\n",
    "            print(\"1 row bingo\")\n",
    "            bingo_count += 1\n",
    "\n",
    "    # 한 컬럼이 빙고인지?\n",
    "    for column in range(5):\n",
    "        row_count = 0\n",
    "        for row in game:\n",
    "            if row[column] == 0:\n",
    "                row_count+=1\n",
    "        if row_count == 5:\n",
    "            print(\"1 column bingo\")\n",
    "            bingo_count += 1\n",
    "\n",
    "    count = 0\n",
    "    for index in range(5):\n",
    "        if game[index][index] == 0:\n",
    "            count += 1\n",
    "    if count == 5:\n",
    "        print(\"대각선 bingo\")\n",
    "        bingo_count += 1\n",
    "\n",
    "    count = 0\n",
    "    for index in range(5):\n",
    "        if game[index][4-index] == 0:\n",
    "            count += 1\n",
    "    if count == 5:\n",
    "        print(\"대각선 bingo\")\n",
    "        bingo_count += 1\n",
    "\n",
    "    print(\"총 빙고 갯수\", bingo_count)\n",
    "    return bingo_count"
   ]
  },
  {
   "cell_type": "markdown",
   "id": "278f0014",
   "metadata": {},
   "source": [
    "1. 프로그램을 샐행하자마자 빙고 게임 생성해서 출력\n",
    "2. 빙고가 총 3줄이 나오기 전까지 계속 숫자 입력받기\n",
    "3. 숫자가 입력되면, 해당 숫자를 찾아서 0으로 바꾸고 게임판 다시 출력\n",
    "4. 빙고가 3줄이 되면 게임종료"
   ]
  },
  {
   "cell_type": "code",
   "execution_count": null,
   "id": "2bf506e7",
   "metadata": {},
   "outputs": [
    {
     "name": "stdout",
     "output_type": "stream",
     "text": [
      "숫자 : 3\n",
      "총 빙고 갯수 0\n",
      "[[1, 18, 4, 11, 20], [22, 14, 9, 12, 8], [21, 5, 16, 6, 19], [10, 17, 23, 2, 25], [0, 24, 13, 15, 7]]\n",
      "숫자 : 2\n",
      "총 빙고 갯수 0\n",
      "[[1, 18, 4, 11, 20], [22, 14, 9, 12, 8], [21, 5, 16, 6, 19], [10, 17, 23, 0, 25], [0, 24, 13, 15, 7]]\n",
      "숫자 : 15\n",
      "총 빙고 갯수 0\n",
      "[[1, 18, 4, 11, 20], [22, 14, 9, 12, 8], [21, 5, 16, 6, 19], [10, 17, 23, 0, 25], [0, 24, 13, 0, 7]]\n"
     ]
    }
   ],
   "source": [
    "game = gen_bingo() # 원본 게임판 준비\n",
    "\n",
    "while True:\n",
    "    # 맞출 숫자 하나 입력하기\n",
    "    number = input(\"숫자 : \")\n",
    "    number = int(number)\n",
    "    # 그 숫자가 있다면 0으로 체크\n",
    "    set_0(game, number)\n",
    "    # 빙고가 됐는지 확인\n",
    "    game_count = get_bingocount(game)\n",
    "    \n",
    "    print(game) # 원본 게임판 재 출력\n",
    "    if game_count == 3:\n",
    "        print(\"Bingo!!!!\")\n",
    "        break\n",
    "\n"
   ]
  },
  {
   "cell_type": "markdown",
   "id": "f26a17d1",
   "metadata": {},
   "source": [
    "### 파일 입출력\n",
    "- 파일에 저장한다 라고 안한다. 파일에 출력한다.\n",
    "- 입출력은 굉장히 비싼 명령어다.\n",
    "- 파일에 대한 권한은 운영체제가 가지고 있다.\n",
    "1. 열기\n",
    "2. 쓰기\n",
    "3. 닫기"
   ]
  },
  {
   "cell_type": "markdown",
   "id": "c107a20e",
   "metadata": {},
   "source": [
    "텍스트 파일, csv, 엑셀"
   ]
  },
  {
   "cell_type": "markdown",
   "id": "f0aa025f",
   "metadata": {},
   "source": [
    "1.쓰기\n",
    "\n",
    "open(파일 경로 및 파일 이름)"
   ]
  },
  {
   "cell_type": "code",
   "execution_count": 270,
   "id": "3d7b3413",
   "metadata": {},
   "outputs": [],
   "source": [
    "# mode: r(읽기), w(새로만들기), a(수정)\n",
    "# + : rb, rt, wb, wt\n",
    "file=open('test.txt', 'w') # 쓰기 모드로 파일 열기"
   ]
  },
  {
   "cell_type": "code",
   "execution_count": 271,
   "id": "455ba193",
   "metadata": {
    "scrolled": true
   },
   "outputs": [
    {
     "data": {
      "text/plain": [
       "5"
      ]
     },
     "execution_count": 271,
     "metadata": {},
     "output_type": "execute_result"
    }
   ],
   "source": [
    "file.write(\"Hello\")"
   ]
  },
  {
   "cell_type": "code",
   "execution_count": 276,
   "id": "8f5cce0a",
   "metadata": {},
   "outputs": [
    {
     "data": {
      "text/plain": [
       "11"
      ]
     },
     "execution_count": 276,
     "metadata": {},
     "output_type": "execute_result"
    }
   ],
   "source": [
    "file.write(\"Hello World\")"
   ]
  },
  {
   "cell_type": "markdown",
   "id": "35b53448",
   "metadata": {},
   "source": [
    "출력된 숫자는 글자 갯수"
   ]
  },
  {
   "cell_type": "code",
   "execution_count": 277,
   "id": "1258f35b",
   "metadata": {},
   "outputs": [],
   "source": [
    "file.close()"
   ]
  },
  {
   "cell_type": "markdown",
   "id": "485dad5c",
   "metadata": {},
   "source": [
    "위와 같은 결과"
   ]
  },
  {
   "cell_type": "code",
   "execution_count": 278,
   "id": "af5af9c7",
   "metadata": {},
   "outputs": [],
   "source": [
    "file=open('test.txt', 'w')\n",
    "print(\"Hello\", file=file)\n",
    "print(\"Hello World\", file=file)\n",
    "file.close()"
   ]
  },
  {
   "cell_type": "markdown",
   "id": "cceeb888",
   "metadata": {},
   "source": [
    "2. 읽기\n"
   ]
  },
  {
   "cell_type": "code",
   "execution_count": 290,
   "id": "7d6b7d84",
   "metadata": {},
   "outputs": [],
   "source": [
    "file = open('test.txt', 'r')"
   ]
  },
  {
   "cell_type": "code",
   "execution_count": 291,
   "id": "0cf8f281",
   "metadata": {},
   "outputs": [
    {
     "data": {
      "text/plain": [
       "'Hello\\nHello World\\n'"
      ]
     },
     "execution_count": 291,
     "metadata": {},
     "output_type": "execute_result"
    }
   ],
   "source": [
    "file.read()"
   ]
  },
  {
   "cell_type": "code",
   "execution_count": 292,
   "id": "d2b769e8",
   "metadata": {},
   "outputs": [],
   "source": [
    "file = open('test.txt', 'r')"
   ]
  },
  {
   "cell_type": "code",
   "execution_count": 293,
   "id": "9c0ba2e0",
   "metadata": {},
   "outputs": [
    {
     "data": {
      "text/plain": [
       "'Hello\\n'"
      ]
     },
     "execution_count": 293,
     "metadata": {},
     "output_type": "execute_result"
    }
   ],
   "source": [
    "file.readline()"
   ]
  },
  {
   "cell_type": "code",
   "execution_count": 294,
   "id": "e3deba46",
   "metadata": {
    "scrolled": true
   },
   "outputs": [
    {
     "data": {
      "text/plain": [
       "'Hello World\\n'"
      ]
     },
     "execution_count": 294,
     "metadata": {},
     "output_type": "execute_result"
    }
   ],
   "source": [
    "file.readline()"
   ]
  },
  {
   "cell_type": "code",
   "execution_count": 295,
   "id": "7b541cac",
   "metadata": {},
   "outputs": [],
   "source": [
    "file = open('test.txt', 'r')"
   ]
  },
  {
   "cell_type": "code",
   "execution_count": 296,
   "id": "f987e5f8",
   "metadata": {},
   "outputs": [
    {
     "data": {
      "text/plain": [
       "['Hello\\n', 'Hello World\\n']"
      ]
     },
     "execution_count": 296,
     "metadata": {},
     "output_type": "execute_result"
    }
   ],
   "source": [
    "file.readlines()"
   ]
  },
  {
   "cell_type": "code",
   "execution_count": null,
   "id": "8f8286ef",
   "metadata": {},
   "outputs": [],
   "source": [
    "file = open('test.txt', 'r')\n",
    "file.read() # 파일의 내용을 한꺼번에 읽기\n",
    "file.seek(0) # 파일 읽기 위치를 처음으로 되돌리기 \n",
    "file.readline() # 파일의 내용을 한줄씩 순서대로 읽기\n",
    "file.seek(10)\n",
    "file.readlines() # 모든 내용을 줄별로 리스트에 저장해서 준다.\n",
    "test= file.readlines() # ahems sodyddmf wnfquffh fltmxmdp wjwdkgotj wnsek.\n",
    "file.tell() # 어디까지 읽었는지 알려준다.\n",
    "# file.close()\n"
   ]
  },
  {
   "cell_type": "code",
   "execution_count": null,
   "id": "aa7de680",
   "metadata": {},
   "outputs": [],
   "source": []
  }
 ],
 "metadata": {
  "kernelspec": {
   "display_name": "Python 3 (ipykernel)",
   "language": "python",
   "name": "python3"
  },
  "language_info": {
   "codemirror_mode": {
    "name": "ipython",
    "version": 3
   },
   "file_extension": ".py",
   "mimetype": "text/x-python",
   "name": "python",
   "nbconvert_exporter": "python",
   "pygments_lexer": "ipython3",
   "version": "3.9.7"
  }
 },
 "nbformat": 4,
 "nbformat_minor": 5
}
