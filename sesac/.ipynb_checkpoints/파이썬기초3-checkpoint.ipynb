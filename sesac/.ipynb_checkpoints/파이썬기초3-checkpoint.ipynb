{
 "cells": [
  {
   "cell_type": "code",
   "execution_count": 9,
   "id": "3ed7c7cd",
   "metadata": {},
   "outputs": [
    {
     "data": {
      "text/plain": [
       "[12, 6, 19, 30, 10, 23]"
      ]
     },
     "execution_count": 9,
     "metadata": {},
     "output_type": "execute_result"
    }
   ],
   "source": [
    "# 1~45까지의 볼에서 랜덤하게 공 6개 뽑기\n",
    "import random as rnd\n",
    "lotto=[]\n",
    "for i in range(6):\n",
    "    while a in lotto:\n",
    "        a= rnd.randint(1,45)\n",
    "        continue\n",
    "    lotto.append(a)\n",
    "    \n",
    "print(lotto)\n",
    "\n"
   ]
  },
  {
   "cell_type": "code",
   "execution_count": 11,
   "id": "5e39785f",
   "metadata": {},
   "outputs": [
    {
     "name": "stdout",
     "output_type": "stream",
     "text": [
      "[34, 1, 20, 36, 16, 26] [13, 43, 19, 18, 25, 10, 2, 17, 39, 8, 31, 40, 11, 38, 4, 14, 6, 3, 44, 5, 41, 24, 42, 37, 33, 7, 23, 9, 32, 35, 12, 15, 29, 21, 22, 28, 27, 30]\n"
     ]
    }
   ],
   "source": [
    "# 순서 섞인 볼에서 6개 뽑기\n",
    "import random\n",
    "lotto=list(range(1,45))\n",
    "mylotto=[]\n",
    "random.shuffle(lotto)\n",
    "for i in range(6):\n",
    "    mylotto.append(lotto.pop())\n",
    "print(mylotto, lotto)"
   ]
  },
  {
   "cell_type": "code",
   "execution_count": 15,
   "id": "1649c412",
   "metadata": {},
   "outputs": [
    {
     "name": "stdout",
     "output_type": "stream",
     "text": [
      "로또 게임 참여 수를 입력하세요5\n",
      "[31, 6, 2, 36, 26, 4]\n",
      "[7, 30, 27, 43, 2, 11]\n",
      "[15, 1, 32, 34, 31, 30]\n",
      "[9, 42, 41, 26, 2, 3]\n",
      "[9, 22, 28, 19, 16, 18]\n"
     ]
    }
   ],
   "source": [
    "import random\n",
    "countlotto=input(\"로또 게임 참여 수를 입력하세요\")\n",
    "countlotto=int(countlotto)\n",
    "for k in range(countlotto):    \n",
    "    lotto=list(range(1,45))\n",
    "    mylotto=[]\n",
    "    random.shuffle(lotto)\n",
    "    for i in range(6):\n",
    "        mylotto.append(lotto.pop())\n",
    "    print(mylotto)"
   ]
  },
  {
   "cell_type": "code",
   "execution_count": 17,
   "id": "0a3cb088",
   "metadata": {},
   "outputs": [
    {
     "data": {
      "text/plain": [
       "[1, 2, 3, 4, 5]"
      ]
     },
     "execution_count": 17,
     "metadata": {},
     "output_type": "execute_result"
    }
   ],
   "source": [
    "list(range(1,6))"
   ]
  },
  {
   "cell_type": "code",
   "execution_count": 25,
   "id": "f59b0029",
   "metadata": {},
   "outputs": [
    {
     "name": "stdout",
     "output_type": "stream",
     "text": [
      "[44, 43, 42, 41, 40, 39]\n",
      "[1, 2, 3, 4, 5, 6]\n"
     ]
    }
   ],
   "source": [
    "# 로또 번호 뽑는 프로그램을 짠다. \n",
    "# 앞쪽에서 6개 혹은 뒷쪽에서 6개의 번호를 뽑아서 출력하시오\n",
    "# 섞이지 않은 순차적 값뽑기 뒤든 앞이든\n",
    "# 1~45까지의 볼에서 랜덤하게 공 6개 뽑기\n",
    "# ver1\n",
    "import random as rnd\n",
    "lotto=list(range(1,45))\n",
    "mylotto_back=[]\n",
    "mylotto_front=[]\n",
    "# 뒤에서 뽑기\n",
    "for i in range(1,7):\n",
    "    mylotto_back.append(lotto[-i])    \n",
    "print(mylotto_back)\n",
    "# 앞에서 뽑기\n",
    "for k in range(6):\n",
    "    mylotto_front.append(lotto[k])    \n",
    "print(mylotto_front)\n",
    "\n"
   ]
  },
  {
   "cell_type": "code",
   "execution_count": 24,
   "id": "ec064a7f",
   "metadata": {},
   "outputs": [
    {
     "name": "stdout",
     "output_type": "stream",
     "text": [
      "[39, 40, 41, 42, 43, 44]\n",
      "[1, 2, 3, 4, 5, 6]\n"
     ]
    }
   ],
   "source": [
    "# ver2\n",
    "import random as rnd\n",
    "lotto=list(range(1,45))\n",
    "\n",
    "# 뒤에서 뽑기   \n",
    "print(lotto[-6:])\n",
    "# 앞에서 뽑기   \n",
    "print(lotto[:6])"
   ]
  },
  {
   "cell_type": "code",
   "execution_count": null,
   "id": "16ca3b7f",
   "metadata": {},
   "outputs": [],
   "source": []
  }
 ],
 "metadata": {
  "kernelspec": {
   "display_name": "Python 3 (ipykernel)",
   "language": "python",
   "name": "python3"
  },
  "language_info": {
   "codemirror_mode": {
    "name": "ipython",
    "version": 3
   },
   "file_extension": ".py",
   "mimetype": "text/x-python",
   "name": "python",
   "nbconvert_exporter": "python",
   "pygments_lexer": "ipython3",
   "version": "3.9.7"
  }
 },
 "nbformat": 4,
 "nbformat_minor": 5
}
