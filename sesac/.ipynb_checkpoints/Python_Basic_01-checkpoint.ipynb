{
 "cells": [
  {
   "cell_type": "markdown",
   "id": "5cacdd99",
   "metadata": {},
   "source": [
    "# 파이썬 기초 -1"
   ]
  },
  {
   "cell_type": "markdown",
   "id": "3e0ec7c4",
   "metadata": {},
   "source": [
    "# 주피터 노트북 단축키"
   ]
  },
  {
   "cell_type": "code",
   "execution_count": 72,
   "id": "79209f3b",
   "metadata": {},
   "outputs": [
    {
     "name": "stdout",
     "output_type": "stream",
     "text": [
      "python Basic\n"
     ]
    }
   ],
   "source": [
    "# 실행 단축키 : Ctrl + Enter, Alt+Enter, Shift + Enter\n",
    "print(\"python Basic\")"
   ]
  },
  {
   "cell_type": "markdown",
   "id": "e51679b8",
   "metadata": {},
   "source": [
    "- 셀 추가 삭제 단축키 : \n",
    "\n",
    "- a,b ==> 위아래 셀 추가, \n",
    "\n",
    "- 삭제 : dd, x\n",
    "\n",
    "- 복사 : c\n",
    "\n",
    "- 붙여넣기 : v\n",
    "\n",
    "- 라인 번호 확인하기 : l\n",
    "\n",
    "- 출력 접어두기 : o\n",
    "\n"
   ]
  },
  {
   "cell_type": "markdown",
   "id": "921bbb23",
   "metadata": {},
   "source": [
    "문법정리\n",
    "입력, 출력, 저장, 처리\n",
    "출력1\n",
    "화면에 출력하기\n",
    "파일에 출력하기(저장하기)\n"
   ]
  },
  {
   "cell_type": "markdown",
   "id": "499c19e4",
   "metadata": {},
   "source": [
    "# 출력"
   ]
  },
  {
   "cell_type": "code",
   "execution_count": 11,
   "id": "4aea05dc",
   "metadata": {},
   "outputs": [
    {
     "name": "stdout",
     "output_type": "stream",
     "text": [
      "\n"
     ]
    }
   ],
   "source": [
    "print() # 프린트 명령어"
   ]
  },
  {
   "cell_type": "code",
   "execution_count": 12,
   "id": "561a306f",
   "metadata": {},
   "outputs": [
    {
     "name": "stdout",
     "output_type": "stream",
     "text": [
      "1234\n"
     ]
    }
   ],
   "source": [
    "print(1234) # 프린트 명령어"
   ]
  },
  {
   "cell_type": "code",
   "execution_count": 13,
   "id": "71fd58ae",
   "metadata": {},
   "outputs": [
    {
     "name": "stdout",
     "output_type": "stream",
     "text": [
      "Hello\n"
     ]
    }
   ],
   "source": [
    "print(\"Hello\") # 프린트 명령어"
   ]
  },
  {
   "cell_type": "code",
   "execution_count": 15,
   "id": "d20b6c1a",
   "metadata": {},
   "outputs": [
    {
     "name": "stdout",
     "output_type": "stream",
     "text": [
      "1234kkkk\n"
     ]
    }
   ],
   "source": [
    "print(1234, \"kkkk\", sep=\"\")"
   ]
  },
  {
   "cell_type": "code",
   "execution_count": 22,
   "id": "dc949fec",
   "metadata": {},
   "outputs": [
    {
     "name": "stdout",
     "output_type": "stream",
     "text": [
      "Hi 1234\n",
      "a123b"
     ]
    }
   ],
   "source": [
    "print(\"Hi\", 1234, end=\"\\na123b\")"
   ]
  },
  {
   "cell_type": "code",
   "execution_count": 31,
   "id": "06bc999b",
   "metadata": {},
   "outputs": [
    {
     "name": "stdout",
     "output_type": "stream",
     "text": [
      "3.14\n",
      "3.141592653589793\n"
     ]
    }
   ],
   "source": [
    "#어떤 값을 직접 적어서 사용하지 않는다. <--- 하드 코딩\n",
    "import math\n",
    "print(3.14)\n",
    "print(math.pi)"
   ]
  },
  {
   "cell_type": "code",
   "execution_count": 71,
   "id": "508fcc9a",
   "metadata": {},
   "outputs": [],
   "source": [
    "# 저장 : 변수에 저장한다.\n",
    "# 갑을 저장해두는 공간, 그릇, 서랍"
   ]
  },
  {
   "cell_type": "code",
   "execution_count": 33,
   "id": "42d253ab",
   "metadata": {},
   "outputs": [
    {
     "name": "stdout",
     "output_type": "stream",
     "text": [
      "3.141592653589793\n"
     ]
    }
   ],
   "source": [
    "print(pi)"
   ]
  },
  {
   "cell_type": "markdown",
   "id": "e92e60b4",
   "metadata": {},
   "source": [
    "# 변수에 값 넣기"
   ]
  },
  {
   "cell_type": "code",
   "execution_count": 35,
   "id": "7b5e9ad1",
   "metadata": {},
   "outputs": [],
   "source": [
    "# 저장할 수 있는 값의 종류!\n",
    "# 타입 - Type -Data Type"
   ]
  },
  {
   "cell_type": "code",
   "execution_count": 36,
   "id": "95a7a4a4",
   "metadata": {},
   "outputs": [],
   "source": [
    "num=1\n",
    "num2 =3.14"
   ]
  },
  {
   "cell_type": "code",
   "execution_count": 38,
   "id": "07e8e9b3",
   "metadata": {},
   "outputs": [],
   "source": [
    "str1 = \"hi\"\n",
    "str2 = 'Hi'\n",
    "str3=\"\"\"hi\"\"\""
   ]
  },
  {
   "cell_type": "markdown",
   "id": "4637db0f",
   "metadata": {},
   "source": [
    "변수명(변수이름, 그릇이름) = 저장할 값\n",
    "\n",
    "- 문법적 규칙(안지키면 오류)\n",
    "\n",
    "1. 대소문자 구분 : A , a\n",
    "2. 숫자로 시작불가 : 7a(x)\n",
    "3. 특수문자, 띄어쓰기 불가 : _(언더바만 가능)\n",
    "4. 예약어 사용 불가: 문법 용어는 변수명으로 사용금지\n",
    "\n",
    "\n",
    "- 관례적 규칙(사람끼리 약속한것)\n",
    "1. 명사, 동사 사용(형용사 사용 지양)\n",
    "2. 지정한 값의 의미를 명확히 나타내기\n",
    "3. 표기방법(관례적)\n",
    "\n",
    "\n",
    "ex) my name is\n",
    "\n",
    "카멜 : myNameIs(함수명)\n",
    "\n",
    "파스칼 : MyNameIs(클래스명)\n",
    "\n",
    "스네이크 : my_name_is(변수명)\n",
    "\n",
    "헝가리안 : stMynameis\n",
    "\n",
    "           intMynameis\n",
    "           \n"
   ]
  },
  {
   "cell_type": "code",
   "execution_count": null,
   "id": "5ec98a26",
   "metadata": {},
   "outputs": [],
   "source": [
    "저장(변수)\n",
    "출력(print)\n",
    "입력(input)"
   ]
  },
  {
   "cell_type": "code",
   "execution_count": 39,
   "id": "2d0aade5",
   "metadata": {},
   "outputs": [
    {
     "name": "stdout",
     "output_type": "stream",
     "text": [
      "kkkkk\n"
     ]
    },
    {
     "data": {
      "text/plain": [
       "'kkkkk'"
      ]
     },
     "execution_count": 39,
     "metadata": {},
     "output_type": "execute_result"
    }
   ],
   "source": [
    "input() # 어떤 값을 입력 받아서 다음에 재활용하고 싶어서"
   ]
  },
  {
   "cell_type": "code",
   "execution_count": 40,
   "id": "38db5a37",
   "metadata": {},
   "outputs": [],
   "source": [
    "# * 아래쪽에 출력 결과가 튀어 나온다면 값을 복사해둔 것이다 \n",
    "# *  아래쪽에 뭔가 값이 튀어나온다면 실행 후 반환값이 있다는 것이다."
   ]
  },
  {
   "cell_type": "code",
   "execution_count": 41,
   "id": "3a20cc4a",
   "metadata": {},
   "outputs": [
    {
     "name": "stdout",
     "output_type": "stream",
     "text": [
      "\n"
     ]
    }
   ],
   "source": [
    "print()"
   ]
  },
  {
   "cell_type": "code",
   "execution_count": 42,
   "id": "dbd27dfb",
   "metadata": {},
   "outputs": [
    {
     "name": "stdout",
     "output_type": "stream",
     "text": [
      "jake\n"
     ]
    }
   ],
   "source": [
    "name = input()"
   ]
  },
  {
   "cell_type": "code",
   "execution_count": 43,
   "id": "6a7fa1dc",
   "metadata": {},
   "outputs": [
    {
     "data": {
      "text/plain": [
       "'jake'"
      ]
     },
     "execution_count": 43,
     "metadata": {},
     "output_type": "execute_result"
    }
   ],
   "source": [
    "name"
   ]
  },
  {
   "cell_type": "markdown",
   "id": "3f2dfd2b",
   "metadata": {},
   "source": [
    "위와 같이 작성하면 뭘 입력하라는지 알 수 없음 \n",
    "==>"
   ]
  },
  {
   "cell_type": "code",
   "execution_count": 44,
   "id": "e4c1f569",
   "metadata": {},
   "outputs": [
    {
     "name": "stdout",
     "output_type": "stream",
     "text": [
      "이름을 입력하세요 : 제이크\n"
     ]
    }
   ],
   "source": [
    "name = input(\"이름을 입력하세요 : \")"
   ]
  },
  {
   "cell_type": "code",
   "execution_count": 45,
   "id": "15ee379f",
   "metadata": {},
   "outputs": [
    {
     "data": {
      "text/plain": [
       "'제이크'"
      ]
     },
     "execution_count": 45,
     "metadata": {},
     "output_type": "execute_result"
    }
   ],
   "source": [
    "name"
   ]
  },
  {
   "cell_type": "code",
   "execution_count": 46,
   "id": "33e5da1a",
   "metadata": {},
   "outputs": [],
   "source": [
    "# 예제1 \n",
    "# 사용자로부터 취미를 입력받아 화면에 출력하는 프로그램을 작성하시오"
   ]
  },
  {
   "cell_type": "code",
   "execution_count": 49,
   "id": "a6f27365",
   "metadata": {},
   "outputs": [
    {
     "name": "stdout",
     "output_type": "stream",
     "text": [
      "취미 : 요트\n",
      "너의 취미는 요트\n"
     ]
    }
   ],
   "source": [
    "h=input(\"취미 : \")\n",
    "print(\"너의 취미는\", h)"
   ]
  },
  {
   "cell_type": "code",
   "execution_count": 50,
   "id": "2b0a0380",
   "metadata": {},
   "outputs": [],
   "source": [
    "# 위 예제 2줄이 바로 머리에 떠오르지 않는다면 추천할 만한 훈련법\n",
    "# 분할정복\n",
    "# 긴 문제를 만났을 때 내가 해야할 일들을 우선 한글로 정리한다.\n",
    "# 1. input을 사용해서 취미를 입력받는다.\n",
    "# 2. 입력받은 내용을 저장한 변수를 print를 사용해서 화면에 출력한다.\n",
    "\n"
   ]
  },
  {
   "cell_type": "code",
   "execution_count": 51,
   "id": "4ec89309",
   "metadata": {},
   "outputs": [],
   "source": [
    "# 연산\n",
    "# 산술연산\n",
    "# - 사칙연산\n",
    "# -특수연산\n",
    "# 문자열 연산"
   ]
  },
  {
   "cell_type": "code",
   "execution_count": 53,
   "id": "2d3513f9",
   "metadata": {},
   "outputs": [],
   "source": [
    "a=7\n",
    "b=4\n",
    "c=5"
   ]
  },
  {
   "cell_type": "code",
   "execution_count": 56,
   "id": "fe14b703",
   "metadata": {},
   "outputs": [
    {
     "data": {
      "text/plain": [
       "1.25"
      ]
     },
     "execution_count": 56,
     "metadata": {},
     "output_type": "execute_result"
    }
   ],
   "source": [
    "3 + 4\n",
    "a-2\n",
    "7 *b\n",
    "c / b"
   ]
  },
  {
   "cell_type": "code",
   "execution_count": 57,
   "id": "6da3d40d",
   "metadata": {},
   "outputs": [
    {
     "data": {
      "text/plain": [
       "1.25"
      ]
     },
     "execution_count": 57,
     "metadata": {},
     "output_type": "execute_result"
    }
   ],
   "source": [
    "c /b"
   ]
  },
  {
   "cell_type": "code",
   "execution_count": 59,
   "id": "1d521b8a",
   "metadata": {},
   "outputs": [
    {
     "data": {
      "text/plain": [
       "1"
      ]
     },
     "execution_count": 59,
     "metadata": {},
     "output_type": "execute_result"
    }
   ],
   "source": [
    "7 **2  # 거듭제곱\n",
    "7 // 4 # 몫\n",
    "7 % 3 # 나머지"
   ]
  },
  {
   "cell_type": "code",
   "execution_count": 60,
   "id": "6108d440",
   "metadata": {},
   "outputs": [],
   "source": [
    "# 연산예제"
   ]
  },
  {
   "cell_type": "code",
   "execution_count": 67,
   "id": "0eb9e15f",
   "metadata": {},
   "outputs": [
    {
     "name": "stdout",
     "output_type": "stream",
     "text": [
      "사칙연산을 수행할 숫자 두개 입력하세요 :10 2\n",
      "더하기 연산 : 102\n"
     ]
    },
    {
     "ename": "TypeError",
     "evalue": "unsupported operand type(s) for -: 'str' and 'str'",
     "output_type": "error",
     "traceback": [
      "\u001b[1;31m---------------------------------------------------------------------------\u001b[0m",
      "\u001b[1;31mTypeError\u001b[0m                                 Traceback (most recent call last)",
      "\u001b[1;32m~\\AppData\\Local\\Temp/ipykernel_18308/1503808021.py\u001b[0m in \u001b[0;36m<module>\u001b[1;34m\u001b[0m\n\u001b[0;32m      5\u001b[0m \u001b[0ma\u001b[0m\u001b[1;33m,\u001b[0m \u001b[0mb\u001b[0m\u001b[1;33m=\u001b[0m \u001b[0minput\u001b[0m\u001b[1;33m(\u001b[0m\u001b[1;34m\"사칙연산을 수행할 숫자 두개 입력하세요 :\"\u001b[0m\u001b[1;33m)\u001b[0m\u001b[1;33m.\u001b[0m\u001b[0msplit\u001b[0m\u001b[1;33m(\u001b[0m\u001b[1;33m)\u001b[0m\u001b[1;33m\u001b[0m\u001b[1;33m\u001b[0m\u001b[0m\n\u001b[0;32m      6\u001b[0m \u001b[0mprint\u001b[0m\u001b[1;33m(\u001b[0m\u001b[1;34m'더하기 연산 :'\u001b[0m\u001b[1;33m,\u001b[0m \u001b[0ma\u001b[0m\u001b[1;33m+\u001b[0m\u001b[0mb\u001b[0m\u001b[1;33m)\u001b[0m\u001b[1;33m\u001b[0m\u001b[1;33m\u001b[0m\u001b[0m\n\u001b[1;32m----> 7\u001b[1;33m \u001b[0mprint\u001b[0m\u001b[1;33m(\u001b[0m\u001b[1;34m'빼기기 연산 :'\u001b[0m\u001b[1;33m,\u001b[0m \u001b[0ma\u001b[0m\u001b[1;33m-\u001b[0m\u001b[0mb\u001b[0m\u001b[1;33m)\u001b[0m\u001b[1;33m\u001b[0m\u001b[1;33m\u001b[0m\u001b[0m\n\u001b[0m\u001b[0;32m      8\u001b[0m \u001b[0mprint\u001b[0m\u001b[1;33m(\u001b[0m\u001b[1;34m'곻하기 연산 :'\u001b[0m\u001b[1;33m,\u001b[0m \u001b[0ma\u001b[0m\u001b[1;33m*\u001b[0m\u001b[0mb\u001b[0m\u001b[1;33m)\u001b[0m\u001b[1;33m\u001b[0m\u001b[1;33m\u001b[0m\u001b[0m\n\u001b[0;32m      9\u001b[0m \u001b[0mprint\u001b[0m\u001b[1;33m(\u001b[0m\u001b[1;34m'나누기 연산 :'\u001b[0m\u001b[1;33m,\u001b[0m \u001b[0ma\u001b[0m\u001b[1;33m/\u001b[0m\u001b[0mb\u001b[0m\u001b[1;33m)\u001b[0m\u001b[1;33m\u001b[0m\u001b[1;33m\u001b[0m\u001b[0m\n",
      "\u001b[1;31mTypeError\u001b[0m: unsupported operand type(s) for -: 'str' and 'str'"
     ]
    }
   ],
   "source": [
    "# 입력 +연산\n",
    "# 계산기\n",
    "# 두개의 정수를 입력받아\n",
    "# 두 숫자의 사칙 연산을 출력하는 프로그램을 작성하시오.\n",
    "a, b= input(\"사칙연산을 수행할 숫자 두개 입력하세요 :\").split()\n",
    "print('더하기 연산 :', a+b)\n",
    "print('빼기기 연산 :', a-b)\n",
    "print('곻하기 연산 :', a*b)\n",
    "print('나누기 연산 :', a/b)"
   ]
  },
  {
   "cell_type": "code",
   "execution_count": 68,
   "id": "e3f933d6",
   "metadata": {},
   "outputs": [],
   "source": [
    "# 파이썬의 input은 무조건 문자로만 입력받아진다.\n",
    "# 내가 숫자로 바꾸자고하면 type casting 형변환을 해서 사용해야한다.\n",
    "# int() 함수를 통해 변수를 str(글자)형식에서 int(정수) 타입으로 변경해주어야 계산이 진행됨\n",
    "a=int(a)\n",
    "b=int(b)"
   ]
  },
  {
   "cell_type": "code",
   "execution_count": 69,
   "id": "0e2e805f",
   "metadata": {},
   "outputs": [
    {
     "name": "stdout",
     "output_type": "stream",
     "text": [
      "더하기 연산 : 12\n",
      "빼기기 연산 : 8\n",
      "곻하기 연산 : 20\n",
      "나누기 연산 : 5.0\n"
     ]
    }
   ],
   "source": [
    "print('더하기 연산 :', a+b)\n",
    "print('빼기기 연산 :', a-b)\n",
    "print('곻하기 연산 :', a*b)\n",
    "print('나누기 연산 :', a/b)"
   ]
  },
  {
   "cell_type": "markdown",
   "id": "b2a7f55b",
   "metadata": {},
   "source": [
    "변수\n",
    "\n",
    "- 정수 : int\n",
    "\n",
    "- 실수 : float\n",
    "\n",
    "- 문자 : str\n",
    "\n",
    "- 불대수 : bool"
   ]
  },
  {
   "cell_type": "code",
   "execution_count": 70,
   "id": "ad9ecaf2",
   "metadata": {},
   "outputs": [
    {
     "data": {
      "text/plain": [
       "3.14"
      ]
     },
     "execution_count": 70,
     "metadata": {},
     "output_type": "execute_result"
    }
   ],
   "source": [
    "a= '3.14'\n",
    "float(a)"
   ]
  },
  {
   "cell_type": "markdown",
   "id": "93f964e9",
   "metadata": {},
   "source": [
    "# 양식 문자열\n",
    "\n",
    "- % 문법\n",
    "- format 명령어\n",
    "- f-string"
   ]
  },
  {
   "cell_type": "code",
   "execution_count": 76,
   "id": "36f3c1c3",
   "metadata": {},
   "outputs": [
    {
     "data": {
      "text/plain": [
       "'내 이름은 hello이고, 나이는 20입니다. 몸무게는 74.920000kg입니다.'"
      ]
     },
     "execution_count": 76,
     "metadata": {},
     "output_type": "execute_result"
    }
   ],
   "source": [
    "# %문법\n",
    "\"내 이름은 %s이고, 나이는 %d입니다. 몸무게는 %fkg입니다.\" %(\"hello\", 20, 74.92)"
   ]
  },
  {
   "cell_type": "markdown",
   "id": "268490b0",
   "metadata": {},
   "source": [
    "- s = strint ==> 글자\n",
    "- d = 정수\n",
    "- f = 실수"
   ]
  },
  {
   "cell_type": "code",
   "execution_count": 82,
   "id": "a5174b39",
   "metadata": {},
   "outputs": [
    {
     "data": {
      "text/plain": [
       "'내 이름은  hello입니다. 20, 74.92'"
      ]
     },
     "execution_count": 82,
     "metadata": {},
     "output_type": "execute_result"
    }
   ],
   "source": [
    "# format 명령어\n",
    "\"내 이름은  {}입니다. {}, {}\".format(\"hello\", 20, 74.92)"
   ]
  },
  {
   "cell_type": "code",
   "execution_count": 83,
   "id": "af97ed47",
   "metadata": {},
   "outputs": [
    {
     "data": {
      "text/plain": [
       "'내 이름은  hello입니다. 74.92, 20'"
      ]
     },
     "execution_count": 83,
     "metadata": {},
     "output_type": "execute_result"
    }
   ],
   "source": [
    "# {}안에 순서를 넣음으로써 위치 지정 가능\n",
    "\"내 이름은  {0}입니다. {2}, {1}\".format(\"hello\", 20, 74.92)"
   ]
  },
  {
   "cell_type": "code",
   "execution_count": 85,
   "id": "1ac63e84",
   "metadata": {},
   "outputs": [
    {
     "data": {
      "text/plain": [
       "'내 이름은  hello입니다.   74.920, 20'"
      ]
     },
     "execution_count": 85,
     "metadata": {},
     "output_type": "execute_result"
    }
   ],
   "source": [
    "# 표시 소수점 자리수 설정 가능\n",
    "\"내 이름은  {0}입니다. {2:8.3f}, {1}\".format(\"hello\", 20, 74.92)"
   ]
  },
  {
   "cell_type": "code",
   "execution_count": 88,
   "id": "ba92f5b9",
   "metadata": {},
   "outputs": [
    {
     "data": {
      "text/plain": [
       "'내 이름은 짱구입니다.'"
      ]
     },
     "execution_count": 88,
     "metadata": {},
     "output_type": "execute_result"
    }
   ],
   "source": [
    "# f-strint\n",
    "name = \"짱구\"\n",
    "f\"내 이름은 {name}입니다.\""
   ]
  },
  {
   "cell_type": "code",
   "execution_count": 89,
   "id": "a5de2993",
   "metadata": {},
   "outputs": [
    {
     "data": {
      "text/plain": [
       "'10 + 30 = 40입니다'"
      ]
     },
     "execution_count": 89,
     "metadata": {},
     "output_type": "execute_result"
    }
   ],
   "source": [
    "n1= 10\n",
    "n2 = 30\n",
    "sum = n1 + n2\n",
    "f'{n1} + {n2} = {sum}입니다'"
   ]
  },
  {
   "cell_type": "code",
   "execution_count": 104,
   "id": "3004fa67",
   "metadata": {},
   "outputs": [
    {
     "name": "stdout",
     "output_type": "stream",
     "text": [
      "자신의 키를 입력해주세요(cm) :174\n",
      "자신의 몸무게를 입력해주세요(kg) :88\n",
      "29.065926806711587\n",
      "체중  88.00, 신장  174.00cm 일 때 BMI는  29.07 입니다.\n"
     ]
    }
   ],
   "source": [
    "# 예제 BMI 계산기 만들기\n",
    "# BMI를 이용한 비만도 계산은 자신의 몸무게를 키의 제곱으로 나누는 것 \n",
    "# kg, m 단위를 사용\n",
    "# 사용자의 체중과 신장을 입력받고 BMI를 계싼하여 출력하시오\n",
    "# 단 출력 문구는 \n",
    "# \"체중 xx.xx, 신장 xxx,xx cm 일 때 BMI는 xxx.xx. 입니다.\"\n",
    "# 라고 출력하시오.\n",
    "hight= float(input(\"자신의 키를 입력해주세요(cm) :\"))\n",
    "weight = float(input(\"자신의 몸무게를 입력해주세요(kg) :\"))\n",
    "BMI = weight / ((hight/100) **2)\n",
    "print(BMI)\n",
    "print(f\"체중 {weight: 2.2f}, 신장 {hight: 3.2f}cm 일 때 BMI는 {BMI : 3.2f} 입니다.\")"
   ]
  },
  {
   "cell_type": "markdown",
   "id": "818f1744",
   "metadata": {},
   "source": [
    "연산자 우선 순위\n",
    "\n",
    "- **\n",
    "\n",
    "- *, /, //, %\n",
    "\n",
    "- +, -"
   ]
  },
  {
   "cell_type": "markdown",
   "id": "191909bf",
   "metadata": {},
   "source": [
    "# if문"
   ]
  },
  {
   "cell_type": "markdown",
   "id": "27391d00",
   "metadata": {},
   "source": [
    "### 비교 구문 if -elif - else\n",
    "\n",
    "if (조건문 혹은 조건식) :\n",
    "\n",
    "\n",
    "    실행문\n",
    "    \n",
    "    \n",
    "elif (조건문 혹은 조건식) :\n",
    "\n",
    "\n",
    "    실행문\n",
    "    \n",
    "else :\n",
    "\n",
    "    실행문"
   ]
  },
  {
   "cell_type": "markdown",
   "id": "25905be2",
   "metadata": {},
   "source": [
    "# 비교연산자"
   ]
  },
  {
   "cell_type": "code",
   "execution_count": null,
   "id": "21e97299",
   "metadata": {},
   "outputs": [],
   "source": [
    "# 조건문 혹은 조건식\n",
    "# 명제 라고 할 수 있다.\n",
    "# True, False 라고 결과 값이 나오는 식\n",
    "# 비교 구문\n",
    "\n",
    "a > b\n",
    "a < b\n",
    "a >= b\n",
    "a <= b\n",
    "a == b\n",
    "a != b"
   ]
  },
  {
   "cell_type": "code",
   "execution_count": 107,
   "id": "8ab9d704",
   "metadata": {},
   "outputs": [
    {
     "name": "stdout",
     "output_type": "stream",
     "text": [
      "비만입니다.\n"
     ]
    }
   ],
   "source": [
    "# BMI가 18.5 이하면 저체중 ／ 18.5 ~ 22.9 사이면 정상 ／ 23.0 ~ 24.9 사이면 과체중 ／ 25.0 이상부터는 비만으로 판정.\n",
    "if BMI <= 18.5:\n",
    "    print(\"저체중입니다.\")\n",
    "elif BMI <=22.9:\n",
    "    print(\"정상입니다.\")\n",
    "elif BMI <= 24.9:\n",
    "    print(\"과체중입니다.\")\n",
    "else:\n",
    "    print(\"비만입니다.\")"
   ]
  },
  {
   "cell_type": "code",
   "execution_count": 112,
   "id": "a3151a7e",
   "metadata": {},
   "outputs": [
    {
     "name": "stdout",
     "output_type": "stream",
     "text": [
      "비만입니다.\n"
     ]
    }
   ],
   "source": [
    "# BMI가 18.5 이하면 저체중 ／ 18.5 ~ 22.9 사이면 정상 ／ 23.0 ~ 24.9 사이면 과체중 ／ 25.0 이상부터는 비만으로 판정.\n",
    "if BMI <= 18.5:\n",
    "    print(\"저체중입니다.\")\n",
    "elif 18.5 < BMI <23 :\n",
    "    print(\"정상입니다.\")\n",
    "elif 23 <= BMI <= 24.9:\n",
    "    print(\"과체중입니다.\")\n",
    "else:\n",
    "    print(\"비만입니다.\")"
   ]
  },
  {
   "cell_type": "markdown",
   "id": "97e06927",
   "metadata": {},
   "source": [
    "# and, or 연산자"
   ]
  },
  {
   "cell_type": "code",
   "execution_count": null,
   "id": "7de21b04",
   "metadata": {},
   "outputs": [],
   "source": [
    "# and or\n",
    "# && ||\n",
    "# and : 그리고\n",
    "# or : 또는\n",
    "# "
   ]
  },
  {
   "cell_type": "code",
   "execution_count": 118,
   "id": "d8e07910",
   "metadata": {},
   "outputs": [
    {
     "name": "stdout",
     "output_type": "stream",
     "text": [
      "비만입니다.\n"
     ]
    }
   ],
   "source": [
    "# BMI가 18.5 이하면 저체중 ／ 18.5 ~ 22.9 사이면 정상 ／ 23.0 ~ 24.9 사이면 과체중 ／ 25.0 이상부터는 비만으로 판정.\n",
    "if BMI <= 18.5:\n",
    "    print(\"저체중입니다.\")\n",
    "elif (18.5 < BMI) & (BMI <23) :\n",
    "    print(\"정상입니다.\")\n",
    "elif (23 <= BMI) & (BMI < 25) :\n",
    "    print(\"과체중입니다.\")\n",
    "else:\n",
    "    print(\"비만입니다.\")"
   ]
  },
  {
   "cell_type": "markdown",
   "id": "26a261c9",
   "metadata": {},
   "source": [
    "# err 처리"
   ]
  },
  {
   "cell_type": "code",
   "execution_count": 119,
   "id": "26a2af48",
   "metadata": {},
   "outputs": [],
   "source": [
    "# 오류의 종류\n",
    "# 문법 : 오타\n",
    "# 실행 : 이미지 파일이 해당 위치에 없다\n",
    "# 논리 논리적으로 문제가 있는 경우 "
   ]
  },
  {
   "cell_type": "code",
   "execution_count": null,
   "id": "7ce48b79",
   "metadata": {},
   "outputs": [],
   "source": [
    "# 오류 처리 구문\n",
    "try :\n",
    "    오류가 발생할 수도 있는 실행문\n",
    "except:\n",
    "    오류가 발생했을 때 후속 처리할 실행문"
   ]
  },
  {
   "cell_type": "code",
   "execution_count": 120,
   "id": "74566ecd",
   "metadata": {
    "collapsed": true
   },
   "outputs": [
    {
     "ename": "ValueError",
     "evalue": "invalid literal for int() with base 10: 'ab'",
     "output_type": "error",
     "traceback": [
      "\u001b[1;31m---------------------------------------------------------------------------\u001b[0m",
      "\u001b[1;31mValueError\u001b[0m                                Traceback (most recent call last)",
      "\u001b[1;32m~\\AppData\\Local\\Temp/ipykernel_18308/2387052414.py\u001b[0m in \u001b[0;36m<module>\u001b[1;34m\u001b[0m\n\u001b[1;32m----> 1\u001b[1;33m \u001b[0mint\u001b[0m\u001b[1;33m(\u001b[0m\u001b[1;34m'ab'\u001b[0m\u001b[1;33m)\u001b[0m\u001b[1;33m\u001b[0m\u001b[1;33m\u001b[0m\u001b[0m\n\u001b[0m",
      "\u001b[1;31mValueError\u001b[0m: invalid literal for int() with base 10: 'ab'"
     ]
    }
   ],
   "source": [
    "int('ab')"
   ]
  },
  {
   "cell_type": "code",
   "execution_count": 121,
   "id": "7695a246",
   "metadata": {},
   "outputs": [
    {
     "name": "stdout",
     "output_type": "stream",
     "text": [
      "오류 발생\n"
     ]
    }
   ],
   "source": [
    "try :\n",
    "    int('ab')\n",
    "except:\n",
    "    print('오류 발생')"
   ]
  },
  {
   "cell_type": "code",
   "execution_count": 122,
   "id": "26488939",
   "metadata": {},
   "outputs": [
    {
     "name": "stdout",
     "output_type": "stream",
     "text": [
      "값 변환 오류 발생\n"
     ]
    }
   ],
   "source": [
    "try :\n",
    "    int('ab')\n",
    "except ValueError:\n",
    "    print(\"값 변환 오류 발생\")\n",
    "except:\n",
    "    print('오류 발생')"
   ]
  },
  {
   "cell_type": "code",
   "execution_count": 9,
   "id": "110ff456",
   "metadata": {},
   "outputs": [
    {
     "ename": "NameError",
     "evalue": "name 'true' is not defined",
     "output_type": "error",
     "traceback": [
      "\u001b[1;31m---------------------------------------------------------------------------\u001b[0m",
      "\u001b[1;31mNameError\u001b[0m                                 Traceback (most recent call last)",
      "\u001b[1;32m~\\AppData\\Local\\Temp/ipykernel_23960/854881718.py\u001b[0m in \u001b[0;36m<module>\u001b[1;34m\u001b[0m\n\u001b[0;32m      5\u001b[0m \u001b[1;31m# 2번을 선택하면 달러를 입력받아서 몇 원인지 계산해주는 프로그램을 작성\u001b[0m\u001b[1;33m\u001b[0m\u001b[1;33m\u001b[0m\u001b[0m\n\u001b[0;32m      6\u001b[0m \u001b[0mmenu_num\u001b[0m\u001b[1;33m=\u001b[0m\u001b[1;36m0\u001b[0m\u001b[1;33m\u001b[0m\u001b[1;33m\u001b[0m\u001b[0m\n\u001b[1;32m----> 7\u001b[1;33m \u001b[1;32mwhile\u001b[0m \u001b[0mtrue\u001b[0m\u001b[1;33m:\u001b[0m\u001b[1;33m\u001b[0m\u001b[1;33m\u001b[0m\u001b[0m\n\u001b[0m\u001b[0;32m      8\u001b[0m     \u001b[0mmenu_num\u001b[0m \u001b[1;33m=\u001b[0m \u001b[0minput\u001b[0m\u001b[1;33m(\u001b[0m\u001b[1;34m\"원하시는 계산 방법 숫자를 입력해주세요. \\n 1 : 원화 -> 달러 계산 \\n 2 : 달러 -> 원화 계산\\n 3: 프로그램 종료\\n\"\u001b[0m\u001b[1;33m)\u001b[0m\u001b[1;33m\u001b[0m\u001b[1;33m\u001b[0m\u001b[0m\n\u001b[0;32m      9\u001b[0m     \u001b[0mmenu_num\u001b[0m \u001b[1;33m=\u001b[0m \u001b[0mint\u001b[0m\u001b[1;33m(\u001b[0m\u001b[0mmenu_num\u001b[0m\u001b[1;33m)\u001b[0m\u001b[1;33m\u001b[0m\u001b[1;33m\u001b[0m\u001b[0m\n",
      "\u001b[1;31mNameError\u001b[0m: name 'true' is not defined"
     ]
    }
   ],
   "source": [
    "# 연습문제\n",
    "# 현재 환율 : 1 USD =1,306.5 won\n",
    "# 1. 메뉴를 구성한다\n",
    "# 1번을 선택하면 원을 입력받아서 몇달러인지 계산\n",
    "# 2번을 선택하면 달러를 입력받아서 몇 원인지 계산해주는 프로그램을 작성\n",
    "menu_num = input(\"원하시는 계산 방법 숫자를 입력해주세요. \\n 1 : 원화 -> 달러 계산 \\n 2 : 달러 -> 원화 계산\")\n",
    "menu_num = int(menu_num)\n",
    "if menu_num ==1:\n",
    "    money = input(\"바꾸실 원화 금액을 입력해주세요.\")\n",
    "    doller = float(money)/1306.5\n",
    "    print(f\"{doller}USD 입니다.\")\n",
    "else:\n",
    "    money = input(\"바꾸실 달러 금액을 입력해주세요.\")\n",
    "    won = float(money)*1306.5\n",
    "    print(f\"{won}USD 입니다.\")"
   ]
  },
  {
   "cell_type": "code",
   "execution_count": 1,
   "id": "31d36d3f",
   "metadata": {},
   "outputs": [
    {
     "ename": "SyntaxError",
     "evalue": "invalid syntax (Temp/ipykernel_23960/4033320348.py, line 1)",
     "output_type": "error",
     "traceback": [
      "\u001b[1;36m  File \u001b[1;32m\"C:\\Users\\tjtmd\\AppData\\Local\\Temp/ipykernel_23960/4033320348.py\"\u001b[1;36m, line \u001b[1;32m1\u001b[0m\n\u001b[1;33m    jupyter nbconvert --to markdown Python_Basic_01.ipynb\u001b[0m\n\u001b[1;37m            ^\u001b[0m\n\u001b[1;31mSyntaxError\u001b[0m\u001b[1;31m:\u001b[0m invalid syntax\n"
     ]
    }
   ],
   "source": [
    "jupyter nbconvert --to markdown Python_Basic_01.ipynb"
   ]
  },
  {
   "cell_type": "code",
   "execution_count": null,
   "id": "5a28f37b",
   "metadata": {},
   "outputs": [],
   "source": []
  }
 ],
 "metadata": {
  "kernelspec": {
   "display_name": "Python 3 (ipykernel)",
   "language": "python",
   "name": "python3"
  },
  "language_info": {
   "codemirror_mode": {
    "name": "ipython",
    "version": 3
   },
   "file_extension": ".py",
   "mimetype": "text/x-python",
   "name": "python",
   "nbconvert_exporter": "python",
   "pygments_lexer": "ipython3",
   "version": "3.9.7"
  }
 },
 "nbformat": 4,
 "nbformat_minor": 5
}
