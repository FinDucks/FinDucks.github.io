{
 "cells": [
  {
   "cell_type": "code",
   "execution_count": null,
   "id": "ea56bde8",
   "metadata": {},
   "outputs": [],
   "source": [
    "# 파이썬 프로그래밍 언어\n",
    "# 입력 : input\n",
    "# 저장 : 변수\n",
    "# 처리 : 산술연산, 분기, 판별문\n",
    "# 출력 : print"
   ]
  },
  {
   "cell_type": "code",
   "execution_count": null,
   "id": "1490fe3f",
   "metadata": {},
   "outputs": [],
   "source": [
    "# 프로그래밍 언어!\n",
    "# 말하기 : 문제정의를 잘하자, 하고싶은 얘기를 잘 정리하자 \n",
    "# 쓰기 : 문법(파이썬 문법)\n",
    "# 읽기 : 다른 사람의 코드, 문서\n",
    "# 듣기 : 오류 메시지"
   ]
  },
  {
   "cell_type": "code",
   "execution_count": null,
   "id": "1292c36a",
   "metadata": {},
   "outputs": [],
   "source": [
    "# 회원 가입 필수 항목 중 이름을 입력받는다. 단, 입력되지 않은 경우 예외처리한다.\n",
    "name = input(\"이름을 입력하세요 : \")"
   ]
  },
  {
   "cell_type": "code",
   "execution_count": null,
   "id": "ab4d5b5c",
   "metadata": {},
   "outputs": [],
   "source": []
  },
  {
   "cell_type": "code",
   "execution_count": null,
   "id": "c0f38529",
   "metadata": {},
   "outputs": [],
   "source": [
    "# 반복문\n",
    "for ~하는 동안 ~하겠다.\n",
    "while 조건이 참인 동안 ~하겠다."
   ]
  },
  {
   "cell_type": "code",
   "execution_count": null,
   "id": "7a128918",
   "metadata": {},
   "outputs": [],
   "source": [
    "# 바구니 : 자료구조\n",
    "# 리스트, 딕셔너리, 튜플, 셋\n",
    "# range : 범위생성자\n",
    "# range(y) : 0~y미만\n",
    "# range(x,y) : x~y미만\n",
    "# range(x,y,z) : x~y미만까지 z씩 증감\n"
   ]
  },
  {
   "cell_type": "code",
   "execution_count": null,
   "id": "6b205374",
   "metadata": {},
   "outputs": [],
   "source": [
    "for 이름 in 바구니:\n",
    "    실행구문"
   ]
  },
  {
   "cell_type": "code",
   "execution_count": null,
   "id": "899d3da0",
   "metadata": {},
   "outputs": [],
   "source": [
    "for x in range(10):\n",
    "    print(\"hello\")"
   ]
  },
  {
   "cell_type": "code",
   "execution_count": null,
   "id": "d5a0b05d",
   "metadata": {},
   "outputs": [],
   "source": [
    "for _ in range(10):\n",
    "    print(\"hello\")"
   ]
  },
  {
   "cell_type": "code",
   "execution_count": null,
   "id": "f75f7dd9",
   "metadata": {},
   "outputs": [],
   "source": [
    "for k in range(10,1, -1):\n",
    "    print(k)"
   ]
  },
  {
   "cell_type": "code",
   "execution_count": null,
   "id": "9bcbea46",
   "metadata": {},
   "outputs": [],
   "source": [
    "# 1~100까지의 정수 중 홀수만 출력하는 for문을 작성해보세요.\n",
    "for x in range(1,101,2):\n",
    "    print(x)"
   ]
  },
  {
   "cell_type": "code",
   "execution_count": null,
   "id": "145cac5b",
   "metadata": {},
   "outputs": [],
   "source": [
    "for x in range(1,101):\n",
    "    if x % 2 == 1:\n",
    "        print(x)"
   ]
  },
  {
   "cell_type": "code",
   "execution_count": null,
   "id": "2172bdc8",
   "metadata": {},
   "outputs": [],
   "source": [
    "int x;\n",
    "x = 0"
   ]
  },
  {
   "cell_type": "code",
   "execution_count": null,
   "id": "0d49334c",
   "metadata": {},
   "outputs": [],
   "source": [
    "#\n",
    "x = 0 # x라는 변수를 만들고 거기에 0이라는 값을 저장한다.\n",
    "x = 1 # x라는 변수의 값을 1로 변경한다."
   ]
  },
  {
   "cell_type": "code",
   "execution_count": 25,
   "id": "8bbff8a0",
   "metadata": {},
   "outputs": [
    {
     "name": "stdout",
     "output_type": "stream",
     "text": [
      "100\n"
     ]
    }
   ],
   "source": [
    "# 1~100까지의 정수 중 짝수들의 합을 출력하시오.\n",
    "# 단계별로 확인이 필요\n",
    "total = 0\n",
    "for num in range(2,101,2):\n",
    "    total = total + num\n",
    "print(total)"
   ]
  },
  {
   "cell_type": "code",
   "execution_count": null,
   "id": "f8f128cf",
   "metadata": {},
   "outputs": [],
   "source": [
    "if condition:\n",
    "    실행구문\n",
    "    실행구문\n",
    "    실행구문\n",
    "if condition:\n",
    "    print(\"test\")\n",
    "    for x in range(10):\n",
    "        print('ab')"
   ]
  },
  {
   "cell_type": "code",
   "execution_count": null,
   "id": "a365b723",
   "metadata": {},
   "outputs": [],
   "source": [
    "# 들여쓰기\n",
    "# 탭 VS Space\n",
    "# 2칸 : \n",
    "# 4칸 : 현재 보통의 경우\n",
    "# 8칸 : 윈도우 95, 98 때"
   ]
  },
  {
   "cell_type": "code",
   "execution_count": null,
   "id": "a0c8c2de",
   "metadata": {},
   "outputs": [],
   "source": [
    "if (condition) {\n",
    "    if (condition) {\n",
    "    if (condition) {\n",
    "    if (condition) {\n",
    "    if (condition) {\n",
    "        실행구문\n",
    "}}}}}\n"
   ]
  },
  {
   "cell_type": "code",
   "execution_count": 26,
   "id": "ce57e5ee",
   "metadata": {},
   "outputs": [
    {
     "name": "stdout",
     "output_type": "stream",
     "text": [
      "1683\n"
     ]
    }
   ],
   "source": [
    "# 1~100까지의 정수 중 3의 배수들의 합을 출력하시오.\n",
    "total = 0\n",
    "for num in range(3,101,3):\n",
    "    total = total + num\n",
    "print(total)"
   ]
  },
  {
   "cell_type": "code",
   "execution_count": null,
   "id": "50d5348b",
   "metadata": {},
   "outputs": [],
   "source": [
    "# 1~100까지 짝수만 출력하도록 for문을 작성해보시오.\n",
    "for num in range(2,101,2):\n",
    "    print(num)"
   ]
  },
  {
   "cell_type": "code",
   "execution_count": null,
   "id": "3c51bedb",
   "metadata": {},
   "outputs": [],
   "source": [
    "# 1~100까지 짝수만 출력하도록 for문을 작성해보시오.\n",
    "for num in range(1,101):\n",
    "    print(num+1)"
   ]
  },
  {
   "cell_type": "code",
   "execution_count": null,
   "id": "34fc658c",
   "metadata": {},
   "outputs": [],
   "source": [
    "# 1~100까지 짝수만 출력하도록 for문을 작성해보시오.\n",
    "for num in range(1,51):\n",
    "    print(num*1)"
   ]
  },
  {
   "cell_type": "code",
   "execution_count": null,
   "id": "cc6e90ef",
   "metadata": {},
   "outputs": [],
   "source": [
    "while 조건식:\n",
    "    실행구문"
   ]
  },
  {
   "cell_type": "code",
   "execution_count": null,
   "id": "8627a40d",
   "metadata": {},
   "outputs": [],
   "source": [
    "a = 3\n",
    "while a < 7:\n",
    "    print(a)\n",
    "    a = a + 1"
   ]
  },
  {
   "cell_type": "code",
   "execution_count": null,
   "id": "d148798c",
   "metadata": {},
   "outputs": [],
   "source": [
    "# while 문을 사용해서\n",
    "# 1~100까지의 정수들을 순서대로 출력하시오.\n",
    "number = 1\n",
    "while number <= 100:\n",
    "    print(number)\n",
    "    number = number + 1"
   ]
  },
  {
   "cell_type": "code",
   "execution_count": null,
   "id": "c0bb31c8",
   "metadata": {},
   "outputs": [],
   "source": [
    "number = number + 1\n",
    "# 복합할당 연산자\n",
    "number += 1\n",
    "number -= 1\n",
    "number *= 2\n",
    "number /= 2"
   ]
  },
  {
   "cell_type": "code",
   "execution_count": null,
   "id": "5041ddd7",
   "metadata": {},
   "outputs": [],
   "source": [
    "# while문을 이용해서\n",
    "# 입력받은 정수부터 + 100까지의 정수를 순서대로 출력하시오.\n",
    "# 1. 정수를 입력 받는다.\n",
    "number = 10\n",
    "# 2. 형변환 한다.\n",
    "# 3. while문을 작성한다. 조건은 입력받은 정수 + 100보다 작거나 같을 때까지\n",
    "end = number + 100\n",
    "while number <= end:\n",
    "    print(number)\n",
    "    number += 1"
   ]
  },
  {
   "cell_type": "code",
   "execution_count": null,
   "id": "bd95a52a",
   "metadata": {},
   "outputs": [],
   "source": [
    "# 순차\n",
    "# 분기\n",
    "# 반복"
   ]
  },
  {
   "cell_type": "code",
   "execution_count": null,
   "id": "164297ad",
   "metadata": {},
   "outputs": [],
   "source": [
    "number = input(\"정수를 입력하세요 : \")\n",
    "# 2. 형변환 한다.\n",
    "number = int(number)\n",
    "# 3. while문을 작성한다. 조건은 입력받은 정수 + 100보다 작거나 같을 때까지\n",
    "end = number + 100\n",
    "while number <= end:\n",
    "    print(number)\n",
    "    number += 1"
   ]
  },
  {
   "cell_type": "code",
   "execution_count": null,
   "id": "759dedf2",
   "metadata": {},
   "outputs": [],
   "source": [
    "number = \"10\"\n",
    "# 2. 형변환 한다.\n",
    "number = 10\n",
    "# 3. while문을 작성한다. 조건은 입력받은 정수 + 100보다 작거나 같을 때까지\n",
    "end = 10 + 100\n",
    "while number <= end:\n",
    "    print(number)\n",
    "    number += 1"
   ]
  },
  {
   "cell_type": "code",
   "execution_count": null,
   "id": "19922006",
   "metadata": {},
   "outputs": [],
   "source": []
  },
  {
   "cell_type": "code",
   "execution_count": null,
   "id": "08ddfeaa",
   "metadata": {},
   "outputs": [],
   "source": [
    "# 반복문 제어 연산자\n",
    "# continue\n",
    "# break\n",
    "number = 1\n",
    "end = 10\n",
    "while number <= end:\n",
    "    number += 1\n",
    "    if number < 5:\n",
    "        continue\n",
    "    print(number)"
   ]
  },
  {
   "cell_type": "code",
   "execution_count": null,
   "id": "759b1f8e",
   "metadata": {},
   "outputs": [],
   "source": [
    "number = 1\n",
    "end = 10\n",
    "while number <= end:\n",
    "    number += 1\n",
    "    if number < 5:\n",
    "        pass\n",
    "    else:\n",
    "        print(number)"
   ]
  },
  {
   "cell_type": "code",
   "execution_count": null,
   "id": "a8dbaed5",
   "metadata": {},
   "outputs": [],
   "source": [
    "# 주석 설명\n",
    "number = 1\n",
    "end = 10\n",
    "while number <= end:\n",
    "    number += 1\n",
    "    if number >= 5:\n",
    "        print(number)"
   ]
  },
  {
   "cell_type": "code",
   "execution_count": 39,
   "id": "5dd22503",
   "metadata": {},
   "outputs": [
    {
     "name": "stdout",
     "output_type": "stream",
     "text": [
      "hi\n"
     ]
    }
   ],
   "source": [
    "while True:\n",
    "    print(\"hi\")\n",
    "    break"
   ]
  },
  {
   "cell_type": "code",
   "execution_count": null,
   "id": "06e28442",
   "metadata": {},
   "outputs": [],
   "source": [
    "# 노트북\n",
    "# 가성비\n",
    "# 이쁘다\n",
    "# 특수 기능\n",
    "# 확장 가능\n",
    "# 어워드 2020 1st\n"
   ]
  },
  {
   "cell_type": "code",
   "execution_count": null,
   "id": "41da3cc0",
   "metadata": {},
   "outputs": [],
   "source": [
    "# 어제 작성한 원달러 변환 프로그램을\n",
    "# 무제한 실행되도록 만들어봅시다. \n"
   ]
  },
  {
   "cell_type": "code",
   "execution_count": null,
   "id": "25fb9ca1",
   "metadata": {},
   "outputs": [],
   "source": [
    "while True:\n",
    "    print(\"1. 원 -> 달러\")\n",
    "    print(\"2. 달러 -> 원\")\n",
    "    print(\"3. 프로그램 종료\")\n",
    "    menu = input(\"메뉴를 선택하세요 : \")\n",
    "    if menu == \"1\":\n",
    "        won = input(\"원을 입력하세요 : \")\n",
    "        try:\n",
    "            won = float(won)\n",
    "        except:\n",
    "            won = 0\n",
    "            print(\"숫자로 변환이 불가능 합니다.\")\n",
    "        usd = won / 1306.5\n",
    "        print(usd)\n",
    "    elif menu == \"2\":\n",
    "        # 달러 -> 원\n",
    "        usd = input(\"달러를 입력하세요 : \")\n",
    "        try:\n",
    "            usd = float(usd)\n",
    "        except:\n",
    "            usd = 0\n",
    "            print(\"숫자로 변환이 불가능 합니다.\")\n",
    "        won = usd * 1306.5\n",
    "        print(won)\n",
    "    elif menu == \"3\":\n",
    "        break\n",
    "        # exit() 프로그램 종료 명령어\n",
    "    else:\n",
    "        print(\"없는 메뉴입니다.\")"
   ]
  },
  {
   "cell_type": "code",
   "execution_count": null,
   "id": "9863e749",
   "metadata": {},
   "outputs": [],
   "source": [
    "#\n",
    "while True:\n",
    "    try:\n",
    "        weight = input(\"체중을 입력하세요 : \")\n",
    "        weight = float(weight)\n",
    "        break\n",
    "    except:\n",
    "        print(\"변환할 수 없는 값입니다.\")\n",
    "        weight = 0"
   ]
  },
  {
   "cell_type": "code",
   "execution_count": 43,
   "id": "85b03ec6",
   "metadata": {},
   "outputs": [
    {
     "name": "stdout",
     "output_type": "stream",
     "text": [
      "체중을 입력하세요 : asdf\n",
      "변환할 수 없는 값입니다.\n",
      "체중을 입력하세요 : sadf\n",
      "변환할 수 없는 값입니다.\n",
      "체중을 입력하세요 : 234\n"
     ]
    }
   ],
   "source": [
    "while True:\n",
    "    try:\n",
    "        weight = input(\"체중을 입력하세요 : \")\n",
    "        weight = float(weight)\n",
    "    except:\n",
    "        print(\"변환할 수 없는 값입니다.\")\n",
    "        weight = 0    \n",
    "    else:\n",
    "        break"
   ]
  },
  {
   "cell_type": "code",
   "execution_count": null,
   "id": "883dfb66",
   "metadata": {},
   "outputs": [],
   "source": []
  },
  {
   "cell_type": "code",
   "execution_count": 44,
   "id": "3bb80d32",
   "metadata": {
    "scrolled": true
   },
   "outputs": [
    {
     "name": "stdout",
     "output_type": "stream",
     "text": [
      "h\n",
      "e\n",
      "l\n",
      "l\n",
      "o\n"
     ]
    }
   ],
   "source": [
    "for x in \"hello\":\n",
    "\n",
    "    print(x)"
   ]
  },
  {
   "cell_type": "code",
   "execution_count": null,
   "id": "1373e70d",
   "metadata": {},
   "outputs": [],
   "source": [
    "# 데이터 타입\n",
    "# 원시형 : 문자, 숫자(정수,실수), 불(Boolean)\n",
    "\n",
    "# 바구니\n",
    "# 시퀀스-(문자열, 리스트), 딕트, 튜플, 셋\n",
    "\n",
    "# 사용자 정의 타입\n",
    "# 클래스"
   ]
  },
  {
   "cell_type": "code",
   "execution_count": null,
   "id": "ec74a39c",
   "metadata": {},
   "outputs": [],
   "source": [
    "# 모듈과 라이브러리\n",
    "# 프레임워크"
   ]
  },
  {
   "cell_type": "code",
   "execution_count": null,
   "id": "78c4a46d",
   "metadata": {},
   "outputs": [],
   "source": [
    "import random\n",
    "# 외부 모듈을 불러온다. 사용하려고\n",
    "# 1. 파이썬 내장 모듈 (built-in)\n",
    "# 2. 추가 설치한 모듈(소스코드 혹은 pip 명령어 등을 이용해서)\n",
    "# 3. 내가 작성한 모듈(혹은 우리 부서, 회사에서)"
   ]
  },
  {
   "cell_type": "code",
   "execution_count": null,
   "id": "2cc53a8e",
   "metadata": {},
   "outputs": [],
   "source": [
    "import random\n",
    "\n",
    "import pandas as pd\n",
    "import numpas as np\n",
    "from bs4 import BeautifulSoup\n",
    "\n",
    "from .model import *"
   ]
  },
  {
   "cell_type": "code",
   "execution_count": 45,
   "id": "05cdec91",
   "metadata": {},
   "outputs": [],
   "source": [
    "# random이라는 모듈을 통째로 rnd라는 별명을 지정해서 불러오세요.\n",
    "import random as rnd"
   ]
  },
  {
   "cell_type": "code",
   "execution_count": null,
   "id": "4278fad5",
   "metadata": {},
   "outputs": [],
   "source": []
  },
  {
   "cell_type": "code",
   "execution_count": 91,
   "id": "a2ac8270",
   "metadata": {},
   "outputs": [
    {
     "name": "stdout",
     "output_type": "stream",
     "text": [
      "31 5 27 16 44 32\n"
     ]
    }
   ],
   "source": [
    "# 6개 중복없이 뽑기\n",
    "num1 = rnd.randint(1,45)\n",
    "\n",
    "num2 = rnd.randint(1,45)\n",
    "while num1 == num2:\n",
    "    num2 = rnd.randint(1,45)\n",
    "num3 = rnd.randint(1,45)\n",
    "while num1 == num3 or num2 == num3:\n",
    "    num3 = rnd.randint(1,45)\n",
    "    \n",
    "num4 = rnd.randint(1,45)\n",
    "while num1 == num4 or num2 == num4 or num3 == num4:\n",
    "    num4 = rnd.randint(1,45)\n",
    "    \n",
    "num5 = rnd.randint(1,45)\n",
    "while num1 == num5 or num2 == num5 or num3 == num5 or num4 == num5:\n",
    "    num5 = rnd.randint(1,45)\n",
    "\n",
    "num6 = rnd.randint(1,45)\n",
    "while num1 == num6 or num2 == num6 or num3 == num6 or num4 == num6 or num5 == num6:\n",
    "    num6 = rnd.randint(1,45)\n",
    "    \n",
    "print(num1, num2, num3, num4, num5, num6)"
   ]
  },
  {
   "cell_type": "code",
   "execution_count": null,
   "id": "d2969b56",
   "metadata": {},
   "outputs": [],
   "source": [
    "msg = \"1234567890-=+_`~qwertyuiop[]\\asdfghjkl;'zxcvbnm,./'\"\n",
    "for x in msg:\n",
    "    print(x)"
   ]
  },
  {
   "cell_type": "code",
   "execution_count": null,
   "id": "14e886d2",
   "metadata": {},
   "outputs": [],
   "source": [
    "# 자료구조 쉽게 익히기\n",
    "# 만들기\n",
    "# 값 읽기\n",
    "# 값 변경\n",
    "# 값 추가하기\n",
    "# 값 삭제하기"
   ]
  },
  {
   "cell_type": "code",
   "execution_count": null,
   "id": "b85f4445",
   "metadata": {},
   "outputs": [],
   "source": [
    "# 1. 만들기 (list 리스트)\n",
    "# 비어있는 바구니 만들기\n",
    "test = []\n",
    "test = list()\n",
    "# 요소가 있는 바구니 만들기\n",
    "test = [1,2,3,4,5]\n",
    "test = list(range(10))\n",
    "# list comprehension"
   ]
  },
  {
   "cell_type": "code",
   "execution_count": 97,
   "id": "08b82dc9",
   "metadata": {},
   "outputs": [],
   "source": [
    "# fruit이라는 이름을 가진 빈 리스트를 만드시오\n",
    "fruit = []"
   ]
  },
  {
   "cell_type": "code",
   "execution_count": 98,
   "id": "215e40ac",
   "metadata": {},
   "outputs": [
    {
     "data": {
      "text/plain": [
       "list"
      ]
     },
     "execution_count": 98,
     "metadata": {},
     "output_type": "execute_result"
    }
   ],
   "source": [
    "type(fruit)"
   ]
  },
  {
   "cell_type": "code",
   "execution_count": 100,
   "id": "51d59a98",
   "metadata": {},
   "outputs": [],
   "source": [
    "# fruit이라는 이름을 가진 리스트에 각자 좋아하는 과일 3개의 이름을 넣어서 만드시오.\n",
    "fruit = [\"메론\",\"수박\",\"참외\"]"
   ]
  },
  {
   "cell_type": "code",
   "execution_count": 101,
   "id": "c55be86d",
   "metadata": {},
   "outputs": [
    {
     "name": "stdout",
     "output_type": "stream",
     "text": [
      "메론\n",
      "수박\n",
      "참외\n"
     ]
    }
   ],
   "source": [
    "for item in fruit:\n",
    "    print(item)"
   ]
  },
  {
   "cell_type": "code",
   "execution_count": 102,
   "id": "525d9994",
   "metadata": {},
   "outputs": [
    {
     "data": {
      "text/plain": [
       "'수박'"
      ]
     },
     "execution_count": 102,
     "metadata": {},
     "output_type": "execute_result"
    }
   ],
   "source": [
    "# 시퀀스 객체는 순번(index)를 갖는다.\n",
    "fruit[1] # <----- 이것만 단독으로 변수 취급을 할 수 있다."
   ]
  },
  {
   "cell_type": "code",
   "execution_count": 103,
   "id": "6044e3ff",
   "metadata": {},
   "outputs": [],
   "source": [
    "fruit[1] = \"딸기\""
   ]
  },
  {
   "cell_type": "code",
   "execution_count": 104,
   "id": "1beeff69",
   "metadata": {},
   "outputs": [
    {
     "data": {
      "text/plain": [
       "['메론', '딸기', '참외']"
      ]
     },
     "execution_count": 104,
     "metadata": {},
     "output_type": "execute_result"
    }
   ],
   "source": [
    "fruit"
   ]
  },
  {
   "cell_type": "code",
   "execution_count": 105,
   "id": "a2c705f0",
   "metadata": {
    "scrolled": true
   },
   "outputs": [
    {
     "data": {
      "text/plain": [
       "'참외'"
      ]
     },
     "execution_count": 105,
     "metadata": {},
     "output_type": "execute_result"
    }
   ],
   "source": [
    "fruit[-1]"
   ]
  },
  {
   "cell_type": "code",
   "execution_count": 106,
   "id": "5ea71ac3",
   "metadata": {},
   "outputs": [],
   "source": [
    "fruit.insert(100,\"바나나\")"
   ]
  },
  {
   "cell_type": "code",
   "execution_count": 107,
   "id": "3273b9ad",
   "metadata": {},
   "outputs": [],
   "source": [
    "fruit.insert(-1,\"그라비올라\")"
   ]
  },
  {
   "cell_type": "code",
   "execution_count": 108,
   "id": "517a8ebc",
   "metadata": {
    "scrolled": true
   },
   "outputs": [
    {
     "data": {
      "text/plain": [
       "['메론', '딸기', '참외', '그라비올라', '바나나']"
      ]
     },
     "execution_count": 108,
     "metadata": {},
     "output_type": "execute_result"
    }
   ],
   "source": [
    "fruit"
   ]
  },
  {
   "cell_type": "code",
   "execution_count": 109,
   "id": "3bc074cd",
   "metadata": {},
   "outputs": [],
   "source": [
    "fruit.insert(0,\"귤\")"
   ]
  },
  {
   "cell_type": "code",
   "execution_count": 110,
   "id": "035c40ba",
   "metadata": {},
   "outputs": [
    {
     "data": {
      "text/plain": [
       "['귤', '메론', '딸기', '참외', '그라비올라', '바나나']"
      ]
     },
     "execution_count": 110,
     "metadata": {},
     "output_type": "execute_result"
    }
   ],
   "source": [
    "fruit"
   ]
  },
  {
   "cell_type": "code",
   "execution_count": 111,
   "id": "15251be0",
   "metadata": {},
   "outputs": [
    {
     "data": {
      "text/plain": [
       "6"
      ]
     },
     "execution_count": 111,
     "metadata": {},
     "output_type": "execute_result"
    }
   ],
   "source": [
    "len(fruit)"
   ]
  },
  {
   "cell_type": "code",
   "execution_count": 112,
   "id": "aa71be19",
   "metadata": {},
   "outputs": [],
   "source": [
    "fruit.insert(len(fruit),\"망고\")"
   ]
  },
  {
   "cell_type": "code",
   "execution_count": 113,
   "id": "56c9930b",
   "metadata": {},
   "outputs": [
    {
     "data": {
      "text/plain": [
       "['귤', '메론', '딸기', '참외', '그라비올라', '바나나', '망고']"
      ]
     },
     "execution_count": 113,
     "metadata": {},
     "output_type": "execute_result"
    }
   ],
   "source": [
    "fruit"
   ]
  },
  {
   "cell_type": "code",
   "execution_count": 114,
   "id": "9f9dbaa3",
   "metadata": {},
   "outputs": [],
   "source": [
    "fruit.append(\"구아바\")"
   ]
  },
  {
   "cell_type": "code",
   "execution_count": 115,
   "id": "ce7a5587",
   "metadata": {},
   "outputs": [
    {
     "data": {
      "text/plain": [
       "['귤', '메론', '딸기', '참외', '그라비올라', '바나나', '망고', '구아바']"
      ]
     },
     "execution_count": 115,
     "metadata": {},
     "output_type": "execute_result"
    }
   ],
   "source": [
    "fruit"
   ]
  },
  {
   "cell_type": "code",
   "execution_count": 116,
   "id": "6edc4494",
   "metadata": {},
   "outputs": [],
   "source": [
    "fruit.extend([\"1\",\"2\",\"3\"])"
   ]
  },
  {
   "cell_type": "code",
   "execution_count": 117,
   "id": "913d3954",
   "metadata": {},
   "outputs": [
    {
     "data": {
      "text/plain": [
       "['귤', '메론', '딸기', '참외', '그라비올라', '바나나', '망고', '구아바', '1', '2', '3']"
      ]
     },
     "execution_count": 117,
     "metadata": {},
     "output_type": "execute_result"
    }
   ],
   "source": [
    "fruit"
   ]
  },
  {
   "cell_type": "code",
   "execution_count": null,
   "id": "45ac34e6",
   "metadata": {},
   "outputs": [],
   "source": [
    "fruit + [\"test\",\"test2\"]\n",
    "# 값이 튀어나오면 원본은 변경되지 않았다."
   ]
  },
  {
   "cell_type": "code",
   "execution_count": 119,
   "id": "b1e5dca9",
   "metadata": {},
   "outputs": [],
   "source": [
    "# 삭제\n",
    "fruit.remove(\"딸기\")"
   ]
  },
  {
   "cell_type": "code",
   "execution_count": 123,
   "id": "f775b5dd",
   "metadata": {},
   "outputs": [
    {
     "data": {
      "text/plain": [
       "'참외'"
      ]
     },
     "execution_count": 123,
     "metadata": {},
     "output_type": "execute_result"
    }
   ],
   "source": [
    "fruit.pop(2)"
   ]
  },
  {
   "cell_type": "code",
   "execution_count": 124,
   "id": "5e7d72d4",
   "metadata": {},
   "outputs": [
    {
     "data": {
      "text/plain": [
       "['귤', '메론', '그라비올라', '바나나', '망고', '구아바', '1', '2']"
      ]
     },
     "execution_count": 124,
     "metadata": {},
     "output_type": "execute_result"
    }
   ],
   "source": [
    "fruit"
   ]
  },
  {
   "cell_type": "code",
   "execution_count": null,
   "id": "80c3e999",
   "metadata": {},
   "outputs": [],
   "source": [
    "int()\n",
    "str()\n",
    "float()"
   ]
  },
  {
   "cell_type": "code",
   "execution_count": 125,
   "id": "47fed74c",
   "metadata": {},
   "outputs": [],
   "source": [
    "# 로또 번호 뽑기\n",
    "# 1. 1~45까지 원본 공이 있는 통(바구니) 준비하기\n",
    "# 2. 바구니에서 하나씩 랜덤으로 뽑아내기\n",
    "# 3. 총 6개를 뽑기\n",
    "balls = list(range(1,46))"
   ]
  },
  {
   "cell_type": "code",
   "execution_count": 128,
   "id": "b2512340",
   "metadata": {},
   "outputs": [
    {
     "name": "stdout",
     "output_type": "stream",
     "text": [
      "16\n",
      "29\n",
      "35\n",
      "6\n",
      "17\n",
      "12\n"
     ]
    }
   ],
   "source": [
    "for _ in range(6):\n",
    "    index = rnd.randint(0,len(balls)-1) # 0~44 사이의 랜덤한 정수\n",
    "    ball = balls.pop(index)\n",
    "    print(ball)"
   ]
  },
  {
   "cell_type": "code",
   "execution_count": null,
   "id": "8c00cd27",
   "metadata": {},
   "outputs": [],
   "source": []
  }
 ],
 "metadata": {
  "kernelspec": {
   "display_name": "Python 3 (ipykernel)",
   "language": "python",
   "name": "python3"
  },
  "language_info": {
   "codemirror_mode": {
    "name": "ipython",
    "version": 3
   },
   "file_extension": ".py",
   "mimetype": "text/x-python",
   "name": "python",
   "nbconvert_exporter": "python",
   "pygments_lexer": "ipython3",
   "version": "3.9.7"
  }
 },
 "nbformat": 4,
 "nbformat_minor": 5
}
