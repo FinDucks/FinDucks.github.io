{
 "cells": [
  {
   "cell_type": "markdown",
   "id": "b3521199",
   "metadata": {},
   "source": [
    "### MySQL 데이터 타입\n",
    "    - MySQL은 데이터를 저장하기 전에 저장 공간의 데이터 타입을 미리 정함.\n",
    "1. 숫자 데이터\n",
    "    - 정수형: 소수점이 없는 숫자 데이터\n",
    "    | 데이터 타입 |범위 |\n",
    "    |---|:---:|\n",
    "    |TINYINT | -128 ~ 127\n",
    "    SMALLINT |-32,768 ~ 32,767\n",
    "    MEDIUMINT | 약 -838백만 ~ 838백만\n",
    "    __INT | 약 -21억~ +21억__\n",
    "    BIGINT | 약 -900경 ~ +900경||\n",
    "    - 실수형: 소수점이 있는 숫자 데이터\n",
    "       \n",
    "       | 데이터 타입 |범위 |\n",
    "       |---|:---:|\n",
    "        FLOAT | 소수점 아래 7자리까지 표현\n",
    "        __DOUBLE | 소수점 아래 15자리까지 표현__\n",
    "     \n",
    "2. 문자 데이터\n",
    "    - 고정 길이 문자형(정해진 공간을 모두 사용)\n",
    "         | 데이터 타입 |범위 |\n",
    "       |---|:---:|\n",
    "        CHAR(n) | n을 1부터 255까지 지정 가능, 지정 안 할 시 1 자동 입력 고정 길이로 문자열 저장.\n",
    "    - __변동 길이 문자형(필요한 만큼의 공간만 사용__\n",
    "         | 데이터 타입 |범위 |\n",
    "       |---|:---:|\n",
    "       __VARCHAR(n) | n을 1부터 65535까지 지정 가능, 지정 안 할 시 사용 불가 변동 길이로 문자열 저장.__\n",
    "3. 날짜 데이터\n",
    "    - 날짜형\n",
    "         | 데이터 타입 |범위 |\n",
    "       |---|:---:|\n",
    "       DATE | 0000-00-00 ~ 9999-12-31\n",
    "        DATETIME | 0000-00-00 00:00:00 ~ 9999-12-31 23:59:59\n",
    "       TIME | -838:59:59 ~ 838:59:59\n",
    "       YEAR | 1901 ~ 2155\n",
    "4. 그림 데이터\n",
    "5. 영상 데이터\n",
    "* * *\n"
   ]
  },
  {
   "cell_type": "code",
   "execution_count": null,
   "id": "8c8afd07",
   "metadata": {},
   "outputs": [],
   "source": []
  }
 ],
 "metadata": {
  "kernelspec": {
   "display_name": "Python 3 (ipykernel)",
   "language": "python",
   "name": "python3"
  },
  "language_info": {
   "codemirror_mode": {
    "name": "ipython",
    "version": 3
   },
   "file_extension": ".py",
   "mimetype": "text/x-python",
   "name": "python",
   "nbconvert_exporter": "python",
   "pygments_lexer": "ipython3",
   "version": "3.9.7"
  },
  "toc": {
   "base_numbering": 1,
   "nav_menu": {},
   "number_sections": true,
   "sideBar": true,
   "skip_h1_title": false,
   "title_cell": "Table of Contents",
   "title_sidebar": "Contents",
   "toc_cell": false,
   "toc_position": {},
   "toc_section_display": true,
   "toc_window_display": false
  }
 },
 "nbformat": 4,
 "nbformat_minor": 5
}
