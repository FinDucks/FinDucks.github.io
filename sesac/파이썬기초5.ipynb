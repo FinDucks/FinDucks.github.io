{
 "cells": [
  {
   "cell_type": "code",
   "execution_count": null,
   "id": "db8a4191",
   "metadata": {},
   "outputs": [],
   "source": [
    "file = open(파일경로와 파일명)\n",
    "\n",
    "file.read()\n",
    "readline()\n",
    "readlines()\n",
    "\n",
    "file.close()"
   ]
  },
  {
   "cell_type": "code",
   "execution_count": 1,
   "id": "6d2b5b84",
   "metadata": {},
   "outputs": [],
   "source": [
    "text = \"a b c d e\""
   ]
  },
  {
   "cell_type": "code",
   "execution_count": 7,
   "id": "9eeaab00",
   "metadata": {},
   "outputs": [],
   "source": [
    "text1=[]\n",
    "for i in text:\n",
    "    if i != \" \":\n",
    "        text1.append(i)"
   ]
  },
  {
   "cell_type": "code",
   "execution_count": 8,
   "id": "8bc19288",
   "metadata": {},
   "outputs": [
    {
     "data": {
      "text/plain": [
       "['a', 'b', 'c', 'd', 'e']"
      ]
     },
     "execution_count": 8,
     "metadata": {},
     "output_type": "execute_result"
    }
   ],
   "source": [
    "text1"
   ]
  },
  {
   "cell_type": "code",
   "execution_count": 9,
   "id": "dffbd0a4",
   "metadata": {},
   "outputs": [
    {
     "data": {
      "text/plain": [
       "['a', 'b', 'c', 'd', 'e']"
      ]
     },
     "execution_count": 9,
     "metadata": {},
     "output_type": "execute_result"
    }
   ],
   "source": [
    "text.split()"
   ]
  },
  {
   "cell_type": "code",
   "execution_count": 10,
   "id": "20e324bd",
   "metadata": {},
   "outputs": [
    {
     "data": {
      "text/plain": [
       "['a', 'b', 'c', 'd', 'e']"
      ]
     },
     "execution_count": 10,
     "metadata": {},
     "output_type": "execute_result"
    }
   ],
   "source": [
    "text2=\"a,b,c,d,e\"\n",
    "text2.split(sep=',')"
   ]
  },
  {
   "cell_type": "markdown",
   "id": "4241ba55",
   "metadata": {},
   "source": [
    "1. 간단한 메모장을 만들어보시오.\n",
    "- input으로 입력받은 내용을 파일에 기록하고\n",
    "- 입력을 종료하면 파일을 저장한다.\n",
    "- 내용 불러오기 메뉴를 선택하면 기존에 작성했던 메모를 화면에 보여준다."
   ]
  },
  {
   "cell_type": "code",
   "execution_count": 12,
   "id": "660f0de4",
   "metadata": {},
   "outputs": [],
   "source": [
    "# 1. 입출력을 진행할. 메모장을 만들고 종료한다.\n",
    "f=open('memo.txt', 'w')\n",
    "f.close()"
   ]
  },
  {
   "cell_type": "code",
   "execution_count": 48,
   "id": "d549231b",
   "metadata": {},
   "outputs": [
    {
     "ename": "SyntaxError",
     "evalue": "invalid syntax (Temp/ipykernel_5056/2565699963.py, line 8)",
     "output_type": "error",
     "traceback": [
      "\u001b[1;36m  File \u001b[1;32m\"C:\\Users\\tjtmd\\AppData\\Local\\Temp/ipykernel_5056/2565699963.py\"\u001b[1;36m, line \u001b[1;32m8\u001b[0m\n\u001b[1;33m    if text =get_ipython().getoutput('\"\":')\u001b[0m\n\u001b[1;37m            ^\u001b[0m\n\u001b[1;31mSyntaxError\u001b[0m\u001b[1;31m:\u001b[0m invalid syntax\n"
     ]
    }
   ],
   "source": [
    "# 만든 메모장을 실행한다.\n",
    "memo=open('memo.txt', 'a')\n",
    "text=\"test\"\n",
    "while True:\n",
    "# 내용을 입력 받는다\n",
    "    text = input(\"저장할 내용을 입력하시오. \\n (종료하려면 Enter 입력):\")    \n",
    "# 내용을 입력한다.\n",
    "    if text =!\"\":\n",
    "    print(text, file=memo)\n",
    "    \n",
    "    elif text ==\"\":\n",
    "        break\n",
    "memo.close()\n"
   ]
  },
  {
   "cell_type": "code",
   "execution_count": 43,
   "id": "a8ba35dc",
   "metadata": {},
   "outputs": [
    {
     "name": "stdout",
     "output_type": "stream",
     "text": [
      "종료 되었습니다.\n",
      "저장할 내용을 입력하시오. \n",
      " (종료하려면 Enter 입력):a\n"
     ]
    },
    {
     "ename": "ValueError",
     "evalue": "I/O operation on closed file.",
     "output_type": "error",
     "traceback": [
      "\u001b[1;31m---------------------------------------------------------------------------\u001b[0m",
      "\u001b[1;31mValueError\u001b[0m                                Traceback (most recent call last)",
      "\u001b[1;32m~\\AppData\\Local\\Temp/ipykernel_5056/2404544194.py\u001b[0m in \u001b[0;36m<module>\u001b[1;34m\u001b[0m\n\u001b[0;32m     17\u001b[0m \u001b[0mmemo\u001b[0m\u001b[1;33m.\u001b[0m\u001b[0mclose\u001b[0m\u001b[1;33m(\u001b[0m\u001b[1;33m)\u001b[0m\u001b[1;33m\u001b[0m\u001b[1;33m\u001b[0m\u001b[0m\n\u001b[0;32m     18\u001b[0m \u001b[0mprint\u001b[0m\u001b[1;33m(\u001b[0m\u001b[1;34m'종료 되었습니다.'\u001b[0m\u001b[1;33m)\u001b[0m\u001b[1;33m\u001b[0m\u001b[1;33m\u001b[0m\u001b[0m\n\u001b[1;32m---> 19\u001b[1;33m \u001b[0minput_memo\u001b[0m\u001b[1;33m(\u001b[0m\u001b[1;33m)\u001b[0m\u001b[1;33m\u001b[0m\u001b[1;33m\u001b[0m\u001b[0m\n\u001b[0m",
      "\u001b[1;32m~\\AppData\\Local\\Temp/ipykernel_5056/2404544194.py\u001b[0m in \u001b[0;36minput_memo\u001b[1;34m()\u001b[0m\n\u001b[0;32m     10\u001b[0m         \u001b[0mtext\u001b[0m \u001b[1;33m=\u001b[0m \u001b[0minput\u001b[0m\u001b[1;33m(\u001b[0m\u001b[1;34m\"저장할 내용을 입력하시오. \\n (종료하려면 Enter 입력):\"\u001b[0m\u001b[1;33m)\u001b[0m\u001b[1;33m\u001b[0m\u001b[1;33m\u001b[0m\u001b[0m\n\u001b[0;32m     11\u001b[0m     \u001b[1;31m# 내용을 입력한다.\u001b[0m\u001b[1;33m\u001b[0m\u001b[1;33m\u001b[0m\u001b[0m\n\u001b[1;32m---> 12\u001b[1;33m         \u001b[0mprint\u001b[0m\u001b[1;33m(\u001b[0m\u001b[0mtext\u001b[0m\u001b[1;33m,\u001b[0m \u001b[0mfile\u001b[0m\u001b[1;33m=\u001b[0m\u001b[0mmemo\u001b[0m\u001b[1;33m)\u001b[0m\u001b[1;33m\u001b[0m\u001b[1;33m\u001b[0m\u001b[0m\n\u001b[0m\u001b[0;32m     13\u001b[0m         \u001b[1;32mif\u001b[0m \u001b[0mtext\u001b[0m \u001b[1;33m!=\u001b[0m\u001b[1;34m\"\"\u001b[0m\u001b[1;33m:\u001b[0m\u001b[1;33m\u001b[0m\u001b[1;33m\u001b[0m\u001b[0m\n\u001b[0;32m     14\u001b[0m             \u001b[1;32mcontinue\u001b[0m\u001b[1;33m\u001b[0m\u001b[1;33m\u001b[0m\u001b[0m\n",
      "\u001b[1;31mValueError\u001b[0m: I/O operation on closed file."
     ]
    }
   ],
   "source": [
    "# 함수화\n",
    "# 만든 메모장을 실행한다.\n",
    "memo=open('memo.txt', 'w')\n",
    "\n",
    "def input_memo():\n",
    "    \n",
    "    text=\"test\"\n",
    "    while True:\n",
    "    # 내용을 입력 받는다\n",
    "        text = input(\"저장할 내용을 입력하시오. \\n (종료하려면 Enter 입력):\")    \n",
    "    # 내용을 입력한다.\n",
    "        print(text, file=memo)\n",
    "        if text !=\"\":\n",
    "            continue\n",
    "        else:\n",
    "            break\n",
    "memo.close()\n",
    "print('종료 되었습니다.')\n",
    "input_memo()\n"
   ]
  },
  {
   "cell_type": "code",
   "execution_count": 26,
   "id": "6844daaa",
   "metadata": {},
   "outputs": [
    {
     "name": "stdout",
     "output_type": "stream",
     "text": [
      "1.내용입력\n",
      "2.내용 불러오기\n",
      "3.종료\n",
      "1\n",
      "저장할 내용을 입력하시오. \n",
      " (종료하려면 Enter 입력):가\n"
     ]
    }
   ],
   "source": [
    "# 입력할지 불러올지 프로그램 만들기\n",
    "memo=open('memo.txt', 'r')\n",
    "menu = input(\"1.내용입력\\n2.내용 불러오기\\n3.종료\\n\")\n",
    "if menu == '1':\n",
    "    input_memo()\n",
    "elif menu=='2':\n",
    "    memo.read()\n",
    "else:\n",
    "    print(\"종료합니다.\")\n",
    "    memo.close()\n",
    "    "
   ]
  },
  {
   "cell_type": "code",
   "execution_count": 50,
   "id": "b944742e",
   "metadata": {},
   "outputs": [
    {
     "name": "stdout",
     "output_type": "stream",
     "text": [
      "남길 메모 : a\n",
      "남길 메모 : b\n",
      "남길 메모 : c\n",
      "남길 메모 : \n"
     ]
    },
    {
     "data": {
      "text/plain": [
       "<function TextIOWrapper.close()>"
      ]
     },
     "execution_count": 50,
     "metadata": {},
     "output_type": "execute_result"
    }
   ],
   "source": [
    "# 강사님 ver\n",
    "file = open(\"memo.txt\", 'w')\n",
    "\n",
    "while True:\n",
    "    msg = input(\"남길 메모 : \")\n",
    "    print(msg, file=file)\n",
    "    \n",
    "    #if msg=\"\":\n",
    "    if not msg:\n",
    "        break\n",
    "file.close"
   ]
  },
  {
   "cell_type": "markdown",
   "id": "86ab5c61",
   "metadata": {},
   "source": [
    "변수의 값이 True, False 인 경우\n",
    "- 숫자 : 0만 False 나머지는 True\n",
    "- 문자 : ''만 False 나머지는 True\n",
    "- 불 : False , True\n",
    "- 리스트 : []만 False 나머지는 True\n",
    "- 딕셔너리 : {}만 False 나머지는 True\n",
    "\n",
    "\n",
    "ex) 빈 리스트 []는 False이다. 그렇다면 [[]] = True?"
   ]
  },
  {
   "cell_type": "code",
   "execution_count": 52,
   "id": "832c1dcc",
   "metadata": {},
   "outputs": [
    {
     "name": "stdout",
     "output_type": "stream",
     "text": [
      "1. 메모 입력\n",
      "2. 메모 출력\n",
      "3. 메모 종료\n",
      "메뉴선택 :1\n",
      "남길 메모 : a\n",
      "남길 메모 : b\n",
      "남길 메모 : c\n",
      "남길 메모 : \n",
      "1. 메모 입력\n",
      "2. 메모 출력\n",
      "3. 메모 종료\n",
      "메뉴선택 :2\n",
      "a\n",
      "b\n",
      "c\n",
      "\n",
      "\n",
      "1. 메모 입력\n",
      "2. 메모 출력\n",
      "3. 메모 종료\n",
      "메뉴선택 :3\n"
     ]
    }
   ],
   "source": [
    "while True:\n",
    "    print(\"1. 메모 입력\")\n",
    "    print(\"2. 메모 출력\")\n",
    "    print(\"3. 메모 종료\")\n",
    "    menu = input(\"메뉴선택 :\")\n",
    "    if menu =='1':\n",
    "        file = open(\"memo.txt\", 'a', newline='')\n",
    "        while True:\n",
    "            msg = input(\"남길 메모 : \")\n",
    "            print(msg, file=file)\n",
    "            if not msg:\n",
    "                break\n",
    "        file.close()\n",
    "    elif menu =='2':\n",
    "        file = open(\"memo.txt\", 'r')\n",
    "        print(file.read())\n",
    "        file.close()\n",
    "    elif menu=='3':\n",
    "        break"
   ]
  },
  {
   "cell_type": "markdown",
   "id": "55d6eec4",
   "metadata": {},
   "source": [
    "2. 로또번호 생성기를 만들어보시오.\n",
    "- 생성된 번호를 텍스트 파일에 저장하시오.\n",
    "- 번호 불러오기 메뉴를 선택하면 기존에 저장된 번호를 화면에 보여준다."
   ]
  },
  {
   "cell_type": "code",
   "execution_count": 138,
   "id": "6aadc2c6",
   "metadata": {},
   "outputs": [],
   "source": [
    "# 로또 번호 생성기 만들기\n",
    "import random as rd\n",
    "def lotto():\n",
    "    \n",
    "    lottolist=list(range(1,46))\n",
    "    rd.shuffle(lottolist)\n",
    "    mylotto=[]\n",
    "    for _ in range(6):\n",
    "        mylotto.append(lottolist.pop())\n",
    "        # 정렬하기\n",
    "    mylotto.sort()\n",
    "    return mylotto    \n"
   ]
  },
  {
   "cell_type": "code",
   "execution_count": 139,
   "id": "364a17b7",
   "metadata": {},
   "outputs": [],
   "source": [
    "def lo_str():\n",
    "    # 로또 번호 리스트 -> 텍스트 타입으로 변경\n",
    "    numberlist=lotto()\n",
    "    numberstr= str(numberlist)\n",
    "    type(numberstr)\n",
    "    # 앞 뒤 괄호 자르기\n",
    "    numberstr= numberstr[1:-1]\n",
    "    #numberstr\n",
    "    # ',' 없애기\n",
    "    numberstr = numberstr.replace(',', '')\n",
    "    numberstr\n",
    "    return numberstr\n",
    "\n"
   ]
  },
  {
   "cell_type": "code",
   "execution_count": 140,
   "id": "2c6631e8",
   "metadata": {},
   "outputs": [],
   "source": [
    "def lo_save(numberstr):\n",
    "    \n",
    "    #파일 생성\n",
    "    file=open('lotto.txt', 'a')\n",
    "    #로또번호 저장\n",
    "    print(numberstr, file=file)\n",
    "    # 파일저장\n",
    "    file.close()\n"
   ]
  },
  {
   "cell_type": "code",
   "execution_count": 141,
   "id": "c3ddea98",
   "metadata": {},
   "outputs": [],
   "source": [
    "def lo_read():\n",
    "    # 불러오기 \n",
    "    file =open('lotto.txt', 'r')\n",
    "    k=file.read()\n",
    "    file.close()\n",
    "    return k\n",
    "    "
   ]
  },
  {
   "cell_type": "code",
   "execution_count": 144,
   "id": "91d3b39a",
   "metadata": {},
   "outputs": [
    {
     "name": "stdout",
     "output_type": "stream",
     "text": [
      "1. 로또번호 생성 및 저장 \n",
      " 2. 생성된 로또번호 확인\n",
      "2\n",
      "['29', ' 20', ' 3', ' 13', ' 22', ' 36']\n",
      "16, 8, 13, 4, 2, 24\n",
      "29, 42, 16, 33, 34, 18\n",
      "on\n",
      "on\n",
      "on\n",
      "5 6 11 27 34 43\n",
      "2 8 16 26 35 40\n",
      "\n"
     ]
    }
   ],
   "source": [
    "menu = input(\"1. 로또번호 생성 및 저장 \\n 2. 생성된 로또번호 확인\\n\")\n",
    "if menu== '1':\n",
    "    numberstr=lo_str()\n",
    "    lo_save(numberstr)\n",
    "    print('저장되었고 종료합니다.')\n",
    "elif menu=='2':\n",
    "    lottotxt = lo_read()\n",
    "    print(lottotxt)\n",
    "else:\n",
    "    print('종료합니다')\n",
    "    "
   ]
  },
  {
   "cell_type": "markdown",
   "id": "205513e7",
   "metadata": {},
   "source": [
    "### 정규 표현식"
   ]
  },
  {
   "cell_type": "markdown",
   "id": "1e525879",
   "metadata": {},
   "source": [
    "1. re 모듈을 임포트한다.\n",
    "2. 정규표현식 패턴을 작성한다.\n",
    "3. 패턴을 컴파일한다.\n",
    "4. 컴파일된 패턴을 이요해 맞는 문자열을 찾는다."
   ]
  },
  {
   "cell_type": "code",
   "execution_count": 154,
   "id": "c027d8f3",
   "metadata": {},
   "outputs": [],
   "source": [
    "import re"
   ]
  },
  {
   "cell_type": "code",
   "execution_count": 155,
   "id": "55c91a13",
   "metadata": {},
   "outputs": [],
   "source": [
    "# 특정 패턴 컴퓨터에게 알려주기\n",
    "pattern = \"python\"\n",
    "p = re.compile(pattern)"
   ]
  },
  {
   "cell_type": "code",
   "execution_count": 159,
   "id": "b5793dc7",
   "metadata": {},
   "outputs": [
    {
     "data": {
      "text/plain": [
       "<re.Match object; span=(0, 6), match='python'>"
      ]
     },
     "execution_count": 159,
     "metadata": {},
     "output_type": "execute_result"
    }
   ],
   "source": [
    "# 찾은 것으로 무엇을 할것인가? \n",
    "p.match('python') "
   ]
  },
  {
   "cell_type": "code",
   "execution_count": 160,
   "id": "44ca49f4",
   "metadata": {},
   "outputs": [
    {
     "data": {
      "text/plain": [
       "<re.Match object; span=(0, 6), match='python'>"
      ]
     },
     "execution_count": 160,
     "metadata": {},
     "output_type": "execute_result"
    }
   ],
   "source": [
    "p.match('python saoidfjosadijfioj adfdasf')"
   ]
  },
  {
   "cell_type": "code",
   "execution_count": 161,
   "id": "77337497",
   "metadata": {},
   "outputs": [
    {
     "data": {
      "text/plain": [
       "<re.Match object; span=(0, 6), match='python'>"
      ]
     },
     "execution_count": 161,
     "metadata": {},
     "output_type": "execute_result"
    }
   ],
   "source": [
    "p.search('python saoidfjosadijfioj adfdasf')"
   ]
  },
  {
   "cell_type": "code",
   "execution_count": 167,
   "id": "de41beeb",
   "metadata": {},
   "outputs": [],
   "source": [
    "# match는 초반에 있는지 확인해줌. 활용도 ↓\n",
    "p.match('saoidfjosa python dijfioj adfdasf')"
   ]
  },
  {
   "cell_type": "code",
   "execution_count": 165,
   "id": "3d3169be",
   "metadata": {},
   "outputs": [
    {
     "data": {
      "text/plain": [
       "<re.Match object; span=(9, 15), match='python'>"
      ]
     },
     "execution_count": 165,
     "metadata": {},
     "output_type": "execute_result"
    }
   ],
   "source": [
    "# 위치에 상관없이 포함여부 확인\n",
    "p.search('saoidfj  python osadijfioj adfdasf')"
   ]
  },
  {
   "cell_type": "code",
   "execution_count": 168,
   "id": "a139deb0",
   "metadata": {},
   "outputs": [
    {
     "data": {
      "text/plain": [
       "['python']"
      ]
     },
     "execution_count": 168,
     "metadata": {},
     "output_type": "execute_result"
    }
   ],
   "source": [
    "p.findall('saoidfj  python osadijfioj adfdasf')"
   ]
  },
  {
   "cell_type": "code",
   "execution_count": null,
   "id": "6aeccc21",
   "metadata": {},
   "outputs": [],
   "source": []
  },
  {
   "cell_type": "markdown",
   "id": "2cb5d5c3",
   "metadata": {},
   "source": [
    "- 패턴 작성하는 법\n",
    "1. 그냥 글자는 글자 취급\n",
    "2. 메타 문자는 특수 취급"
   ]
  },
  {
   "cell_type": "code",
   "execution_count": 177,
   "id": "ad0b3e57",
   "metadata": {},
   "outputs": [],
   "source": [
    "# 특정 패턴 컴퓨터에게 알려주기\n",
    "pattern = \"\\d*\"\n",
    "p = re.compile(pattern)"
   ]
  },
  {
   "cell_type": "markdown",
   "id": "86b8bea6",
   "metadata": {},
   "source": [
    "#### 메타문자\n",
    "- \\ : 뒤에 있는 글자의 특수 기능을 발동시킨다.\n",
    "- \\d : 숫자 하나!\n",
    "- \\w : 일반 문자(숫자, 글자)\n",
    "- \\s : 공백문자\n",
    "- *: 글자가 0번 이상 반복 (없을 수도 있다.)\n",
    "- +: 글자가 1번 이상 반복\n",
    "- \\D, \\W, \\S 같이 대문자로 작성시 해당 문자가 아닌 것을 찾음\n",
    "- [?] : 문자들의 그룹, 집합\n",
    "- ,: 을 이용하여 or로 사용할 수 있음.\n",
    "- .: 엔터를 제외한 모든 문자중 하나 \n",
    "\n",
    "#### ex) \n",
    "- [송김박] : 송이나 김이나 박을 찾아주세요\n",
    "- [0-9] : 0~9 사이의 숫자에 포함되는 숫자들을 찾아주세요\n",
    "- [^0-9] : 0~9 사이의 숫자가 아닌 것들을 찾아주세요\n",
    "- [a-z] : 소문자 찾기\n",
    "- "
   ]
  },
  {
   "cell_type": "code",
   "execution_count": 178,
   "id": "0226afff",
   "metadata": {},
   "outputs": [
    {
     "data": {
      "text/plain": [
       "<re.Match object; span=(0, 0), match=''>"
      ]
     },
     "execution_count": 178,
     "metadata": {},
     "output_type": "execute_result"
    }
   ],
   "source": [
    "p.search('saoidfj 15111951 python osadijfioj adfdasf')"
   ]
  },
  {
   "cell_type": "markdown",
   "id": "49707d54",
   "metadata": {},
   "source": [
    "0,0 맨첫번째 위치에 '' 아무것도 없는 것을 찾았다."
   ]
  },
  {
   "cell_type": "code",
   "execution_count": 181,
   "id": "8c2fe0f3",
   "metadata": {},
   "outputs": [
    {
     "data": {
      "text/plain": [
       "<re.Match object; span=(8, 17), match='p15111951'>"
      ]
     },
     "execution_count": 181,
     "metadata": {},
     "output_type": "execute_result"
    }
   ],
   "source": [
    "pattern = \"p\\d*\"\n",
    "p = re.compile(pattern)\n",
    "p.search('saoidfj p15111951 python osadijfioj adfdasf')"
   ]
  },
  {
   "cell_type": "code",
   "execution_count": 179,
   "id": "c7815918",
   "metadata": {},
   "outputs": [],
   "source": [
    "pattern = \"\\d+\"\n",
    "p = re.compile(pattern)"
   ]
  },
  {
   "cell_type": "code",
   "execution_count": 180,
   "id": "ff9a8c93",
   "metadata": {},
   "outputs": [
    {
     "data": {
      "text/plain": [
       "<re.Match object; span=(8, 14), match='151951'>"
      ]
     },
     "execution_count": 180,
     "metadata": {},
     "output_type": "execute_result"
    }
   ],
   "source": [
    "p.search('saoidfj 151951 python osadijfioj adfdasf')"
   ]
  },
  {
   "cell_type": "code",
   "execution_count": 183,
   "id": "92892c86",
   "metadata": {},
   "outputs": [
    {
     "data": {
      "text/plain": [
       "<re.Match object; span=(8, 17), match='-15111951'>"
      ]
     },
     "execution_count": 183,
     "metadata": {},
     "output_type": "execute_result"
    }
   ],
   "source": [
    "# 숫자 찾는 법\n",
    "# - 찾는 법\n",
    "pattern = \"[0-9-]+\"\n",
    "p = re.compile(pattern)\n",
    "p.search('saoidfj -15111951 python osadijfioj adfdasf')"
   ]
  },
  {
   "cell_type": "code",
   "execution_count": 184,
   "id": "9c643269",
   "metadata": {},
   "outputs": [
    {
     "data": {
      "text/plain": [
       "<re.Match object; span=(8, 12), match='-151'>"
      ]
     },
     "execution_count": 184,
     "metadata": {},
     "output_type": "execute_result"
    }
   ],
   "source": [
    "# 숫자 찾는 법\n",
    "# - 찾는 법\n",
    "# 갯수 제한\n",
    "pattern = \"[0-9-]{4}\"\n",
    "p = re.compile(pattern)\n",
    "p.search('saoidfj -15111951 python osadijfioj adfdasf')"
   ]
  },
  {
   "cell_type": "markdown",
   "id": "5126a252",
   "metadata": {},
   "source": [
    "- 주민번호찾기!\n"
   ]
  },
  {
   "cell_type": "code",
   "execution_count": 185,
   "id": "efc5bf1d",
   "metadata": {},
   "outputs": [
    {
     "data": {
      "text/plain": [
       "<re.Match object; span=(8, 22), match='801010-1045365'>"
      ]
     },
     "execution_count": 185,
     "metadata": {},
     "output_type": "execute_result"
    }
   ],
   "source": [
    "pattern = \"[0-9-]{14}\"\n",
    "p = re.compile(pattern)\n",
    "p.search('saoidfj 801010-1045365 -15111951 python osadijfioj adfdasf')"
   ]
  },
  {
   "cell_type": "code",
   "execution_count": 186,
   "id": "34f154d5",
   "metadata": {},
   "outputs": [
    {
     "data": {
      "text/plain": [
       "<re.Match object; span=(8, 22), match='801010-1045365'>"
      ]
     },
     "execution_count": 186,
     "metadata": {},
     "output_type": "execute_result"
    }
   ],
   "source": [
    "pattern = \"\\d{6}-\\d{7}\"\n",
    "p = re.compile(pattern)\n",
    "p.search('saoidfj 801010-1045365 -15111951 python osadijfioj adfdasf')"
   ]
  },
  {
   "cell_type": "markdown",
   "id": "e492549f",
   "metadata": {},
   "source": [
    "- 전화번호찾기"
   ]
  },
  {
   "cell_type": "code",
   "execution_count": 187,
   "id": "47072294",
   "metadata": {},
   "outputs": [
    {
     "data": {
      "text/plain": [
       "<re.Match object; span=(40, 53), match='010-1234-1234'>"
      ]
     },
     "execution_count": 187,
     "metadata": {},
     "output_type": "execute_result"
    }
   ],
   "source": [
    "pattern = \"\\d{3}-\\d{4}-\\d{4}\"\n",
    "p = re.compile(pattern)\n",
    "p.search('saoidfj 801010-1045365 -15111951 python 010-1234-1234 02-123-1591 osadijfioj adfdasf')"
   ]
  },
  {
   "cell_type": "code",
   "execution_count": 188,
   "id": "53a244bd",
   "metadata": {},
   "outputs": [
    {
     "data": {
      "text/plain": [
       "<re.Match object; span=(54, 65), match='02-123-1591'>"
      ]
     },
     "execution_count": 188,
     "metadata": {},
     "output_type": "execute_result"
    }
   ],
   "source": [
    "pattern = \"\\d{2}-\\d{3}-\\d{4}\"\n",
    "p = re.compile(pattern)\n",
    "p.search('saoidfj 801010-1045365 -15111951 python 010-1234-1234 02-123-1591 osadijfioj adfdasf')"
   ]
  },
  {
   "cell_type": "code",
   "execution_count": 201,
   "id": "222e58c1",
   "metadata": {
    "scrolled": true
   },
   "outputs": [],
   "source": [
    "pattern = \"(\\d{2}-\\d{3,4}-\\d{4}).+(\\d{6}-\\d{7})\"\n",
    "p = re.compile(pattern)\n",
    "result =p.search('  02-123-1591 saoidfj 801010-1045365 -15111951 python 010-1234-1234 02-123-1591 osadijfioj adfdasf')"
   ]
  },
  {
   "cell_type": "code",
   "execution_count": 202,
   "id": "b025694c",
   "metadata": {},
   "outputs": [
    {
     "data": {
      "text/plain": [
       "<re.Match object; span=(2, 36), match='02-123-1591 saoidfj 801010-1045365'>"
      ]
     },
     "execution_count": 202,
     "metadata": {},
     "output_type": "execute_result"
    }
   ],
   "source": [
    "result"
   ]
  },
  {
   "cell_type": "code",
   "execution_count": 203,
   "id": "7b863724",
   "metadata": {},
   "outputs": [
    {
     "name": "stdout",
     "output_type": "stream",
     "text": [
      "02-123-1591 saoidfj 801010-1045365 \n",
      " ('02-123-1591', '801010-1045365') \n",
      " (2, 36) \n",
      " 2 \n",
      " 36\n"
     ]
    }
   ],
   "source": [
    "print(\n",
    "    result.group(),'\\n', # 큰 패턴에서 찾아낸 글자만 뽑기\n",
    "    result.groups(),'\\n', # 작은 패턴에서 찾아낸 글자만 뽑기\n",
    "    result.span(), '\\n', # 찾아낸 글자의 시작 끝 위치 쌍\n",
    "    result.start(),'\\n', # 찾아낸 글자의 시작 위치\n",
    "    result.end()         # 찾아낸 글자의 끝 위치\n",
    "    \n",
    ")"
   ]
  },
  {
   "cell_type": "markdown",
   "id": "a0282099",
   "metadata": {},
   "source": [
    "- \n",
    "한명씩\n",
    "1. 이름\n",
    "2. 성별\n",
    "3. 생년월일 (xx-xx-xx)\n",
    "를 입력받아 \n",
    "리스트에 저장하고\n",
    "파일에 저장하시오.\n",
    "\n",
    "불러오기 메뉴를 실행하면\n",
    "각 사람의 이름과 생년월일을 출력하시오\n",
    "- 단 'xxx님의 생년월일은 xx년 xx월 xx일입니다.'라고 출력하시오."
   ]
  },
  {
   "cell_type": "code",
   "execution_count": null,
   "id": "cc366261",
   "metadata": {},
   "outputs": [],
   "source": [
    "info_file = open(\"person.txt\", 'a')\n",
    "while True:\n",
    "    name = input(\"name:\")\n",
    "    gender = input(\"sex:\")\n",
    "    birth=input(\"birth:\")\n",
    "    if not name:\n",
    "        break\n",
    "    person = [name, gender, birth]\n",
    "    print(person, file=info_file)\n",
    "info_file.close()"
   ]
  },
  {
   "cell_type": "code",
   "execution_count": 204,
   "id": "95238531",
   "metadata": {},
   "outputs": [
    {
     "name": "stdout",
     "output_type": "stream",
     "text": [
      "Collecting sklearn\n",
      "  Downloading sklearn-0.0.tar.gz (1.1 kB)\n",
      "Requirement already satisfied: scikit-learn in c:\\users\\tjtmd\\anaconda3\\lib\\site-packages (from sklearn) (0.24.2)\n",
      "Requirement already satisfied: joblib>=0.11 in c:\\users\\tjtmd\\anaconda3\\lib\\site-packages (from scikit-learn->sklearn) (1.1.0)\n",
      "Requirement already satisfied: scipy>=0.19.1 in c:\\users\\tjtmd\\anaconda3\\lib\\site-packages (from scikit-learn->sklearn) (1.7.1)\n",
      "Requirement already satisfied: threadpoolctl>=2.0.0 in c:\\users\\tjtmd\\anaconda3\\lib\\site-packages (from scikit-learn->sklearn) (2.2.0)\n",
      "Requirement already satisfied: numpy>=1.13.3 in c:\\users\\tjtmd\\anaconda3\\lib\\site-packages (from scikit-learn->sklearn) (1.20.3)\n",
      "Building wheels for collected packages: sklearn\n",
      "  Building wheel for sklearn (setup.py): started\n",
      "  Building wheel for sklearn (setup.py): finished with status 'done'\n",
      "  Created wheel for sklearn: filename=sklearn-0.0-py2.py3-none-any.whl size=1309 sha256=7b69c702f5c276160199239abfdf8c2fac20c4a0b54d03e14a4dd6d3b69f9064\n",
      "  Stored in directory: c:\\users\\tjtmd\\appdata\\local\\pip\\cache\\wheels\\e4\\7b\\98\\b6466d71b8d738a0c547008b9eb39bf8676d1ff6ca4b22af1c\n",
      "Successfully built sklearn\n",
      "Installing collected packages: sklearn\n",
      "Successfully installed sklearn-0.0\n"
     ]
    }
   ],
   "source": [
    "!pip3 install sklearn"
   ]
  },
  {
   "cell_type": "code",
   "execution_count": 205,
   "id": "d0a5759a",
   "metadata": {},
   "outputs": [],
   "source": [
    "# LabelEncoder 라는 건물의 설계도를 불러왔다.\n",
    "from sklearn.preprocessing import LabelEncoder"
   ]
  },
  {
   "cell_type": "code",
   "execution_count": 206,
   "id": "be5afc3a",
   "metadata": {},
   "outputs": [],
   "source": [
    "# LabelEncoder() < ---- 건물을 건설하겠다.\n",
    "encoder= LabelEncoder()"
   ]
  },
  {
   "cell_type": "markdown",
   "id": "7009134e",
   "metadata": {},
   "source": [
    "- LabelEncoder클래스의 인스턴스\n",
    "- 인스턴스를 하나 만드세요 -> 클래스르 가지고 변수를 하나 만들어라\n"
   ]
  },
  {
   "cell_type": "code",
   "execution_count": null,
   "id": "63071353",
   "metadata": {},
   "outputs": [],
   "source": [
    "encoder <----- 건물.기능"
   ]
  },
  {
   "cell_type": "markdown",
   "id": "71375ac0",
   "metadata": {},
   "source": [
    "- 클래스는 건물의 설계도와 같다.\n",
    "- 건물에 있는 기능을 사용하려면, 설계도를 가지고 건물을 지어야한다."
   ]
  },
  {
   "cell_type": "markdown",
   "id": "43c3d50b",
   "metadata": {},
   "source": [
    "#### 변수 표기법\n",
    "- MyNameIs : 파스칼 - 클래스이름\n",
    "- myNameis : 카멜 - 함수 이름\n",
    "- my_name_is : 스네이크 - 변수이름"
   ]
  },
  {
   "cell_type": "markdown",
   "id": "41cbfcaf",
   "metadata": {},
   "source": []
  }
 ],
 "metadata": {
  "kernelspec": {
   "display_name": "Python 3 (ipykernel)",
   "language": "python",
   "name": "python3"
  },
  "language_info": {
   "codemirror_mode": {
    "name": "ipython",
    "version": 3
   },
   "file_extension": ".py",
   "mimetype": "text/x-python",
   "name": "python",
   "nbconvert_exporter": "python",
   "pygments_lexer": "ipython3",
   "version": "3.9.7"
  }
 },
 "nbformat": 4,
 "nbformat_minor": 5
}
