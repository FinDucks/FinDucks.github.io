{
 "cells": [
  {
   "cell_type": "code",
   "execution_count": 1,
   "id": "b29debb8",
   "metadata": {
    "ExecuteTime": {
     "end_time": "2022-09-28T05:32:57.834171Z",
     "start_time": "2022-09-28T05:32:57.571854Z"
    }
   },
   "outputs": [],
   "source": [
    "import numpy as np\n"
   ]
  },
  {
   "cell_type": "code",
   "execution_count": 2,
   "id": "1820829b",
   "metadata": {
    "ExecuteTime": {
     "end_time": "2022-09-28T05:35:17.856552Z",
     "start_time": "2022-09-28T05:35:17.840854Z"
    }
   },
   "outputs": [],
   "source": [
    "A= np.array([\n",
    "            [0,1,-1],\n",
    "            [1,2,3],\n",
    "            [2,1,0],\n",
    "            [-1,2,-4]\n",
    "            ])"
   ]
  },
  {
   "cell_type": "code",
   "execution_count": 8,
   "id": "c8e0b7e0",
   "metadata": {
    "ExecuteTime": {
     "end_time": "2022-09-28T05:37:57.593858Z",
     "start_time": "2022-09-28T05:37:57.582907Z"
    }
   },
   "outputs": [
    {
     "data": {
      "text/plain": [
       "2"
      ]
     },
     "execution_count": 8,
     "metadata": {},
     "output_type": "execute_result"
    }
   ],
   "source": [
    "A[1][1]"
   ]
  },
  {
   "cell_type": "code",
   "execution_count": 9,
   "id": "30cded28",
   "metadata": {
    "ExecuteTime": {
     "end_time": "2022-09-28T05:38:43.718316Z",
     "start_time": "2022-09-28T05:38:43.712336Z"
    }
   },
   "outputs": [],
   "source": [
    "A=np.array([\n",
    "    [3, 1],\n",
    "    [2, 3]\n",
    "])"
   ]
  },
  {
   "cell_type": "code",
   "execution_count": 10,
   "id": "2e7ee848",
   "metadata": {
    "ExecuteTime": {
     "end_time": "2022-09-28T05:38:50.562726Z",
     "start_time": "2022-09-28T05:38:50.553251Z"
    }
   },
   "outputs": [
    {
     "data": {
      "text/plain": [
       "array([[15,  5],\n",
       "       [10, 15]])"
      ]
     },
     "execution_count": 10,
     "metadata": {},
     "output_type": "execute_result"
    }
   ],
   "source": [
    "5*A"
   ]
  },
  {
   "cell_type": "code",
   "execution_count": 12,
   "id": "80d2ce0f",
   "metadata": {
    "ExecuteTime": {
     "end_time": "2022-09-28T05:40:12.291017Z",
     "start_time": "2022-09-28T05:40:12.281050Z"
    }
   },
   "outputs": [],
   "source": [
    "A=np.array([\n",
    "    [1,3,1],\n",
    "    [2,2,1]\n",
    "])\n",
    "B=np.array([\n",
    "    [5,6],\n",
    "    [4,2],\n",
    "    [3,1]\n",
    "])"
   ]
  },
  {
   "cell_type": "code",
   "execution_count": 17,
   "id": "5d7cb80d",
   "metadata": {
    "ExecuteTime": {
     "end_time": "2022-09-28T05:41:49.403880Z",
     "start_time": "2022-09-28T05:41:49.397899Z"
    }
   },
   "outputs": [
    {
     "data": {
      "text/plain": [
       "((2, 3), (3, 2))"
      ]
     },
     "execution_count": 17,
     "metadata": {},
     "output_type": "execute_result"
    }
   ],
   "source": [
    "A.shape, B.shape"
   ]
  },
  {
   "cell_type": "code",
   "execution_count": 16,
   "id": "b7125d32",
   "metadata": {
    "ExecuteTime": {
     "end_time": "2022-09-28T05:41:36.252290Z",
     "start_time": "2022-09-28T05:41:36.235347Z"
    }
   },
   "outputs": [
    {
     "data": {
      "text/plain": [
       "array([[20, 13],\n",
       "       [21, 17]])"
      ]
     },
     "execution_count": 16,
     "metadata": {},
     "output_type": "execute_result"
    }
   ],
   "source": [
    "A@B"
   ]
  },
  {
   "cell_type": "code",
   "execution_count": 23,
   "id": "7bb5f6b1",
   "metadata": {
    "ExecuteTime": {
     "end_time": "2022-09-28T06:16:39.184404Z",
     "start_time": "2022-09-28T06:16:39.175929Z"
    }
   },
   "outputs": [],
   "source": [
    "A=np.array([\n",
    "    [1,-1,2],\n",
    "    [3,2,2] \n",
    "])\n",
    "B=np.array([\n",
    "    [0,1],\n",
    "    [-1,1],\n",
    "    [5,2]\n",
    "])\n",
    "C=np.array([\n",
    "    [2,-1],\n",
    "    [-3,3]\n",
    "])\n",
    "D=np.array([\n",
    "    [-5,1],\n",
    "    [2,0]\n",
    "])"
   ]
  },
  {
   "cell_type": "code",
   "execution_count": 24,
   "id": "d3f244c1",
   "metadata": {
    "ExecuteTime": {
     "end_time": "2022-09-28T06:16:39.989836Z",
     "start_time": "2022-09-28T06:16:39.969565Z"
    }
   },
   "outputs": [
    {
     "data": {
      "text/plain": [
       "array([[  34,  -28],\n",
       "       [ 110, -130]])"
      ]
     },
     "execution_count": 24,
     "metadata": {},
     "output_type": "execute_result"
    }
   ],
   "source": [
    "2*A@-B@(3*C+D)"
   ]
  },
  {
   "cell_type": "code",
   "execution_count": 25,
   "id": "5ef80c98",
   "metadata": {
    "ExecuteTime": {
     "end_time": "2022-09-28T06:16:41.217719Z",
     "start_time": "2022-09-28T06:16:41.208234Z"
    }
   },
   "outputs": [
    {
     "data": {
      "text/plain": [
       "array([[  34,  -28],\n",
       "       [ 110, -130]])"
      ]
     },
     "execution_count": 25,
     "metadata": {},
     "output_type": "execute_result"
    }
   ],
   "source": [
    "2*A@(-B)@(3*C+D)"
   ]
  },
  {
   "cell_type": "code",
   "execution_count": null,
   "id": "653ee858",
   "metadata": {},
   "outputs": [],
   "source": []
  }
 ],
 "metadata": {
  "kernelspec": {
   "display_name": "Python 3 (ipykernel)",
   "language": "python",
   "name": "python3"
  },
  "language_info": {
   "codemirror_mode": {
    "name": "ipython",
    "version": 3
   },
   "file_extension": ".py",
   "mimetype": "text/x-python",
   "name": "python",
   "nbconvert_exporter": "python",
   "pygments_lexer": "ipython3",
   "version": "3.9.7"
  },
  "toc": {
   "base_numbering": 1,
   "nav_menu": {},
   "number_sections": true,
   "sideBar": true,
   "skip_h1_title": false,
   "title_cell": "Table of Contents",
   "title_sidebar": "Contents",
   "toc_cell": false,
   "toc_position": {},
   "toc_section_display": true,
   "toc_window_display": false
  }
 },
 "nbformat": 4,
 "nbformat_minor": 5
}
