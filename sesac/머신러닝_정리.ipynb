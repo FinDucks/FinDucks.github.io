{
 "cells": [
  {
   "cell_type": "markdown",
   "id": "65ce3340",
   "metadata": {},
   "source": [
    "# K-최근접 이웃 알고리즘\n",
    "- 어떤 데이터에 대한 답을 구할 때 주위의 다른 데이터를 보고 다수를 차지하는 것을 정답으로 사용.\n",
    "- 사이킷런에서 불러오기 가능.\n",
    "- k-최근접 이웃 알고리즘은 새로운 데이터에 대해 예측할 때는 가장 가까운 직선거리에 어떤 데이터가 있는지를 통해 예측을 진행하기 때문에, 데이터를 확보가 준비의 전부.\n",
    "- 위와 같은 특징 때문에 데이터가 아주 많은 경우 사용하기 어려운 단점이 있음.\n",
    "- 기본값은 가장 가까운 5개의 데이터를 참고함.\n",
    "- n_neighbors로 매개변수를 과도하게 늘릴 경우 어떠한 데이터를 넣어도 가장 많은 데이터로 예측하는 오류가 발생할 수 있음."
   ]
  }
 ],
 "metadata": {
  "kernelspec": {
   "display_name": "Python 3 (ipykernel)",
   "language": "python",
   "name": "python3"
  },
  "language_info": {
   "codemirror_mode": {
    "name": "ipython",
    "version": 3
   },
   "file_extension": ".py",
   "mimetype": "text/x-python",
   "name": "python",
   "nbconvert_exporter": "python",
   "pygments_lexer": "ipython3",
   "version": "3.9.7"
  }
 },
 "nbformat": 4,
 "nbformat_minor": 5
}
