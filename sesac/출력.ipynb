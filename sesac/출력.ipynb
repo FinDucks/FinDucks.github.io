{
 "cells": [
  {
   "cell_type": "markdown",
   "id": "9061c843",
   "metadata": {},
   "source": [
    "## print()\n"
   ]
  },
  {
   "cell_type": "code",
   "execution_count": null,
   "id": "2c3ed6c2",
   "metadata": {},
   "outputs": [],
   "source": [
    "print(\"Hi\", a, 3.14, sep='', end='')"
   ]
  },
  {
   "cell_type": "code",
   "execution_count": null,
   "id": "205fb3b8",
   "metadata": {},
   "outputs": [],
   "source": [
    "print(\"Hi\", a, 3.14, sep='', end='', file=file)"
   ]
  },
  {
   "cell_type": "markdown",
   "id": "3381f9b3",
   "metadata": {},
   "source": [
    "## 양식문자열\n",
    "1. % 문법 : \n",
    "\n",
    "\"%s\" %(값 or 변수)\n",
    "\n",
    "2. format 명령어 :\n",
    "\n",
    "\"%s\".format(값 or 변수)\n",
    "\n",
    "3. f-string :\n",
    "\n",
    "f\"str{값 or 변수}str\"\n",
    "\n",
    "1) 출력을 깔끔하게 하기 위해서.\n",
    "2) print 같은 입출력 함수는 비싸기 때문에 사용횟수를 줄일려고"
   ]
  },
  {
   "cell_type": "code",
   "execution_count": null,
   "id": "f272babd",
   "metadata": {},
   "outputs": [],
   "source": []
  }
 ],
 "metadata": {
  "kernelspec": {
   "display_name": "Python 3 (ipykernel)",
   "language": "python",
   "name": "python3"
  },
  "language_info": {
   "codemirror_mode": {
    "name": "ipython",
    "version": 3
   },
   "file_extension": ".py",
   "mimetype": "text/x-python",
   "name": "python",
   "nbconvert_exporter": "python",
   "pygments_lexer": "ipython3",
   "version": "3.9.7"
  }
 },
 "nbformat": 4,
 "nbformat_minor": 5
}
