{
 "cells": [
  {
   "cell_type": "code",
   "execution_count": 19,
   "id": "da902629",
   "metadata": {
    "ExecuteTime": {
     "end_time": "2022-10-31T07:22:44.196510Z",
     "start_time": "2022-10-31T07:22:40.355954Z"
    }
   },
   "outputs": [
    {
     "name": "stderr",
     "output_type": "stream",
     "text": [
      "C:\\Users\\tjtmd\\AppData\\Local\\Temp/ipykernel_21308/681807387.py:15: DeprecationWarning: executable_path has been deprecated, please pass in a Service object\n",
      "  driver = webdriver.Chrome( executable_path=DRIVER_PATH, chrome_options=chrome_options )\n",
      "C:\\Users\\tjtmd\\AppData\\Local\\Temp/ipykernel_21308/681807387.py:15: DeprecationWarning: use options instead of chrome_options\n",
      "  driver = webdriver.Chrome( executable_path=DRIVER_PATH, chrome_options=chrome_options )\n"
     ]
    },
    {
     "ename": "AttributeError",
     "evalue": "'WebDriver' object has no attribute 'find_element_by_xpath'",
     "output_type": "error",
     "traceback": [
      "\u001b[1;31m---------------------------------------------------------------------------\u001b[0m",
      "\u001b[1;31mAttributeError\u001b[0m                            Traceback (most recent call last)",
      "\u001b[1;32m~\\AppData\\Local\\Temp/ipykernel_21308/681807387.py\u001b[0m in \u001b[0;36m<module>\u001b[1;34m\u001b[0m\n\u001b[0;32m     16\u001b[0m \u001b[0mdriver\u001b[0m\u001b[1;33m.\u001b[0m\u001b[0mget\u001b[0m\u001b[1;33m(\u001b[0m \u001b[0mURL\u001b[0m \u001b[1;33m)\u001b[0m\u001b[1;33m\u001b[0m\u001b[1;33m\u001b[0m\u001b[0m\n\u001b[0;32m     17\u001b[0m \u001b[1;33m\u001b[0m\u001b[0m\n\u001b[1;32m---> 18\u001b[1;33m \u001b[0melements\u001b[0m \u001b[1;33m=\u001b[0m \u001b[0mdriver\u001b[0m\u001b[1;33m.\u001b[0m\u001b[0mfind_element_by_xpath\u001b[0m\u001b[1;33m(\u001b[0m\u001b[1;34m'//*[@id=\"wine-location-header\"]/div/div/div/div[1]/a/div/div[1]'\u001b[0m\u001b[1;33m)\u001b[0m\u001b[1;33m\u001b[0m\u001b[1;33m\u001b[0m\u001b[0m\n\u001b[0m\u001b[0;32m     19\u001b[0m \u001b[0mdriver\u001b[0m\u001b[1;33m.\u001b[0m\u001b[0mimplicitly_wait\u001b[0m\u001b[1;33m(\u001b[0m\u001b[1;36m3\u001b[0m\u001b[1;33m)\u001b[0m\u001b[1;33m\u001b[0m\u001b[1;33m\u001b[0m\u001b[0m\n\u001b[0;32m     20\u001b[0m \u001b[1;31m# elements = driver.find_elements_by_css_selector('#wine-location-header > div > div > div > div.vivinoRatings > a > div > div._19ZcA')\u001b[0m\u001b[1;33m\u001b[0m\u001b[1;33m\u001b[0m\u001b[0m\n",
      "\u001b[1;31mAttributeError\u001b[0m: 'WebDriver' object has no attribute 'find_element_by_xpath'"
     ]
    }
   ],
   "source": [
    "from selenium import webdriver\n",
    "from selenium.webdriver.chrome.options import Options\n",
    "from selenium.webdriver.common.by import By\n",
    "\n",
    "DRIVER_PATH = './crawler/drivers/chromedriver.exe' \n",
    "\n",
    "URL = 'https://www.vivino.com/felix-solis-mucho-mas-tinto/w/6266660'\n",
    "\n",
    "chrome_options = Options()\n",
    "chrome_options.add_argument( '--headless' )\n",
    "chrome_options.add_argument( '--log-level=3' )\n",
    "chrome_options.add_argument( '--disable-logging' )\n",
    "chrome_options.add_argument( '--no-sandbox' )\n",
    "chrome_options.add_argument( '--disable-gpu' )\n",
    " \n",
    "driver = webdriver.Chrome( executable_path=DRIVER_PATH, chrome_options=chrome_options )\n",
    "driver.get( URL )\n",
    "\n",
    "elements = driver.find_element_by_xpath('//*[@id=\"wine-location-header\"]/div/div/div/div[1]/a/div/div[1]')\n",
    "driver.implicitly_wait(3)\n",
    "\n",
    "# elements = driver.find_elements_by_css_selector('#wine-location-header > div > div > div > div.vivinoRatings > a > div > div._19ZcA')\n",
    "enter_btn = wd.find_element_by_css_selector(\"#menu2091_obj16 > form > div > div > div._areaButton > div > span > input[type=submit]\").click()\n",
    "print( '상품 개수: {}'.format( len(elements) ) )\n",
    "print( elements[0].get_attribute('innerHTML') )"
   ]
  },
  {
   "cell_type": "code",
   "execution_count": null,
   "id": "b43ff669",
   "metadata": {},
   "outputs": [],
   "source": []
  }
 ],
 "metadata": {
  "kernelspec": {
   "display_name": "Python 3 (ipykernel)",
   "language": "python",
   "name": "python3"
  },
  "language_info": {
   "codemirror_mode": {
    "name": "ipython",
    "version": 3
   },
   "file_extension": ".py",
   "mimetype": "text/x-python",
   "name": "python",
   "nbconvert_exporter": "python",
   "pygments_lexer": "ipython3",
   "version": "3.9.7"
  },
  "toc": {
   "base_numbering": 1,
   "nav_menu": {},
   "number_sections": true,
   "sideBar": true,
   "skip_h1_title": false,
   "title_cell": "Table of Contents",
   "title_sidebar": "Contents",
   "toc_cell": false,
   "toc_position": {},
   "toc_section_display": true,
   "toc_window_display": false
  }
 },
 "nbformat": 4,
 "nbformat_minor": 5
}
