{
 "cells": [
  {
   "cell_type": "code",
   "execution_count": 5,
   "id": "3be98eba",
   "metadata": {
    "ExecuteTime": {
     "end_time": "2022-08-17T04:33:52.608901Z",
     "start_time": "2022-08-17T04:33:52.595392Z"
    }
   },
   "outputs": [],
   "source": [
    "import jupyterthemes as jt"
   ]
  },
  {
   "cell_type": "code",
   "execution_count": 6,
   "id": "011c1130",
   "metadata": {
    "ExecuteTime": {
     "end_time": "2022-08-17T04:33:57.150050Z",
     "start_time": "2022-08-17T04:33:57.134654Z"
    }
   },
   "outputs": [
    {
     "data": {
      "text/plain": [
       "<module 'jupyterthemes' from 'C:\\\\Users\\\\tjtmd\\\\anaconda3\\\\lib\\\\site-packages\\\\jupyterthemes\\\\__init__.py'>"
      ]
     },
     "execution_count": 6,
     "metadata": {},
     "output_type": "execute_result"
    }
   ],
   "source": [
    "jt"
   ]
  },
  {
   "cell_type": "code",
   "execution_count": null,
   "id": "4f2bcd9c",
   "metadata": {},
   "outputs": [],
   "source": []
  }
 ],
 "metadata": {
  "kernelspec": {
   "display_name": "Python 3 (ipykernel)",
   "language": "python",
   "name": "python3"
  },
  "language_info": {
   "codemirror_mode": {
    "name": "ipython",
    "version": 3
   },
   "file_extension": ".py",
   "mimetype": "text/x-python",
   "name": "python",
   "nbconvert_exporter": "python",
   "pygments_lexer": "ipython3",
   "version": "3.9.7"
  },
  "toc": {
   "base_numbering": 1,
   "nav_menu": {},
   "number_sections": true,
   "sideBar": true,
   "skip_h1_title": false,
   "title_cell": "Table of Contents",
   "title_sidebar": "Contents",
   "toc_cell": false,
   "toc_position": {},
   "toc_section_display": true,
   "toc_window_display": false
  }
 },
 "nbformat": 4,
 "nbformat_minor": 5
}
