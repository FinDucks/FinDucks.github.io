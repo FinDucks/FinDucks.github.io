{
 "cells": [
  {
   "cell_type": "markdown",
   "id": "92ac0128",
   "metadata": {},
   "source": [
    "## 변수\n"
   ]
  },
  {
   "cell_type": "markdown",
   "id": "48fd1329",
   "metadata": {},
   "source": [
    "### 할당"
   ]
  },
  {
   "cell_type": "code",
   "execution_count": 5,
   "id": "879db502",
   "metadata": {},
   "outputs": [],
   "source": [
    "a=11\n",
    "b=\"Hi\"\n",
    "c=3.14"
   ]
  },
  {
   "cell_type": "markdown",
   "id": "33e4c707",
   "metadata": {},
   "source": [
    "### 형번환"
   ]
  },
  {
   "cell_type": "code",
   "execution_count": 6,
   "id": "217fd2da",
   "metadata": {},
   "outputs": [],
   "source": [
    "a=int()\n",
    "b=str()\n",
    "c=float()"
   ]
  },
  {
   "cell_type": "markdown",
   "id": "8ee89e9e",
   "metadata": {},
   "source": [
    "* \n",
    "1. 값을 저장\n",
    "2. 연산의 피연산자\n",
    "3. 함수의 매개변수"
   ]
  },
  {
   "cell_type": "markdown",
   "id": "afe7ce71",
   "metadata": {},
   "source": [
    "### 변수명\n",
    "- 문법적 표현\n",
    "1. 일반문자 전부 + _ 가능(이외의 특수문자 불가)\n",
    "2. 숫자로 시작 금지\n",
    "3. 예약어 사용금지\n",
    "4. 대소문자 구분\n",
    "- 관례적 표현\n",
    "1. 명사나 동사를 사용하라(형용사 지양)\n",
    "2. 변수의 의미를 명확히 담기\n",
    "3. 표기법\n",
    "    - 클래스 : 파스칼   : MyMy\n",
    "    - 함수   : 카멜     : myMy\n",
    "    - 변수   : 스네이크 : my_my\n",
    "    - 헝가리안 strmymy\n",
    "4. "
   ]
  },
  {
   "cell_type": "code",
   "execution_count": null,
   "id": "9e7ce3fa",
   "metadata": {},
   "outputs": [],
   "source": [
    "S"
   ]
  }
 ],
 "metadata": {
  "kernelspec": {
   "display_name": "Python 3 (ipykernel)",
   "language": "python",
   "name": "python3"
  },
  "language_info": {
   "codemirror_mode": {
    "name": "ipython",
    "version": 3
   },
   "file_extension": ".py",
   "mimetype": "text/x-python",
   "name": "python",
   "nbconvert_exporter": "python",
   "pygments_lexer": "ipython3",
   "version": "3.9.7"
  }
 },
 "nbformat": 4,
 "nbformat_minor": 5
}
