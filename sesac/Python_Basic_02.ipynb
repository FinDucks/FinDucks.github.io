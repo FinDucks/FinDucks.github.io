{
 "cells": [
  {
   "cell_type": "code",
   "execution_count": 1,
   "id": "486bc97b",
   "metadata": {},
   "outputs": [],
   "source": [
    "# 파이썬 프로그래밍 언어\n",
    "# 입력 : input\n",
    "# 저장 : 변수\n",
    "# 처리 : 산술연산, 분기, 판별문\n",
    "# 출력 : print"
   ]
  },
  {
   "cell_type": "code",
   "execution_count": 2,
   "id": "b97be596",
   "metadata": {},
   "outputs": [],
   "source": [
    "# 프로그래밍 언어1\n",
    "# 말하기 : 문제정의를 잘하자, 하고 싶은 얘기를 잘 정리하자.\n",
    "# 쓰기 : 문법(파이썬 문법)\n",
    "# 읽기 : 다른 사람의 코드, 문서\n",
    "# 듣기 : 오류 메세지"
   ]
  },
  {
   "cell_type": "code",
   "execution_count": 4,
   "id": "4cb1b69a",
   "metadata": {},
   "outputs": [
    {
     "name": "stdout",
     "output_type": "stream",
     "text": [
      "이름을 입력하세요 : a\n"
     ]
    }
   ],
   "source": [
    "# 회원 가입 필수 항목 중 이름을 입력받는다. 단, 입력되지 않은 경우 예외처리한다.\n",
    "name = input(\"이름을 입력하세요 : \") "
   ]
  },
  {
   "cell_type": "code",
   "execution_count": 10,
   "id": "c6f98c08",
   "metadata": {},
   "outputs": [],
   "source": [
    "# 바구니 : 자료구조\n",
    "# 리스트 : 딕셔너리, 튜플, 셋\n",
    "# range : 범위생성자\n",
    "# ragne(y) : 0-y 미만\n",
    "# range(x,y) : x-y 미만\n",
    "# range(x,y,z) : x-y 미만 z씩 증감"
   ]
  },
  {
   "cell_type": "code",
   "execution_count": null,
   "id": "4d9dc3fb",
   "metadata": {},
   "outputs": [],
   "source": []
  },
  {
   "cell_type": "markdown",
   "id": "447555a9",
   "metadata": {},
   "source": [
    "# 반복문\n",
    "for ~하는 동안 ~하겠다.\n",
    "\n",
    "while 조건이 참인 동안 ~하겠다."
   ]
  },
  {
   "cell_type": "code",
   "execution_count": 12,
   "id": "26b6f3a4",
   "metadata": {},
   "outputs": [
    {
     "name": "stdout",
     "output_type": "stream",
     "text": [
      "0\n",
      "1\n",
      "2\n",
      "3\n",
      "4\n",
      "5\n",
      "6\n",
      "7\n",
      "8\n",
      "9\n"
     ]
    }
   ],
   "source": [
    "for x in range(10):\n",
    "    print(x)"
   ]
  },
  {
   "cell_type": "code",
   "execution_count": 6,
   "id": "81b58c79",
   "metadata": {},
   "outputs": [
    {
     "name": "stdout",
     "output_type": "stream",
     "text": [
      "hello\n",
      "hello\n",
      "hello\n",
      "hello\n",
      "hello\n",
      "hello\n",
      "hello\n",
      "hello\n",
      "hello\n",
      "hello\n"
     ]
    }
   ],
   "source": [
    "# 관례적으로 변수를 아래 실행부분에서 사용하지 않으면 _를 사용\n",
    "for _ in range(10):\n",
    "    print(\"hello\")"
   ]
  },
  {
   "cell_type": "code",
   "execution_count": 8,
   "id": "ded50bc8",
   "metadata": {},
   "outputs": [
    {
     "name": "stdout",
     "output_type": "stream",
     "text": [
      "7\n",
      "8\n",
      "9\n"
     ]
    }
   ],
   "source": [
    "for k in range(7, 10):\n",
    "    print(k)"
   ]
  },
  {
   "cell_type": "code",
   "execution_count": 9,
   "id": "d74ad768",
   "metadata": {},
   "outputs": [],
   "source": [
    "for k in range(11, 10):\n",
    "    print(k)"
   ]
  },
  {
   "cell_type": "code",
   "execution_count": 13,
   "id": "1e38d614",
   "metadata": {},
   "outputs": [
    {
     "name": "stdout",
     "output_type": "stream",
     "text": [
      "10\n",
      "9\n",
      "8\n",
      "7\n",
      "6\n",
      "5\n",
      "4\n",
      "3\n",
      "2\n"
     ]
    }
   ],
   "source": [
    "for k in range(10, 1, -1):\n",
    "    print(k)"
   ]
  },
  {
   "cell_type": "code",
   "execution_count": 15,
   "id": "d1009362",
   "metadata": {},
   "outputs": [
    {
     "name": "stdout",
     "output_type": "stream",
     "text": [
      "2\n",
      "4\n",
      "6\n",
      "8\n",
      "10\n",
      "12\n",
      "14\n",
      "16\n",
      "18\n",
      "20\n",
      "22\n",
      "24\n",
      "26\n",
      "28\n",
      "30\n",
      "32\n",
      "34\n",
      "36\n",
      "38\n",
      "40\n",
      "42\n",
      "44\n",
      "46\n",
      "48\n",
      "50\n",
      "52\n",
      "54\n",
      "56\n",
      "58\n",
      "60\n",
      "62\n",
      "64\n",
      "66\n",
      "68\n",
      "70\n",
      "72\n",
      "74\n",
      "76\n",
      "78\n",
      "80\n",
      "82\n",
      "84\n",
      "86\n",
      "88\n",
      "90\n",
      "92\n",
      "94\n",
      "96\n",
      "98\n",
      "100\n"
     ]
    }
   ],
   "source": [
    "# 1-100 까지 짝수만 출력하도록 for문을 작성해보시오\n",
    "for x in range(2,101,2):\n",
    "    print(x)"
   ]
  },
  {
   "cell_type": "code",
   "execution_count": 28,
   "id": "b2b84013",
   "metadata": {},
   "outputs": [
    {
     "name": "stdout",
     "output_type": "stream",
     "text": [
      "2550\n"
     ]
    }
   ],
   "source": [
    "# 1 -100까지의 정수 중 짝수들의 합을 출력하시오\n",
    "# 답안작성1\n",
    "sum=0\n",
    "for x in range(101):\n",
    "    if x %2 ==0:\n",
    "        sum += x\n",
    "       \n",
    "print(sum)"
   ]
  },
  {
   "cell_type": "code",
   "execution_count": 31,
   "id": "0d265655",
   "metadata": {},
   "outputs": [
    {
     "name": "stdout",
     "output_type": "stream",
     "text": [
      "2550\n"
     ]
    }
   ],
   "source": [
    "# 답안작성2\n",
    "sum=0\n",
    "for x in range(2,101,2):\n",
    "    sum+=x\n",
    "print(sum)"
   ]
  },
  {
   "cell_type": "code",
   "execution_count": 32,
   "id": "56ddfde2",
   "metadata": {},
   "outputs": [
    {
     "name": "stdout",
     "output_type": "stream",
     "text": [
      "1\n",
      "2\n",
      "3\n",
      "4\n",
      "5\n",
      "6\n",
      "7\n",
      "8\n",
      "9\n",
      "10\n",
      "11\n",
      "12\n",
      "13\n",
      "14\n",
      "15\n",
      "16\n",
      "17\n",
      "18\n",
      "19\n",
      "20\n",
      "21\n",
      "22\n",
      "23\n",
      "24\n",
      "25\n",
      "26\n",
      "27\n",
      "28\n",
      "29\n",
      "30\n",
      "31\n",
      "32\n",
      "33\n",
      "34\n",
      "35\n",
      "36\n",
      "37\n",
      "38\n",
      "39\n",
      "40\n",
      "41\n",
      "42\n",
      "43\n",
      "44\n",
      "45\n",
      "46\n",
      "47\n",
      "48\n",
      "49\n",
      "50\n",
      "51\n",
      "52\n",
      "53\n",
      "54\n",
      "55\n",
      "56\n",
      "57\n",
      "58\n",
      "59\n",
      "60\n",
      "61\n",
      "62\n",
      "63\n",
      "64\n",
      "65\n",
      "66\n",
      "67\n",
      "68\n",
      "69\n",
      "70\n",
      "71\n",
      "72\n",
      "73\n",
      "74\n",
      "75\n",
      "76\n",
      "77\n",
      "78\n",
      "79\n",
      "80\n",
      "81\n",
      "82\n",
      "83\n",
      "84\n",
      "85\n",
      "86\n",
      "87\n",
      "88\n",
      "89\n",
      "90\n",
      "91\n",
      "92\n",
      "93\n",
      "94\n",
      "95\n",
      "96\n",
      "97\n",
      "98\n",
      "99\n",
      "100\n"
     ]
    }
   ],
   "source": [
    "# shile 문을 사용해서 1-100까지의 정수들을 순서대로 출력하시오\n",
    "count =1 \n",
    "while count <101:\n",
    "    print(count)\n",
    "    count+=1"
   ]
  },
  {
   "cell_type": "code",
   "execution_count": 33,
   "id": "6aeb23c4",
   "metadata": {},
   "outputs": [
    {
     "name": "stdout",
     "output_type": "stream",
     "text": [
      "시작 숫자 입력:11\n",
      "11\n",
      "12\n",
      "13\n",
      "14\n",
      "15\n",
      "16\n",
      "17\n",
      "18\n",
      "19\n",
      "20\n",
      "21\n",
      "22\n",
      "23\n",
      "24\n",
      "25\n",
      "26\n",
      "27\n",
      "28\n",
      "29\n",
      "30\n",
      "31\n",
      "32\n",
      "33\n",
      "34\n",
      "35\n",
      "36\n",
      "37\n",
      "38\n",
      "39\n",
      "40\n",
      "41\n",
      "42\n",
      "43\n",
      "44\n",
      "45\n",
      "46\n",
      "47\n",
      "48\n",
      "49\n",
      "50\n",
      "51\n",
      "52\n",
      "53\n",
      "54\n",
      "55\n",
      "56\n",
      "57\n",
      "58\n",
      "59\n",
      "60\n",
      "61\n",
      "62\n",
      "63\n",
      "64\n",
      "65\n",
      "66\n",
      "67\n",
      "68\n",
      "69\n",
      "70\n",
      "71\n",
      "72\n",
      "73\n",
      "74\n",
      "75\n",
      "76\n",
      "77\n",
      "78\n",
      "79\n",
      "80\n",
      "81\n",
      "82\n",
      "83\n",
      "84\n",
      "85\n",
      "86\n",
      "87\n",
      "88\n",
      "89\n",
      "90\n",
      "91\n",
      "92\n",
      "93\n",
      "94\n",
      "95\n",
      "96\n",
      "97\n",
      "98\n",
      "99\n",
      "100\n",
      "101\n",
      "102\n",
      "103\n",
      "104\n",
      "105\n",
      "106\n",
      "107\n",
      "108\n",
      "109\n",
      "110\n",
      "111\n"
     ]
    }
   ],
   "source": [
    "# while문으 ㄹ이용해서 입력받은 정수부터 +100 까지의 정수를 순서대로 출력하시오\n",
    "start = input(\"시작 숫자 입력:\")\n",
    "start=int(start)\n",
    "count =0 \n",
    "while count <101:\n",
    "    print(start +count)\n",
    "    count+=1"
   ]
  },
  {
   "cell_type": "code",
   "execution_count": 40,
   "id": "f0418211",
   "metadata": {},
   "outputs": [
    {
     "name": "stdout",
     "output_type": "stream",
     "text": [
      "시작 숫자 입력:10\n",
      "10\n",
      "11\n",
      "12\n",
      "13\n",
      "14\n",
      "15\n",
      "16\n",
      "17\n",
      "18\n",
      "19\n",
      "20\n",
      "21\n",
      "22\n",
      "23\n",
      "24\n",
      "25\n",
      "26\n",
      "27\n",
      "28\n",
      "29\n",
      "30\n",
      "31\n",
      "32\n",
      "33\n",
      "34\n",
      "35\n",
      "36\n",
      "37\n",
      "38\n",
      "39\n",
      "40\n",
      "41\n",
      "42\n",
      "43\n",
      "44\n",
      "45\n",
      "46\n",
      "47\n",
      "48\n",
      "49\n",
      "50\n",
      "51\n",
      "52\n",
      "53\n",
      "54\n",
      "55\n",
      "56\n",
      "57\n",
      "58\n",
      "59\n",
      "60\n",
      "61\n",
      "62\n",
      "63\n",
      "64\n",
      "65\n",
      "66\n",
      "67\n",
      "68\n",
      "69\n",
      "70\n",
      "71\n",
      "72\n",
      "73\n",
      "74\n",
      "75\n",
      "76\n",
      "77\n",
      "78\n",
      "79\n",
      "80\n",
      "81\n",
      "82\n",
      "83\n",
      "84\n",
      "85\n",
      "86\n",
      "87\n",
      "88\n",
      "89\n",
      "90\n",
      "91\n",
      "92\n",
      "93\n",
      "94\n",
      "95\n",
      "96\n",
      "97\n",
      "98\n",
      "99\n",
      "100\n",
      "101\n",
      "102\n",
      "103\n",
      "104\n",
      "105\n",
      "106\n",
      "107\n",
      "108\n",
      "109\n",
      "110\n"
     ]
    }
   ],
   "source": [
    "# while문으 ㄹ이용해서 입력받은 정수부터 +100 까지의 정수를 순서대로 출력하시오\n",
    "#풀이 2\n",
    "start = input(\"시작 숫자 입력:\")\n",
    "start=int(start)\n",
    "end= start + 100\n",
    "\n",
    "while start <= end:\n",
    "    print(start)\n",
    "    start+=1"
   ]
  },
  {
   "cell_type": "code",
   "execution_count": 41,
   "id": "7c6c297d",
   "metadata": {},
   "outputs": [
    {
     "name": "stdout",
     "output_type": "stream",
     "text": [
      "시작 숫자 입력:21\n",
      "21\n"
     ]
    }
   ],
   "source": [
    "# continue\n",
    "# break\n",
    "# while문으 ㄹ이용해서 입력받은 정수부터 +100 까지의 정수를 순서대로 출력하시오\n",
    "#풀이 2\n",
    "start = input(\"시작 숫자 입력:\")\n",
    "start=int(start)\n",
    "end= start + 100\n",
    "\n",
    "while start <= end:\n",
    "    print(start)\n",
    "    break\n",
    "    start+=1"
   ]
  },
  {
   "cell_type": "code",
   "execution_count": 47,
   "id": "8713d48b",
   "metadata": {},
   "outputs": [
    {
     "name": "stdout",
     "output_type": "stream",
     "text": [
      "시작 숫자 입력:1\n",
      "5\n",
      "6\n",
      "7\n",
      "8\n",
      "9\n",
      "10\n",
      "11\n",
      "12\n",
      "13\n",
      "14\n",
      "15\n",
      "16\n",
      "17\n",
      "18\n",
      "19\n",
      "20\n",
      "21\n",
      "22\n",
      "23\n",
      "24\n",
      "25\n",
      "26\n",
      "27\n",
      "28\n",
      "29\n",
      "30\n",
      "31\n",
      "32\n",
      "33\n",
      "34\n",
      "35\n",
      "36\n",
      "37\n",
      "38\n",
      "39\n",
      "40\n",
      "41\n",
      "42\n",
      "43\n",
      "44\n",
      "45\n",
      "46\n",
      "47\n",
      "48\n",
      "49\n",
      "50\n",
      "51\n",
      "52\n",
      "53\n",
      "54\n",
      "55\n",
      "56\n",
      "57\n",
      "58\n",
      "59\n",
      "60\n",
      "61\n",
      "62\n",
      "63\n",
      "64\n",
      "65\n",
      "66\n",
      "67\n",
      "68\n",
      "69\n",
      "70\n",
      "71\n",
      "72\n",
      "73\n",
      "74\n",
      "75\n",
      "76\n",
      "77\n",
      "78\n",
      "79\n",
      "80\n",
      "81\n",
      "82\n",
      "83\n",
      "84\n",
      "85\n",
      "86\n",
      "87\n",
      "88\n",
      "89\n",
      "90\n",
      "91\n",
      "92\n",
      "93\n",
      "94\n",
      "95\n",
      "96\n",
      "97\n",
      "98\n",
      "99\n",
      "100\n",
      "101\n",
      "102\n"
     ]
    }
   ],
   "source": [
    "# continue\n",
    "# break\n",
    "# while문으 ㄹ이용해서 입력받은 정수부터 +100 까지의 정수를 순서대로 출력하시오\n",
    "#풀이 2\n",
    "start = input(\"시작 숫자 입력:\")\n",
    "start=int(start)\n",
    "end= start + 100\n",
    "\n",
    "while start <= end:\n",
    "    start+=1\n",
    "    if start <5:\n",
    "        continue\n",
    "    print(start)\n",
    "    \n",
    "    "
   ]
  },
  {
   "cell_type": "code",
   "execution_count": 49,
   "id": "d8e4bb80",
   "metadata": {},
   "outputs": [
    {
     "name": "stdout",
     "output_type": "stream",
     "text": [
      "5\n",
      "6\n",
      "7\n",
      "8\n",
      "9\n",
      "10\n",
      "11\n"
     ]
    }
   ],
   "source": [
    "# continue\n",
    "# break\n",
    "\n",
    "start = 1\n",
    "start=int(start)\n",
    "end= 10\n",
    "\n",
    "while start <= end:\n",
    "    start+=1\n",
    "    if start >=5:\n",
    "        print(start)\n",
    "    \n",
    "    "
   ]
  },
  {
   "cell_type": "code",
   "execution_count": 50,
   "id": "06be4108",
   "metadata": {},
   "outputs": [
    {
     "name": "stdout",
     "output_type": "stream",
     "text": [
      "5\n",
      "6\n",
      "7\n",
      "8\n",
      "9\n",
      "10\n",
      "11\n"
     ]
    }
   ],
   "source": [
    "# continue\n",
    "# break\n",
    "\n",
    "start = 1\n",
    "start=int(start)\n",
    "end= 10\n",
    "\n",
    "while start <= end:\n",
    "    start+=1\n",
    "    if start < 5:\n",
    "        continue\n",
    "    print(start)\n",
    "    \n",
    "    "
   ]
  },
  {
   "cell_type": "code",
   "execution_count": 62,
   "id": "1f2f8056",
   "metadata": {},
   "outputs": [
    {
     "name": "stdout",
     "output_type": "stream",
     "text": [
      "원하시는 계산 방법 숫자를 입력해주세요. \n",
      " 1 : 원화 -> 달러 계산 \n",
      " 2 : 달러 -> 원화 계산\n",
      " 3: 프로그램 종료\n",
      "1\n",
      "바꾸실 원화 금액을 입력해주세요.1600\n",
      "1.2246460007654036USD 입니다.\n",
      "원하시는 계산 방법 숫자를 입력해주세요. \n",
      " 1 : 원화 -> 달러 계산 \n",
      " 2 : 달러 -> 원화 계산\n",
      " 3: 프로그램 종료\n",
      "2\n",
      "바꾸실 달러 금액을 입력해주세요.1\n",
      "1306.5USD 입니다.\n",
      "원하시는 계산 방법 숫자를 입력해주세요. \n",
      " 1 : 원화 -> 달러 계산 \n",
      " 2 : 달러 -> 원화 계산\n",
      " 3: 프로그램 종료\n",
      "3\n"
     ]
    }
   ],
   "source": [
    "# 연습문제\n",
    "# 현재 환율 : 1 USD =1,306.5 won\n",
    "# 1. 메뉴를 구성한다\n",
    "# 1번을 선택하면 원을 입력받아서 몇달러인지 계산\n",
    "# 2번을 선택하면 달러를 입력받아서 몇 원인지 계산해주는 프로그램을 작성\n",
    "while True:\n",
    "    menu_num = input(\"원하시는 계산 방법 숫자를 입력해주세요. \\n 1 : 원화 -> 달러 계산 \\n 2 : 달러 -> 원화 계산\\n 3: 프로그램 종료\\n\")\n",
    "    menu_num = int(menu_num)\n",
    "    if menu_num ==1:\n",
    "            money = input(\"바꾸실 원화 금액을 입력해주세요.\")\n",
    "            doller = float(money)/1306.5\n",
    "            print(f\"{doller}USD 입니다.\")\n",
    "    elif menu_num == 2:\n",
    "            money = input(\"바꾸실 달러 금액을 입력해주세요.\")\n",
    "            won = float(money)*1306.5\n",
    "            print(f\"{won}USD 입니다.\")\n",
    "    else:\n",
    "            break\n"
   ]
  },
  {
   "cell_type": "code",
   "execution_count": 64,
   "id": "cccb1ba7",
   "metadata": {},
   "outputs": [
    {
     "name": "stdout",
     "output_type": "stream",
     "text": [
      "체중으 ㄹ입력하세요 :kk\n",
      "숫자를 넣어 주세요\n"
     ]
    }
   ],
   "source": [
    "# \n",
    "try :\n",
    "    weight = input(\"체중으 ㄹ입력하세요 :\")\n",
    "    weight = float(weight)\n",
    "except:\n",
    "    print(\"숫자를 넣어 주세요\")\n",
    "    weight=0"
   ]
  },
  {
   "cell_type": "code",
   "execution_count": 66,
   "id": "e02b296b",
   "metadata": {},
   "outputs": [
    {
     "name": "stdout",
     "output_type": "stream",
     "text": [
      "체중으 ㄹ입력하세요 :k\n",
      "숫자를 넣어 주세요\n",
      "숫자를 넣어 주세요\n",
      "숫자를 넣어 주세요\n",
      "숫자를 넣어 주세요\n",
      "숫자를 넣어 주세요\n",
      "숫자를 넣어 주세요\n",
      "숫자를 넣어 주세요\n",
      "숫자를 넣어 주세요\n",
      "체중으 ㄹ입력하세요 :2\n"
     ]
    }
   ],
   "source": [
    "#\n",
    "while True:\n",
    "    try :\n",
    "        weight = input(\"체중을 입력하세요 :\")\n",
    "        weight = float(weight)\n",
    "        break\n",
    "    except:\n",
    "        print(\"숫자를 넣어 주세요\")\n",
    "        weight=0"
   ]
  },
  {
   "cell_type": "code",
   "execution_count": 4,
   "id": "7a3fb960",
   "metadata": {},
   "outputs": [
    {
     "name": "stdout",
     "output_type": "stream",
     "text": [
      "체중을 입력하세요 :d\n",
      "숫자를 넣어 주세요\n",
      "b\n",
      "체중을 입력하세요 :1\n",
      "a\n",
      "c\n"
     ]
    }
   ],
   "source": [
    "#\n",
    "while True:\n",
    "    try :\n",
    "        weight = input(\"체중을 입력하세요 :\")\n",
    "        weight = float(weight)\n",
    "        print('a')\n",
    "    except:\n",
    "        print(\"숫자를 넣어 주세요\")\n",
    "        weight=0\n",
    "        print('b')\n",
    "    else:\n",
    "        print('c')\n",
    "        break"
   ]
  },
  {
   "cell_type": "code",
   "execution_count": 2,
   "id": "d7f9532d",
   "metadata": {},
   "outputs": [
    {
     "name": "stdout",
     "output_type": "stream",
     "text": [
      "h\n",
      "e\n",
      "l\n",
      "l\n",
      "o\n"
     ]
    }
   ],
   "source": [
    "for x in \"hello\":\n",
    "    print(x)"
   ]
  },
  {
   "cell_type": "code",
   "execution_count": 10,
   "id": "a384acfe",
   "metadata": {},
   "outputs": [
    {
     "name": "stdout",
     "output_type": "stream",
     "text": [
      "[33, 17, 13, 10, 21, 30]\n"
     ]
    }
   ],
   "source": [
    "import random as rnd\n",
    "lotto=[]\n",
    "for i in range(6):\n",
    "    while a in lotto:\n",
    "        a= rnd.randint(1,45)\n",
    "        continue\n",
    "    lotto.append(a)\n",
    "    \n",
    "print(lotto)\n"
   ]
  },
  {
   "cell_type": "code",
   "execution_count": 12,
   "id": "6d2c80a6",
   "metadata": {},
   "outputs": [],
   "source": [
    "fruit=['딸기', '사과', '바나나']"
   ]
  },
  {
   "cell_type": "code",
   "execution_count": 13,
   "id": "35a3d5a2",
   "metadata": {},
   "outputs": [],
   "source": [
    "fruit.insert(100,'케일')"
   ]
  },
  {
   "cell_type": "code",
   "execution_count": 14,
   "id": "991aa27d",
   "metadata": {},
   "outputs": [
    {
     "data": {
      "text/plain": [
       "['딸기', '사과', '바나나', '케일']"
      ]
     },
     "execution_count": 14,
     "metadata": {},
     "output_type": "execute_result"
    }
   ],
   "source": [
    "fruit"
   ]
  },
  {
   "cell_type": "code",
   "execution_count": 28,
   "id": "27c58ff4",
   "metadata": {},
   "outputs": [
    {
     "name": "stdout",
     "output_type": "stream",
     "text": [
      "7\n",
      "33\n",
      "1\n",
      "11\n",
      "26\n",
      "27\n"
     ]
    }
   ],
   "source": [
    "# 1. 로또 번호가 들어간 리스트 만들기\n",
    "lotto1=list(range(1,46))\n",
    "# 2. 바구니에서 하나씩 랜덤으로 뽑아내기\n",
    "for i in range(6):\n",
    "    print(lotto1.pop(rnd.randint(0,len(lotto1)-1)))\n",
    "# 3. 총 6개를 뽑기"
   ]
  },
  {
   "cell_type": "code",
   "execution_count": 23,
   "id": "928b30d4",
   "metadata": {},
   "outputs": [
    {
     "data": {
      "text/plain": [
       "[1,\n",
       " 2,\n",
       " 3,\n",
       " 4,\n",
       " 5,\n",
       " 6,\n",
       " 7,\n",
       " 8,\n",
       " 9,\n",
       " 10,\n",
       " 11,\n",
       " 12,\n",
       " 13,\n",
       " 14,\n",
       " 15,\n",
       " 16,\n",
       " 17,\n",
       " 18,\n",
       " 19,\n",
       " 20,\n",
       " 21,\n",
       " 22,\n",
       " 23,\n",
       " 24,\n",
       " 25,\n",
       " 26,\n",
       " 27,\n",
       " 28,\n",
       " 29,\n",
       " 30,\n",
       " 31,\n",
       " 32,\n",
       " 33,\n",
       " 34,\n",
       " 35,\n",
       " 36,\n",
       " 37,\n",
       " 38,\n",
       " 39,\n",
       " 40,\n",
       " 41,\n",
       " 42,\n",
       " 43,\n",
       " 44,\n",
       " 45]"
      ]
     },
     "execution_count": 23,
     "metadata": {},
     "output_type": "execute_result"
    }
   ],
   "source": []
  },
  {
   "cell_type": "code",
   "execution_count": null,
   "id": "61703d4f",
   "metadata": {},
   "outputs": [],
   "source": []
  }
 ],
 "metadata": {
  "kernelspec": {
   "display_name": "Python 3 (ipykernel)",
   "language": "python",
   "name": "python3"
  },
  "language_info": {
   "codemirror_mode": {
    "name": "ipython",
    "version": 3
   },
   "file_extension": ".py",
   "mimetype": "text/x-python",
   "name": "python",
   "nbconvert_exporter": "python",
   "pygments_lexer": "ipython3",
   "version": "3.9.7"
  }
 },
 "nbformat": 4,
 "nbformat_minor": 5
}
