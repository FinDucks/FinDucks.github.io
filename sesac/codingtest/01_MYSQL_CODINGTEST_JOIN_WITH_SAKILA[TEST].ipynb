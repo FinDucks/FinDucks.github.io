{
 "cells": [
  {
   "cell_type": "markdown",
   "metadata": {},
   "source": [
    "<div class=\"alert alert-block\" style=\"border: 1px solid #455A64;background-color:#ECEFF1;padding:5px;font-size:0.9em;\">\n",
    "  본 자료와 관련 영상 컨텐츠는 저작권법 제25조 2항에 의해 보호를 받습니다. <br>본 컨텐츠 및 컨텐츠 일부 문구 등을 외부에 공개하거나, 요약해서 게시하지 말아주세요.<br>Copyright <a href=\"https://www.fun-coding.org\">잔재미코딩</a> Dave Lee\n",
    "</div>"
   ]
  },
  {
   "cell_type": "markdown",
   "metadata": {},
   "source": [
    "### Sakila 데이터로 연습하는 SQL 코딩 테스트 (중급)"
   ]
  },
  {
   "cell_type": "markdown",
   "metadata": {},
   "source": [
    "### 실습환경 만들기\n",
    "- pymysql 과 pandas 를 활용해서, 간단히 화면에 출력만 가능하도록 하여, SQL 에만 집중할 수 있도록 함"
   ]
  },
  {
   "cell_type": "markdown",
   "metadata": {},
   "source": [
    "### 참고\n",
    "- 암호를 주피터 노트북에 그대로 노출하는 것은 위험하므로, 별도 settings.py 파일을 주피터 노트북 파일의 동일 폴더에 만들고,\n",
    "- 해당 파일 내에, 다음과 같이 정의하고,\n",
    "   ```\n",
    "   USERNAME='root'\n",
    "   PASSWORD='pass'\n",
    "   ```\n",
    "- 다음 코드를 실행해서, 아이디/패스워드를 노출하지 않고, 사용할 수도 있음\n",
    "   ```\n",
    "   import settings\n",
    "\n",
    "   print (settings.USERNAME, settings.PASSWORD)\n",
    "   ```"
   ]
  },
  {
   "cell_type": "code",
   "execution_count": 3,
   "metadata": {},
   "outputs": [],
   "source": [
    "import pymysql\n",
    "import pandas as pd\n",
    "\n",
    "host_name = \"localhost\"\n",
    "username = settings.USERNAME\n",
    "password = settings.PASSWORD\n",
    "database_name = \"sakila\"\n",
    "\n",
    "db = pymysql.connect(\n",
    "    host=host_name,  # DATABASE_HOST\n",
    "    port=3306,\n",
    "    user=username,  # DATABASE_USERNAME\n",
    "    passwd=password,  # DATABASE_PASSWORD\n",
    "    db=database_name,  # DATABASE_NAME\n",
    "    charset='utf8'\n",
    ")"
   ]
  },
  {
   "cell_type": "code",
   "execution_count": 4,
   "metadata": {},
   "outputs": [],
   "source": [
    "import warnings\n",
    "warnings.filterwarnings('ignore')\n",
    "# warning 메세지가 거슬리는 경우가 많으므로, 표시 안해주기로 함"
   ]
  },
  {
   "cell_type": "markdown",
   "metadata": {},
   "source": [
    "<div class=\"alert alert-block\" style=\"border: 1px solid #FFB300;background-color:#F9FBE7;\">\n",
    "<font size=\"4em\" style=\"font-weight:bold;color:#3f8dbf;\">연습문제1</font><br>\n",
    "category 테이블에서 \"Comedy\", \"Sports\", \"Family\" 카테고리의 category_id 알아내기 (category_id 와 카테고리명 출력하기)<br>\n",
    "</div>"
   ]
  },
  {
   "cell_type": "markdown",
   "metadata": {},
   "source": [
    "<div class=\"alert alert-block\" style=\"border: 1px solid #FFB300;background-color:#F9FBE7;\">\n",
    "<font size=\"4em\" style=\"font-weight:bold;color:#3f8dbf;\">연습문제2</font><br>\n",
    "film_category 테이블에서 영화 아이디(film_id)가 2 인 영화의 카테고리 ID 알아내기<br>\n",
    "</div>"
   ]
  },
  {
   "cell_type": "markdown",
   "metadata": {},
   "source": [
    "<div class=\"alert alert-block\" style=\"border: 1px solid #FFB300;background-color:#F9FBE7;\">\n",
    "<font size=\"4em\" style=\"font-weight:bold;color:#3f8dbf;\">연습문제3</font><br>\n",
    "film_category 테이블에서 카테고리 ID별 영화 수 알아내기<br>\n",
    "</div>"
   ]
  },
  {
   "cell_type": "markdown",
   "metadata": {},
   "source": [
    "<div class=\"alert alert-block\" style=\"border: 1px solid #FFB300;background-color:#F9FBE7;\">\n",
    "<font size=\"4em\" style=\"font-weight:bold;color:#3f8dbf;\">연습문제4</font><br>\n",
    "카테고리가 Comedy 인 영화 수 알아내기 (JOIN 사용하기) <br>\n",
    "(category 테이블에는 카테고리 이름과 category_id, film_category 테이블에는 category_id와 각 영화 id가 있음)\n",
    "</div>"
   ]
  },
  {
   "cell_type": "markdown",
   "metadata": {},
   "source": [
    "<div class=\"alert alert-block\" style=\"border: 1px solid #FFB300;background-color:#F9FBE7;\">\n",
    "<font size=\"4em\" style=\"font-weight:bold;color:#3f8dbf;\">연습문제5</font><br>\n",
    "카테고리가 Comedy, Sports, Family 인 영화 수 알아내기 (JOIN 사용하기) <br>\n",
    "(category 테이블에는 카테고리 이름과 category_id, film_category 테이블에는 category_id와 각 영화 id가 있음)\n",
    "</div>"
   ]
  },
  {
   "cell_type": "markdown",
   "metadata": {},
   "source": [
    "<div class=\"alert alert-block\" style=\"border: 1px solid #FFB300;background-color:#F9FBE7;\">\n",
    "<font size=\"4em\" style=\"font-weight:bold;color:#3f8dbf;\">연습문제6 (HAVING 문법을 사용해서 작성해보세요!)</font><br>\n",
    "카테고리에 포함되는 각각의 영화 수가 70 이상인 카테고리 출력하기\n",
    "</div>"
   ]
  },
  {
   "cell_type": "markdown",
   "metadata": {},
   "source": [
    "<div class=\"alert alert-block\" style=\"border: 1px solid #FFB300;background-color:#F9FBE7;\">\n",
    "<font size=\"4em\" style=\"font-weight:bold;color:#3f8dbf;\">연습문제7</font><br>\n",
    "각 카테고리에 포함된 영화들의 렌탈 횟수 구해보기 (각 카테고리별에 포함된 영화들의 총 렌탈 횟수와 각 카테고리명을 출력하는 것이 최종 목표) <br>\n",
    "- rental 테이블에 렌탈 기록이 있음 <br>\n",
    "- inventory 테이블에 물품현황과 해당 물품(DVD)에 들어 있는 영화 아이디가 있음 <br>\n",
    "- film_category 테이블에 영화 아이디에 매칭되는 카테고리 아이디가 있음 <br>\n",
    "- category 테이블에 카테고리 아이디에 매칭되는 카테고리명이 있음\n",
    "</div>"
   ]
  },
  {
   "cell_type": "markdown",
   "metadata": {},
   "source": [
    "<div class=\"alert alert-block\" style=\"border: 1px solid #FFB300;background-color:#F9FBE7;\">\n",
    "<font size=\"4em\" style=\"font-weight:bold;color:#3f8dbf;\">연습문제8</font><br>\n",
    "\"Comedy\", \"Sports\", \"Family\" 카테고리에 포함되는 영화들의 렌탈 횟수 출력하기 (카테코리명, 렌탈 횟수)<br>\n",
    "- rental 테이블에 렌탈 기록이 있음 <br>\n",
    "- inventory 테이블에 물품현황과 해당 물품(DVD)에 들어 있는 영화 아이디가 있음 <br>\n",
    "- film_category 테이블에 영화 아이디에 매칭되는 카테고리 아이디가 있음 <br>\n",
    "- category 테이블에 카테고리 아이디에 매칭되는 카테고리명이 있음 <br>\n",
    "</div>"
   ]
  },
  {
   "cell_type": "markdown",
   "metadata": {},
   "source": [
    "<div class=\"alert alert-block\" style=\"border: 1px solid #FFB300;background-color:#F9FBE7;\">\n",
    "<font size=\"4em\" style=\"font-weight:bold;color:#3f8dbf;\">연습문제9 (서브쿼리 문법으로 작성해보세요!)</font><br>\n",
    "카테고리가 Comedy 인 데이터의 영화 갯수 출력하기\n",
    "</div>"
   ]
  },
  {
   "cell_type": "markdown",
   "metadata": {},
   "source": [
    "<div class=\"alert alert-block\" style=\"border: 1px solid #FFB300;background-color:#F9FBE7;\">\n",
    "<font size=\"4em\" style=\"font-weight:bold;color:#3f8dbf;\">연습문제10 (RIGHT JOIN 문법으로 작성해보세요!)</font><br>\n",
    "address 테이블에는 address_id 가 있지만, customer 테이블에는 없는 데이터의 갯수 출력하기\n",
    "</div>"
   ]
  },
  {
   "cell_type": "markdown",
   "metadata": {},
   "source": [
    "<div class=\"alert alert-block\" style=\"border: 1px solid #FFB300;background-color:#F9FBE7;\">\n",
    "<font size=\"4em\" style=\"font-weight:bold;color:#3f8dbf;\">연습문제11 (실전)</font><br>\n",
    "캐나다 고객에게 이메일 마케팅 캠페인을 진행하고자 합니다. 캐나다 고객의 이름과, email 주소 리스트를 뽑아주세요\n",
    "</div>"
   ]
  },
  {
   "cell_type": "markdown",
   "metadata": {},
   "source": [
    "<div class=\"alert alert-block\" style=\"border: 1px solid #FFB300;background-color:#F9FBE7;\">\n",
    "<font size=\"4em\" style=\"font-weight:bold;color:#3f8dbf;\">연습문제12 (실전)</font><br>\n",
    "젊은 가족 사이에서 매출이 저조해서, 모든 가족 영화를 홍보 대상으로 삼으려고 합니다. 가족 영화로 분류된 모든 영화 리스트를 뽑아주세요\n",
    "</div>"
   ]
  },
  {
   "cell_type": "markdown",
   "metadata": {},
   "source": [
    "<div class=\"alert alert-block\" style=\"border: 1px solid #FFB300;background-color:#F9FBE7;\">\n",
    "<font size=\"4em\" style=\"font-weight:bold;color:#3f8dbf;\">연습문제13 (실전)</font><br>\n",
    "가장 자주 대여하는 영화 리스트를 참고로 보고 싶습니다. 가장 자주 대여하는 영화 순으로 100개만 뽑아주세요<br>\n",
    "title (영화제목) 과 Rentals (렌탈 횟수) 로 보고 싶습니다.\n",
    "</div>"
   ]
  },
  {
   "cell_type": "markdown",
   "metadata": {},
   "source": [
    "<div class=\"alert alert-block\" style=\"border: 1px solid #FFB300;background-color:#F9FBE7;\">\n",
    "<font size=\"4em\" style=\"font-weight:bold;color:#3f8dbf;\">연습문제13 (실전)</font><br>\n",
    "각 스토어별로 매출을 확인하고 싶습니다. 관련 데이터를 출력해주세요<br>\n",
    "store_id (스토어 ID) 와 Revenue (총 amount) 로 보고 싶습니다.\n",
    "</div>"
   ]
  },
  {
   "cell_type": "markdown",
   "metadata": {},
   "source": [
    "<div class=\"alert alert-block\" style=\"border: 1px solid #FFB300;background-color:#F9FBE7;\">\n",
    "<font size=\"4em\" style=\"font-weight:bold;color:#3f8dbf;\">연습문제14 (실전)</font><br>\n",
    "각 스토어의 스토어 ID, 도시, 및 국가를 알고싶습니다. 관련 데이터를 출력해주세요<br>\n",
    "store_id, city, country 로 보고 싶습니다.\n",
    "</div>"
   ]
  },
  {
   "cell_type": "markdown",
   "metadata": {},
   "source": [
    "<div class=\"alert alert-block\" style=\"border: 1px solid #FFB300;background-color:#F9FBE7;\">\n",
    "<font size=\"4em\" style=\"font-weight:bold;color:#3f8dbf;\">연습문제15 (실전)</font><br>\n",
    "각 스토어의 스토어 ID, 도시, 및 국가를 알고싶습니다. 관련 데이터를 출력해주세요<br>\n",
    "store_id, city, country 로 보고 싶습니다.\n",
    "</div>"
   ]
  },
  {
   "cell_type": "markdown",
   "metadata": {},
   "source": [
    "<div class=\"alert alert-block\" style=\"border: 1px solid #FFB300;background-color:#F9FBE7;\">\n",
    "<font size=\"4em\" style=\"font-weight:bold;color:#3f8dbf;\">연습문제16 (실전)</font><br>\n",
    "새로운 임원이 부임했습니다. 총 매출액 상위 5개 장르의 매출액을 수시로 확인하고자 합니다.<br>\n",
    "Total Sales (각 장르별 총 매출액) 과 Genre (각 장르 이름) 으로 해당 데이터를 수시로 확인할 수 있는 view 를 keygenres 로 만들고, 현재까지의 상위 5 장르의 매출액을 출력해주세요<br>\n",
    "현재 접속해 있는 mysql 객체가 db 일 때, 데이터를 mysql 에 쓰기 위해서는 다음 코드를 사용하면 됨<br>\n",
    "<div class=\"alert alert-block\" style=\"border: 2px solid #E65100;background-color:#FFF3E0;padding:10px\">\n",
    "cursor = db.cursor() <br>\n",
    "cursor.execute(SQL) <br>\n",
    "db.commit()\n",
    "</div>    \n",
    "</div>"
   ]
  },
  {
   "cell_type": "markdown",
   "metadata": {
    "pycharm": {
     "name": "#%% md\n"
    }
   },
   "source": [
    "### 데이터베이스 접속 끊기"
   ]
  },
  {
   "cell_type": "code",
   "execution_count": 9,
   "metadata": {
    "pycharm": {
     "name": "#%%\n"
    }
   },
   "outputs": [],
   "source": [
    "db.close()"
   ]
  },
  {
   "cell_type": "markdown",
   "metadata": {},
   "source": [
    "<div class=\"alert alert-block\" style=\"border: 1px solid #455A64;background-color:#ECEFF1;padding:5px;font-size:0.9em;\">\n",
    "  본 자료와 관련 영상 컨텐츠는 저작권법 제25조 2항에 의해 보호를 받습니다. <br>본 컨텐츠 및 컨텐츠 일부 문구 등을 외부에 공개하거나, 요약해서 게시하지 말아주세요.<br>Copyright <a href=\"https://www.fun-coding.org\">잔재미코딩</a> Dave Lee\n",
    "</div>"
   ]
  }
 ],
 "metadata": {
  "kernelspec": {
   "display_name": "Python 3 (ipykernel)",
   "language": "python",
   "name": "python3"
  },
  "language_info": {
   "codemirror_mode": {
    "name": "ipython",
    "version": 3
   },
   "file_extension": ".py",
   "mimetype": "text/x-python",
   "name": "python",
   "nbconvert_exporter": "python",
   "pygments_lexer": "ipython3",
   "version": "3.9.12"
  }
 },
 "nbformat": 4,
 "nbformat_minor": 4
}
