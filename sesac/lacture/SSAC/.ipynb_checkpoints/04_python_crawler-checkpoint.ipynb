{
 "cells": [
  {
   "cell_type": "markdown",
   "metadata": {
    "id": "UsZSmAj47LXm",
    "slideshow": {
     "slide_type": "slide"
    }
   },
   "source": [
    "# **데이터 크롤링**"
   ]
  },
  {
   "cell_type": "markdown",
   "metadata": {
    "id": "qGMeSCoV7QTQ",
    "slideshow": {
     "slide_type": "slide"
    }
   },
   "source": [
    "## **크롤링이란?**\n",
    "> 크롤러(crawler)는 자동화된 방법으로 웹을 탐색하는 컴퓨터 프로그램  \n",
    "'웹 크롤링'(web crawling)??  \n",
    "'데이터 크롤링'(data crawling)!!  "
   ]
  },
  {
   "cell_type": "markdown",
   "metadata": {
    "id": "WboqZ6A47Yqe",
    "slideshow": {
     "slide_type": "slide"
    }
   },
   "source": [
    "우리는 매일 크롤러도 사용하고 있습니다."
   ]
  },
  {
   "cell_type": "markdown",
   "metadata": {
    "id": "5PfW0HG17td5",
    "slideshow": {
     "slide_type": "slide"
    }
   },
   "source": [
    "## **웹 크롤링**\n",
    "> 웹 서비스 내 정보를 수집하는 일  \n",
    "다만 서비스 제공자의 입장에서는??  \n",
    "\n",
    ">> 필요한 정보가 있다면?  \n",
    "API 확인 -> 없으면 직접 크롤링  "
   ]
  },
  {
   "cell_type": "markdown",
   "metadata": {
    "id": "e0ITGMAN70Da",
    "slideshow": {
     "slide_type": "slide"
    }
   },
   "source": [
    "### 웹 서핑을 하는 의식의 흐름\n",
    "> - 브라우저 오픈  \n",
    "> - 원하는 인터넷페이지 주소 입력  \n",
    "> - 화면이 열리면 찾고자 하는 정보를 스크롤 하면서 찾기  \n",
    "> - 문자, 그림, 동영상 조회  "
   ]
  },
  {
   "cell_type": "markdown",
   "metadata": {
    "id": "AWcggzcG728P",
    "slideshow": {
     "slide_type": "slide"
    }
   },
   "source": [
    "### 웹 크롤링 하는 의식의 흐름\n",
    "> - 정보를 가져오고자 하는 url 정의\n",
    "> - url 정보로 requests로 정보 요청\n",
    "> - text 정보를 html로 변환\n",
    "> - html에서 우리가 필요한 정보만 선별"
   ]
  },
  {
   "cell_type": "markdown",
   "metadata": {},
   "source": [
    "## requests\n",
    "> - HTTP 요청을 주고받기 위한 파이썬 패키지\n",
    "> - 파이썬 내장 패키지는 아니지만 사실상 HTTP 요청을 주고받기 위한 표준이라 생각해도 무방함\n",
    "> - 웹 페이지에 요청, 업데이트, 삭제 등 인터넷프로토콜을 파이썬으로 제어한다.\n",
    "> - requests는 요청을 하고 데이터를 전달 받지만 text 혹은 바이너리 형태로만 전달받음."
   ]
  },
  {
   "cell_type": "markdown",
   "metadata": {
    "id": "XT464CpR75Uh",
    "slideshow": {
     "slide_type": "slide"
    }
   },
   "source": [
    "## BeautifulSoup\n",
    "> - API는 통신을 위해 정형화 된 데이터 형태의 text, json등을 통신에 사용한다.  \n",
    "> - requests로 전달받은 데이터를 우리가 원하는 데이터로 가공하기 위해 편의상 html로 변환  \n",
    "> - text를 html로 변환하는 모듈이 beautifulSoup"
   ]
  },
  {
   "cell_type": "markdown",
   "metadata": {},
   "source": [
    "### BeautifulSoup 설치"
   ]
  },
  {
   "cell_type": "code",
   "execution_count": 7,
   "metadata": {
    "ExecuteTime": {
     "end_time": "2022-07-28T05:28:49.343397Z",
     "start_time": "2022-07-28T05:28:49.189009Z"
    }
   },
   "outputs": [],
   "source": [
    "# 패키지 설치 및 import \n",
    "# pip install BeautifulSoup4\n",
    "from bs4 import BeautifulSoup"
   ]
  },
  {
   "cell_type": "markdown",
   "metadata": {
    "id": "5j1oR5fO78FW",
    "slideshow": {
     "slide_type": "slide"
    }
   },
   "source": [
    "## 간단한 데이터 크롤링으로 기본 개념잡기"
   ]
  },
  {
   "cell_type": "code",
   "execution_count": 1,
   "metadata": {
    "ExecuteTime": {
     "end_time": "2022-07-28T05:21:16.259587Z",
     "start_time": "2022-07-28T05:21:14.919764Z"
    }
   },
   "outputs": [],
   "source": [
    "# 필요패키지 import\n",
    "import time\n",
    "import json\n",
    "import urllib\n",
    "import requests\n",
    "import numpy as np\n",
    "import pandas as pd\n",
    "import matplotlib.pyplot as plt\n",
    "import seaborn as sns"
   ]
  },
  {
   "cell_type": "markdown",
   "metadata": {},
   "source": [
    "#### 네이버 메인페이지 크롤링"
   ]
  },
  {
   "cell_type": "code",
   "execution_count": 11,
   "metadata": {
    "ExecuteTime": {
     "end_time": "2022-07-28T01:50:37.204103Z",
     "start_time": "2022-07-28T01:50:37.035271Z"
    },
    "scrolled": true
   },
   "outputs": [
    {
     "data": {
      "text/plain": [
       "[<img alt=\"서울경제\" class=\"news_logo\" height=\"20\" src=\"https://s.pstatic.net/static/newsstand/2019/logo/011.png\"/>,\n",
       " <img alt=\"블로터\" class=\"news_logo\" height=\"20\" src=\"https://s.pstatic.net/static/newsstand/2020/logo/light/0604/293.png\"/>,\n",
       " <img alt=\"SBS\" class=\"news_logo\" height=\"20\" src=\"https://s.pstatic.net/static/newsstand/2020/logo/light/0604/055.png\"/>,\n",
       " <img alt=\"JTBC\" class=\"news_logo\" height=\"20\" src=\"https://s.pstatic.net/static/newsstand/2020/logo/light/0604/904.png\"/>,\n",
       " <img alt=\"MBN\" class=\"news_logo\" height=\"20\" src=\"https://s.pstatic.net/static/newsstand/2020/logo/light/0604/057.png\"/>,\n",
       " <img alt=\"매일경제\" class=\"news_logo\" height=\"20\" src=\"https://s.pstatic.net/static/newsstand/2020/logo/light/0604/009.png\"/>,\n",
       " <img alt=\"오마이뉴스\" class=\"news_logo\" height=\"20\" src=\"https://s.pstatic.net/static/newsstand/2020/logo/light/0604/047.png\"/>,\n",
       " <img alt=\"일간스포츠\" class=\"news_logo\" height=\"20\" src=\"https://s.pstatic.net/static/newsstand/2020/logo/light/0604/241.png\"/>,\n",
       " <img alt=\"데일리안\" class=\"news_logo\" height=\"20\" src=\"https://s.pstatic.net/static/newsstand/2020/logo/light/0604/368.png\"/>,\n",
       " <img alt=\"미디어오늘\" class=\"news_logo\" height=\"20\" src=\"https://s.pstatic.net/static/newsstand/2020/logo/light/0604/006.png\"/>,\n",
       " <img alt=\"스포탈코리아\" class=\"news_logo\" height=\"20\" src=\"https://s.pstatic.net/static/newsstand/2020/logo/light/0604/139.png\"/>,\n",
       " <img alt=\"한국경제\" class=\"news_logo\" height=\"20\" src=\"https://s.pstatic.net/static/newsstand/2020/logo/light/0604/015.png\"/>,\n",
       " <img alt=\"스포츠서울\" class=\"news_logo\" height=\"20\" src=\"https://s.pstatic.net/static/newsstand/up/2020/0708/nsd94830278.png\"/>,\n",
       " <img alt=\"지디넷코리아\" class=\"news_logo\" height=\"20\" src=\"https://s.pstatic.net/static/newsstand/2020/logo/light/0604/092.png\"/>,\n",
       " <img alt=\"시사인\" class=\"news_logo\" height=\"20\" src=\"https://s.pstatic.net/static/newsstand/2020/logo/light/0604/308.png\"/>,\n",
       " <img alt=\"철강금속신문\" class=\"news_logo\" height=\"20\" src=\"https://s.pstatic.net/static/newsstand/2020/logo/light/0604/956.png\"/>,\n",
       " <img alt=\"비즈니스워치\" class=\"news_logo\" height=\"20\" src=\"https://s.pstatic.net/static/newsstand/up/2021/0329/nsd101654480.png\"/>,\n",
       " <img alt=\"시사오늘\" class=\"news_logo\" height=\"20\" src=\"https://s.pstatic.net/static/newsstand/2020/logo/light/0604/816.png\"/>,\n",
       " <img alt=\"산업일보\" class=\"news_logo\" height=\"20\" src=\"https://s.pstatic.net/static/newsstand/2020/logo/light/0604/808.png\"/>,\n",
       " <img alt=\"디자인정글\" class=\"news_logo\" height=\"20\" src=\"https://s.pstatic.net/static/newsstand/2020/logo/light/0604/345.png\"/>,\n",
       " <img alt=\"한경잡앤조이\" class=\"news_logo\" height=\"20\" src=\"https://s.pstatic.net/static/newsstand/up/2020/0615/nsd10319824.png\"/>,\n",
       " <img alt=\"뉴스엔\" class=\"news_logo\" height=\"20\" src=\"https://s.pstatic.net/static/newsstand/2020/logo/light/0604/447.png\"/>,\n",
       " <img alt=\"과학동아\" class=\"news_logo\" height=\"20\" src=\"https://s.pstatic.net/static/newsstand/2020/logo/light/0604/363.png\"/>,\n",
       " <img alt=\"독서신문\" class=\"news_logo\" height=\"20\" src=\"https://s.pstatic.net/static/newsstand/2020/logo/light/0604/955.png\"/>,\n",
       " <img alt=\"휴가지의 즐거움 가득, 불가리 리조트 컬렉션\" data-src=\"https://s.pstatic.net/static/www/mobile/edit/20220727/mobile_202925634601.jpg\" height=\"180\" onerror=\"this.outerHTML='&lt;span class=\\'pm_noimg\\'&gt;&lt;span class=\\'noimg_text\\'&gt;이미지 준비중&lt;/span&gt;&lt;/span&gt;'\" src=\"https://s.pstatic.net/static/www/mobile/edit/20220727/mobile_202925634601.jpg\" width=\"364\"/>,\n",
       " <img alt=\"사나 PICK 애쉬 브러쉬 아이라이너 1+1 기획\" data-src=\"https://s.pstatic.net/static/www/mobile/edit/20220727/mobile_203215987706.jpg\" height=\"180\" onerror=\"this.outerHTML='&lt;span class=\\'pm_noimg\\'&gt;&lt;span class=\\'noimg_text\\'&gt;이미지 준비중&lt;/span&gt;&lt;/span&gt;'\" src=\"https://s.pstatic.net/static/www/mobile/edit/20220727/mobile_203215987706.jpg\" width=\"364\"/>,\n",
       " <img alt=\"에크멀 글로이 틴트\" data-src=\"https://s.pstatic.net/dthumb.phinf/?src=%22https%3A%2F%2Fs.pstatic.net%2Fshop.phinf%2F20220725_20%2F1658711891803l7l23_JPEG%2F1-1.jpg%3Ftype%3Df342_342%22&amp;type=nf340_228\" height=\"114\" onerror=\"this.outerHTML='&lt;span class=\\'pm_noimg\\'&gt;&lt;span class=\\'noimg_text\\'&gt;이미지 준비중&lt;/span&gt;&lt;/span&gt;'\" src=\"https://s.pstatic.net/dthumb.phinf/?src=%22https%3A%2F%2Fs.pstatic.net%2Fshop.phinf%2F20220725_20%2F1658711891803l7l23_JPEG%2F1-1.jpg%3Ftype%3Df342_342%22&amp;type=nf340_228\" width=\"170\"/>,\n",
       " <img alt=\"머지 픽싱 마스카라\" data-src=\"https://s.pstatic.net/dthumb.phinf/?src=%22https%3A%2F%2Fs.pstatic.net%2Fshop.phinf%2F20220725_13%2F1658711894290UWB9S_JPEG%2F1-2.jpg%3Ftype%3Df342_342%22&amp;type=nf340_228\" height=\"114\" onerror=\"this.outerHTML='&lt;span class=\\'pm_noimg\\'&gt;&lt;span class=\\'noimg_text\\'&gt;이미지 준비중&lt;/span&gt;&lt;/span&gt;'\" src=\"https://s.pstatic.net/dthumb.phinf/?src=%22https%3A%2F%2Fs.pstatic.net%2Fshop.phinf%2F20220725_13%2F1658711894290UWB9S_JPEG%2F1-2.jpg%3Ftype%3Df342_342%22&amp;type=nf340_228\" width=\"170\"/>,\n",
       " <img alt=\"하킷 섀도 팔레트\" data-src=\"https://s.pstatic.net/dthumb.phinf/?src=%22https%3A%2F%2Fs.pstatic.net%2Fshop.phinf%2F20220725_32%2F1658711900031XQMhT_JPEG%2F1-4.jpg%3Ftype%3Df342_342%22&amp;type=nf340_228\" height=\"114\" onerror=\"this.outerHTML='&lt;span class=\\'pm_noimg\\'&gt;&lt;span class=\\'noimg_text\\'&gt;이미지 준비중&lt;/span&gt;&lt;/span&gt;'\" src=\"https://s.pstatic.net/dthumb.phinf/?src=%22https%3A%2F%2Fs.pstatic.net%2Fshop.phinf%2F20220725_32%2F1658711900031XQMhT_JPEG%2F1-4.jpg%3Ftype%3Df342_342%22&amp;type=nf340_228\" width=\"170\"/>,\n",
       " <img alt=\"네이밍 쿠션\" data-src=\"https://s.pstatic.net/dthumb.phinf/?src=%22https%3A%2F%2Fs.pstatic.net%2Fshop.phinf%2F20220725_13%2F1658711897487tJSTQ_JPEG%2F1-3.jpg%3Ftype%3Df342_342%22&amp;type=nf340_228\" height=\"114\" onerror=\"this.outerHTML='&lt;span class=\\'pm_noimg\\'&gt;&lt;span class=\\'noimg_text\\'&gt;이미지 준비중&lt;/span&gt;&lt;/span&gt;'\" src=\"https://s.pstatic.net/dthumb.phinf/?src=%22https%3A%2F%2Fs.pstatic.net%2Fshop.phinf%2F20220725_13%2F1658711897487tJSTQ_JPEG%2F1-3.jpg%3Ftype%3Df342_342%22&amp;type=nf340_228\" width=\"170\"/>,\n",
       " <img alt=\"\" data-src=\"https://s.pstatic.net/dthumb.phinf/?src=%22https%3A%2F%2Fs.pstatic.net%2Fshop.phinf%2F20220701_186%2F1656670379931AoN5V_JPEG%2F1655973442734.jpg%3Ftype%3Df342_264%22&amp;type=nf464_260\" height=\"130\" onerror=\"this.outerHTML='&lt;span class=\\'pm_noimg\\'&gt;&lt;span class=\\'noimg_text\\'&gt;이미지 준비중&lt;/span&gt;&lt;/span&gt;'\" src=\"https://s.pstatic.net/dthumb.phinf/?src=%22https%3A%2F%2Fs.pstatic.net%2Fshop.phinf%2F20220701_186%2F1656670379931AoN5V_JPEG%2F1655973442734.jpg%3Ftype%3Df342_264%22&amp;type=nf464_260\" width=\"232\"/>,\n",
       " <img alt=\"\" data-src=\"https://s.pstatic.net/dthumb.phinf/?src=%22https%3A%2F%2Fs.pstatic.net%2Fshop.phinf%2F20220422_128%2F1650589228697mj6Nq_JPEG%2F1650517831270.jpg%3Ftype%3Df342_264%22&amp;type=nf464_260\" height=\"130\" onerror=\"this.outerHTML='&lt;span class=\\'pm_noimg\\'&gt;&lt;span class=\\'noimg_text\\'&gt;이미지 준비중&lt;/span&gt;&lt;/span&gt;'\" src=\"https://s.pstatic.net/dthumb.phinf/?src=%22https%3A%2F%2Fs.pstatic.net%2Fshop.phinf%2F20220422_128%2F1650589228697mj6Nq_JPEG%2F1650517831270.jpg%3Ftype%3Df342_264%22&amp;type=nf464_260\" width=\"232\"/>,\n",
       " <img alt=\"\" data-src=\"https://s.pstatic.net/dthumb.phinf/?src=%22https%3A%2F%2Fs.pstatic.net%2Fshop.phinf%2F20220311_147%2F1647002844611XaLNx_JPEG%2F4Y.jpg%3Ftype%3Df342_264%22&amp;type=nf464_260\" height=\"130\" onerror=\"this.outerHTML='&lt;span class=\\'pm_noimg\\'&gt;&lt;span class=\\'noimg_text\\'&gt;이미지 준비중&lt;/span&gt;&lt;/span&gt;'\" src=\"https://s.pstatic.net/dthumb.phinf/?src=%22https%3A%2F%2Fs.pstatic.net%2Fshop.phinf%2F20220311_147%2F1647002844611XaLNx_JPEG%2F4Y.jpg%3Ftype%3Df342_264%22&amp;type=nf464_260\" width=\"232\"/>,\n",
       " <img alt=\"라네즈 네오 쿠션 색상 비교\" data-src=\"https://s.pstatic.net/dthumb.phinf/?src=%22https%3A%2F%2Fs.pstatic.net%2Fshop.phinf%2F20220726_170%2F1658825603162PGndR_JPEG%2FWQD.jpg%3Ftype%3Df342_264%22&amp;type=nf340_228\" height=\"114\" onerror=\"this.outerHTML='&lt;span class=\\'pm_noimg\\'&gt;&lt;span class=\\'noimg_text\\'&gt;이미지 준비중&lt;/span&gt;&lt;/span&gt;'\" src=\"https://s.pstatic.net/dthumb.phinf/?src=%22https%3A%2F%2Fs.pstatic.net%2Fshop.phinf%2F20220726_170%2F1658825603162PGndR_JPEG%2FWQD.jpg%3Ftype%3Df342_264%22&amp;type=nf340_228\" width=\"170\"/>,\n",
       " <img alt=\"페리페라X최고심\" data-src=\"https://s.pstatic.net/dthumb.phinf/?src=%22https%3A%2F%2Fs.pstatic.net%2Fshop.phinf%2F20220722_20%2F1658453317328xuIaw_JPEG%2F1-1.jpg%3Ftype%3Df342_342%22&amp;type=nf340_228\" height=\"114\" onerror=\"this.outerHTML='&lt;span class=\\'pm_noimg\\'&gt;&lt;span class=\\'noimg_text\\'&gt;이미지 준비중&lt;/span&gt;&lt;/span&gt;'\" src=\"https://s.pstatic.net/dthumb.phinf/?src=%22https%3A%2F%2Fs.pstatic.net%2Fshop.phinf%2F20220722_20%2F1658453317328xuIaw_JPEG%2F1-1.jpg%3Ftype%3Df342_342%22&amp;type=nf340_228\" width=\"170\"/>,\n",
       " <img alt=\"에뛰드 모디 네일\" data-src=\"https://s.pstatic.net/dthumb.phinf/?src=%22https%3A%2F%2Fs.pstatic.net%2Fshop.phinf%2F20220722_294%2F1658453320120aWUo9_JPEG%2F1-2.jpg%3Ftype%3Df342_342%22&amp;type=nf340_228\" height=\"114\" onerror=\"this.outerHTML='&lt;span class=\\'pm_noimg\\'&gt;&lt;span class=\\'noimg_text\\'&gt;이미지 준비중&lt;/span&gt;&lt;/span&gt;'\" src=\"https://s.pstatic.net/dthumb.phinf/?src=%22https%3A%2F%2Fs.pstatic.net%2Fshop.phinf%2F20220722_294%2F1658453320120aWUo9_JPEG%2F1-2.jpg%3Ftype%3Df342_342%22&amp;type=nf340_228\" width=\"170\"/>,\n",
       " <img alt=\"3pages 선크림\" data-src=\"https://s.pstatic.net/dthumb.phinf/?src=%22https%3A%2F%2Fs.pstatic.net%2Fshop.phinf%2F20220722_135%2F1658453323680RdsBw_JPEG%2F1-3.jpg%3Ftype%3Df342_342%22&amp;type=nf340_228\" height=\"114\" onerror=\"this.outerHTML='&lt;span class=\\'pm_noimg\\'&gt;&lt;span class=\\'noimg_text\\'&gt;이미지 준비중&lt;/span&gt;&lt;/span&gt;'\" src=\"https://s.pstatic.net/dthumb.phinf/?src=%22https%3A%2F%2Fs.pstatic.net%2Fshop.phinf%2F20220722_135%2F1658453323680RdsBw_JPEG%2F1-3.jpg%3Ftype%3Df342_342%22&amp;type=nf340_228\" width=\"170\"/>,\n",
       " <img alt=\"\" data-src=\"https://s.pstatic.net/dthumb.phinf/?src=%22https%3A%2F%2Fs.pstatic.net%2Fshop.phinf%2F20220128_285%2F1643357704567Kayvl_JPEG%2F1642734069085.jpg%3Ftype%3Df342_264%22&amp;type=nf464_260\" height=\"130\" onerror=\"this.outerHTML='&lt;span class=\\'pm_noimg\\'&gt;&lt;span class=\\'noimg_text\\'&gt;이미지 준비중&lt;/span&gt;&lt;/span&gt;'\" src=\"https://s.pstatic.net/dthumb.phinf/?src=%22https%3A%2F%2Fs.pstatic.net%2Fshop.phinf%2F20220128_285%2F1643357704567Kayvl_JPEG%2F1642734069085.jpg%3Ftype%3Df342_264%22&amp;type=nf464_260\" width=\"232\"/>,\n",
       " <img alt=\"\" data-src=\"https://s.pstatic.net/dthumb.phinf/?src=%22https%3A%2F%2Fs.pstatic.net%2Fshop.phinf%2F20220128_16%2F1643354378942FsNn1_PNG%2F2%25BF%25F93%25C0%25CF_%25C6%25D0%25BC%25C7%25BA%25E4%25C6%25BC%25C6%25C7_1%25B6%25F3%25C0%25CE_1%25B9%25F8%25BF%25B5%25BF%25AA.png%3Ftype%3Df750_372%22&amp;type=nf464_260\" height=\"130\" onerror=\"this.outerHTML='&lt;span class=\\'pm_noimg\\'&gt;&lt;span class=\\'noimg_text\\'&gt;이미지 준비중&lt;/span&gt;&lt;/span&gt;'\" src=\"https://s.pstatic.net/dthumb.phinf/?src=%22https%3A%2F%2Fs.pstatic.net%2Fshop.phinf%2F20220128_16%2F1643354378942FsNn1_PNG%2F2%25BF%25F93%25C0%25CF_%25C6%25D0%25BC%25C7%25BA%25E4%25C6%25BC%25C6%25C7_1%25B6%25F3%25C0%25CE_1%25B9%25F8%25BF%25B5%25BF%25AA.png%3Ftype%3Df750_372%22&amp;type=nf464_260\" width=\"232\"/>,\n",
       " <img alt=\"\" data-src=\"https://s.pstatic.net/dthumb.phinf/?src=%22https%3A%2F%2Fs.pstatic.net%2Fshop.phinf%2F20220128_284%2F1643356247610STjuu_JPEG%2F1643273879060.jpg%3Ftype%3Df342_264%22&amp;type=nf464_260\" height=\"130\" onerror=\"this.outerHTML='&lt;span class=\\'pm_noimg\\'&gt;&lt;span class=\\'noimg_text\\'&gt;이미지 준비중&lt;/span&gt;&lt;/span&gt;'\" src=\"https://s.pstatic.net/dthumb.phinf/?src=%22https%3A%2F%2Fs.pstatic.net%2Fshop.phinf%2F20220128_284%2F1643356247610STjuu_JPEG%2F1643273879060.jpg%3Ftype%3Df342_264%22&amp;type=nf464_260\" width=\"232\"/>,\n",
       " <img alt=\"헤라 글로우 틴트\" data-src=\"https://s.pstatic.net/dthumb.phinf/?src=%22https%3A%2F%2Fs.pstatic.net%2Fshop.phinf%2F20220721_29%2F1658380013816l07HF_JPEG%2F1-1.jpg%3Ftype%3Df342_342%22&amp;type=nf340_228\" height=\"114\" onerror=\"this.outerHTML='&lt;span class=\\'pm_noimg\\'&gt;&lt;span class=\\'noimg_text\\'&gt;이미지 준비중&lt;/span&gt;&lt;/span&gt;'\" width=\"170\"/>,\n",
       " <img alt=\"웨이크메이크 팔레트\" data-src=\"https://s.pstatic.net/dthumb.phinf/?src=%22https%3A%2F%2Fs.pstatic.net%2Fshop.phinf%2F20220721_207%2F1658380023707J8X9C_JPEG%2F1-4.jpg%3Ftype%3Df342_342%22&amp;type=nf340_228\" height=\"114\" onerror=\"this.outerHTML='&lt;span class=\\'pm_noimg\\'&gt;&lt;span class=\\'noimg_text\\'&gt;이미지 준비중&lt;/span&gt;&lt;/span&gt;'\" width=\"170\"/>,\n",
       " <img alt=\"비메이트 아이라이너\" data-src=\"https://s.pstatic.net/dthumb.phinf/?src=%22https%3A%2F%2Fs.pstatic.net%2Fshop.phinf%2F20220721_273%2F1658380020637YTDRU_JPEG%2F1-3.jpg%3Ftype%3Df342_342%22&amp;type=nf340_228\" height=\"114\" onerror=\"this.outerHTML='&lt;span class=\\'pm_noimg\\'&gt;&lt;span class=\\'noimg_text\\'&gt;이미지 준비중&lt;/span&gt;&lt;/span&gt;'\" width=\"170\"/>,\n",
       " <img alt=\"라네즈 네오 쿠션\" data-src=\"https://s.pstatic.net/dthumb.phinf/?src=%22https%3A%2F%2Fs.pstatic.net%2Fshop.phinf%2F20220721_35%2F165838001631658AgT_JPEG%2F1-2.jpg%3Ftype%3Df342_342%22&amp;type=nf340_228\" height=\"114\" onerror=\"this.outerHTML='&lt;span class=\\'pm_noimg\\'&gt;&lt;span class=\\'noimg_text\\'&gt;이미지 준비중&lt;/span&gt;&lt;/span&gt;'\" width=\"170\"/>,\n",
       " <img alt=\"지방시 파운데이션\" data-src=\"https://s.pstatic.net/dthumb.phinf/?src=%22https%3A%2F%2Fs.pstatic.net%2Fshop.phinf%2F20220720_173%2F1658295432536Mo7nc_JPEG%2F1-1.jpg%3Ftype%3Df342_342%22&amp;type=nf340_228\" height=\"114\" onerror=\"this.outerHTML='&lt;span class=\\'pm_noimg\\'&gt;&lt;span class=\\'noimg_text\\'&gt;이미지 준비중&lt;/span&gt;&lt;/span&gt;'\" width=\"170\"/>,\n",
       " <img alt=\"\" data-src=\"https://s.pstatic.net/dthumb.phinf/?src=%22https%3A%2F%2Fs.pstatic.net%2Fshop.phinf%2F20220103_121%2F1641201628440leXYK_JPEG%2F1640857552632.jpg%3Ftype%3Df342_264%22&amp;type=nf464_260\" height=\"130\" onerror=\"this.outerHTML='&lt;span class=\\'pm_noimg\\'&gt;&lt;span class=\\'noimg_text\\'&gt;이미지 준비중&lt;/span&gt;&lt;/span&gt;'\" width=\"232\"/>,\n",
       " <img alt=\"\" data-src=\"https://s.pstatic.net/dthumb.phinf/?src=%22https%3A%2F%2Fs.pstatic.net%2Fshop.phinf%2F20211231_117%2F1640937941359WDXHw_JPEG%2F1639730496796.jpg%3Ftype%3Df342_264%22&amp;type=nf464_260\" height=\"130\" onerror=\"this.outerHTML='&lt;span class=\\'pm_noimg\\'&gt;&lt;span class=\\'noimg_text\\'&gt;이미지 준비중&lt;/span&gt;&lt;/span&gt;'\" width=\"232\"/>,\n",
       " <img alt=\"\" data-src=\"https://s.pstatic.net/dthumb.phinf/?src=%22https%3A%2F%2Fs.pstatic.net%2Fshop.phinf%2F20211230_158%2F1640864260564Rn78l_JPEG%2F1640759261194.jpg%3Ftype%3Df342_264%22&amp;type=nf464_260\" height=\"130\" onerror=\"this.outerHTML='&lt;span class=\\'pm_noimg\\'&gt;&lt;span class=\\'noimg_text\\'&gt;이미지 준비중&lt;/span&gt;&lt;/span&gt;'\" width=\"232\"/>,\n",
       " <img alt=\"에뛰드 아이라이너\" data-src=\"https://s.pstatic.net/dthumb.phinf/?src=%22https%3A%2F%2Fs.pstatic.net%2Fshop.phinf%2F20220720_121%2F165829543502704Slv_JPEG%2F1-2.jpg%3Ftype%3Df342_342%22&amp;type=nf340_228\" height=\"114\" onerror=\"this.outerHTML='&lt;span class=\\'pm_noimg\\'&gt;&lt;span class=\\'noimg_text\\'&gt;이미지 준비중&lt;/span&gt;&lt;/span&gt;'\" width=\"170\"/>,\n",
       " <img alt=\"삐빕 푸딩 치크\" data-src=\"https://s.pstatic.net/dthumb.phinf/?src=%22https%3A%2F%2Fs.pstatic.net%2Fshop.phinf%2F20220720_44%2F1658295454776vKlFG_JPEG%2F1-3.jpg%3Ftype%3Df342_342%22&amp;type=nf340_228\" height=\"114\" onerror=\"this.outerHTML='&lt;span class=\\'pm_noimg\\'&gt;&lt;span class=\\'noimg_text\\'&gt;이미지 준비중&lt;/span&gt;&lt;/span&gt;'\" width=\"170\"/>,\n",
       " <img alt=\"문샷 벨벳 틴트\" data-src=\"https://s.pstatic.net/dthumb.phinf/?src=%22https%3A%2F%2Fs.pstatic.net%2Fshop.phinf%2F20220720_126%2F1658295457260wfcMW_JPEG%2F1-4.jpg%3Ftype%3Df342_342%22&amp;type=nf340_228\" height=\"114\" onerror=\"this.outerHTML='&lt;span class=\\'pm_noimg\\'&gt;&lt;span class=\\'noimg_text\\'&gt;이미지 준비중&lt;/span&gt;&lt;/span&gt;'\" width=\"170\"/>,\n",
       " <img alt=\"컬러그램 블러 틴트\" data-src=\"https://s.pstatic.net/dthumb.phinf/?src=%22https%3A%2F%2Fs.pstatic.net%2Fshop.phinf%2F20220720_195%2F1658295049640nchGB_JPEG%2F1-1.jpg%3Ftype%3Df342_342%22&amp;type=nf340_228\" height=\"114\" onerror=\"this.outerHTML='&lt;span class=\\'pm_noimg\\'&gt;&lt;span class=\\'noimg_text\\'&gt;이미지 준비중&lt;/span&gt;&lt;/span&gt;'\" width=\"170\"/>,\n",
       " <img alt=\"더 히스토리 오브 후\" data-src=\"https://s.pstatic.net/dthumb.phinf/?src=%22https%3A%2F%2Fs.pstatic.net%2Fshop.phinf%2F20220720_84%2F1658295052731t9AQq_JPEG%2F1-2.jpg%3Ftype%3Df342_342%22&amp;type=nf340_228\" height=\"114\" onerror=\"this.outerHTML='&lt;span class=\\'pm_noimg\\'&gt;&lt;span class=\\'noimg_text\\'&gt;이미지 준비중&lt;/span&gt;&lt;/span&gt;'\" width=\"170\"/>,\n",
       " <img alt=\"\" data-src=\"https://s.pstatic.net/dthumb.phinf/?src=%22https%3A%2F%2Fs.pstatic.net%2Fshop.phinf%2F20211230_65%2F16408592488816AY8m_JPEG%2F1640826062245.jpg%3Ftype%3Df342_264%22&amp;type=nf464_260\" height=\"130\" onerror=\"this.outerHTML='&lt;span class=\\'pm_noimg\\'&gt;&lt;span class=\\'noimg_text\\'&gt;이미지 준비중&lt;/span&gt;&lt;/span&gt;'\" width=\"232\"/>,\n",
       " <img alt=\"\" data-src=\"https://s.pstatic.net/dthumb.phinf/?src=%22https%3A%2F%2Fs.pstatic.net%2Fshop.phinf%2F20211228_100%2F1640683085849NRITv_JPEG%2F1640666040457.jpg%3Ftype%3Df342_264%22&amp;type=nf464_260\" height=\"130\" onerror=\"this.outerHTML='&lt;span class=\\'pm_noimg\\'&gt;&lt;span class=\\'noimg_text\\'&gt;이미지 준비중&lt;/span&gt;&lt;/span&gt;'\" width=\"232\"/>,\n",
       " <img alt=\"\" data-src=\"https://s.pstatic.net/dthumb.phinf/?src=%22https%3A%2F%2Fs.pstatic.net%2Fshop.phinf%2F20211228_112%2F1640682538703XhrkS_JPEG%2F1640336038796.jpg%3Ftype%3Df342_264%22&amp;type=nf464_260\" height=\"130\" onerror=\"this.outerHTML='&lt;span class=\\'pm_noimg\\'&gt;&lt;span class=\\'noimg_text\\'&gt;이미지 준비중&lt;/span&gt;&lt;/span&gt;'\" width=\"232\"/>,\n",
       " <img alt=\"씨스터앤 마스카라\" data-src=\"https://s.pstatic.net/dthumb.phinf/?src=%22https%3A%2F%2Fs.pstatic.net%2Fshop.phinf%2F20220720_223%2F1658295055834SBHxP_JPEG%2F1-3.jpg%3Ftype%3Df342_342%22&amp;type=nf340_228\" height=\"114\" onerror=\"this.outerHTML='&lt;span class=\\'pm_noimg\\'&gt;&lt;span class=\\'noimg_text\\'&gt;이미지 준비중&lt;/span&gt;&lt;/span&gt;'\" width=\"170\"/>,\n",
       " <img alt=\"발렌티노 아이 투 치크\" data-src=\"https://s.pstatic.net/dthumb.phinf/?src=%22https%3A%2F%2Fs.pstatic.net%2Fshop.phinf%2F20220720_19%2F1658295058128aeIow_JPEG%2F1-4.jpg%3Ftype%3Df342_342%22&amp;type=nf340_228\" height=\"114\" onerror=\"this.outerHTML='&lt;span class=\\'pm_noimg\\'&gt;&lt;span class=\\'noimg_text\\'&gt;이미지 준비중&lt;/span&gt;&lt;/span&gt;'\" width=\"170\"/>,\n",
       " <img alt=\"지방시 파우더\" data-src=\"https://s.pstatic.net/dthumb.phinf/?src=%22https%3A%2F%2Fs.pstatic.net%2Fshop.phinf%2F20220719_248%2F1658193016013Krsjp_JPEG%2F1-1.jpg%3Ftype%3Df342_342%22&amp;type=nf340_228\" height=\"114\" onerror=\"this.outerHTML='&lt;span class=\\'pm_noimg\\'&gt;&lt;span class=\\'noimg_text\\'&gt;이미지 준비중&lt;/span&gt;&lt;/span&gt;'\" width=\"170\"/>,\n",
       " <img alt=\"델켓 아이브로우\" data-src=\"https://s.pstatic.net/dthumb.phinf/?src=%22https%3A%2F%2Fs.pstatic.net%2Fshop.phinf%2F20220719_35%2F1658193021012NOV1e_JPEG%2F1-3.jpg%3Ftype%3Df342_342%22&amp;type=nf340_228\" height=\"114\" onerror=\"this.outerHTML='&lt;span class=\\'pm_noimg\\'&gt;&lt;span class=\\'noimg_text\\'&gt;이미지 준비중&lt;/span&gt;&lt;/span&gt;'\" width=\"170\"/>,\n",
       " <img alt=\"제스젭 섀도 팔레트\" data-src=\"https://s.pstatic.net/dthumb.phinf/?src=%22https%3A%2F%2Fs.pstatic.net%2Fshop.phinf%2F20220719_39%2F16581930231861VJ49_JPEG%2F1-4.jpg%3Ftype%3Df342_342%22&amp;type=nf340_228\" height=\"114\" onerror=\"this.outerHTML='&lt;span class=\\'pm_noimg\\'&gt;&lt;span class=\\'noimg_text\\'&gt;이미지 준비중&lt;/span&gt;&lt;/span&gt;'\" width=\"170\"/>,\n",
       " <img alt=\"\" data-src=\"https://s.pstatic.net/dthumb.phinf/?src=%22https%3A%2F%2Fs.pstatic.net%2Fshop.phinf%2F20211224_91%2F1640337619470281o9_JPEG%2F1640057008189.jpg%3Ftype%3Df342_264%22&amp;type=nf464_260\" height=\"130\" onerror=\"this.outerHTML='&lt;span class=\\'pm_noimg\\'&gt;&lt;span class=\\'noimg_text\\'&gt;이미지 준비중&lt;/span&gt;&lt;/span&gt;'\" width=\"232\"/>,\n",
       " <img alt=\"\" data-src=\"https://s.pstatic.net/dthumb.phinf/?src=%22https%3A%2F%2Fs.pstatic.net%2Fshop.phinf%2F20211223_266%2F1640256398641zcuWF_JPEG%2F1640056844546.jpg%3Ftype%3Df342_264%22&amp;type=nf464_260\" height=\"130\" onerror=\"this.outerHTML='&lt;span class=\\'pm_noimg\\'&gt;&lt;span class=\\'noimg_text\\'&gt;이미지 준비중&lt;/span&gt;&lt;/span&gt;'\" width=\"232\"/>,\n",
       " <img alt=\"\" data-src=\"https://s.pstatic.net/dthumb.phinf/?src=%22https%3A%2F%2Fs.pstatic.net%2Fshop.phinf%2F20211220_279%2F1639994184599mp2HA_JPEG%2F1638524039731.jpg%3Ftype%3Df342_264%22&amp;type=nf464_260\" height=\"130\" onerror=\"this.outerHTML='&lt;span class=\\'pm_noimg\\'&gt;&lt;span class=\\'noimg_text\\'&gt;이미지 준비중&lt;/span&gt;&lt;/span&gt;'\" width=\"232\"/>,\n",
       " <img alt=\"뷰티 캐리어+한정판 플로깅백\" data-src=\"https://s.pstatic.net/dthumb.phinf/?src=%22https%3A%2F%2Fs.pstatic.net%2Fshop.phinf%2F20220721_274%2F1658393021757Plx1a_JPEG%2Ftr4j6.jpg%3Ftype%3Df342_264%22&amp;type=nf340_228\" height=\"114\" onerror=\"this.outerHTML='&lt;span class=\\'pm_noimg\\'&gt;&lt;span class=\\'noimg_text\\'&gt;이미지 준비중&lt;/span&gt;&lt;/span&gt;'\" width=\"170\"/>,\n",
       " <img alt=\"이니스프리 듀이 틴트 립밤\" data-src=\"https://s.pstatic.net/dthumb.phinf/?src=%22https%3A%2F%2Fs.pstatic.net%2Fshop.phinf%2F20220721_18%2F1658393024632nJns7_JPEG%2Fqwd.jpg%3Ftype%3Df342_264%22&amp;type=nf340_228\" height=\"114\" onerror=\"this.outerHTML='&lt;span class=\\'pm_noimg\\'&gt;&lt;span class=\\'noimg_text\\'&gt;이미지 준비중&lt;/span&gt;&lt;/span&gt;'\" width=\"170\"/>,\n",
       " <img alt=\"라라베시 악마 쿠션\" data-src=\"https://s.pstatic.net/dthumb.phinf/?src=%22https%3A%2F%2Fs.pstatic.net%2Fshop.phinf%2F20220719_179%2F1658192082406VJSIU_JPEG%2F1-1.jpg%3Ftype%3Df342_342%22&amp;type=nf340_228\" height=\"114\" onerror=\"this.outerHTML='&lt;span class=\\'pm_noimg\\'&gt;&lt;span class=\\'noimg_text\\'&gt;이미지 준비중&lt;/span&gt;&lt;/span&gt;'\" width=\"170\"/>,\n",
       " <img alt=\"라부르켓 립마스크\" data-src=\"https://s.pstatic.net/dthumb.phinf/?src=%22https%3A%2F%2Fs.pstatic.net%2Fshop.phinf%2F20220719_264%2F1658192084322JxbVL_JPEG%2F1-2.jpg%3Ftype%3Df342_342%22&amp;type=nf340_228\" height=\"114\" onerror=\"this.outerHTML='&lt;span class=\\'pm_noimg\\'&gt;&lt;span class=\\'noimg_text\\'&gt;이미지 준비중&lt;/span&gt;&lt;/span&gt;'\" width=\"170\"/>,\n",
       " <img alt=\"3CE 듀 네일 컬러\" data-src=\"https://s.pstatic.net/dthumb.phinf/?src=%22https%3A%2F%2Fs.pstatic.net%2Fshop.phinf%2F20220719_62%2F16581920875565tHSU_JPEG%2F1-3.jpg%3Ftype%3Df342_342%22&amp;type=nf340_228\" height=\"114\" onerror=\"this.outerHTML='&lt;span class=\\'pm_noimg\\'&gt;&lt;span class=\\'noimg_text\\'&gt;이미지 준비중&lt;/span&gt;&lt;/span&gt;'\" width=\"170\"/>,\n",
       " <img alt=\"\" data-src=\"https://s.pstatic.net/dthumb.phinf/?src=%22https%3A%2F%2Fs.pstatic.net%2Fshop.phinf%2F20211203_229%2F1638526462481OS5t8_JPEG%2F1637286819699.jpg%3Ftype%3Df342_264%22&amp;type=nf464_260\" height=\"130\" onerror=\"this.outerHTML='&lt;span class=\\'pm_noimg\\'&gt;&lt;span class=\\'noimg_text\\'&gt;이미지 준비중&lt;/span&gt;&lt;/span&gt;'\" width=\"232\"/>,\n",
       " <img alt=\"\" data-src=\"https://s.pstatic.net/dthumb.phinf/?src=%22https%3A%2F%2Fs.pstatic.net%2Fshop.phinf%2F20211201_44%2F163835376209215hR1_JPEG%2F1637286758465.jpg%3Ftype%3Df342_264%22&amp;type=nf464_260\" height=\"130\" onerror=\"this.outerHTML='&lt;span class=\\'pm_noimg\\'&gt;&lt;span class=\\'noimg_text\\'&gt;이미지 준비중&lt;/span&gt;&lt;/span&gt;'\" width=\"232\"/>,\n",
       " <img alt=\"\" data-src=\"https://s.pstatic.net/dthumb.phinf/?src=%22https%3A%2F%2Fs.pstatic.net%2Fshop.phinf%2F20211130_206%2F1638256315842XcePG_JPEG%2F1637910133166.jpg%3Ftype%3Df342_264%22&amp;type=nf464_260\" height=\"130\" onerror=\"this.outerHTML='&lt;span class=\\'pm_noimg\\'&gt;&lt;span class=\\'noimg_text\\'&gt;이미지 준비중&lt;/span&gt;&lt;/span&gt;'\" width=\"232\"/>,\n",
       " <img alt=\"데이지크 틴트\" data-src=\"https://s.pstatic.net/dthumb.phinf/?src=%22https%3A%2F%2Fs.pstatic.net%2Fshop.phinf%2F20220719_68%2F1658192089558kAxS9_JPEG%2F1-4.jpg%3Ftype%3Df342_342%22&amp;type=nf340_228\" height=\"114\" onerror=\"this.outerHTML='&lt;span class=\\'pm_noimg\\'&gt;&lt;span class=\\'noimg_text\\'&gt;이미지 준비중&lt;/span&gt;&lt;/span&gt;'\" width=\"170\"/>,\n",
       " <img alt=\"로라 메르시에 블러시\" data-src=\"https://s.pstatic.net/dthumb.phinf/?src=%22https%3A%2F%2Fs.pstatic.net%2Fshop.phinf%2F20220718_249%2F16581219787619GlrC_JPEG%2F1-1.jpg%3Ftype%3Df342_342%22&amp;type=nf340_228\" height=\"114\" onerror=\"this.outerHTML='&lt;span class=\\'pm_noimg\\'&gt;&lt;span class=\\'noimg_text\\'&gt;이미지 준비중&lt;/span&gt;&lt;/span&gt;'\" width=\"170\"/>,\n",
       " <img alt=\"프레시안 센슈얼 립밤\" data-src=\"https://s.pstatic.net/dthumb.phinf/?src=%22https%3A%2F%2Fs.pstatic.net%2Fshop.phinf%2F20220718_287%2F1658121981047L1SNE_JPEG%2F1-2.jpg%3Ftype%3Df342_342%22&amp;type=nf340_228\" height=\"114\" onerror=\"this.outerHTML='&lt;span class=\\'pm_noimg\\'&gt;&lt;span class=\\'noimg_text\\'&gt;이미지 준비중&lt;/span&gt;&lt;/span&gt;'\" width=\"170\"/>,\n",
       " <img alt=\"클리오 마그넷 팩트\" data-src=\"https://s.pstatic.net/dthumb.phinf/?src=%22https%3A%2F%2Fs.pstatic.net%2Fshop.phinf%2F20220718_50%2F1658121984885mEjCx_JPEG%2F1-3.jpg%3Ftype%3Df342_342%22&amp;type=nf340_228\" height=\"114\" onerror=\"this.outerHTML='&lt;span class=\\'pm_noimg\\'&gt;&lt;span class=\\'noimg_text\\'&gt;이미지 준비중&lt;/span&gt;&lt;/span&gt;'\" width=\"170\"/>,\n",
       " <img alt=\"아리따움 섀도 팔레트\" data-src=\"https://s.pstatic.net/dthumb.phinf/?src=%22https%3A%2F%2Fs.pstatic.net%2Fshop.phinf%2F20220718_226%2F1658121987097WnUop_JPEG%2F1-4.jpg%3Ftype%3Df342_342%22&amp;type=nf340_228\" height=\"114\" onerror=\"this.outerHTML='&lt;span class=\\'pm_noimg\\'&gt;&lt;span class=\\'noimg_text\\'&gt;이미지 준비중&lt;/span&gt;&lt;/span&gt;'\" width=\"170\"/>,\n",
       " <img alt=\"\" data-src=\"https://s.pstatic.net/dthumb.phinf/?src=%22https%3A%2F%2Fs.pstatic.net%2Fshop.phinf%2F20211112_203%2F1636710914109mSA0U_JPEG%2F1636601393876.jpg%3Ftype%3Df342_264%22&amp;type=nf464_260\" height=\"130\" onerror=\"this.outerHTML='&lt;span class=\\'pm_noimg\\'&gt;&lt;span class=\\'noimg_text\\'&gt;이미지 준비중&lt;/span&gt;&lt;/span&gt;'\" width=\"232\"/>,\n",
       " <img alt=\"\" data-src=\"https://s.pstatic.net/dthumb.phinf/?src=%22https%3A%2F%2Fs.pstatic.net%2Fshop.phinf%2F20211112_258%2F1636710644861Nv3bA_JPEG%2F1636358456340.jpg%3Ftype%3Df342_264%22&amp;type=nf464_260\" height=\"130\" onerror=\"this.outerHTML='&lt;span class=\\'pm_noimg\\'&gt;&lt;span class=\\'noimg_text\\'&gt;이미지 준비중&lt;/span&gt;&lt;/span&gt;'\" width=\"232\"/>,\n",
       " <img alt=\"\" data-src=\"https://s.pstatic.net/dthumb.phinf/?src=%22https%3A%2F%2Fs.pstatic.net%2Fshop.phinf%2F20211105_59%2F1636102836897JDiWN_JPEG%2F1635742520424.jpg%3Ftype%3Df342_264%22&amp;type=nf464_260\" height=\"130\" onerror=\"this.outerHTML='&lt;span class=\\'pm_noimg\\'&gt;&lt;span class=\\'noimg_text\\'&gt;이미지 준비중&lt;/span&gt;&lt;/span&gt;'\" width=\"232\"/>,\n",
       " <img alt=\"헤라 센슈얼 피팅 글로우 틴트\" data-src=\"https://s.pstatic.net/dthumb.phinf/?src=%22https%3A%2F%2Fs.pstatic.net%2Fshop.phinf%2F20220719_163%2F165822454587467FHd_JPEG%2Fre.jpg%3Ftype%3Df342_264%22&amp;type=nf340_228\" height=\"114\" onerror=\"this.outerHTML='&lt;span class=\\'pm_noimg\\'&gt;&lt;span class=\\'noimg_text\\'&gt;이미지 준비중&lt;/span&gt;&lt;/span&gt;'\" width=\"170\"/>,\n",
       " <img alt=\"아이오페 안티에이징 앰플 추천\" data-src=\"https://s.pstatic.net/dthumb.phinf/?src=%22https%3A%2F%2Fs.pstatic.net%2Fshop.phinf%2F20220719_209%2F1658224558535qQYS4_JPEG%2Fwq.jpg%3Ftype%3Df342_264%22&amp;type=nf340_228\" height=\"114\" onerror=\"this.outerHTML='&lt;span class=\\'pm_noimg\\'&gt;&lt;span class=\\'noimg_text\\'&gt;이미지 준비중&lt;/span&gt;&lt;/span&gt;'\" width=\"170\"/>,\n",
       " <img alt=\"더후 궁중동안 립밤\" data-src=\"https://s.pstatic.net/dthumb.phinf/?src=%22https%3A%2F%2Fs.pstatic.net%2Fshop.phinf%2F20220715_119%2F1657866580957M2pQq_JPEG%2F1-1.jpg%3Ftype%3Df342_342%22&amp;type=nf340_228\" height=\"114\" onerror=\"this.outerHTML='&lt;span class=\\'pm_noimg\\'&gt;&lt;span class=\\'noimg_text\\'&gt;이미지 준비중&lt;/span&gt;&lt;/span&gt;'\" width=\"170\"/>,\n",
       " <img alt=\"헤라 아이브로우\" data-src=\"https://s.pstatic.net/dthumb.phinf/?src=%22https%3A%2F%2Fs.pstatic.net%2Fshop.phinf%2F20220715_247%2F16578665829826PcRg_JPEG%2F1-2.jpg%3Ftype%3Df342_342%22&amp;type=nf340_228\" height=\"114\" onerror=\"this.outerHTML='&lt;span class=\\'pm_noimg\\'&gt;&lt;span class=\\'noimg_text\\'&gt;이미지 준비중&lt;/span&gt;&lt;/span&gt;'\" width=\"170\"/>,\n",
       " <img alt=\"3CE 페이스 블러셔\" data-src=\"https://s.pstatic.net/dthumb.phinf/?src=%22https%3A%2F%2Fs.pstatic.net%2Fshop.phinf%2F20220715_14%2F1657866586684z8SR8_JPEG%2F1-3.jpg%3Ftype%3Df342_342%22&amp;type=nf340_228\" height=\"114\" onerror=\"this.outerHTML='&lt;span class=\\'pm_noimg\\'&gt;&lt;span class=\\'noimg_text\\'&gt;이미지 준비중&lt;/span&gt;&lt;/span&gt;'\" width=\"170\"/>,\n",
       " <img alt=\"\" data-src=\"https://s.pstatic.net/dthumb.phinf/?src=%22https%3A%2F%2Fs.pstatic.net%2Fshop.phinf%2F20211007_295%2F1633596470719RyEAp_JPEG%2F1632979602172.jpg%3Ftype%3Df342_264%22&amp;type=nf464_260\" height=\"130\" onerror=\"this.outerHTML='&lt;span class=\\'pm_noimg\\'&gt;&lt;span class=\\'noimg_text\\'&gt;이미지 준비중&lt;/span&gt;&lt;/span&gt;'\" width=\"232\"/>,\n",
       " <img alt=\"\" data-src=\"https://s.pstatic.net/dthumb.phinf/?src=%22https%3A%2F%2Fs.pstatic.net%2Fshop.phinf%2F20211007_74%2F1633596157560ltzvx_JPEG%2F1633513266503.jpg%3Ftype%3Df342_264%22&amp;type=nf464_260\" height=\"130\" onerror=\"this.outerHTML='&lt;span class=\\'pm_noimg\\'&gt;&lt;span class=\\'noimg_text\\'&gt;이미지 준비중&lt;/span&gt;&lt;/span&gt;'\" width=\"232\"/>,\n",
       " <img alt=\"\" data-src=\"https://s.pstatic.net/dthumb.phinf/?src=%22https%3A%2F%2Fs.pstatic.net%2Fshop.phinf%2F20211005_180%2F1633421677693sh9bC_JPEG%2F1632979687664.jpg%3Ftype%3Df342_264%22&amp;type=nf464_260\" height=\"130\" onerror=\"this.outerHTML='&lt;span class=\\'pm_noimg\\'&gt;&lt;span class=\\'noimg_text\\'&gt;이미지 준비중&lt;/span&gt;&lt;/span&gt;'\" width=\"232\"/>,\n",
       " <img alt=\"폴앤조 바디 프라이머\" data-src=\"https://s.pstatic.net/dthumb.phinf/?src=%22https%3A%2F%2Fs.pstatic.net%2Fshop.phinf%2F20220715_158%2F1657866588730lzmU5_JPEG%2F1-4.jpg%3Ftype%3Df342_342%22&amp;type=nf340_228\" height=\"114\" onerror=\"this.outerHTML='&lt;span class=\\'pm_noimg\\'&gt;&lt;span class=\\'noimg_text\\'&gt;이미지 준비중&lt;/span&gt;&lt;/span&gt;'\" width=\"170\"/>,\n",
       " <img alt=\"키르시 롱래쉬 카라\" data-src=\"https://s.pstatic.net/dthumb.phinf/?src=%22https%3A%2F%2Fs.pstatic.net%2Fshop.phinf%2F20220715_175%2F16578535342243Wm2x_JPEG%2F1-1.jpg%3Ftype%3Df342_342%22&amp;type=nf340_228\" height=\"114\" onerror=\"this.outerHTML='&lt;span class=\\'pm_noimg\\'&gt;&lt;span class=\\'noimg_text\\'&gt;이미지 준비중&lt;/span&gt;&lt;/span&gt;'\" width=\"170\"/>,\n",
       " <img alt=\"토니모리 쇼킹립 틴트\" data-src=\"https://s.pstatic.net/dthumb.phinf/?src=%22https%3A%2F%2Fs.pstatic.net%2Fshop.phinf%2F20220715_235%2F1657853536848vqRXQ_JPEG%2F1-2.jpg%3Ftype%3Df342_342%22&amp;type=nf340_228\" height=\"114\" onerror=\"this.outerHTML='&lt;span class=\\'pm_noimg\\'&gt;&lt;span class=\\'noimg_text\\'&gt;이미지 준비중&lt;/span&gt;&lt;/span&gt;'\" width=\"170\"/>,\n",
       " <img alt=\"아이소이 비건 쿠션\" data-src=\"https://s.pstatic.net/dthumb.phinf/?src=%22https%3A%2F%2Fs.pstatic.net%2Fshop.phinf%2F20220715_156%2F1657853540615Tza5z_JPEG%2F1-3.jpg%3Ftype%3Df342_342%22&amp;type=nf340_228\" height=\"114\" onerror=\"this.outerHTML='&lt;span class=\\'pm_noimg\\'&gt;&lt;span class=\\'noimg_text\\'&gt;이미지 준비중&lt;/span&gt;&lt;/span&gt;'\" width=\"170\"/>,\n",
       " <img alt=\"로아르 아이 팔레트\" data-src=\"https://s.pstatic.net/dthumb.phinf/?src=%22https%3A%2F%2Fs.pstatic.net%2Fshop.phinf%2F20220715_270%2F1657853543203cPEpu_JPEG%2F1-4.jpg%3Ftype%3Df342_342%22&amp;type=nf340_228\" height=\"114\" onerror=\"this.outerHTML='&lt;span class=\\'pm_noimg\\'&gt;&lt;span class=\\'noimg_text\\'&gt;이미지 준비중&lt;/span&gt;&lt;/span&gt;'\" width=\"170\"/>,\n",
       " <img alt=\"\" data-src=\"https://s.pstatic.net/dthumb.phinf/?src=%22https%3A%2F%2Fs.pstatic.net%2Fshop.phinf%2F20211005_76%2F1633420418481JOT5v_JPEG%2F1632381010451.jpg%3Ftype%3Df342_264%22&amp;type=nf464_260\" height=\"130\" onerror=\"this.outerHTML='&lt;span class=\\'pm_noimg\\'&gt;&lt;span class=\\'noimg_text\\'&gt;이미지 준비중&lt;/span&gt;&lt;/span&gt;'\" width=\"232\"/>,\n",
       " <img alt=\"\" data-src=\"https://s.pstatic.net/dthumb.phinf/?src=%22https%3A%2F%2Fs.pstatic.net%2Fshop.phinf%2F20211005_141%2F1633420926640NyaSV_JPEG%2F1632900585344.jpg%3Ftype%3Df342_264%22&amp;type=nf464_260\" height=\"130\" onerror=\"this.outerHTML='&lt;span class=\\'pm_noimg\\'&gt;&lt;span class=\\'noimg_text\\'&gt;이미지 준비중&lt;/span&gt;&lt;/span&gt;'\" width=\"232\"/>,\n",
       " <img alt=\"\" data-src=\"https://s.pstatic.net/dthumb.phinf/?src=%22https%3A%2F%2Fs.pstatic.net%2Fshop.phinf%2F20211001_246%2F16330827301517yOel_JPEG%2F1632825076479.jpg%3Ftype%3Df342_264%22&amp;type=nf464_260\" height=\"130\" onerror=\"this.outerHTML='&lt;span class=\\'pm_noimg\\'&gt;&lt;span class=\\'noimg_text\\'&gt;이미지 준비중&lt;/span&gt;&lt;/span&gt;'\" width=\"232\"/>,\n",
       " <img alt=\"헤라 누드 글로스\" data-src=\"https://s.pstatic.net/dthumb.phinf/?src=%22https%3A%2F%2Fs.pstatic.net%2Fshop.phinf%2F20220714_109%2F1657781492407jCMUz_JPEG%2F1-1.jpg%3Ftype%3Df342_342%22&amp;type=nf340_228\" height=\"114\" onerror=\"this.outerHTML='&lt;span class=\\'pm_noimg\\'&gt;&lt;span class=\\'noimg_text\\'&gt;이미지 준비중&lt;/span&gt;&lt;/span&gt;'\" width=\"170\"/>,\n",
       " <img alt=\"라타플랑 선크림\" data-src=\"https://s.pstatic.net/dthumb.phinf/?src=%22https%3A%2F%2Fs.pstatic.net%2Fshop.phinf%2F20220714_231%2F1657781494801NvO1s_JPEG%2F1-2.jpg%3Ftype%3Df342_342%22&amp;type=nf340_228\" height=\"114\" onerror=\"this.outerHTML='&lt;span class=\\'pm_noimg\\'&gt;&lt;span class=\\'noimg_text\\'&gt;이미지 준비중&lt;/span&gt;&lt;/span&gt;'\" width=\"170\"/>,\n",
       " <img alt=\"롬앤 섀도 팔레트\" data-src=\"https://s.pstatic.net/dthumb.phinf/?src=%22https%3A%2F%2Fs.pstatic.net%2Fshop.phinf%2F20220714_27%2F1657781498060lh7Ad_JPEG%2F1-3.jpg%3Ftype%3Df342_342%22&amp;type=nf340_228\" height=\"114\" onerror=\"this.outerHTML='&lt;span class=\\'pm_noimg\\'&gt;&lt;span class=\\'noimg_text\\'&gt;이미지 준비중&lt;/span&gt;&lt;/span&gt;'\" width=\"170\"/>,\n",
       " <img alt=\"브이앤에이 쿠션\" data-src=\"https://s.pstatic.net/dthumb.phinf/?src=%22https%3A%2F%2Fs.pstatic.net%2Fshop.phinf%2F20220714_151%2F165778150037385m3t_JPEG%2F1-4.jpg%3Ftype%3Df342_342%22&amp;type=nf340_228\" height=\"114\" onerror=\"this.outerHTML='&lt;span class=\\'pm_noimg\\'&gt;&lt;span class=\\'noimg_text\\'&gt;이미지 준비중&lt;/span&gt;&lt;/span&gt;'\" width=\"170\"/>,\n",
       " <img alt=\"3CE 아이 팔레트\" data-src=\"https://s.pstatic.net/dthumb.phinf/?src=%22https%3A%2F%2Fs.pstatic.net%2Fshop.phinf%2F20220712_273%2F1657613207874UfunB_JPEG%2F1-1.jpg%3Ftype%3Df342_342%22&amp;type=nf340_228\" height=\"114\" onerror=\"this.outerHTML='&lt;span class=\\'pm_noimg\\'&gt;&lt;span class=\\'noimg_text\\'&gt;이미지 준비중&lt;/span&gt;&lt;/span&gt;'\" width=\"170\"/>,\n",
       " <img alt=\"\" data-src=\"https://s.pstatic.net/dthumb.phinf/?src=%22https%3A%2F%2Fs.pstatic.net%2Fshop.phinf%2F20211001_300%2F1633081965574dveip_JPEG%2F1632368275846.jpg%3Ftype%3Df342_264%22&amp;type=nf464_260\" height=\"130\" onerror=\"this.outerHTML='&lt;span class=\\'pm_noimg\\'&gt;&lt;span class=\\'noimg_text\\'&gt;이미지 준비중&lt;/span&gt;&lt;/span&gt;'\" width=\"232\"/>,\n",
       " <img alt=\"\" data-src=\"https://s.pstatic.net/dthumb.phinf/?src=%22https%3A%2F%2Fs.pstatic.net%2Fshop.phinf%2F20211001_42%2F1633082249949lvugR_JPEG%2F1632967120093.jpg%3Ftype%3Df342_264%22&amp;type=nf464_260\" height=\"130\" onerror=\"this.outerHTML='&lt;span class=\\'pm_noimg\\'&gt;&lt;span class=\\'noimg_text\\'&gt;이미지 준비중&lt;/span&gt;&lt;/span&gt;'\" width=\"232\"/>,\n",
       " <img alt=\"\" data-src=\"https://s.pstatic.net/dthumb.phinf/?src=%22https%3A%2F%2Fs.pstatic.net%2Fshop.phinf%2F20210930_107%2F16329973720887ikkC_JPEG%2F%25BF%25C0%25B4%25C3%25C0%25C7%25BA%25E4%25C6%25BC_10%25BF%25F95%25C0%25CF_2.jpg%3Ftype%3Df342_264%22&amp;type=nf464_260\" height=\"130\" onerror=\"this.outerHTML='&lt;span class=\\'pm_noimg\\'&gt;&lt;span class=\\'noimg_text\\'&gt;이미지 준비중&lt;/span&gt;&lt;/span&gt;'\" width=\"232\"/>,\n",
       " <img alt=\"바닐라코 파우더\" data-src=\"https://s.pstatic.net/dthumb.phinf/?src=%22https%3A%2F%2Fs.pstatic.net%2Fshop.phinf%2F20220712_288%2F1657613210087hpxCq_JPEG%2F1-2.jpg%3Ftype%3Df342_342%22&amp;type=nf340_228\" height=\"114\" onerror=\"this.outerHTML='&lt;span class=\\'pm_noimg\\'&gt;&lt;span class=\\'noimg_text\\'&gt;이미지 준비중&lt;/span&gt;&lt;/span&gt;'\" width=\"170\"/>,\n",
       " <img alt=\"클리오 블러 틴트\" data-src=\"https://s.pstatic.net/dthumb.phinf/?src=%22https%3A%2F%2Fs.pstatic.net%2Fshop.phinf%2F20220712_214%2F1657613213598oErtx_JPEG%2F1-3.jpg%3Ftype%3Df342_342%22&amp;type=nf340_228\" height=\"114\" onerror=\"this.outerHTML='&lt;span class=\\'pm_noimg\\'&gt;&lt;span class=\\'noimg_text\\'&gt;이미지 준비중&lt;/span&gt;&lt;/span&gt;'\" width=\"170\"/>,\n",
       " <img alt=\"젝시믹스 듀얼 컨실러\" data-src=\"https://s.pstatic.net/dthumb.phinf/?src=%22https%3A%2F%2Fs.pstatic.net%2Fshop.phinf%2F20220712_24%2F1657613215375c5Tah_JPEG%2F1-4.jpg%3Ftype%3Df342_342%22&amp;type=nf340_228\" height=\"114\" onerror=\"this.outerHTML='&lt;span class=\\'pm_noimg\\'&gt;&lt;span class=\\'noimg_text\\'&gt;이미지 준비중&lt;/span&gt;&lt;/span&gt;'\" width=\"170\"/>,\n",
       " <img alt=\"디올 포에버 3종\" data-src=\"https://s.pstatic.net/dthumb.phinf/?src=%22https%3A%2F%2Fs.pstatic.net%2Fshop.phinf%2F20220712_206%2F1657593449275J3bVe_JPEG%2F1-1.jpg%3Ftype%3Df342_342%22&amp;type=nf340_228\" height=\"114\" onerror=\"this.outerHTML='&lt;span class=\\'pm_noimg\\'&gt;&lt;span class=\\'noimg_text\\'&gt;이미지 준비중&lt;/span&gt;&lt;/span&gt;'\" width=\"170\"/>,\n",
       " <img alt=\"럽럽코스메틱 틴트\" data-src=\"https://s.pstatic.net/dthumb.phinf/?src=%22https%3A%2F%2Fs.pstatic.net%2Fshop.phinf%2F20220712_203%2F1657593451831pyFq6_JPEG%2F1-2.jpg%3Ftype%3Df342_342%22&amp;type=nf340_228\" height=\"114\" onerror=\"this.outerHTML='&lt;span class=\\'pm_noimg\\'&gt;&lt;span class=\\'noimg_text\\'&gt;이미지 준비중&lt;/span&gt;&lt;/span&gt;'\" width=\"170\"/>,\n",
       " <img alt=\"\" data-src=\"https://s.pstatic.net/dthumb.phinf/?src=%22https%3A%2F%2Fs.pstatic.net%2Fshop.phinf%2F20210930_43%2F1632997682303Wr9H9_JPEG%2F1631847476979.jpg%3Ftype%3Df342_264%22&amp;type=nf464_260\" height=\"130\" onerror=\"this.outerHTML='&lt;span class=\\'pm_noimg\\'&gt;&lt;span class=\\'noimg_text\\'&gt;이미지 준비중&lt;/span&gt;&lt;/span&gt;'\" width=\"232\"/>,\n",
       " <img alt=\"\" data-src=\"https://s.pstatic.net/dthumb.phinf/?src=%22https%3A%2F%2Fs.pstatic.net%2Fshop.phinf%2F20210929_233%2F1632918146584BTsxu_JPEG%2F%25BF%25C0%25B4%25C3%25C0%25C7%25BA%25EA%25B7%25A3%25B5%25E5%25BC%25D2%25BD%25C4_10%25BF%25F93%25C0%25CF.jpg%3Ftype%3Df342_264%22&amp;type=nf464_260\" height=\"130\" onerror=\"this.outerHTML='&lt;span class=\\'pm_noimg\\'&gt;&lt;span class=\\'noimg_text\\'&gt;이미지 준비중&lt;/span&gt;&lt;/span&gt;'\" width=\"232\"/>,\n",
       " <img alt=\"\" data-src=\"https://s.pstatic.net/dthumb.phinf/?src=%22https%3A%2F%2Fs.pstatic.net%2Fshop.phinf%2F20210929_173%2F1632885678062w6qHw_JPEG%2FKakaoTalk_20210929_115422275.jpg%3Ftype%3Df342_264%22&amp;type=nf464_260\" height=\"130\" onerror=\"this.outerHTML='&lt;span class=\\'pm_noimg\\'&gt;&lt;span class=\\'noimg_text\\'&gt;이미지 준비중&lt;/span&gt;&lt;/span&gt;'\" width=\"232\"/>,\n",
       " <img alt=\"성분에디터 선 앰플\" data-src=\"https://s.pstatic.net/dthumb.phinf/?src=%22https%3A%2F%2Fs.pstatic.net%2Fshop.phinf%2F20220712_46%2F16575934546316hnKU_JPEG%2F1-3.jpg%3Ftype%3Df342_342%22&amp;type=nf340_228\" height=\"114\" onerror=\"this.outerHTML='&lt;span class=\\'pm_noimg\\'&gt;&lt;span class=\\'noimg_text\\'&gt;이미지 준비중&lt;/span&gt;&lt;/span&gt;'\" width=\"170\"/>,\n",
       " <img alt=\"머지 마스카라\" data-src=\"https://s.pstatic.net/dthumb.phinf/?src=%22https%3A%2F%2Fs.pstatic.net%2Fshop.phinf%2F20220712_14%2F1657593456911E1mxn_JPEG%2F1-4.jpg%3Ftype%3Df342_342%22&amp;type=nf340_228\" height=\"114\" onerror=\"this.outerHTML='&lt;span class=\\'pm_noimg\\'&gt;&lt;span class=\\'noimg_text\\'&gt;이미지 준비중&lt;/span&gt;&lt;/span&gt;'\" width=\"170\"/>,\n",
       " <img alt=\"필드 뷰티 캐리어 한정판\" data-src=\"https://s.pstatic.net/dthumb.phinf/?src=%22https%3A%2F%2Fs.pstatic.net%2Fshop.phinf%2F20220714_3%2F165778851888241BUi_JPEG%2FAWD.jpg%3Ftype%3Df342_264%22&amp;type=nf340_228\" height=\"114\" onerror=\"this.outerHTML='&lt;span class=\\'pm_noimg\\'&gt;&lt;span class=\\'noimg_text\\'&gt;이미지 준비중&lt;/span&gt;&lt;/span&gt;'\" width=\"170\"/>,\n",
       " <img alt=\"헤라 파운데이션 4컬러 발색\" data-src=\"https://s.pstatic.net/dthumb.phinf/?src=%22https%3A%2F%2Fs.pstatic.net%2Fshop.phinf%2F20220714_107%2F1657788502863kLQmv_JPEG%2FAF.jpg%3Ftype%3Df342_264%22&amp;type=nf340_228\" height=\"114\" onerror=\"this.outerHTML='&lt;span class=\\'pm_noimg\\'&gt;&lt;span class=\\'noimg_text\\'&gt;이미지 준비중&lt;/span&gt;&lt;/span&gt;'\" width=\"170\"/>,\n",
       " <img alt=\"홀리카홀리카 라이너\" data-src=\"https://s.pstatic.net/dthumb.phinf/?src=%22https%3A%2F%2Fs.pstatic.net%2Fshop.phinf%2F20220711_79%2F165753408042166xmH_JPEG%2F1-1.jpg%3Ftype%3Df342_342%22&amp;type=nf340_228\" height=\"114\" onerror=\"this.outerHTML='&lt;span class=\\'pm_noimg\\'&gt;&lt;span class=\\'noimg_text\\'&gt;이미지 준비중&lt;/span&gt;&lt;/span&gt;'\" width=\"170\"/>,\n",
       " <img alt=\"\" data-src=\"https://s.pstatic.net/dthumb.phinf/?src=%22https%3A%2F%2Fs.pstatic.net%2Fshop.phinf%2F20210917_14%2F16318689326717EsU3_JPEG%2F1631779148409.jpg%3Ftype%3Df342_264%22&amp;type=nf464_260\" height=\"130\" onerror=\"this.outerHTML='&lt;span class=\\'pm_noimg\\'&gt;&lt;span class=\\'noimg_text\\'&gt;이미지 준비중&lt;/span&gt;&lt;/span&gt;'\" width=\"232\"/>,\n",
       " <img alt=\"\" data-src=\"https://s.pstatic.net/dthumb.phinf/?src=%22https%3A%2F%2Fs.pstatic.net%2Fshop.phinf%2F20210915_89%2F1631709951208DrtdH_JPEG%2F1631615122828.jpg%3Ftype%3Df342_264%22&amp;type=nf464_260\" height=\"130\" onerror=\"this.outerHTML='&lt;span class=\\'pm_noimg\\'&gt;&lt;span class=\\'noimg_text\\'&gt;이미지 준비중&lt;/span&gt;&lt;/span&gt;'\" width=\"232\"/>,\n",
       " <img alt=\"\" data-src=\"https://s.pstatic.net/dthumb.phinf/?src=%22https%3A%2F%2Fs.pstatic.net%2Fshop.phinf%2F20210916_193%2F1631791861563odWcf_JPEG%2F1631526723559.jpg%3Ftype%3Df342_264%22&amp;type=nf464_260\" height=\"130\" onerror=\"this.outerHTML='&lt;span class=\\'pm_noimg\\'&gt;&lt;span class=\\'noimg_text\\'&gt;이미지 준비중&lt;/span&gt;&lt;/span&gt;'\" width=\"232\"/>,\n",
       " <img alt=\"웨일\" height=\"48\" src=\"data:image/png;base64,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\" width=\"48\"/>,\n",
       " <img alt=\"꽃\" height=\"50\" src=\"data:image/png;base64,iVBORw0KGgoAAAANSUhEUgAAAF4AAABkCAMAAAA47XeXAAAAgVBMVEUAAADN5PdGm99Gm99Gm99Gm99Gm95Gm99Gm99Gm99Gm99Gm99Gm99Gm99Gm99Gm99Gm99Gm99Gm99Gm99Gm99Gm99Gm99Gmt9Gm99Gm99Gm99Gm95Gm99Gm99Gm95Gm99Hm99Gm99Gm9/////3+/5cp+LO5PfR5/fO5fdcp+P7/f/zv5GhAAAAInRSTlMA/v7vH9u5qJNgGwb6l8a9uqF9WFUyLxYMCtbVmLCwe4OCj8gzEgAAA0NJREFUaN7NmmFz4iAQhkkwMTHGWrWtWvWuq8mF+/8/8Ey2nb0OhSwQZnw+MHQ7pbjAy2s2gsuiLPJMLpcyy4tyISZltnmHbxw3MzEVr/MUNNL5q5iCt2ccXCN9fhPB7CQYkTsRRlWDlboSAexzGCHfC28OKxhldfDOzBMwePLNTw0sauHFFphshQcLCUwkaQRfXYBPSkrEUBdv3jezcXXhw1ciUhc+fCUidQlH7qzqEk5d2dQlnHxvU5dwVgdXdSGclaiGyamt6hLO1qIu4ZASzcFE092SBprk1jagulvXAAw/qb5N7m176xQYmOPoLymYaK/X65/PNhlagE6LGUhfRM8FjNzuf/73//bHmInzoJEpjMyeWpp9RzGz/PT6+QvMNO2Q+67PPeYZY5h7jDVg5OM+/BGikd13JfDAj/Ad1WLMyEyUwKPT00ypN1GKAljQJtFiFgqRe86eYhbWIvPPPR5d+9pKiIgUwKNJdHXBvW9jyRye1EWLWYfnJcd141Byspizz7gbUyWDuqiW0v15D9g3ZgF86JwyKUgUHJaATUmS5rsEdkkTZLjZS8Alw+skFr8Nl6H6uosShaKOp3Zo+/jgFTDe+wcSfv0yFGfQaLX7tDO0reXOPRuMCG4Q11Y3IiYblWgzS7R+h31qdRtlGB7zikeUckz+AB3a8FuMqD7Cd2nhUHLOEIkLubQIkEuLxIdwEwUy3HyXxsbgPMJcGuGox+TSIugxuTQ+KHIaAS5N92eIIuMT5tJoPfHy5q9yKoXLelLuKRri0mjMQdhwTPw6Sv8pzKXhFyhNilEwkSCXRrnAnaPnJdyl0UrqXircpeHVglnv+62K4NJo3lFcGmWd79KO7OQoXAE8XNO6tIQGxj7fpfHTwk8RubQLWEGvgTNGKzj01fixunCMCCYcvSSlaFwUyKVx86J3bczpUR3zimq1LqdosAUbJF54ar+uk5Gju436mPTk8ZAXFdO93HRYTesUVgf3B+y0XdxLfdVputmfKp/iBtNjyl3c0kzUwtJIWewIPvAL9LOyWLsV9WAps3VRzh6hJBm3oOqsRKfHLGYzS/GP+iLBuBKdqkd+iWPkFZTHf4Em4us/uhI5qss/6zK5u8+AXpwAAAAASUVORK5CYII=\" width=\"47\"/>]"
      ]
     },
     "execution_count": 11,
     "metadata": {},
     "output_type": "execute_result"
    }
   ],
   "source": [
    "'''\n",
    "정보를 가져오고자 하는 url 정의\n",
    "url 정보로 requests로 정보 요청\n",
    "text 정보를 html로 변환\n",
    "html에서 우리가 필요한 정보만 선별\n",
    "'''\n",
    "# url정의\n",
    "url = 'https://www.naver.com/'\n",
    "# requsts로 url에 정보요청\n",
    "resp= requests.get(url)\n",
    "# 정보를 html 변환 (보기 쉽게)\n",
    "html=BeautifulSoup(resp.text, 'html.parser')\n",
    "# html 내에서 우리가 보고 싶은 정보만 선별\n",
    "html.select('img')"
   ]
  },
  {
   "cell_type": "code",
   "execution_count": 15,
   "metadata": {
    "ExecuteTime": {
     "end_time": "2022-07-28T02:33:14.196726Z",
     "start_time": "2022-07-28T02:33:14.179783Z"
    },
    "scrolled": true
   },
   "outputs": [
    {
     "data": {
      "text/plain": [
       "[<strong class=\"title\">오늘 읽을만한 글</strong>,\n",
       " <strong class=\"title\">휴가지의 즐거움 가득, 불가리 리조트 컬렉션</strong>,\n",
       " <strong class=\"title\">사나 PICK 애쉬 브러쉬 아이라이너 1+1 기획</strong>,\n",
       " <strong class=\"title elss\">에크멀 글로이 틴트</strong>,\n",
       " <strong class=\"title elss\">머지 픽싱 마스카라</strong>,\n",
       " <strong class=\"title elss\">하킷 섀도 팔레트</strong>,\n",
       " <strong class=\"title elss\">네이밍 쿠션</strong>,\n",
       " <strong class=\"title\">핫한 신상 비교 분석 후기</strong>,\n",
       " <strong class=\"title\">기존 TOP 제품보다 더 좋을까?</strong>,\n",
       " <strong class=\"title\">디파가 추천하는 다이소 꿀템</strong>,\n",
       " <strong class=\"title elss\">라네즈 네오 쿠션 색상 비교</strong>,\n",
       " <strong class=\"title elss\">페리페라X최고심</strong>,\n",
       " <strong class=\"title elss\">에뛰드 모디 네일</strong>,\n",
       " <strong class=\"title elss\">3pages 선크림</strong>,\n",
       " <strong class=\"title\">탄력 유지를 위한 필수 루틴은</strong>,\n",
       " <strong class=\"title\">NO.1 브로우 브랜드</strong>,\n",
       " <strong class=\"title\">목적에 맞게 선택하는 클렌저</strong>,\n",
       " <strong class=\"title elss\">헤라 글로우 틴트</strong>,\n",
       " <strong class=\"title elss\">웨이크메이크 팔레트</strong>,\n",
       " <strong class=\"title elss\">비메이트 아이라이너</strong>,\n",
       " <strong class=\"title elss\">라네즈 네오 쿠션</strong>,\n",
       " <strong class=\"title elss\">지방시 파운데이션</strong>,\n",
       " <strong class=\"title\">제가 본 제품 중 최고였어요</strong>,\n",
       " <strong class=\"title\">겨울철 각질 잠재우는 꿀팁</strong>,\n",
       " <strong class=\"title\">피부 좋아지는 마스크팩 사용법</strong>,\n",
       " <strong class=\"title elss\">에뛰드 아이라이너</strong>,\n",
       " <strong class=\"title elss\">삐빕 푸딩 치크</strong>,\n",
       " <strong class=\"title elss\">문샷 벨벳 틴트</strong>,\n",
       " <strong class=\"title elss\">컬러그램 블러 틴트</strong>,\n",
       " <strong class=\"title elss\">더 히스토리 오브 후</strong>,\n",
       " <strong class=\"title\">고르고 고른 클렌저 &amp; 선크림</strong>,\n",
       " <strong class=\"title\">인생 쿠션 4대 천왕 비교 추천</strong>,\n",
       " <strong class=\"title\">기초 부문 TOP of TOP 제품</strong>,\n",
       " <strong class=\"title elss\">씨스터앤 마스카라</strong>,\n",
       " <strong class=\"title elss\">발렌티노 아이 투 치크</strong>,\n",
       " <strong class=\"title elss\">지방시 파우더</strong>,\n",
       " <strong class=\"title elss\">델켓 아이브로우</strong>,\n",
       " <strong class=\"title elss\">제스젭 섀도 팔레트</strong>,\n",
       " <strong class=\"title\">코트 입을 때 흔히 하는 실수</strong>,\n",
       " <strong class=\"title\">한 끗 차이로 다른 부츠 코디</strong>,\n",
       " <strong class=\"title\">기은세의 여행을 위한 패딩 룩</strong>,\n",
       " <strong class=\"title elss\">뷰티 캐리어+한정판 플로깅백</strong>,\n",
       " <strong class=\"title elss\">이니스프리 듀이 틴트 립밤</strong>,\n",
       " <strong class=\"title elss\">라라베시 악마 쿠션</strong>,\n",
       " <strong class=\"title elss\">라부르켓 립마스크</strong>,\n",
       " <strong class=\"title elss\">3CE 듀 네일 컬러</strong>,\n",
       " <strong class=\"title\">명품 안 부러운 인생 코트 10</strong>,\n",
       " <strong class=\"title\">예쁜 옷 고를 때 보는 포인트</strong>,\n",
       " <strong class=\"title\">채정안의 한겨울 아우터 추천</strong>,\n",
       " <strong class=\"title elss\">데이지크 틴트</strong>,\n",
       " <strong class=\"title elss\">로라 메르시에 블러시</strong>,\n",
       " <strong class=\"title elss\">프레시안 센슈얼 립밤</strong>,\n",
       " <strong class=\"title elss\">클리오 마그넷 팩트</strong>,\n",
       " <strong class=\"title elss\">아리따움 섀도 팔레트</strong>,\n",
       " <strong class=\"title\">피지 제거, 세정력 꼼꼼 비교</strong>,\n",
       " <strong class=\"title\">채정안의 바디케어 꿀조합은?</strong>,\n",
       " <strong class=\"title\">여배우의 마사지 비법 대공개</strong>,\n",
       " <strong class=\"title elss\">헤라 센슈얼 피팅 글로우 틴트</strong>,\n",
       " <strong class=\"title elss\">아이오페 안티에이징 앰플 추천</strong>,\n",
       " <strong class=\"title elss\">더후 궁중동안 립밤</strong>,\n",
       " <strong class=\"title elss\">헤라 아이브로우</strong>,\n",
       " <strong class=\"title elss\">3CE 페이스 블러셔</strong>,\n",
       " <strong class=\"title\">워커부터 로퍼, 첼시부츠까지</strong>,\n",
       " <strong class=\"title\">스우파 스타일 메이크업 도전</strong>,\n",
       " <strong class=\"title\">딱 하나만 제대로 사야한다면</strong>,\n",
       " <strong class=\"title elss\">폴앤조 바디 프라이머</strong>,\n",
       " <strong class=\"title elss\">키르시 롱래쉬 카라</strong>,\n",
       " <strong class=\"title elss\">토니모리 쇼킹립 틴트</strong>,\n",
       " <strong class=\"title elss\">아이소이 비건 쿠션</strong>,\n",
       " <strong class=\"title elss\">로아르 아이 팔레트</strong>,\n",
       " <strong class=\"title\">갓성비 탄력 앰플 &amp; 크림 추천</strong>,\n",
       " <strong class=\"title\">자라 하반기 잇템 리스트 체크</strong>,\n",
       " <strong class=\"title\">편안하면서 고급스러운 필수템</strong>,\n",
       " <strong class=\"title elss\">헤라 누드 글로스</strong>,\n",
       " <strong class=\"title elss\">라타플랑 선크림</strong>,\n",
       " <strong class=\"title elss\">롬앤 섀도 팔레트</strong>,\n",
       " <strong class=\"title elss\">브이앤에이 쿠션</strong>,\n",
       " <strong class=\"title elss\">3CE 아이 팔레트</strong>,\n",
       " <strong class=\"title\">메이크업 픽서 TOP of TOP 대결</strong>,\n",
       " <strong class=\"title\">FW 새롭게 뜨는 패션 트렌드</strong>,\n",
       " <strong class=\"title\">여드름 피부를 위한 트러블 케어</strong>,\n",
       " <strong class=\"title elss\">바닐라코 파우더</strong>,\n",
       " <strong class=\"title elss\">클리오 블러 틴트</strong>,\n",
       " <strong class=\"title elss\">젝시믹스 듀얼 컨실러</strong>,\n",
       " <strong class=\"title elss\">디올 포에버 3종</strong>,\n",
       " <strong class=\"title elss\">럽럽코스메틱 틴트</strong>,\n",
       " <strong class=\"title\">스스로 선물한 명품 시계 언박싱</strong>,\n",
       " <strong class=\"title\">bye od-td, 평생 내돈내산할 제품</strong>,\n",
       " <strong class=\"title\">화보 찍기 전 날 나이트 루틴</strong>,\n",
       " <strong class=\"title elss\">성분에디터 선 앰플</strong>,\n",
       " <strong class=\"title elss\">머지 마스카라</strong>,\n",
       " <strong class=\"title elss\">필드 뷰티 캐리어 한정판</strong>,\n",
       " <strong class=\"title elss\">헤라 파운데이션 4컬러 발색</strong>,\n",
       " <strong class=\"title elss\">홀리카홀리카 라이너</strong>,\n",
       " <strong class=\"title\">F/W 트레이닝복 브랜드 모음</strong>,\n",
       " <strong class=\"title\">쟁여놓고 써야하는 올영 잇템 8</strong>,\n",
       " <strong class=\"title\">아무리 발라도 건조한 당신에게</strong>,\n",
       " <strong class=\"title\">웨일 브라우저</strong>,\n",
       " <strong class=\"title\">프로젝트 꽃</strong>]"
      ]
     },
     "execution_count": 15,
     "metadata": {},
     "output_type": "execute_result"
    }
   ],
   "source": [
    "html.select('strong.title')"
   ]
  },
  {
   "cell_type": "markdown",
   "metadata": {},
   "source": [
    "#### 실제 개발자가 작성한 코드로 확인된다\n",
    "> 정제되지 않은 데이터로 가독성이 좋지 않음  \n",
    "우리는 이 중에서 우리가 원하는 정보를 선별해서 가져오는 작업을 진행합니다.  \n",
    "그러기에 html의 기본 구성을 살펴보도록 하겠습니다.  "
   ]
  },
  {
   "cell_type": "markdown",
   "metadata": {},
   "source": [
    "#### 웹 페이지의 구성\n",
    "> **HTML(Hyper Text Markup Language)**  \n",
    "www 를 구성하는데 사용하는 국제표준 언어로서 컨텐츠와 레이아웃을 담고 있다\n",
    "\n",
    "> **<태그>** 내용 **</태그>**  \n",
    "<tag이름 class=\"class이름1 class이름2\" id=\"주민번호\" href=\"주소\"></tag이름>\n",
    "\n",
    "> 형태나 속성을 묘사하기 위한 구조적 언어 : HTML, CSS (계층이 있음)  \n",
    "웹의 작동 및 제어를 위한 프로그래밍 언어 :  Js"
   ]
  },
  {
   "cell_type": "markdown",
   "metadata": {},
   "source": [
    "#### 셀렉터\n",
    "> 용도 : html에서 내가 원하는 내용을 찾아내기 위해서  \n",
    "<span class=\"news\" id=\"1234\">현대모비스 뉴스1</span>  \n",
    "<span class=\"product\" id=\"1235\">현대모비스 뉴스2</span>  \n",
    "\n",
    "> 단일 셀렉터 html.select('span')\n",
    ">> <span class=\"news\" id=\"1234\">현대모비스 뉴스1</span>  \n",
    "<span class=\"product\" id=\"1235\">현대모비스 뉴스2</span>  \n",
    "\n",
    "> 클래스 포함 셀렉터 html.select('span.news')  \n",
    ">> <span class=\"news\" id=\"1234\">현대모비스 뉴스1</span>  \n",
    "\n",
    "> id 포함 셀렉터 html.select('span#1235')  \n",
    ">> <span class=\"product\" id=\"1235\">현대모비스 뉴스2</span>  "
   ]
  },
  {
   "cell_type": "markdown",
   "metadata": {},
   "source": [
    "#### 복합 셀렉터\n",
    "<span>1</span>  \n",
    "<span class=\"txt\">2</span>  \n",
    "<em class=\"txt\">3</em>  \n",
    "\n",
    "> 태그 이름이 span이고 클래스 이름은 txt인 라인을 찾고 싶다. : span.txt  \n",
    "> em 태그 중에서 class가 txt 인 라인을 찾고 싶다. : em.txt  \n",
    "\n",
    "#### 경로 셀렉터\n",
    "<ul>\n",
    "    <li><span>이걸 찾으려면?</span></li>\n",
    "</ul>\n",
    "<span>이건 아님</span>\n",
    "\n",
    "> ul 태그안 li 태그 안 span 라인을 찾는다  \n",
    "ul > li > span 혹은 ul li span"
   ]
  },
  {
   "cell_type": "markdown",
   "metadata": {},
   "source": [
    "### 다음 뉴스페이지 뉴스 헤더 크롤링"
   ]
  },
  {
   "cell_type": "code",
   "execution_count": 32,
   "metadata": {
    "ExecuteTime": {
     "end_time": "2022-07-28T02:44:43.556645Z",
     "start_time": "2022-07-28T02:44:43.446102Z"
    }
   },
   "outputs": [
    {
     "name": "stdout",
     "output_type": "stream",
     "text": [
      "박순애 부총리 \"자녀 생기부 공개는 자녀가 반대해서 힘들어\"\n",
      "18년전 전공노 파업 대량징계 상처..원주시 노조 \"응어리 풀자\"\n",
      "尹 \"공매도 불행행위 뿌리 뽑아야\" 대책 수립 지시\n",
      "감기약 비상에..제약사 \"올 휴가엔 공장 셧다운 없어요\"\n",
      "한국도 일본풍 미소녀 게임에 홀렸다..'리니지 철옹성' 지각 변동\n",
      "\"공매도 과열 종목, 다음날 거래 중지 시킬 것\"\n",
      "'광복절 특사' 기업인 대거 포함되나.. 이르면 주중 尹에 명단 보고\n",
      "밀양서 3주간 열린 대한민국 연극제 \"유료 공연 좌석 거의 차\"\n",
      "한은 금통위, 주금공에 1200억원 출자 의결\n",
      "사우디 \"1천300조원 들여 사막에 스마트도시\"..전문가는 갸우뚱\n",
      "박진, 이신화 北인권대사 임명장 전수..'5년 공석' 채웠다\n",
      "시진핑 \"중국, 위험·도전 더 복잡해져..인민 위해 봉사해야\"\n",
      "경찰, '성남FC 의혹' 이재명 檢 송치 가닥..김혜경 마무리 단계\n",
      "뉴질랜드, 국호 '아오테아로아'로 바뀌나\n",
      "유류세 인하폭 확대 한달..경유는 여전히 2000원대\n",
      "앨런 길버트 \"8년만에 내한..열정 있는 한국서 다시 연주 기뻐\"[인터뷰]\n",
      "대법 \"포스코, 사내하청 직접 고용해야\" 근로자 지위 인정\n",
      "김정은, 한미훈련 겨냥 '최고수위 말폭탄'.. 핵실험 도발 명분쌓기\n",
      "\"윤석열과 군사깡패들 추태·객기\"  김정은, 대통령 직함 뺀 채 원색비난\n",
      "미 전략사령관 \"외국 위협 대응해 핵 시스템 현대화 해야\"\n",
      "[인터뷰]앨런 길버트 \"8년만에 내한..열정 있는 한국서 다시 연주 기뻐\"\n",
      "[금융가 인사이드] 카드업계는 '고통분담' 예외?..'몽니'에 좌초된 '카드론 대환대출'\n",
      "[무등의 아침] 기상천외한 시험지 유출..소 잃고도 외양간 안 고쳤나?\n",
      "美 자이언트스텝에 한·미 기준금리 역전..3대 포인트 점검 [조미현의 외환·금융 워치]\n",
      "[약손+] 다이어트① 세 명 중 한 명이 비만?\n",
      "[올댓차이나] 위안화 기준치 1달러=6.7411위안..0.47% 절상\n",
      "[뉴스라이브] '尹 문자'·'경찰국 신설' 정치권 시끌..與 정우택 의원의 생각은?\n",
      "에쓰오일, 분기 영업익만 1조7000억..'또 사상최대'\n",
      "'전승절' 기념행사에 참석한 북한 김정은과 리설주\n",
      "폴란드 하늘 수 놓은 블랙이글스\n",
      "\"오늘은 내가 괴산군수입니다\"\n",
      "법원, '대규모 집회' 주도 혐의 양경수에 징역형 집행유예 선고\n",
      "뉴스홈\n",
      "사회\n",
      "정치\n",
      "경제\n",
      "국제\n",
      "문화\n",
      "IT\n",
      "포토\n",
      "언론사별 뉴스\n",
      "배열이력\n",
      "전체뉴스\n",
      "연재\n",
      "팩트체크\n"
     ]
    }
   ],
   "source": [
    "# 다음 뉴스 페이지 크롤링\n",
    "# url정의\n",
    "url='https://news.daum.net/'\n",
    "\n",
    "# requsts로 url에 정보요청\n",
    "resp= requests.get(url)\n",
    "\n",
    "# 정보를 html 변환 (보기 쉽게)\n",
    "html=BeautifulSoup(resp.text, 'html.parser')\n",
    "\n",
    "# html 내에서 뉴스헤더 선별\n",
    "for item in html.select('a.link_txt'):\n",
    "    print(item.text.strip())"
   ]
  },
  {
   "cell_type": "code",
   "execution_count": null,
   "metadata": {},
   "outputs": [],
   "source": []
  },
  {
   "cell_type": "markdown",
   "metadata": {
    "ExecuteTime": {
     "end_time": "2022-06-05T08:49:06.402572Z",
     "start_time": "2022-06-05T08:49:06.394988Z"
    }
   },
   "source": [
    "## 패턴 URL 크롤링\n",
    "앞으로는 패턴을 순환하는 크롤링이 진행이 되는데 서비스 제공자가 이를 감지하고 기계적인 접속을 차단하는 경우가 많습니다.  \n",
    "이를 해결하기 위한 여러가지 방법을 소개합니다."
   ]
  },
  {
   "cell_type": "code",
   "execution_count": 33,
   "metadata": {
    "ExecuteTime": {
     "end_time": "2022-07-28T04:04:49.438702Z",
     "start_time": "2022-07-28T04:04:49.428660Z"
    }
   },
   "outputs": [
    {
     "data": {
      "text/plain": [
       "<Response [200]>"
      ]
     },
     "execution_count": 33,
     "metadata": {},
     "output_type": "execute_result"
    }
   ],
   "source": [
    "resp"
   ]
  },
  {
   "cell_type": "code",
   "execution_count": 30,
   "metadata": {
    "ExecuteTime": {
     "end_time": "2022-06-05T09:05:39.275949Z",
     "start_time": "2022-06-05T09:05:39.266250Z"
    }
   },
   "outputs": [
    {
     "data": {
      "text/plain": [
       "200"
      ]
     },
     "execution_count": 30,
     "metadata": {},
     "output_type": "execute_result"
    }
   ],
   "source": [
    "# requests 요청 객체의 상태코드\n",
    "resp.status_code"
   ]
  },
  {
   "cell_type": "code",
   "execution_count": 34,
   "metadata": {
    "ExecuteTime": {
     "end_time": "2022-07-28T04:05:55.447439Z",
     "start_time": "2022-07-28T04:05:55.441883Z"
    }
   },
   "outputs": [
    {
     "data": {
      "text/plain": [
       "404"
      ]
     },
     "execution_count": 34,
     "metadata": {},
     "output_type": "execute_result"
    }
   ],
   "source": [
    "# HTTP 요청 시 상태코드 확인\n",
    "requests.codes.NOT_FOUND"
   ]
  },
  {
   "cell_type": "code",
   "execution_count": null,
   "metadata": {},
   "outputs": [],
   "source": [
    "resp.codes.ok\n",
    "# 100 우리 이런정보 내주는거야\n",
    "# 200 성공\n",
    "# 300 우리 이 사이트 이리루 이사했어 일루가\n",
    "# 400 유저가 요청을 잘못한경우\n",
    "# 500 서버 문제\n",
    "\n",
    "# 크롤링 시 문제가 없을 경우에만 진행\n",
    "if resp.status_code == requests.codes.ok:\n",
    "    # 크롤링 코드 진행\n",
    "elif resp.status_code == requests.codes.NOT_FOUND:\n",
    "    # 경고메세지 출력 등등등"
   ]
  },
  {
   "cell_type": "code",
   "execution_count": 36,
   "metadata": {
    "ExecuteTime": {
     "end_time": "2022-07-28T04:10:50.418680Z",
     "start_time": "2022-07-28T04:10:30.341641Z"
    }
   },
   "outputs": [
    {
     "name": "stdout",
     "output_type": "stream",
     "text": [
      "0\n",
      "1\n",
      "2\n",
      "3\n",
      "4\n",
      "5\n",
      "6\n",
      "7\n",
      "8\n",
      "9\n"
     ]
    }
   ],
   "source": [
    "# 차단막는 코드\n",
    "# 난수 생성 후 요청 작업에 시간차를 둠\\\n",
    "for i in range(10):\n",
    "    seed = np.random.randint(100)\n",
    "    np.random.seed(seed)\n",
    "    a = np.random.randint(5)\n",
    "    time.sleep(a)\n",
    "    print(i)"
   ]
  },
  {
   "cell_type": "markdown",
   "metadata": {},
   "source": [
    "### 다음에서 로또번호 혹은 로또로 검색해서 표시되는 로또번호 크롤링 해오기"
   ]
  },
  {
   "cell_type": "code",
   "execution_count": 43,
   "metadata": {
    "ExecuteTime": {
     "end_time": "2022-07-28T04:26:50.724109Z",
     "start_time": "2022-07-28T04:26:50.248133Z"
    }
   },
   "outputs": [
    {
     "name": "stdout",
     "output_type": "stream",
     "text": [
      "8\n",
      "9\n",
      "20\n",
      "25\n",
      "29\n",
      "33\n",
      "보너스\n",
      "7\n"
     ]
    }
   ],
   "source": [
    "# 다음에서 로또번호 혹은 로또로 검색해서 표시되는 로또번호 크롤링 해오기\n",
    "\n",
    "url= 'https://search.daum.net/search?nil_suggest=btn&w=tot&DA=SBC&q=%EB%A1%9C%EB%98%90'\n",
    "# requsts로 url에 정보요청\n",
    "resp = requests.get(url)\n",
    "\n",
    "# 정보를 html 변환 (보기 쉽게)\n",
    "html=BeautifulSoup(resp.text, 'html.parser')\n",
    "\n",
    "# 필요정보 선별\n",
    "for item in html.select('span.ball'):\n",
    "    print(item.text.strip())\n"
   ]
  },
  {
   "cell_type": "markdown",
   "metadata": {},
   "source": [
    "### 다음에서 로또번호 가져와 볼께요 몽땅 다 가져옵니다 (10페이지)"
   ]
  },
  {
   "cell_type": "code",
   "execution_count": 52,
   "metadata": {
    "ExecuteTime": {
     "end_time": "2022-07-28T04:47:08.226540Z",
     "start_time": "2022-07-28T04:46:46.547693Z"
    }
   },
   "outputs": [
    {
     "name": "stdout",
     "output_type": "stream",
     "text": [
      "1회차 크롤링 중 입니다\n",
      "2회차 크롤링 중 입니다\n",
      "3회차 크롤링 중 입니다\n",
      "4회차 크롤링 중 입니다\n",
      "5회차 크롤링 중 입니다\n",
      "6회차 크롤링 중 입니다\n",
      "7회차 크롤링 중 입니다\n",
      "8회차 크롤링 중 입니다\n",
      "9회차 크롤링 중 입니다\n",
      "완료\n"
     ]
    }
   ],
   "source": [
    "# url 설정 (페이지 넘어가는 url 설정을 어떻게 할건지?)\n",
    "# 순환시키면서 저 requests 요청을 어떻게 컨트롤 할 건지?\n",
    "lottolist=[]\n",
    "# url 설정\n",
    "for page in range(1,10):\n",
    "    seed = np.random.randint(100)\n",
    "    np.random.seed(seed)\n",
    "    a = np.random.randint(5)\n",
    "    time.sleep(a)\n",
    "    url=f'https://search.daum.net/search?w=tot&DA=LOT&rtmaxcoll=LOT&&q={page}%ED%9A%8C%EC%B0%A8%20%EB%A1%9C%EB%98%90'\n",
    "    # https://search.daum.net/search?w=tot&DA=LOT&rtmaxcoll=LOT&&q=1%ED%9A%8C%EC%B0%A8%20%EB%A1%9C%EB%98%90\n",
    "    # 1회차가 불러와지지 않는 문제가 있음.\n",
    "# requests로 데이터 요청하기\n",
    "    resp = requests.get(url)\n",
    "    print(f'{page}회차 크롤링 중 입니다')\n",
    "# html로 변환\n",
    "    html=BeautifulSoup(resp.text, 'html.parser')\n",
    "    \n",
    "# 데이터 선별\n",
    "    lottolist.append(f'----{page}회차')\n",
    "    for item in html.select('span.ball'):\n",
    "        lottolist.append(item.text.strip())    \n",
    "#lotto_array=np.array(lottolist).reshape(-1,9)\n",
    "print('완료')"
   ]
  },
  {
   "cell_type": "code",
   "execution_count": 55,
   "metadata": {
    "ExecuteTime": {
     "end_time": "2022-07-28T05:03:51.164116Z",
     "start_time": "2022-07-28T05:03:51.151187Z"
    },
    "scrolled": true
   },
   "outputs": [
    {
     "data": {
      "text/plain": [
       "['----1회차',\n",
       " '9',\n",
       " '13',\n",
       " '21',\n",
       " '25',\n",
       " '32',\n",
       " '42',\n",
       " '보너스',\n",
       " '2',\n",
       " '----2회차',\n",
       " '11',\n",
       " '16',\n",
       " '19',\n",
       " '21',\n",
       " '27',\n",
       " '31',\n",
       " '보너스',\n",
       " '30',\n",
       " '----3회차',\n",
       " '14',\n",
       " '27',\n",
       " '30',\n",
       " '31',\n",
       " '40',\n",
       " '42',\n",
       " '보너스',\n",
       " '2',\n",
       " '----4회차',\n",
       " '16',\n",
       " '24',\n",
       " '29',\n",
       " '40',\n",
       " '41',\n",
       " '42',\n",
       " '보너스',\n",
       " '3',\n",
       " '----5회차',\n",
       " '14',\n",
       " '15',\n",
       " '26',\n",
       " '27',\n",
       " '40',\n",
       " '42',\n",
       " '보너스',\n",
       " '34',\n",
       " '----6회차',\n",
       " '2',\n",
       " '9',\n",
       " '16',\n",
       " '25',\n",
       " '26',\n",
       " '40',\n",
       " '보너스',\n",
       " '42',\n",
       " '----7회차',\n",
       " '8',\n",
       " '19',\n",
       " '25',\n",
       " '34',\n",
       " '37',\n",
       " '39',\n",
       " '보너스',\n",
       " '9',\n",
       " '----8회차',\n",
       " '2',\n",
       " '4',\n",
       " '16',\n",
       " '17',\n",
       " '36',\n",
       " '39',\n",
       " '보너스',\n",
       " '14',\n",
       " '----9회차']"
      ]
     },
     "execution_count": 55,
     "metadata": {},
     "output_type": "execute_result"
    }
   ],
   "source": [
    "lottolist"
   ]
  },
  {
   "cell_type": "code",
   "execution_count": null,
   "metadata": {
    "ExecuteTime": {
     "end_time": "2022-07-28T04:41:30.220354Z",
     "start_time": "2022-07-28T04:41:30.220354Z"
    }
   },
   "outputs": [],
   "source": [
    "lotto_array"
   ]
  },
  {
   "cell_type": "code",
   "execution_count": 17,
   "metadata": {
    "ExecuteTime": {
     "end_time": "2022-06-05T08:57:21.282339Z",
     "start_time": "2022-06-05T08:57:21.166249Z"
    }
   },
   "outputs": [
    {
     "data": {
      "text/plain": [
       "<AxesSubplot:ylabel='count'>"
      ]
     },
     "execution_count": 17,
     "metadata": {},
     "output_type": "execute_result"
    },
    {
     "data": {
      "image/png": "[encoded data removed]",
      "text/plain": [
       "<Figure size 864x432 with 1 Axes>"
      ]
     },
     "metadata": {
      "needs_background": "light"
     },
     "output_type": "display_data"
    }
   ],
   "source": [
    "# 데이터 시각화까지\n",
    "plt.figure(figuresize=(12,6))\n"
   ]
  },
  {
   "cell_type": "code",
   "execution_count": 18,
   "metadata": {
    "ExecuteTime": {
     "end_time": "2022-06-05T08:58:02.066263Z",
     "start_time": "2022-06-05T08:58:02.043448Z"
    }
   },
   "outputs": [
    {
     "data": {
      "text/html": [
       "<div>\n",
       "<style scoped>\n",
       "    .dataframe tbody tr th:only-of-type {\n",
       "        vertical-align: middle;\n",
       "    }\n",
       "\n",
       "    .dataframe tbody tr th {\n",
       "        vertical-align: top;\n",
       "    }\n",
       "\n",
       "    .dataframe thead th {\n",
       "        text-align: right;\n",
       "    }\n",
       "</style>\n",
       "<table border=\"1\" class=\"dataframe\">\n",
       "  <thead>\n",
       "    <tr style=\"text-align: right;\">\n",
       "      <th></th>\n",
       "      <th>0</th>\n",
       "      <th>1</th>\n",
       "      <th>2</th>\n",
       "      <th>3</th>\n",
       "      <th>4</th>\n",
       "      <th>5</th>\n",
       "    </tr>\n",
       "  </thead>\n",
       "  <tbody>\n",
       "    <tr>\n",
       "      <th>1회차</th>\n",
       "      <td>10</td>\n",
       "      <td>23</td>\n",
       "      <td>29</td>\n",
       "      <td>33</td>\n",
       "      <td>37</td>\n",
       "      <td>40</td>\n",
       "    </tr>\n",
       "    <tr>\n",
       "      <th>2회차</th>\n",
       "      <td>9</td>\n",
       "      <td>13</td>\n",
       "      <td>21</td>\n",
       "      <td>25</td>\n",
       "      <td>32</td>\n",
       "      <td>42</td>\n",
       "    </tr>\n",
       "    <tr>\n",
       "      <th>3회차</th>\n",
       "      <td>11</td>\n",
       "      <td>16</td>\n",
       "      <td>19</td>\n",
       "      <td>21</td>\n",
       "      <td>27</td>\n",
       "      <td>31</td>\n",
       "    </tr>\n",
       "    <tr>\n",
       "      <th>4회차</th>\n",
       "      <td>14</td>\n",
       "      <td>27</td>\n",
       "      <td>30</td>\n",
       "      <td>31</td>\n",
       "      <td>40</td>\n",
       "      <td>42</td>\n",
       "    </tr>\n",
       "    <tr>\n",
       "      <th>5회차</th>\n",
       "      <td>16</td>\n",
       "      <td>24</td>\n",
       "      <td>29</td>\n",
       "      <td>40</td>\n",
       "      <td>41</td>\n",
       "      <td>42</td>\n",
       "    </tr>\n",
       "    <tr>\n",
       "      <th>6회차</th>\n",
       "      <td>14</td>\n",
       "      <td>15</td>\n",
       "      <td>26</td>\n",
       "      <td>27</td>\n",
       "      <td>40</td>\n",
       "      <td>42</td>\n",
       "    </tr>\n",
       "    <tr>\n",
       "      <th>7회차</th>\n",
       "      <td>2</td>\n",
       "      <td>9</td>\n",
       "      <td>16</td>\n",
       "      <td>25</td>\n",
       "      <td>26</td>\n",
       "      <td>40</td>\n",
       "    </tr>\n",
       "    <tr>\n",
       "      <th>8회차</th>\n",
       "      <td>8</td>\n",
       "      <td>19</td>\n",
       "      <td>25</td>\n",
       "      <td>34</td>\n",
       "      <td>37</td>\n",
       "      <td>39</td>\n",
       "    </tr>\n",
       "    <tr>\n",
       "      <th>9회차</th>\n",
       "      <td>2</td>\n",
       "      <td>4</td>\n",
       "      <td>16</td>\n",
       "      <td>17</td>\n",
       "      <td>36</td>\n",
       "      <td>39</td>\n",
       "    </tr>\n",
       "  </tbody>\n",
       "</table>\n",
       "</div>"
      ],
      "text/plain": [
       "      0   1   2   3   4   5\n",
       "1회차  10  23  29  33  37  40\n",
       "2회차   9  13  21  25  32  42\n",
       "3회차  11  16  19  21  27  31\n",
       "4회차  14  27  30  31  40  42\n",
       "5회차  16  24  29  40  41  42\n",
       "6회차  14  15  26  27  40  42\n",
       "7회차   2   9  16  25  26  40\n",
       "8회차   8  19  25  34  37  39\n",
       "9회차   2   4  16  17  36  39"
      ]
     },
     "execution_count": 18,
     "metadata": {},
     "output_type": "execute_result"
    }
   ],
   "source": [
    "# 데이터프레임으로 저장\n"
   ]
  },
  {
   "cell_type": "markdown",
   "metadata": {},
   "source": [
    "### 네이버 키워드로 검색한 결과를 크롤링"
   ]
  },
  {
   "cell_type": "code",
   "execution_count": null,
   "metadata": {
    "ExecuteTime": {
     "end_time": "2022-04-25T02:48:28.017099Z",
     "start_time": "2022-04-25T02:48:27.997354Z"
    },
    "scrolled": true
   },
   "outputs": [],
   "source": [
    "# 영화 가져오기"
   ]
  },
  {
   "cell_type": "code",
   "execution_count": 14,
   "metadata": {
    "ExecuteTime": {
     "end_time": "2022-07-28T05:33:34.417577Z",
     "start_time": "2022-07-28T05:33:33.610980Z"
    }
   },
   "outputs": [
    {
     "name": "stdout",
     "output_type": "stream",
     "text": [
      "탑건 크롤링 중 입니다\n"
     ]
    }
   ],
   "source": [
    "# url 정의\n",
    "movie='탑건'\n",
    "url = f'https://search.naver.com/search.naver?where=nexearch&sm=top_hty&fbm=1&ie=utf8&query={movie}'\n",
    "# requsts로 url에 정보요청\n",
    "resp = requests.get(url)\n",
    "print(f'{movie} 크롤링 중 입니다')\n",
    "\n",
    "# 정보를 html 변환 (보기 쉽게)\n",
    "\n",
    "html=BeautifulSoup(resp.text, 'html.parser')\n",
    "\n",
    "# 정보선별\n",
    "for item in html.select('span.desc _text'):\n",
    "    print(item.text.strip())\n",
    "# descs.append(f'----{movie}설명')\n",
    "# for desc in html.select('span.desc _text'):\n",
    "#     print(desc.text.strip())    \n",
    "# #lotto_array=np.array(lottolist).reshape(-1,9)\n",
    "# print('완료')"
   ]
  },
  {
   "cell_type": "code",
   "execution_count": 8,
   "metadata": {
    "ExecuteTime": {
     "end_time": "2022-07-28T05:29:13.000139Z",
     "start_time": "2022-07-28T05:29:04.977445Z"
    }
   },
   "outputs": [
    {
     "name": "stdout",
     "output_type": "stream",
     "text": [
      "탑건 크롤링 중 입니다\n",
      "한산 크롤링 중 입니다\n",
      "미니언즈2 크롤링 중 입니다\n",
      "완료\n"
     ]
    }
   ],
   "source": [
    "movielist=['탑건', '한산', '미니언즈2']\n",
    "descs=[]\n",
    "# url 정의\n",
    "for movie in movielist:\n",
    "    seed = np.random.randint(100)\n",
    "    np.random.seed(seed)\n",
    "    a = np.random.randint(5)\n",
    "    time.sleep(a)\n",
    "    url = f'https://search.naver.com/search.naver?where=nexearch&sm=top_hty&fbm=1&ie=utf8&query={movie}'\n",
    "# requsts로 url에 정보요청\n",
    "    resp = requests.get(url)\n",
    "    print(f'{movie} 크롤링 중 입니다')\n",
    "\n",
    "# 정보를 html 변환 (보기 쉽게)\n",
    "    html=BeautifulSoup(resp.text, 'html.parser')\n",
    "\n",
    "# 정보선별\n",
    "    descs.append(f'----{movie}설명')\n",
    "    for desc in html.select('span.desc _text'):\n",
    "        descs.append(desc.text.strip())    \n",
    "#lotto_array=np.array(lottolist).reshape(-1,9)\n",
    "print('완료')"
   ]
  },
  {
   "cell_type": "code",
   "execution_count": 9,
   "metadata": {
    "ExecuteTime": {
     "end_time": "2022-07-28T05:29:21.309017Z",
     "start_time": "2022-07-28T05:29:21.302125Z"
    }
   },
   "outputs": [
    {
     "data": {
      "text/plain": [
       "['----탑건설명', '----한산설명', '----미니언즈2설명']"
      ]
     },
     "execution_count": 9,
     "metadata": {},
     "output_type": "execute_result"
    }
   ],
   "source": [
    "descs"
   ]
  },
  {
   "cell_type": "markdown",
   "metadata": {
    "id": "L--NnRPK9LAN",
    "slideshow": {
     "slide_type": "slide"
    }
   },
   "source": [
    "## 크롤링 결과에서 html 속성 접근"
   ]
  },
  {
   "cell_type": "code",
   "execution_count": 19,
   "metadata": {
    "ExecuteTime": {
     "end_time": "2022-07-28T05:39:33.742500Z",
     "start_time": "2022-07-28T05:39:33.601401Z"
    },
    "collapsed": true
   },
   "outputs": [
    {
     "name": "stdout",
     "output_type": "stream",
     "text": [
      "희귀 '댕구알버섯' 남원 사과밭서 또 나와..9년째 총 20여개 https://v.daum.net/v/20220728143813425\n",
      "국내외 증권사들, 공매도 규정 위반으로 과태료 처분 https://v.daum.net/v/20220728143700364\n",
      "여야, '류삼영 총경' 출석 신경전..계속되는 '경찰국' 갈등 https://v.daum.net/v/20220728143619330\n",
      "위중증 환자 '더블링'..\"재유행 1∼2주 내 정점·규모는 감소\" https://v.daum.net/v/20220728143416224\n",
      "조희연 \"시민사회단체, '성공의 위기' 극복하고 나아가야\" https://v.daum.net/v/20220728143302153\n",
      "\"연봉은 올랐는데 물가가 뛰어서..\" 실질임금 고작 1.5%↑ https://v.daum.net/v/20220728142932949\n",
      "차이잉원, 일본의원 대표단 접견..\"인태지역 평화 함께 수호하자\" https://v.daum.net/v/20220728142643785\n",
      "제주 마트 노동자들 \"대형마트 의무휴업 폐지 안 돼\" https://v.daum.net/v/20220728142515733\n",
      "금리 속도조절 고민 드러낸 연준..'긴축 셈법' 복잡해졌다 https://v.daum.net/v/20220728142346654\n",
      "뇌졸중 환자 응급실까지 평균 3시간51분..우리동네 우수병원 어디 https://v.daum.net/v/20220728141744431\n",
      "경북도, 대경연구원장에 유철균 전 교수 임명..시민단체 반발 https://v.daum.net/v/20220728141709404\n",
      "대법, 민경욱 총선무효소송 기각..\"부정선거 아냐\" https://v.daum.net/v/20220728141449280\n",
      "정부 수립후 인구 첫 감소..작년 9만명 줄어 5173만8000명 https://v.daum.net/v/20220728141230196\n",
      "울산 코로나 확진자  증가세 '숨고르기'..병상가동률 28.7% https://v.daum.net/v/20220728141037125\n",
      "김정은 겁박 뒤, 尹이 갔다..북 미사일 막는 첫 이지스함 진수식 https://v.daum.net/v/20220728140701996\n",
      "軍 코로나 19 확진자 2277명.. 이틀 연속 2000명대 https://v.daum.net/v/20220728140704999\n",
      "감사원 \"'文케어' 부적정 사항 34건 확인..재정전망 추계 부실\" https://v.daum.net/v/20220728140655990\n",
      "코로나로 잃은 후각·미각..감염 5% \"여섯달 이상 지속\" https://v.daum.net/v/20220728140503898\n",
      "\"햄버거로 점심 때웠는데\"..또 오른 패스트푸드 가격에 직장인 '울상' https://v.daum.net/v/20220728140154769\n",
      "경북 동해안에 가득 쌓인 참다랑어 사체..도대체 왜? https://v.daum.net/v/20220728140059716\n",
      "[무등의 아침] \"우리 소통해요\"..전국 최초로 문을 연 '은둔형 외톨이 지원센터' https://v.daum.net/v/20220728141616357\n",
      "아동 성착취물 제작·유포 가담자 절반 이상이 10대 청소년[플랫] https://v.daum.net/v/20220728141302213\n",
      "코로나로 잃은 후각·미각..감염 5% \"여섯달 이상 지속\" https://v.daum.net/v/20220728140503898\n",
      "[영상] \"우크라戰 개전 후 러軍 7만5000명 사상\" [나우,어스] https://v.daum.net/v/20220728140424872\n",
      "박용진 \"'이나땡' 아닌 국민의힘 두려워하는 후보 선택해달라\" https://v.daum.net/v/20220728140210783\n",
      "[뉴스1 PICK]민주당, 막 오른 예비경선 '대표 3인·최고위원 8인 누가 될까' https://v.daum.net/v/20220728140045699\n",
      "\"우영우는 수많은 자폐인 중 하나일 뿐\" [마음청소] https://v.daum.net/v/20220728140012655\n",
      "\"내부총질\" 문자 사태, 세 가지 동상이몽 https://v.daum.net/v/20220728135105316\n",
      "법원, 장제원 아들 장용준에 징역 1년 선고 https://gallery.v.daum.net/p/viewer/5018824/6QZuOoYxFw\n",
      "장독대가 있는 정겨운 풍경 https://gallery.v.daum.net/p/viewer/379/bLRy1CqkpB\n",
      "공개활동 재개한 김건희..윤 대통령과 정조대왕함 진수식 참석 https://gallery.v.daum.net/p/viewer/5024184/3mZ8LfD7yO\n",
      "어린이들의 뜨거운 여름나기 https://gallery.v.daum.net/p/viewer/111971/5QeXQ7o5TY\n",
      "뉴스홈 /\n",
      "사회 /society\n",
      "정치 /politics\n",
      "경제 /economic\n",
      "국제 /foreign\n",
      "문화 /culture\n",
      "IT /digital\n",
      "포토 /photo\n",
      "언론사별 뉴스 /cp\n",
      "배열이력 /newsbox\n",
      "전체뉴스 /breakingnews\n",
      "연재 /series\n",
      "팩트체크 https://focus.daum.net/ch/news/factcheck\n"
     ]
    }
   ],
   "source": [
    "# 다음 뉴스 페이지 크롤링\n",
    "# url정의\n",
    "url='https://news.daum.net/'\n",
    "\n",
    "# requsts로 url에 정보요청\n",
    "resp= requests.get(url)\n",
    "\n",
    "# 정보를 html 변환 (보기 쉽게)\n",
    "html=BeautifulSoup(resp.text, 'html.parser')\n",
    "\n",
    "# html 내에서 뉴스헤더 선별\n",
    "for item in html.select('a.link_txt'):\n",
    "    print(item.text.strip(), item.attrs['href'])\n",
    "#item.text.strip()"
   ]
  },
  {
   "cell_type": "markdown",
   "metadata": {
    "id": "P_ssRYoV88a7",
    "slideshow": {
     "slide_type": "slide"
    }
   },
   "source": [
    "가져온 데이터에 접근을 하는 방식 자체는 판다스 색인처럼 결과값을 확인하며 진행하는 것이 가장 좋습니다."
   ]
  },
  {
   "cell_type": "markdown",
   "metadata": {
    "ExecuteTime": {
     "end_time": "2021-09-27T00:05:01.376165Z",
     "start_time": "2021-09-27T00:05:01.368066Z"
    }
   },
   "source": [
    "## 관심있는 개별종목의 시가총액, 외국인 소진률, PER, PBR 가져오기 실습"
   ]
  },
  {
   "cell_type": "code",
   "execution_count": 51,
   "metadata": {
    "ExecuteTime": {
     "end_time": "2022-07-28T06:20:01.819921Z",
     "start_time": "2022-07-28T06:20:01.624886Z"
    }
   },
   "outputs": [
    {
     "data": {
      "text/plain": [
       "[<em id=\"_market_sum\">\n",
       " \t\t\t\t\t\t\t\t\n",
       " \t\t\t\t\t\t\t\t\n",
       " \t\t\t\t\t\t\t\t\t\n",
       " \t\t\t\t\t\t\t\t\t\n",
       " \t\t\t\t\t\t\t\t\t\t\n",
       " \t\t\t\t\t\t\t\t\t\t\n",
       " \t\t\t\t\t\t\t\t\t\t1조\n",
       " \t\t\t\t\t\t\t\t\t\t\n",
       " \t\t\t\t\t\t\t\t\t\t\t266\n",
       " \t\t\t\t\t\t\t\t\t\t\n",
       " \t\t\t\t\t\t\t\t\t\n",
       " \t\t\t\t\t\t\t\t</em>]"
      ]
     },
     "execution_count": 51,
     "metadata": {},
     "output_type": "execute_result"
    }
   ],
   "source": [
    "# Try\n",
    "# url 정의\n",
    "url = 'https://finance.naver.com/item/main.naver?code=365340'\n",
    "# requests 요청\n",
    "resp= requests.get(url)\n",
    "# html 변환\n",
    "html= BeautifulSoup(resp.text, 'html.parser')\n",
    "# 시가총액, 외국인소진률, PER, PBR\n",
    "# 시가총액\n",
    "#html\n",
    "html.select('em[id=\"_market_sum\"]')\n",
    "# 외국인소진율(경로셀렉터)\n",
    "\n",
    "# per\n",
    "\n",
    "# pbr\n",
    "\n",
    "# 종목명\n"
   ]
  },
  {
   "cell_type": "code",
   "execution_count": 64,
   "metadata": {
    "ExecuteTime": {
     "end_time": "2022-07-28T06:29:07.724203Z",
     "start_time": "2022-07-28T06:29:07.511924Z"
    }
   },
   "outputs": [
    {
     "data": {
      "text/plain": [
       "'6.88'"
      ]
     },
     "execution_count": 64,
     "metadata": {},
     "output_type": "execute_result"
    }
   ],
   "source": [
    "# url 정의\n",
    "url = 'https://finance.naver.com/item/main.naver?code=365340'\n",
    "# requests 요청\n",
    "resp= requests.get(url)\n",
    "# html 변환\n",
    "html= BeautifulSoup(resp.text, 'html.parser')\n",
    "# 시가총액, 외국인소진률, PER, PBR\n",
    "# 시가총액\n",
    "html.select('em#_market_sum')[0].text.strip().replace('\\n', '').replace('\\t', '')\n",
    "# for item in html.select('em'):\n",
    "#     item.attrs['id']\n",
    "# 외국인소진율(경로셀렉터)\n",
    "html.select('tr.strong em')[1].text\n",
    "# per\n",
    "html.select('tr.strong em')[2].text\n",
    "# pbr\n",
    "html.select('em#_pbr')[0].text\n",
    "# 종목명\n"
   ]
  },
  {
   "cell_type": "markdown",
   "metadata": {},
   "source": [
    "#### 여러 종목의 시가총액, 외국인 소진률, PER, PBR 한꺼번에 가져오기"
   ]
  },
  {
   "cell_type": "code",
   "execution_count": 30,
   "metadata": {
    "ExecuteTime": {
     "end_time": "2021-09-27T00:52:30.940704Z",
     "start_time": "2021-09-27T00:52:27.088491Z"
    }
   },
   "outputs": [
    {
     "name": "stdout",
     "output_type": "stream",
     "text": [
      "005930 크롤링 중입니다.\n",
      "002020 크롤링 중입니다.\n",
      "323410 크롤링 중입니다.\n",
      "크롤링 종료\n"
     ]
    }
   ],
   "source": [
    "# 종목리스트 정의\n",
    "\n",
    "# url 정의\n",
    "\n",
    "# requests 요청\n",
    "\n",
    "# html 변환\n",
    "\n",
    "# 데이터 선별\n"
   ]
  },
  {
   "cell_type": "code",
   "execution_count": 31,
   "metadata": {
    "ExecuteTime": {
     "end_time": "2021-09-27T00:52:31.106062Z",
     "start_time": "2021-09-27T00:52:31.101316Z"
    }
   },
   "outputs": [
    {
     "data": {
      "text/plain": [
       "[['462조6,581', '51.98%', '16.32', '1.92'],\n",
       " ['5,145', '11.36%', '3.64', '0.67'],\n",
       " ['32조2,118', '5.45%', '219.42', '9.55']]"
      ]
     },
     "execution_count": 31,
     "metadata": {},
     "output_type": "execute_result"
    }
   ],
   "source": []
  },
  {
   "cell_type": "code",
   "execution_count": 32,
   "metadata": {
    "ExecuteTime": {
     "end_time": "2021-09-27T00:53:55.646061Z",
     "start_time": "2021-09-27T00:53:55.619928Z"
    }
   },
   "outputs": [
    {
     "data": {
      "text/html": [
       "<div>\n",
       "<style scoped>\n",
       "    .dataframe tbody tr th:only-of-type {\n",
       "        vertical-align: middle;\n",
       "    }\n",
       "\n",
       "    .dataframe tbody tr th {\n",
       "        vertical-align: top;\n",
       "    }\n",
       "\n",
       "    .dataframe thead th {\n",
       "        text-align: right;\n",
       "    }\n",
       "</style>\n",
       "<table border=\"1\" class=\"dataframe\">\n",
       "  <thead>\n",
       "    <tr style=\"text-align: right;\">\n",
       "      <th></th>\n",
       "      <th>시가총액</th>\n",
       "      <th>외국인소진률</th>\n",
       "      <th>PER</th>\n",
       "      <th>PBR</th>\n",
       "    </tr>\n",
       "  </thead>\n",
       "  <tbody>\n",
       "    <tr>\n",
       "      <th>삼성전자</th>\n",
       "      <td>462조6,581</td>\n",
       "      <td>51.98%</td>\n",
       "      <td>16.32</td>\n",
       "      <td>1.92</td>\n",
       "    </tr>\n",
       "    <tr>\n",
       "      <th>코오롱</th>\n",
       "      <td>5,145</td>\n",
       "      <td>11.36%</td>\n",
       "      <td>3.64</td>\n",
       "      <td>0.67</td>\n",
       "    </tr>\n",
       "    <tr>\n",
       "      <th>카카오뱅크</th>\n",
       "      <td>32조2,118</td>\n",
       "      <td>5.45%</td>\n",
       "      <td>219.42</td>\n",
       "      <td>9.55</td>\n",
       "    </tr>\n",
       "  </tbody>\n",
       "</table>\n",
       "</div>"
      ],
      "text/plain": [
       "            시가총액  외국인소진률     PER   PBR\n",
       "삼성전자   462조6,581  51.98%   16.32  1.92\n",
       "코오롱        5,145  11.36%    3.64  0.67\n",
       "카카오뱅크   32조2,118   5.45%  219.42  9.55"
      ]
     },
     "execution_count": 32,
     "metadata": {},
     "output_type": "execute_result"
    }
   ],
   "source": [
    "# 데이터프레임 제작\n"
   ]
  },
  {
   "cell_type": "markdown",
   "metadata": {
    "id": "XYhXePUPB7FF",
    "slideshow": {
     "slide_type": "slide"
    }
   },
   "source": [
    "## **동적페이지 크롤링**\n",
    "> 최근에는 Js로 변경이 되며 일반적인 크롤링이 되지 않는 경우가 많음  \n",
    "동적페이지와 숨겨진 url을 가져오는 방법을 알아봅니다"
   ]
  },
  {
   "cell_type": "markdown",
   "metadata": {},
   "source": [
    "### 네이버 주식 시세 데이터 크롤링"
   ]
  },
  {
   "cell_type": "code",
   "execution_count": 96,
   "metadata": {
    "ExecuteTime": {
     "end_time": "2022-06-06T12:23:45.113876Z",
     "start_time": "2022-06-06T12:23:44.915533Z"
    }
   },
   "outputs": [
    {
     "data": {
      "text/html": [
       "<div>\n",
       "<style scoped>\n",
       "    .dataframe tbody tr th:only-of-type {\n",
       "        vertical-align: middle;\n",
       "    }\n",
       "\n",
       "    .dataframe tbody tr th {\n",
       "        vertical-align: top;\n",
       "    }\n",
       "\n",
       "    .dataframe thead th {\n",
       "        text-align: right;\n",
       "    }\n",
       "</style>\n",
       "<table border=\"1\" class=\"dataframe\">\n",
       "  <thead>\n",
       "    <tr style=\"text-align: right;\">\n",
       "      <th></th>\n",
       "      <th>종가</th>\n",
       "      <th>전일비</th>\n",
       "      <th>시가</th>\n",
       "      <th>고가</th>\n",
       "      <th>저가</th>\n",
       "      <th>거래량</th>\n",
       "    </tr>\n",
       "  </thead>\n",
       "  <tbody>\n",
       "    <tr>\n",
       "      <th>2022.05.19</th>\n",
       "      <td>111,000</td>\n",
       "      <td>2,500</td>\n",
       "      <td>110,500</td>\n",
       "      <td>112,500</td>\n",
       "      <td>110,000</td>\n",
       "      <td>3,680,049</td>\n",
       "    </tr>\n",
       "    <tr>\n",
       "      <th>2022.05.18</th>\n",
       "      <td>113,500</td>\n",
       "      <td>1,000</td>\n",
       "      <td>114,000</td>\n",
       "      <td>115,000</td>\n",
       "      <td>113,000</td>\n",
       "      <td>3,570,113</td>\n",
       "    </tr>\n",
       "    <tr>\n",
       "      <th>2022.05.17</th>\n",
       "      <td>112,500</td>\n",
       "      <td>2,000</td>\n",
       "      <td>111,000</td>\n",
       "      <td>113,000</td>\n",
       "      <td>110,500</td>\n",
       "      <td>2,056,143</td>\n",
       "    </tr>\n",
       "    <tr>\n",
       "      <th>2022.05.16</th>\n",
       "      <td>110,500</td>\n",
       "      <td>2,000</td>\n",
       "      <td>113,500</td>\n",
       "      <td>114,000</td>\n",
       "      <td>110,000</td>\n",
       "      <td>3,930,044</td>\n",
       "    </tr>\n",
       "    <tr>\n",
       "      <th>2022.05.13</th>\n",
       "      <td>112,500</td>\n",
       "      <td>3,500</td>\n",
       "      <td>109,000</td>\n",
       "      <td>112,500</td>\n",
       "      <td>109,000</td>\n",
       "      <td>4,003,349</td>\n",
       "    </tr>\n",
       "    <tr>\n",
       "      <th>2022.05.12</th>\n",
       "      <td>109,000</td>\n",
       "      <td>1,500</td>\n",
       "      <td>109,500</td>\n",
       "      <td>111,500</td>\n",
       "      <td>108,500</td>\n",
       "      <td>4,132,948</td>\n",
       "    </tr>\n",
       "    <tr>\n",
       "      <th>2022.05.11</th>\n",
       "      <td>110,500</td>\n",
       "      <td>500</td>\n",
       "      <td>110,500</td>\n",
       "      <td>112,500</td>\n",
       "      <td>108,000</td>\n",
       "      <td>3,658,168</td>\n",
       "    </tr>\n",
       "    <tr>\n",
       "      <th>2022.05.10</th>\n",
       "      <td>110,000</td>\n",
       "      <td>2,500</td>\n",
       "      <td>107,000</td>\n",
       "      <td>111,000</td>\n",
       "      <td>107,000</td>\n",
       "      <td>4,141,923</td>\n",
       "    </tr>\n",
       "    <tr>\n",
       "      <th>2022.05.09</th>\n",
       "      <td>107,500</td>\n",
       "      <td>0</td>\n",
       "      <td>107,000</td>\n",
       "      <td>109,000</td>\n",
       "      <td>106,500</td>\n",
       "      <td>2,203,472</td>\n",
       "    </tr>\n",
       "    <tr>\n",
       "      <th>2022.05.06</th>\n",
       "      <td>107,500</td>\n",
       "      <td>2,000</td>\n",
       "      <td>108,000</td>\n",
       "      <td>108,500</td>\n",
       "      <td>106,500</td>\n",
       "      <td>2,566,813</td>\n",
       "    </tr>\n",
       "  </tbody>\n",
       "</table>\n",
       "</div>"
      ],
      "text/plain": [
       "                 종가    전일비       시가       고가       저가        거래량\n",
       "2022.05.19  111,000  2,500  110,500  112,500  110,000  3,680,049\n",
       "2022.05.18  113,500  1,000  114,000  115,000  113,000  3,570,113\n",
       "2022.05.17  112,500  2,000  111,000  113,000  110,500  2,056,143\n",
       "2022.05.16  110,500  2,000  113,500  114,000  110,000  3,930,044\n",
       "2022.05.13  112,500  3,500  109,000  112,500  109,000  4,003,349\n",
       "2022.05.12  109,000  1,500  109,500  111,500  108,500  4,132,948\n",
       "2022.05.11  110,500    500  110,500  112,500  108,000  3,658,168\n",
       "2022.05.10  110,000  2,500  107,000  111,000  107,000  4,141,923\n",
       "2022.05.09  107,500      0  107,000  109,000  106,500  2,203,472\n",
       "2022.05.06  107,500  2,000  108,000  108,500  106,500  2,566,813"
      ]
     },
     "execution_count": 96,
     "metadata": {},
     "output_type": "execute_result"
    }
   ],
   "source": [
    "# 동적페이지의 숨은 URL\n",
    "# 동적페이지에 요청을 할 때 웹 정책에 필요한 정보를 같이 전달을 해줘야 함.\n",
    "\n",
    "\n",
    "# requests 요청시에 헤더정보 추가\n",
    "\n",
    "# html 변환\n",
    "\n",
    "# 정보선별\n",
    "\n",
    "# df 제작\n"
   ]
  },
  {
   "cell_type": "markdown",
   "metadata": {},
   "source": [
    "#### 20페이지 주가 정보 크롤링 해서 종가 그래프 출력"
   ]
  },
  {
   "cell_type": "code",
   "execution_count": 100,
   "metadata": {
    "ExecuteTime": {
     "end_time": "2021-09-27T04:10:31.778681Z",
     "start_time": "2021-09-27T04:09:40.133778Z"
    }
   },
   "outputs": [
    {
     "name": "stdout",
     "output_type": "stream",
     "text": [
      "1페이지 크롤링 중\n",
      "2페이지 크롤링 중\n",
      "3페이지 크롤링 중\n",
      "4페이지 크롤링 중\n",
      "5페이지 크롤링 중\n",
      "6페이지 크롤링 중\n",
      "7페이지 크롤링 중\n",
      "8페이지 크롤링 중\n",
      "9페이지 크롤링 중\n",
      "10페이지 크롤링 중\n",
      "11페이지 크롤링 중\n",
      "12페이지 크롤링 중\n",
      "13페이지 크롤링 중\n",
      "14페이지 크롤링 중\n",
      "15페이지 크롤링 중\n",
      "16페이지 크롤링 중\n",
      "17페이지 크롤링 중\n",
      "18페이지 크롤링 중\n",
      "19페이지 크롤링 중\n",
      "20페이지 크롤링 중\n"
     ]
    }
   ],
   "source": [
    "# 헤더정보 정의 (동적페이지 헤더정보 그대로 사용)\n",
    "\n",
    "# 인덱스 정의\n",
    "\n",
    "# 전체 가격 데이터 빈 데이터 프레임\n",
    "\n",
    "# requests 요청시에 헤더정보 추가\n",
    "\n",
    "# html 변환\n",
    "\n",
    "# 날짜 인덱스 살려서 활용하기\n",
    "\n",
    "# 가격정보 추출\n",
    "\n",
    "# 데이터프레임 제작\n",
    "pd.concat(df, temp_df)"
   ]
  },
  {
   "cell_type": "code",
   "execution_count": 228,
   "metadata": {
    "ExecuteTime": {
     "end_time": "2022-04-25T07:33:42.799336Z",
     "start_time": "2022-04-25T07:33:42.776007Z"
    }
   },
   "outputs": [
    {
     "data": {
      "text/html": [
       "<div>\n",
       "<style scoped>\n",
       "    .dataframe tbody tr th:only-of-type {\n",
       "        vertical-align: middle;\n",
       "    }\n",
       "\n",
       "    .dataframe tbody tr th {\n",
       "        vertical-align: top;\n",
       "    }\n",
       "\n",
       "    .dataframe thead th {\n",
       "        text-align: right;\n",
       "    }\n",
       "</style>\n",
       "<table border=\"1\" class=\"dataframe\">\n",
       "  <thead>\n",
       "    <tr style=\"text-align: right;\">\n",
       "      <th></th>\n",
       "      <th>종가</th>\n",
       "      <th>전일비</th>\n",
       "      <th>시가</th>\n",
       "      <th>고가</th>\n",
       "      <th>저가</th>\n",
       "      <th>거래량</th>\n",
       "    </tr>\n",
       "  </thead>\n",
       "  <tbody>\n",
       "    <tr>\n",
       "      <th>2022.04.11</th>\n",
       "      <td>111,500</td>\n",
       "      <td>500</td>\n",
       "      <td>111,000</td>\n",
       "      <td>113,000</td>\n",
       "      <td>110,500</td>\n",
       "      <td>2,390,786</td>\n",
       "    </tr>\n",
       "    <tr>\n",
       "      <th>2022.04.08</th>\n",
       "      <td>112,000</td>\n",
       "      <td>1,500</td>\n",
       "      <td>113,000</td>\n",
       "      <td>114,000</td>\n",
       "      <td>110,500</td>\n",
       "      <td>4,268,316</td>\n",
       "    </tr>\n",
       "    <tr>\n",
       "      <th>2022.04.07</th>\n",
       "      <td>113,500</td>\n",
       "      <td>500</td>\n",
       "      <td>111,500</td>\n",
       "      <td>114,500</td>\n",
       "      <td>110,500</td>\n",
       "      <td>5,027,865</td>\n",
       "    </tr>\n",
       "    <tr>\n",
       "      <th>2022.04.06</th>\n",
       "      <td>113,000</td>\n",
       "      <td>3,500</td>\n",
       "      <td>114,500</td>\n",
       "      <td>115,500</td>\n",
       "      <td>113,000</td>\n",
       "      <td>4,541,938</td>\n",
       "    </tr>\n",
       "    <tr>\n",
       "      <th>2022.04.05</th>\n",
       "      <td>116,500</td>\n",
       "      <td>500</td>\n",
       "      <td>117,500</td>\n",
       "      <td>118,000</td>\n",
       "      <td>116,000</td>\n",
       "      <td>2,101,474</td>\n",
       "    </tr>\n",
       "    <tr>\n",
       "      <th>2022.04.04</th>\n",
       "      <td>117,000</td>\n",
       "      <td>1,000</td>\n",
       "      <td>115,000</td>\n",
       "      <td>117,500</td>\n",
       "      <td>114,500</td>\n",
       "      <td>2,470,792</td>\n",
       "    </tr>\n",
       "    <tr>\n",
       "      <th>2022.04.01</th>\n",
       "      <td>116,000</td>\n",
       "      <td>2,000</td>\n",
       "      <td>117,000</td>\n",
       "      <td>117,500</td>\n",
       "      <td>116,000</td>\n",
       "      <td>3,851,558</td>\n",
       "    </tr>\n",
       "    <tr>\n",
       "      <th>2022.03.31</th>\n",
       "      <td>118,000</td>\n",
       "      <td>3,000</td>\n",
       "      <td>119,500</td>\n",
       "      <td>120,000</td>\n",
       "      <td>117,500</td>\n",
       "      <td>4,558,063</td>\n",
       "    </tr>\n",
       "    <tr>\n",
       "      <th>2022.03.30</th>\n",
       "      <td>121,000</td>\n",
       "      <td>1,000</td>\n",
       "      <td>123,000</td>\n",
       "      <td>123,000</td>\n",
       "      <td>120,500</td>\n",
       "      <td>3,436,282</td>\n",
       "    </tr>\n",
       "    <tr>\n",
       "      <th>2022.03.29</th>\n",
       "      <td>120,000</td>\n",
       "      <td>2,000</td>\n",
       "      <td>119,500</td>\n",
       "      <td>120,500</td>\n",
       "      <td>118,500</td>\n",
       "      <td>3,375,247</td>\n",
       "    </tr>\n",
       "  </tbody>\n",
       "</table>\n",
       "</div>"
      ],
      "text/plain": [
       "                 종가    전일비       시가       고가       저가        거래량\n",
       "2022.04.11  111,500    500  111,000  113,000  110,500  2,390,786\n",
       "2022.04.08  112,000  1,500  113,000  114,000  110,500  4,268,316\n",
       "2022.04.07  113,500    500  111,500  114,500  110,500  5,027,865\n",
       "2022.04.06  113,000  3,500  114,500  115,500  113,000  4,541,938\n",
       "2022.04.05  116,500    500  117,500  118,000  116,000  2,101,474\n",
       "2022.04.04  117,000  1,000  115,000  117,500  114,500  2,470,792\n",
       "2022.04.01  116,000  2,000  117,000  117,500  116,000  3,851,558\n",
       "2022.03.31  118,000  3,000  119,500  120,000  117,500  4,558,063\n",
       "2022.03.30  121,000  1,000  123,000  123,000  120,500  3,436,282\n",
       "2022.03.29  120,000  2,000  119,500  120,500  118,500  3,375,247"
      ]
     },
     "execution_count": 228,
     "metadata": {},
     "output_type": "execute_result"
    }
   ],
   "source": []
  },
  {
   "cell_type": "code",
   "execution_count": 243,
   "metadata": {
    "ExecuteTime": {
     "end_time": "2022-04-25T07:39:09.214552Z",
     "start_time": "2022-04-25T07:39:09.138002Z"
    }
   },
   "outputs": [
    {
     "data": {
      "image/png": "[encoded data removed]",
      "text/plain": [
       "<Figure size 1440x432 with 1 Axes>"
      ]
     },
     "metadata": {
      "needs_background": "light"
     },
     "output_type": "display_data"
    }
   ],
   "source": [
    "# 종가 그래프 출력(str)\n"
   ]
  },
  {
   "cell_type": "markdown",
   "metadata": {},
   "source": [
    "### JSON 파싱\n",
    "> 동적페이지 크롤링의 경우에는 일반적인 HTML text 형태의 데이터만을 사용하지 않습니다.  \n",
    "JSON, xml 형식의 데이터도 통신에 사용하기에 요청결과값에 따른 처리가 필요합니다."
   ]
  },
  {
   "cell_type": "markdown",
   "metadata": {},
   "source": [
    "### 다음 주식 일자별 주가 데이터 크롤링 연습"
   ]
  },
  {
   "cell_type": "code",
   "execution_count": 97,
   "metadata": {
    "ExecuteTime": {
     "end_time": "2022-06-06T12:31:12.366223Z",
     "start_time": "2022-06-06T12:31:12.063191Z"
    }
   },
   "outputs": [
    {
     "data": {
      "text/html": [
       "<div>\n",
       "<style scoped>\n",
       "    .dataframe tbody tr th:only-of-type {\n",
       "        vertical-align: middle;\n",
       "    }\n",
       "\n",
       "    .dataframe tbody tr th {\n",
       "        vertical-align: top;\n",
       "    }\n",
       "\n",
       "    .dataframe thead th {\n",
       "        text-align: right;\n",
       "    }\n",
       "</style>\n",
       "<table border=\"1\" class=\"dataframe\">\n",
       "  <thead>\n",
       "    <tr style=\"text-align: right;\">\n",
       "      <th></th>\n",
       "      <th>symbolCode</th>\n",
       "      <th>date</th>\n",
       "      <th>tradePrice</th>\n",
       "      <th>tradeTime</th>\n",
       "      <th>change</th>\n",
       "      <th>changePrice</th>\n",
       "      <th>changeRate</th>\n",
       "      <th>prevClosingPrice</th>\n",
       "      <th>exchangeCountry</th>\n",
       "      <th>openingPrice</th>\n",
       "      <th>highPrice</th>\n",
       "      <th>lowPrice</th>\n",
       "      <th>accTradePrice</th>\n",
       "      <th>accTradeVolume</th>\n",
       "      <th>periodTradePrice</th>\n",
       "      <th>periodTradeVolume</th>\n",
       "      <th>listedSharesCount</th>\n",
       "    </tr>\n",
       "  </thead>\n",
       "  <tbody>\n",
       "    <tr>\n",
       "      <th>0</th>\n",
       "      <td>A005930</td>\n",
       "      <td>2022-05-19 15:30:23</td>\n",
       "      <td>67500.0</td>\n",
       "      <td>15:30:23</td>\n",
       "      <td>FALL</td>\n",
       "      <td>600.0</td>\n",
       "      <td>-0.008811</td>\n",
       "      <td>68100.0</td>\n",
       "      <td>KOREA</td>\n",
       "      <td>66500.0</td>\n",
       "      <td>67600.0</td>\n",
       "      <td>66500.0</td>\n",
       "      <td>1147743790508</td>\n",
       "      <td>17073727</td>\n",
       "      <td>1147743790508</td>\n",
       "      <td>17073727</td>\n",
       "      <td>None</td>\n",
       "    </tr>\n",
       "    <tr>\n",
       "      <th>1</th>\n",
       "      <td>A005930</td>\n",
       "      <td>2022-05-18 15:30:14</td>\n",
       "      <td>68100.0</td>\n",
       "      <td>15:30:14</td>\n",
       "      <td>RISE</td>\n",
       "      <td>500.0</td>\n",
       "      <td>0.007396</td>\n",
       "      <td>67600.0</td>\n",
       "      <td>KOREA</td>\n",
       "      <td>68300.0</td>\n",
       "      <td>68700.0</td>\n",
       "      <td>67600.0</td>\n",
       "      <td>1122585202585</td>\n",
       "      <td>16486319</td>\n",
       "      <td>1122585202585</td>\n",
       "      <td>16486319</td>\n",
       "      <td>None</td>\n",
       "    </tr>\n",
       "    <tr>\n",
       "      <th>2</th>\n",
       "      <td>A005930</td>\n",
       "      <td>2022-05-17 15:30:21</td>\n",
       "      <td>67600.0</td>\n",
       "      <td>15:30:21</td>\n",
       "      <td>RISE</td>\n",
       "      <td>1300.0</td>\n",
       "      <td>0.019608</td>\n",
       "      <td>66300.0</td>\n",
       "      <td>KOREA</td>\n",
       "      <td>66600.0</td>\n",
       "      <td>67900.0</td>\n",
       "      <td>66600.0</td>\n",
       "      <td>1058322764800</td>\n",
       "      <td>15680447</td>\n",
       "      <td>1058322764800</td>\n",
       "      <td>15680447</td>\n",
       "      <td>None</td>\n",
       "    </tr>\n",
       "    <tr>\n",
       "      <th>3</th>\n",
       "      <td>A005930</td>\n",
       "      <td>2022-05-16 15:30:27</td>\n",
       "      <td>66300.0</td>\n",
       "      <td>15:30:27</td>\n",
       "      <td>FALL</td>\n",
       "      <td>200.0</td>\n",
       "      <td>-0.003008</td>\n",
       "      <td>66500.0</td>\n",
       "      <td>KOREA</td>\n",
       "      <td>67100.0</td>\n",
       "      <td>67400.0</td>\n",
       "      <td>66100.0</td>\n",
       "      <td>796060691900</td>\n",
       "      <td>11937555</td>\n",
       "      <td>796060691900</td>\n",
       "      <td>11937555</td>\n",
       "      <td>None</td>\n",
       "    </tr>\n",
       "    <tr>\n",
       "      <th>4</th>\n",
       "      <td>A005930</td>\n",
       "      <td>2022-05-13 15:30:18</td>\n",
       "      <td>66500.0</td>\n",
       "      <td>15:30:18</td>\n",
       "      <td>RISE</td>\n",
       "      <td>1600.0</td>\n",
       "      <td>0.024653</td>\n",
       "      <td>64900.0</td>\n",
       "      <td>KOREA</td>\n",
       "      <td>65300.0</td>\n",
       "      <td>66700.0</td>\n",
       "      <td>65200.0</td>\n",
       "      <td>962476162900</td>\n",
       "      <td>14551536</td>\n",
       "      <td>962476162900</td>\n",
       "      <td>14551536</td>\n",
       "      <td>None</td>\n",
       "    </tr>\n",
       "    <tr>\n",
       "      <th>5</th>\n",
       "      <td>A005930</td>\n",
       "      <td>2022-05-12 15:30:14</td>\n",
       "      <td>64900.0</td>\n",
       "      <td>15:30:14</td>\n",
       "      <td>FALL</td>\n",
       "      <td>800.0</td>\n",
       "      <td>-0.012177</td>\n",
       "      <td>65700.0</td>\n",
       "      <td>KOREA</td>\n",
       "      <td>65200.0</td>\n",
       "      <td>65500.0</td>\n",
       "      <td>64900.0</td>\n",
       "      <td>1069685385550</td>\n",
       "      <td>16414188</td>\n",
       "      <td>1069685385550</td>\n",
       "      <td>16414188</td>\n",
       "      <td>None</td>\n",
       "    </tr>\n",
       "    <tr>\n",
       "      <th>6</th>\n",
       "      <td>A005930</td>\n",
       "      <td>2022-05-11 15:30:01</td>\n",
       "      <td>65700.0</td>\n",
       "      <td>15:30:01</td>\n",
       "      <td>EVEN</td>\n",
       "      <td>0.0</td>\n",
       "      <td>0.000000</td>\n",
       "      <td>65700.0</td>\n",
       "      <td>KOREA</td>\n",
       "      <td>65500.0</td>\n",
       "      <td>66300.0</td>\n",
       "      <td>65200.0</td>\n",
       "      <td>812298026600</td>\n",
       "      <td>12330920</td>\n",
       "      <td>812298026600</td>\n",
       "      <td>12330920</td>\n",
       "      <td>None</td>\n",
       "    </tr>\n",
       "    <tr>\n",
       "      <th>7</th>\n",
       "      <td>A005930</td>\n",
       "      <td>2022-05-10 15:30:16</td>\n",
       "      <td>65700.0</td>\n",
       "      <td>15:30:16</td>\n",
       "      <td>FALL</td>\n",
       "      <td>400.0</td>\n",
       "      <td>-0.006051</td>\n",
       "      <td>66100.0</td>\n",
       "      <td>KOREA</td>\n",
       "      <td>65900.0</td>\n",
       "      <td>66300.0</td>\n",
       "      <td>65300.0</td>\n",
       "      <td>1132067708900</td>\n",
       "      <td>17235605</td>\n",
       "      <td>1132067708900</td>\n",
       "      <td>17235605</td>\n",
       "      <td>None</td>\n",
       "    </tr>\n",
       "    <tr>\n",
       "      <th>8</th>\n",
       "      <td>A005930</td>\n",
       "      <td>2022-05-09 15:30:29</td>\n",
       "      <td>66100.0</td>\n",
       "      <td>15:30:29</td>\n",
       "      <td>FALL</td>\n",
       "      <td>400.0</td>\n",
       "      <td>-0.006015</td>\n",
       "      <td>66500.0</td>\n",
       "      <td>KOREA</td>\n",
       "      <td>66300.0</td>\n",
       "      <td>66900.0</td>\n",
       "      <td>66100.0</td>\n",
       "      <td>787562955000</td>\n",
       "      <td>11858736</td>\n",
       "      <td>787562955000</td>\n",
       "      <td>11858736</td>\n",
       "      <td>None</td>\n",
       "    </tr>\n",
       "    <tr>\n",
       "      <th>9</th>\n",
       "      <td>A005930</td>\n",
       "      <td>2022-05-06 15:30:15</td>\n",
       "      <td>66500.0</td>\n",
       "      <td>15:30:15</td>\n",
       "      <td>FALL</td>\n",
       "      <td>1400.0</td>\n",
       "      <td>-0.020619</td>\n",
       "      <td>67900.0</td>\n",
       "      <td>KOREA</td>\n",
       "      <td>67000.0</td>\n",
       "      <td>67100.0</td>\n",
       "      <td>66500.0</td>\n",
       "      <td>957335193600</td>\n",
       "      <td>14356156</td>\n",
       "      <td>957335193600</td>\n",
       "      <td>14356156</td>\n",
       "      <td>None</td>\n",
       "    </tr>\n",
       "  </tbody>\n",
       "</table>\n",
       "</div>"
      ],
      "text/plain": [
       "  symbolCode                 date  tradePrice tradeTime change  changePrice  \\\n",
       "0    A005930  2022-05-19 15:30:23     67500.0  15:30:23   FALL        600.0   \n",
       "1    A005930  2022-05-18 15:30:14     68100.0  15:30:14   RISE        500.0   \n",
       "2    A005930  2022-05-17 15:30:21     67600.0  15:30:21   RISE       1300.0   \n",
       "3    A005930  2022-05-16 15:30:27     66300.0  15:30:27   FALL        200.0   \n",
       "4    A005930  2022-05-13 15:30:18     66500.0  15:30:18   RISE       1600.0   \n",
       "5    A005930  2022-05-12 15:30:14     64900.0  15:30:14   FALL        800.0   \n",
       "6    A005930  2022-05-11 15:30:01     65700.0  15:30:01   EVEN          0.0   \n",
       "7    A005930  2022-05-10 15:30:16     65700.0  15:30:16   FALL        400.0   \n",
       "8    A005930  2022-05-09 15:30:29     66100.0  15:30:29   FALL        400.0   \n",
       "9    A005930  2022-05-06 15:30:15     66500.0  15:30:15   FALL       1400.0   \n",
       "\n",
       "   changeRate  prevClosingPrice exchangeCountry  openingPrice  highPrice  \\\n",
       "0   -0.008811           68100.0           KOREA       66500.0    67600.0   \n",
       "1    0.007396           67600.0           KOREA       68300.0    68700.0   \n",
       "2    0.019608           66300.0           KOREA       66600.0    67900.0   \n",
       "3   -0.003008           66500.0           KOREA       67100.0    67400.0   \n",
       "4    0.024653           64900.0           KOREA       65300.0    66700.0   \n",
       "5   -0.012177           65700.0           KOREA       65200.0    65500.0   \n",
       "6    0.000000           65700.0           KOREA       65500.0    66300.0   \n",
       "7   -0.006051           66100.0           KOREA       65900.0    66300.0   \n",
       "8   -0.006015           66500.0           KOREA       66300.0    66900.0   \n",
       "9   -0.020619           67900.0           KOREA       67000.0    67100.0   \n",
       "\n",
       "   lowPrice  accTradePrice  accTradeVolume  periodTradePrice  \\\n",
       "0   66500.0  1147743790508        17073727     1147743790508   \n",
       "1   67600.0  1122585202585        16486319     1122585202585   \n",
       "2   66600.0  1058322764800        15680447     1058322764800   \n",
       "3   66100.0   796060691900        11937555      796060691900   \n",
       "4   65200.0   962476162900        14551536      962476162900   \n",
       "5   64900.0  1069685385550        16414188     1069685385550   \n",
       "6   65200.0   812298026600        12330920      812298026600   \n",
       "7   65300.0  1132067708900        17235605     1132067708900   \n",
       "8   66100.0   787562955000        11858736      787562955000   \n",
       "9   66500.0   957335193600        14356156      957335193600   \n",
       "\n",
       "   periodTradeVolume listedSharesCount  \n",
       "0           17073727              None  \n",
       "1           16486319              None  \n",
       "2           15680447              None  \n",
       "3           11937555              None  \n",
       "4           14551536              None  \n",
       "5           16414188              None  \n",
       "6           12330920              None  \n",
       "7           17235605              None  \n",
       "8           11858736              None  \n",
       "9           14356156              None  "
      ]
     },
     "execution_count": 97,
     "metadata": {},
     "output_type": "execute_result"
    }
   ],
   "source": []
  },
  {
   "cell_type": "markdown",
   "metadata": {
    "id": "GIvAIByBCAz1",
    "slideshow": {
     "slide_type": "slide"
    }
   },
   "source": [
    "### 네이버 데이터랩 인기검색어 크롤링"
   ]
  },
  {
   "cell_type": "code",
   "execution_count": 244,
   "metadata": {
    "ExecuteTime": {
     "end_time": "2022-04-25T08:03:58.182889Z",
     "start_time": "2022-04-25T08:03:58.174940Z"
    }
   },
   "outputs": [],
   "source": []
  },
  {
   "cell_type": "markdown",
   "metadata": {},
   "source": [
    "## APIs\n",
    "> 어플리케이션  \n",
    "웹 서비스 제공자가 사용자에게 정보를 제공하기 위한 통신프로그램  \n",
    "일반적인 API의 경우 requests -> response 형태의 크롤링 방법과 동일한 형태를 취한다.  "
   ]
  },
  {
   "cell_type": "markdown",
   "metadata": {},
   "source": [
    "### 네이버 파파고 API"
   ]
  },
  {
   "cell_type": "code",
   "execution_count": 99,
   "metadata": {
    "ExecuteTime": {
     "end_time": "2022-06-06T12:35:35.857721Z",
     "start_time": "2022-06-06T12:35:35.850856Z"
    }
   },
   "outputs": [],
   "source": []
  },
  {
   "cell_type": "code",
   "execution_count": 100,
   "metadata": {
    "ExecuteTime": {
     "end_time": "2022-06-06T12:35:49.696002Z",
     "start_time": "2022-06-06T12:35:38.429957Z"
    }
   },
   "outputs": [
    {
     "name": "stdout",
     "output_type": "stream",
     "text": [
      "번역이 필요한 한국어를 입력하세요 : 오늘 수업은 여기까지입니다. 수고하셨습니다.\n",
      "That's all for today's class. Thank you for your efforts.\n"
     ]
    }
   ],
   "source": []
  },
  {
   "cell_type": "markdown",
   "metadata": {},
   "source": [
    "### 공공데이터 API"
   ]
  },
  {
   "cell_type": "code",
   "execution_count": 112,
   "metadata": {
    "ExecuteTime": {
     "end_time": "2022-06-06T12:41:48.033602Z",
     "start_time": "2022-06-06T12:41:48.026173Z"
    }
   },
   "outputs": [
    {
     "data": {
      "text/plain": [
       "'{\"resultCode\":\"0\",\"resultMsg\":\"SUCCESS\",\"numOfRows\":10,\"pageNo\":0,\"totalCount\":377,\"items\":[{\"date\":\"2018-07-01\",\"positive\":\"2956\",\"negative\":\"648\",\"neutral\":\"295\",\"addr\":\"홍대 걷고 싶은 거리\"},{\"date\":\"2018-08-01\",\"positive\":\"2247\",\"negative\":\"111\",\"neutral\":\"200\",\"addr\":\"홍대 걷고 싶은 거리\"},{\"date\":\"2018-09-01\",\"positive\":\"3602\",\"negative\":\"635\",\"neutral\":\"436\",\"addr\":\"홍대 걷고 싶은 거리\"},{\"date\":\"2018-10-01\",\"positive\":\"2827\",\"negative\":\"394\",\"neutral\":\"623\",\"addr\":\"홍대 걷고 싶은 거리\"},{\"date\":\"2018-11-01\",\"positive\":\"2004\",\"negative\":\"356\",\"neutral\":\"583\",\"addr\":\"홍대 걷고 싶은 거리\"},{\"date\":\"2018-12-01\",\"positive\":\"1457\",\"negative\":\"223\",\"neutral\":\"173\",\"addr\":\"홍대 걷고 싶은 거리\"},{\"date\":\"2019-01-01\",\"positive\":\"1444\",\"negative\":\"143\",\"neutral\":\"127\",\"addr\":\"홍대 걷고 싶은 거리\"},{\"date\":\"2019-02-01\",\"positive\":\"6886\",\"negative\":\"215\",\"neutral\":\"220\",\"addr\":\"홍대 걷고 싶은 거리\"},{\"date\":\"2019-03-01\",\"positive\":\"1945\",\"negative\":\"175\",\"neutral\":\"160\",\"addr\":\"홍대 걷고 싶은 거리\"},{\"date\":\"2019-04-01\",\"positive\":\"1773\",\"negative\":\"90\",\"neutral\":\"103\",\"addr\":\"홍대 걷고 싶은 거리\"}]}'"
      ]
     },
     "execution_count": 112,
     "metadata": {},
     "output_type": "execute_result"
    }
   ],
   "source": []
  }
 ],
 "metadata": {
  "colab": {
   "authorship_tag": "ABX9TyMM9bcGMQdkO/nwIX0kAuhm",
   "collapsed_sections": [],
   "name": "08_crawler.ipynb",
   "provenance": []
  },
  "kernelspec": {
   "display_name": "Python 3 (ipykernel)",
   "language": "python",
   "name": "python3"
  },
  "language_info": {
   "codemirror_mode": {
    "name": "ipython",
    "version": 3
   },
   "file_extension": ".py",
   "mimetype": "text/x-python",
   "name": "python",
   "nbconvert_exporter": "python",
   "pygments_lexer": "ipython3",
   "version": "3.9.7"
  },
  "toc": {
   "base_numbering": 1,
   "nav_menu": {},
   "number_sections": true,
   "sideBar": true,
   "skip_h1_title": true,
   "title_cell": "Table of Contents",
   "title_sidebar": "Contents",
   "toc_cell": false,
   "toc_position": {},
   "toc_section_display": true,
   "toc_window_display": false
  },
  "varInspector": {
   "cols": {
    "lenName": 16,
    "lenType": 16,
    "lenVar": 40
   },
   "kernels_config": {
    "python": {
     "delete_cmd_postfix": "",
     "delete_cmd_prefix": "del ",
     "library": "var_list.py",
     "varRefreshCmd": "print(var_dic_list())"
    },
    "r": {
     "delete_cmd_postfix": ") ",
     "delete_cmd_prefix": "rm(",
     "library": "var_list.r",
     "varRefreshCmd": "cat(var_dic_list()) "
    }
   },
   "types_to_exclude": [
    "module",
    "function",
    "builtin_function_or_method",
    "instance",
    "_Feature"
   ],
   "window_display": false
  }
 },
 "nbformat": 4,
 "nbformat_minor": 1
}
