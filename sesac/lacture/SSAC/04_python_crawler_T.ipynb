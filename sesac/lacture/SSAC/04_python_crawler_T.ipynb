{
 "cells": [
  {
   "cell_type": "markdown",
   "metadata": {
    "id": "UsZSmAj47LXm",
    "slideshow": {
     "slide_type": "slide"
    }
   },
   "source": [
    "# **데이터 크롤링**"
   ]
  },
  {
   "cell_type": "markdown",
   "metadata": {
    "id": "qGMeSCoV7QTQ",
    "slideshow": {
     "slide_type": "slide"
    }
   },
   "source": [
    "## **크롤링이란?**\n",
    "> 크롤러(crawler)는 자동화된 방법으로 웹을 탐색하는 컴퓨터 프로그램  \n",
    "'웹 크롤링'(web crawling)??  \n",
    "'데이터 크롤링'(data crawling)!!  "
   ]
  },
  {
   "cell_type": "markdown",
   "metadata": {
    "id": "WboqZ6A47Yqe",
    "slideshow": {
     "slide_type": "slide"
    }
   },
   "source": [
    "우리는 매일 크롤러도 사용하고 있습니다."
   ]
  },
  {
   "cell_type": "markdown",
   "metadata": {
    "id": "5PfW0HG17td5",
    "slideshow": {
     "slide_type": "slide"
    }
   },
   "source": [
    "## **웹 크롤링**\n",
    "> 웹 서비스 내 정보를 수집하는 일  \n",
    "다만 서비스 제공자의 입장에서는??  \n",
    "\n",
    ">> 필요한 정보가 있다면?  \n",
    "API 확인 -> 없으면 직접 크롤링  "
   ]
  },
  {
   "cell_type": "markdown",
   "metadata": {
    "id": "e0ITGMAN70Da",
    "slideshow": {
     "slide_type": "slide"
    }
   },
   "source": [
    "### 웹 서핑을 하는 의식의 흐름\n",
    "> - 브라우저 오픈  \n",
    "> - 원하는 인터넷페이지 주소 입력  \n",
    "> - 화면이 열리면 찾고자 하는 정보를 스크롤 하면서 찾기  \n",
    "> - 문자, 그림, 동영상 조회  "
   ]
  },
  {
   "cell_type": "markdown",
   "metadata": {
    "id": "AWcggzcG728P",
    "slideshow": {
     "slide_type": "slide"
    }
   },
   "source": [
    "### 웹 크롤링 하는 의식의 흐름\n",
    "> - 정보를 가져오고자 하는 url 정의\n",
    "> - url 정보로 requests로 정보 요청\n",
    "> - text 정보를 html로 변환\n",
    "> - html에서 우리가 필요한 정보만 선별"
   ]
  },
  {
   "cell_type": "markdown",
   "metadata": {},
   "source": [
    "## requests\n",
    "> - HTTP 요청을 주고받기 위한 파이썬 패키지\n",
    "> - 파이썬 내장 패키지는 아니지만 사실상 HTTP 요청을 주고받기 위한 표준이라 생각해도 무방함\n",
    "> - 웹 페이지에 요청, 업데이트, 삭제 등 인터넷프로토콜을 파이썬으로 제어한다.\n",
    "> - requests는 요청을 하고 데이터를 전달 받지만 text 혹은 바이너리 형태로만 전달받음."
   ]
  },
  {
   "cell_type": "markdown",
   "metadata": {
    "id": "XT464CpR75Uh",
    "slideshow": {
     "slide_type": "slide"
    }
   },
   "source": [
    "## BeautifulSoup\n",
    "> - API는 통신을 위해 정형화 된 데이터 형태의 text, json등을 통신에 사용한다.  \n",
    "> - requests로 전달받은 데이터를 우리가 원하는 데이터로 가공하기 위해 편의상 html로 변환  \n",
    "> - text를 html로 변환하는 모듈이 beautifulSoup"
   ]
  },
  {
   "cell_type": "markdown",
   "metadata": {},
   "source": [
    "### BeautifulSoup 설치"
   ]
  },
  {
   "cell_type": "code",
   "execution_count": 1,
   "metadata": {
    "ExecuteTime": {
     "end_time": "2022-07-29T00:03:59.841386Z",
     "start_time": "2022-07-29T00:03:59.675467Z"
    }
   },
   "outputs": [],
   "source": [
    "# 패키지 설치 및 import \n",
    "# pip install BeautifulSoup4\n",
    "from bs4 import BeautifulSoup"
   ]
  },
  {
   "cell_type": "markdown",
   "metadata": {
    "id": "5j1oR5fO78FW",
    "slideshow": {
     "slide_type": "slide"
    }
   },
   "source": [
    "## 간단한 데이터 크롤링으로 기본 개념잡기"
   ]
  },
  {
   "cell_type": "code",
   "execution_count": 2,
   "metadata": {
    "ExecuteTime": {
     "end_time": "2022-07-29T00:04:01.674073Z",
     "start_time": "2022-07-29T00:03:59.842344Z"
    }
   },
   "outputs": [],
   "source": [
    "# 필요패키지 import\n",
    "import time\n",
    "import json\n",
    "import urllib\n",
    "import requests\n",
    "import numpy as np\n",
    "import pandas as pd\n",
    "import matplotlib.pyplot as plt\n",
    "import seaborn as sns"
   ]
  },
  {
   "cell_type": "markdown",
   "metadata": {},
   "source": [
    "#### 네이버 메인페이지 크롤링"
   ]
  },
  {
   "cell_type": "code",
   "execution_count": 3,
   "metadata": {
    "ExecuteTime": {
     "end_time": "2022-07-29T00:04:02.019314Z",
     "start_time": "2022-07-29T00:04:01.674998Z"
    },
    "scrolled": true
   },
   "outputs": [
    {
     "ename": "ConnectionError",
     "evalue": "HTTPSConnectionPool(host='www.naver.com', port=443): Max retries exceeded with url: / (Caused by NewConnectionError('<urllib3.connection.HTTPSConnection object at 0x0000020D10399160>: Failed to establish a new connection: [Errno 11001] getaddrinfo failed'))",
     "output_type": "error",
     "traceback": [
      "\u001b[1;31m---------------------------------------------------------------------------\u001b[0m",
      "\u001b[1;31mgaierror\u001b[0m                                  Traceback (most recent call last)",
      "\u001b[1;32m~\\anaconda3\\lib\\site-packages\\urllib3\\connection.py\u001b[0m in \u001b[0;36m_new_conn\u001b[1;34m(self)\u001b[0m\n\u001b[0;32m    173\u001b[0m         \u001b[1;32mtry\u001b[0m\u001b[1;33m:\u001b[0m\u001b[1;33m\u001b[0m\u001b[1;33m\u001b[0m\u001b[0m\n\u001b[1;32m--> 174\u001b[1;33m             conn = connection.create_connection(\n\u001b[0m\u001b[0;32m    175\u001b[0m                 \u001b[1;33m(\u001b[0m\u001b[0mself\u001b[0m\u001b[1;33m.\u001b[0m\u001b[0m_dns_host\u001b[0m\u001b[1;33m,\u001b[0m \u001b[0mself\u001b[0m\u001b[1;33m.\u001b[0m\u001b[0mport\u001b[0m\u001b[1;33m)\u001b[0m\u001b[1;33m,\u001b[0m \u001b[0mself\u001b[0m\u001b[1;33m.\u001b[0m\u001b[0mtimeout\u001b[0m\u001b[1;33m,\u001b[0m \u001b[1;33m**\u001b[0m\u001b[0mextra_kw\u001b[0m\u001b[1;33m\u001b[0m\u001b[1;33m\u001b[0m\u001b[0m\n",
      "\u001b[1;32m~\\anaconda3\\lib\\site-packages\\urllib3\\util\\connection.py\u001b[0m in \u001b[0;36mcreate_connection\u001b[1;34m(address, timeout, source_address, socket_options)\u001b[0m\n\u001b[0;32m     72\u001b[0m \u001b[1;33m\u001b[0m\u001b[0m\n\u001b[1;32m---> 73\u001b[1;33m     \u001b[1;32mfor\u001b[0m \u001b[0mres\u001b[0m \u001b[1;32min\u001b[0m \u001b[0msocket\u001b[0m\u001b[1;33m.\u001b[0m\u001b[0mgetaddrinfo\u001b[0m\u001b[1;33m(\u001b[0m\u001b[0mhost\u001b[0m\u001b[1;33m,\u001b[0m \u001b[0mport\u001b[0m\u001b[1;33m,\u001b[0m \u001b[0mfamily\u001b[0m\u001b[1;33m,\u001b[0m \u001b[0msocket\u001b[0m\u001b[1;33m.\u001b[0m\u001b[0mSOCK_STREAM\u001b[0m\u001b[1;33m)\u001b[0m\u001b[1;33m:\u001b[0m\u001b[1;33m\u001b[0m\u001b[1;33m\u001b[0m\u001b[0m\n\u001b[0m\u001b[0;32m     74\u001b[0m         \u001b[0maf\u001b[0m\u001b[1;33m,\u001b[0m \u001b[0msocktype\u001b[0m\u001b[1;33m,\u001b[0m \u001b[0mproto\u001b[0m\u001b[1;33m,\u001b[0m \u001b[0mcanonname\u001b[0m\u001b[1;33m,\u001b[0m \u001b[0msa\u001b[0m \u001b[1;33m=\u001b[0m \u001b[0mres\u001b[0m\u001b[1;33m\u001b[0m\u001b[1;33m\u001b[0m\u001b[0m\n",
      "\u001b[1;32m~\\anaconda3\\lib\\socket.py\u001b[0m in \u001b[0;36mgetaddrinfo\u001b[1;34m(host, port, family, type, proto, flags)\u001b[0m\n\u001b[0;32m    953\u001b[0m     \u001b[0maddrlist\u001b[0m \u001b[1;33m=\u001b[0m \u001b[1;33m[\u001b[0m\u001b[1;33m]\u001b[0m\u001b[1;33m\u001b[0m\u001b[1;33m\u001b[0m\u001b[0m\n\u001b[1;32m--> 954\u001b[1;33m     \u001b[1;32mfor\u001b[0m \u001b[0mres\u001b[0m \u001b[1;32min\u001b[0m \u001b[0m_socket\u001b[0m\u001b[1;33m.\u001b[0m\u001b[0mgetaddrinfo\u001b[0m\u001b[1;33m(\u001b[0m\u001b[0mhost\u001b[0m\u001b[1;33m,\u001b[0m \u001b[0mport\u001b[0m\u001b[1;33m,\u001b[0m \u001b[0mfamily\u001b[0m\u001b[1;33m,\u001b[0m \u001b[0mtype\u001b[0m\u001b[1;33m,\u001b[0m \u001b[0mproto\u001b[0m\u001b[1;33m,\u001b[0m \u001b[0mflags\u001b[0m\u001b[1;33m)\u001b[0m\u001b[1;33m:\u001b[0m\u001b[1;33m\u001b[0m\u001b[1;33m\u001b[0m\u001b[0m\n\u001b[0m\u001b[0;32m    955\u001b[0m         \u001b[0maf\u001b[0m\u001b[1;33m,\u001b[0m \u001b[0msocktype\u001b[0m\u001b[1;33m,\u001b[0m \u001b[0mproto\u001b[0m\u001b[1;33m,\u001b[0m \u001b[0mcanonname\u001b[0m\u001b[1;33m,\u001b[0m \u001b[0msa\u001b[0m \u001b[1;33m=\u001b[0m \u001b[0mres\u001b[0m\u001b[1;33m\u001b[0m\u001b[1;33m\u001b[0m\u001b[0m\n",
      "\u001b[1;31mgaierror\u001b[0m: [Errno 11001] getaddrinfo failed",
      "\nDuring handling of the above exception, another exception occurred:\n",
      "\u001b[1;31mNewConnectionError\u001b[0m                        Traceback (most recent call last)",
      "\u001b[1;32m~\\anaconda3\\lib\\site-packages\\urllib3\\connectionpool.py\u001b[0m in \u001b[0;36murlopen\u001b[1;34m(self, method, url, body, headers, retries, redirect, assert_same_host, timeout, pool_timeout, release_conn, chunked, body_pos, **response_kw)\u001b[0m\n\u001b[0;32m    698\u001b[0m             \u001b[1;31m# Make the request on the httplib connection object.\u001b[0m\u001b[1;33m\u001b[0m\u001b[1;33m\u001b[0m\u001b[0m\n\u001b[1;32m--> 699\u001b[1;33m             httplib_response = self._make_request(\n\u001b[0m\u001b[0;32m    700\u001b[0m                 \u001b[0mconn\u001b[0m\u001b[1;33m,\u001b[0m\u001b[1;33m\u001b[0m\u001b[1;33m\u001b[0m\u001b[0m\n",
      "\u001b[1;32m~\\anaconda3\\lib\\site-packages\\urllib3\\connectionpool.py\u001b[0m in \u001b[0;36m_make_request\u001b[1;34m(self, conn, method, url, timeout, chunked, **httplib_request_kw)\u001b[0m\n\u001b[0;32m    381\u001b[0m         \u001b[1;32mtry\u001b[0m\u001b[1;33m:\u001b[0m\u001b[1;33m\u001b[0m\u001b[1;33m\u001b[0m\u001b[0m\n\u001b[1;32m--> 382\u001b[1;33m             \u001b[0mself\u001b[0m\u001b[1;33m.\u001b[0m\u001b[0m_validate_conn\u001b[0m\u001b[1;33m(\u001b[0m\u001b[0mconn\u001b[0m\u001b[1;33m)\u001b[0m\u001b[1;33m\u001b[0m\u001b[1;33m\u001b[0m\u001b[0m\n\u001b[0m\u001b[0;32m    383\u001b[0m         \u001b[1;32mexcept\u001b[0m \u001b[1;33m(\u001b[0m\u001b[0mSocketTimeout\u001b[0m\u001b[1;33m,\u001b[0m \u001b[0mBaseSSLError\u001b[0m\u001b[1;33m)\u001b[0m \u001b[1;32mas\u001b[0m \u001b[0me\u001b[0m\u001b[1;33m:\u001b[0m\u001b[1;33m\u001b[0m\u001b[1;33m\u001b[0m\u001b[0m\n",
      "\u001b[1;32m~\\anaconda3\\lib\\site-packages\\urllib3\\connectionpool.py\u001b[0m in \u001b[0;36m_validate_conn\u001b[1;34m(self, conn)\u001b[0m\n\u001b[0;32m   1009\u001b[0m         \u001b[1;32mif\u001b[0m \u001b[1;32mnot\u001b[0m \u001b[0mgetattr\u001b[0m\u001b[1;33m(\u001b[0m\u001b[0mconn\u001b[0m\u001b[1;33m,\u001b[0m \u001b[1;34m\"sock\"\u001b[0m\u001b[1;33m,\u001b[0m \u001b[1;32mNone\u001b[0m\u001b[1;33m)\u001b[0m\u001b[1;33m:\u001b[0m  \u001b[1;31m# AppEngine might not have  `.sock`\u001b[0m\u001b[1;33m\u001b[0m\u001b[1;33m\u001b[0m\u001b[0m\n\u001b[1;32m-> 1010\u001b[1;33m             \u001b[0mconn\u001b[0m\u001b[1;33m.\u001b[0m\u001b[0mconnect\u001b[0m\u001b[1;33m(\u001b[0m\u001b[1;33m)\u001b[0m\u001b[1;33m\u001b[0m\u001b[1;33m\u001b[0m\u001b[0m\n\u001b[0m\u001b[0;32m   1011\u001b[0m \u001b[1;33m\u001b[0m\u001b[0m\n",
      "\u001b[1;32m~\\anaconda3\\lib\\site-packages\\urllib3\\connection.py\u001b[0m in \u001b[0;36mconnect\u001b[1;34m(self)\u001b[0m\n\u001b[0;32m    357\u001b[0m         \u001b[1;31m# Add certificate verification\u001b[0m\u001b[1;33m\u001b[0m\u001b[1;33m\u001b[0m\u001b[0m\n\u001b[1;32m--> 358\u001b[1;33m         \u001b[0mconn\u001b[0m \u001b[1;33m=\u001b[0m \u001b[0mself\u001b[0m\u001b[1;33m.\u001b[0m\u001b[0m_new_conn\u001b[0m\u001b[1;33m(\u001b[0m\u001b[1;33m)\u001b[0m\u001b[1;33m\u001b[0m\u001b[1;33m\u001b[0m\u001b[0m\n\u001b[0m\u001b[0;32m    359\u001b[0m         \u001b[0mhostname\u001b[0m \u001b[1;33m=\u001b[0m \u001b[0mself\u001b[0m\u001b[1;33m.\u001b[0m\u001b[0mhost\u001b[0m\u001b[1;33m\u001b[0m\u001b[1;33m\u001b[0m\u001b[0m\n",
      "\u001b[1;32m~\\anaconda3\\lib\\site-packages\\urllib3\\connection.py\u001b[0m in \u001b[0;36m_new_conn\u001b[1;34m(self)\u001b[0m\n\u001b[0;32m    185\u001b[0m         \u001b[1;32mexcept\u001b[0m \u001b[0mSocketError\u001b[0m \u001b[1;32mas\u001b[0m \u001b[0me\u001b[0m\u001b[1;33m:\u001b[0m\u001b[1;33m\u001b[0m\u001b[1;33m\u001b[0m\u001b[0m\n\u001b[1;32m--> 186\u001b[1;33m             raise NewConnectionError(\n\u001b[0m\u001b[0;32m    187\u001b[0m                 \u001b[0mself\u001b[0m\u001b[1;33m,\u001b[0m \u001b[1;34m\"Failed to establish a new connection: %s\"\u001b[0m \u001b[1;33m%\u001b[0m \u001b[0me\u001b[0m\u001b[1;33m\u001b[0m\u001b[1;33m\u001b[0m\u001b[0m\n",
      "\u001b[1;31mNewConnectionError\u001b[0m: <urllib3.connection.HTTPSConnection object at 0x0000020D10399160>: Failed to establish a new connection: [Errno 11001] getaddrinfo failed",
      "\nDuring handling of the above exception, another exception occurred:\n",
      "\u001b[1;31mMaxRetryError\u001b[0m                             Traceback (most recent call last)",
      "\u001b[1;32m~\\anaconda3\\lib\\site-packages\\requests\\adapters.py\u001b[0m in \u001b[0;36msend\u001b[1;34m(self, request, stream, timeout, verify, cert, proxies)\u001b[0m\n\u001b[0;32m    438\u001b[0m             \u001b[1;32mif\u001b[0m \u001b[1;32mnot\u001b[0m \u001b[0mchunked\u001b[0m\u001b[1;33m:\u001b[0m\u001b[1;33m\u001b[0m\u001b[1;33m\u001b[0m\u001b[0m\n\u001b[1;32m--> 439\u001b[1;33m                 resp = conn.urlopen(\n\u001b[0m\u001b[0;32m    440\u001b[0m                     \u001b[0mmethod\u001b[0m\u001b[1;33m=\u001b[0m\u001b[0mrequest\u001b[0m\u001b[1;33m.\u001b[0m\u001b[0mmethod\u001b[0m\u001b[1;33m,\u001b[0m\u001b[1;33m\u001b[0m\u001b[1;33m\u001b[0m\u001b[0m\n",
      "\u001b[1;32m~\\anaconda3\\lib\\site-packages\\urllib3\\connectionpool.py\u001b[0m in \u001b[0;36murlopen\u001b[1;34m(self, method, url, body, headers, retries, redirect, assert_same_host, timeout, pool_timeout, release_conn, chunked, body_pos, **response_kw)\u001b[0m\n\u001b[0;32m    754\u001b[0m \u001b[1;33m\u001b[0m\u001b[0m\n\u001b[1;32m--> 755\u001b[1;33m             retries = retries.increment(\n\u001b[0m\u001b[0;32m    756\u001b[0m                 \u001b[0mmethod\u001b[0m\u001b[1;33m,\u001b[0m \u001b[0murl\u001b[0m\u001b[1;33m,\u001b[0m \u001b[0merror\u001b[0m\u001b[1;33m=\u001b[0m\u001b[0me\u001b[0m\u001b[1;33m,\u001b[0m \u001b[0m_pool\u001b[0m\u001b[1;33m=\u001b[0m\u001b[0mself\u001b[0m\u001b[1;33m,\u001b[0m \u001b[0m_stacktrace\u001b[0m\u001b[1;33m=\u001b[0m\u001b[0msys\u001b[0m\u001b[1;33m.\u001b[0m\u001b[0mexc_info\u001b[0m\u001b[1;33m(\u001b[0m\u001b[1;33m)\u001b[0m\u001b[1;33m[\u001b[0m\u001b[1;36m2\u001b[0m\u001b[1;33m]\u001b[0m\u001b[1;33m\u001b[0m\u001b[1;33m\u001b[0m\u001b[0m\n",
      "\u001b[1;32m~\\anaconda3\\lib\\site-packages\\urllib3\\util\\retry.py\u001b[0m in \u001b[0;36mincrement\u001b[1;34m(self, method, url, response, error, _pool, _stacktrace)\u001b[0m\n\u001b[0;32m    573\u001b[0m         \u001b[1;32mif\u001b[0m \u001b[0mnew_retry\u001b[0m\u001b[1;33m.\u001b[0m\u001b[0mis_exhausted\u001b[0m\u001b[1;33m(\u001b[0m\u001b[1;33m)\u001b[0m\u001b[1;33m:\u001b[0m\u001b[1;33m\u001b[0m\u001b[1;33m\u001b[0m\u001b[0m\n\u001b[1;32m--> 574\u001b[1;33m             \u001b[1;32mraise\u001b[0m \u001b[0mMaxRetryError\u001b[0m\u001b[1;33m(\u001b[0m\u001b[0m_pool\u001b[0m\u001b[1;33m,\u001b[0m \u001b[0murl\u001b[0m\u001b[1;33m,\u001b[0m \u001b[0merror\u001b[0m \u001b[1;32mor\u001b[0m \u001b[0mResponseError\u001b[0m\u001b[1;33m(\u001b[0m\u001b[0mcause\u001b[0m\u001b[1;33m)\u001b[0m\u001b[1;33m)\u001b[0m\u001b[1;33m\u001b[0m\u001b[1;33m\u001b[0m\u001b[0m\n\u001b[0m\u001b[0;32m    575\u001b[0m \u001b[1;33m\u001b[0m\u001b[0m\n",
      "\u001b[1;31mMaxRetryError\u001b[0m: HTTPSConnectionPool(host='www.naver.com', port=443): Max retries exceeded with url: / (Caused by NewConnectionError('<urllib3.connection.HTTPSConnection object at 0x0000020D10399160>: Failed to establish a new connection: [Errno 11001] getaddrinfo failed'))",
      "\nDuring handling of the above exception, another exception occurred:\n",
      "\u001b[1;31mConnectionError\u001b[0m                           Traceback (most recent call last)",
      "\u001b[1;32m~\\AppData\\Local\\Temp/ipykernel_11208/265447837.py\u001b[0m in \u001b[0;36m<module>\u001b[1;34m\u001b[0m\n\u001b[0;32m      8\u001b[0m \u001b[0murl\u001b[0m \u001b[1;33m=\u001b[0m \u001b[1;34m'https://www.naver.com/'\u001b[0m\u001b[1;33m\u001b[0m\u001b[1;33m\u001b[0m\u001b[0m\n\u001b[0;32m      9\u001b[0m \u001b[1;31m# requsts로 url에 정보요청\u001b[0m\u001b[1;33m\u001b[0m\u001b[1;33m\u001b[0m\u001b[0m\n\u001b[1;32m---> 10\u001b[1;33m \u001b[0mresp\u001b[0m \u001b[1;33m=\u001b[0m \u001b[0mrequests\u001b[0m\u001b[1;33m.\u001b[0m\u001b[0mget\u001b[0m\u001b[1;33m(\u001b[0m\u001b[0murl\u001b[0m\u001b[1;33m)\u001b[0m \u001b[1;31m# url페이지에 정보요청을 하고 내려받은 데이터를 resp 변수에 저장\u001b[0m\u001b[1;33m\u001b[0m\u001b[1;33m\u001b[0m\u001b[0m\n\u001b[0m\u001b[0;32m     11\u001b[0m \u001b[1;31m# 정보를 html 변환 (보기 쉽게)\u001b[0m\u001b[1;33m\u001b[0m\u001b[1;33m\u001b[0m\u001b[0m\n\u001b[0;32m     12\u001b[0m \u001b[0mhtml\u001b[0m \u001b[1;33m=\u001b[0m \u001b[0mBeautifulSoup\u001b[0m\u001b[1;33m(\u001b[0m\u001b[0mresp\u001b[0m\u001b[1;33m.\u001b[0m\u001b[0mtext\u001b[0m\u001b[1;33m,\u001b[0m \u001b[1;34m'html.parser'\u001b[0m\u001b[1;33m)\u001b[0m\u001b[1;33m\u001b[0m\u001b[1;33m\u001b[0m\u001b[0m\n",
      "\u001b[1;32m~\\anaconda3\\lib\\site-packages\\requests\\api.py\u001b[0m in \u001b[0;36mget\u001b[1;34m(url, params, **kwargs)\u001b[0m\n\u001b[0;32m     73\u001b[0m     \"\"\"\n\u001b[0;32m     74\u001b[0m \u001b[1;33m\u001b[0m\u001b[0m\n\u001b[1;32m---> 75\u001b[1;33m     \u001b[1;32mreturn\u001b[0m \u001b[0mrequest\u001b[0m\u001b[1;33m(\u001b[0m\u001b[1;34m'get'\u001b[0m\u001b[1;33m,\u001b[0m \u001b[0murl\u001b[0m\u001b[1;33m,\u001b[0m \u001b[0mparams\u001b[0m\u001b[1;33m=\u001b[0m\u001b[0mparams\u001b[0m\u001b[1;33m,\u001b[0m \u001b[1;33m**\u001b[0m\u001b[0mkwargs\u001b[0m\u001b[1;33m)\u001b[0m\u001b[1;33m\u001b[0m\u001b[1;33m\u001b[0m\u001b[0m\n\u001b[0m\u001b[0;32m     76\u001b[0m \u001b[1;33m\u001b[0m\u001b[0m\n\u001b[0;32m     77\u001b[0m \u001b[1;33m\u001b[0m\u001b[0m\n",
      "\u001b[1;32m~\\anaconda3\\lib\\site-packages\\requests\\api.py\u001b[0m in \u001b[0;36mrequest\u001b[1;34m(method, url, **kwargs)\u001b[0m\n\u001b[0;32m     59\u001b[0m     \u001b[1;31m# cases, and look like a memory leak in others.\u001b[0m\u001b[1;33m\u001b[0m\u001b[1;33m\u001b[0m\u001b[0m\n\u001b[0;32m     60\u001b[0m     \u001b[1;32mwith\u001b[0m \u001b[0msessions\u001b[0m\u001b[1;33m.\u001b[0m\u001b[0mSession\u001b[0m\u001b[1;33m(\u001b[0m\u001b[1;33m)\u001b[0m \u001b[1;32mas\u001b[0m \u001b[0msession\u001b[0m\u001b[1;33m:\u001b[0m\u001b[1;33m\u001b[0m\u001b[1;33m\u001b[0m\u001b[0m\n\u001b[1;32m---> 61\u001b[1;33m         \u001b[1;32mreturn\u001b[0m \u001b[0msession\u001b[0m\u001b[1;33m.\u001b[0m\u001b[0mrequest\u001b[0m\u001b[1;33m(\u001b[0m\u001b[0mmethod\u001b[0m\u001b[1;33m=\u001b[0m\u001b[0mmethod\u001b[0m\u001b[1;33m,\u001b[0m \u001b[0murl\u001b[0m\u001b[1;33m=\u001b[0m\u001b[0murl\u001b[0m\u001b[1;33m,\u001b[0m \u001b[1;33m**\u001b[0m\u001b[0mkwargs\u001b[0m\u001b[1;33m)\u001b[0m\u001b[1;33m\u001b[0m\u001b[1;33m\u001b[0m\u001b[0m\n\u001b[0m\u001b[0;32m     62\u001b[0m \u001b[1;33m\u001b[0m\u001b[0m\n\u001b[0;32m     63\u001b[0m \u001b[1;33m\u001b[0m\u001b[0m\n",
      "\u001b[1;32m~\\anaconda3\\lib\\site-packages\\requests\\sessions.py\u001b[0m in \u001b[0;36mrequest\u001b[1;34m(self, method, url, params, data, headers, cookies, files, auth, timeout, allow_redirects, proxies, hooks, stream, verify, cert, json)\u001b[0m\n\u001b[0;32m    540\u001b[0m         }\n\u001b[0;32m    541\u001b[0m         \u001b[0msend_kwargs\u001b[0m\u001b[1;33m.\u001b[0m\u001b[0mupdate\u001b[0m\u001b[1;33m(\u001b[0m\u001b[0msettings\u001b[0m\u001b[1;33m)\u001b[0m\u001b[1;33m\u001b[0m\u001b[1;33m\u001b[0m\u001b[0m\n\u001b[1;32m--> 542\u001b[1;33m         \u001b[0mresp\u001b[0m \u001b[1;33m=\u001b[0m \u001b[0mself\u001b[0m\u001b[1;33m.\u001b[0m\u001b[0msend\u001b[0m\u001b[1;33m(\u001b[0m\u001b[0mprep\u001b[0m\u001b[1;33m,\u001b[0m \u001b[1;33m**\u001b[0m\u001b[0msend_kwargs\u001b[0m\u001b[1;33m)\u001b[0m\u001b[1;33m\u001b[0m\u001b[1;33m\u001b[0m\u001b[0m\n\u001b[0m\u001b[0;32m    543\u001b[0m \u001b[1;33m\u001b[0m\u001b[0m\n\u001b[0;32m    544\u001b[0m         \u001b[1;32mreturn\u001b[0m \u001b[0mresp\u001b[0m\u001b[1;33m\u001b[0m\u001b[1;33m\u001b[0m\u001b[0m\n",
      "\u001b[1;32m~\\anaconda3\\lib\\site-packages\\requests\\sessions.py\u001b[0m in \u001b[0;36msend\u001b[1;34m(self, request, **kwargs)\u001b[0m\n\u001b[0;32m    653\u001b[0m \u001b[1;33m\u001b[0m\u001b[0m\n\u001b[0;32m    654\u001b[0m         \u001b[1;31m# Send the request\u001b[0m\u001b[1;33m\u001b[0m\u001b[1;33m\u001b[0m\u001b[0m\n\u001b[1;32m--> 655\u001b[1;33m         \u001b[0mr\u001b[0m \u001b[1;33m=\u001b[0m \u001b[0madapter\u001b[0m\u001b[1;33m.\u001b[0m\u001b[0msend\u001b[0m\u001b[1;33m(\u001b[0m\u001b[0mrequest\u001b[0m\u001b[1;33m,\u001b[0m \u001b[1;33m**\u001b[0m\u001b[0mkwargs\u001b[0m\u001b[1;33m)\u001b[0m\u001b[1;33m\u001b[0m\u001b[1;33m\u001b[0m\u001b[0m\n\u001b[0m\u001b[0;32m    656\u001b[0m \u001b[1;33m\u001b[0m\u001b[0m\n\u001b[0;32m    657\u001b[0m         \u001b[1;31m# Total elapsed time of the request (approximately)\u001b[0m\u001b[1;33m\u001b[0m\u001b[1;33m\u001b[0m\u001b[0m\n",
      "\u001b[1;32m~\\anaconda3\\lib\\site-packages\\requests\\adapters.py\u001b[0m in \u001b[0;36msend\u001b[1;34m(self, request, stream, timeout, verify, cert, proxies)\u001b[0m\n\u001b[0;32m    514\u001b[0m                 \u001b[1;32mraise\u001b[0m \u001b[0mSSLError\u001b[0m\u001b[1;33m(\u001b[0m\u001b[0me\u001b[0m\u001b[1;33m,\u001b[0m \u001b[0mrequest\u001b[0m\u001b[1;33m=\u001b[0m\u001b[0mrequest\u001b[0m\u001b[1;33m)\u001b[0m\u001b[1;33m\u001b[0m\u001b[1;33m\u001b[0m\u001b[0m\n\u001b[0;32m    515\u001b[0m \u001b[1;33m\u001b[0m\u001b[0m\n\u001b[1;32m--> 516\u001b[1;33m             \u001b[1;32mraise\u001b[0m \u001b[0mConnectionError\u001b[0m\u001b[1;33m(\u001b[0m\u001b[0me\u001b[0m\u001b[1;33m,\u001b[0m \u001b[0mrequest\u001b[0m\u001b[1;33m=\u001b[0m\u001b[0mrequest\u001b[0m\u001b[1;33m)\u001b[0m\u001b[1;33m\u001b[0m\u001b[1;33m\u001b[0m\u001b[0m\n\u001b[0m\u001b[0;32m    517\u001b[0m \u001b[1;33m\u001b[0m\u001b[0m\n\u001b[0;32m    518\u001b[0m         \u001b[1;32mexcept\u001b[0m \u001b[0mClosedPoolError\u001b[0m \u001b[1;32mas\u001b[0m \u001b[0me\u001b[0m\u001b[1;33m:\u001b[0m\u001b[1;33m\u001b[0m\u001b[1;33m\u001b[0m\u001b[0m\n",
      "\u001b[1;31mConnectionError\u001b[0m: HTTPSConnectionPool(host='www.naver.com', port=443): Max retries exceeded with url: / (Caused by NewConnectionError('<urllib3.connection.HTTPSConnection object at 0x0000020D10399160>: Failed to establish a new connection: [Errno 11001] getaddrinfo failed'))"
     ]
    }
   ],
   "source": [
    "'''\n",
    "정보를 가져오고자 하는 url 정의\n",
    "url 정보로 requests로 정보 요청\n",
    "text 정보를 html로 변환\n",
    "html에서 우리가 필요한 정보만 선별\n",
    "'''\n",
    "# url정의\n",
    "url = 'https://www.naver.com/'\n",
    "# requsts로 url에 정보요청\n",
    "resp = requests.get(url) # url페이지에 정보요청을 하고 내려받은 데이터를 resp 변수에 저장\n",
    "# 정보를 html 변환 (보기 쉽게)\n",
    "html = BeautifulSoup(resp.text, 'html.parser')\n",
    "# html 내에서 우리가 보고 싶은 정보만 선별\n",
    "html.select('img')"
   ]
  },
  {
   "cell_type": "code",
   "execution_count": null,
   "metadata": {
    "ExecuteTime": {
     "end_time": "2022-07-29T00:04:02.021269Z",
     "start_time": "2022-07-29T00:04:02.021269Z"
    }
   },
   "outputs": [],
   "source": [
    "html.select('span.item')"
   ]
  },
  {
   "cell_type": "markdown",
   "metadata": {},
   "source": [
    "#### 실제 개발자가 작성한 코드로 확인된다\n",
    "> 정제되지 않은 데이터로 가독성이 좋지 않음  \n",
    "우리는 이 중에서 우리가 원하는 정보를 선별해서 가져오는 작업을 진행합니다.  \n",
    "그러기에 html의 기본 구성을 살펴보도록 하겠습니다.  "
   ]
  },
  {
   "cell_type": "code",
   "execution_count": null,
   "metadata": {
    "ExecuteTime": {
     "end_time": "2022-07-29T00:04:02.022218Z",
     "start_time": "2022-07-29T00:04:02.022218Z"
    }
   },
   "outputs": [],
   "source": [
    "html"
   ]
  },
  {
   "cell_type": "markdown",
   "metadata": {},
   "source": [
    "#### 웹 페이지의 구성\n",
    "> **HTML(Hyper Text Markup Language)**  \n",
    "www 를 구성하는데 사용하는 국제표준 언어로서 컨텐츠와 레이아웃을 담고 있다\n",
    "\n",
    "> **<태그>** 내용 **</태그>**  \n",
    "<tag이름 class=\"class이름1 class이름2\" id=\"주민번호\" href=\"주소\"></tag이름>\n",
    "\n",
    "> 형태나 속성을 묘사하기 위한 구조적 언어 : HTML, CSS (계층이 있음)  \n",
    "웹의 작동 및 제어를 위한 프로그래밍 언어 :  Js"
   ]
  },
  {
   "cell_type": "markdown",
   "metadata": {},
   "source": [
    "#### 셀렉터\n",
    "> 용도 : html에서 내가 원하는 내용을 찾아내기 위해서  \n",
    "<span class=\"news\" id=\"1234\">현대모비스 뉴스1</span>  \n",
    "<span class=\"product\" id=\"1235\">현대모비스 뉴스2</span>  \n",
    "\n",
    "> 단일 셀렉터 html.select('span')\n",
    ">> <span class=\"news\" id=\"1234\">현대모비스 뉴스1</span>  \n",
    "<span class=\"product\" id=\"1235\">현대모비스 뉴스2</span>  \n",
    "\n",
    "> 클래스 포함 셀렉터 html.select('span.news')  \n",
    ">> <span class=\"news\" id=\"1234\">현대모비스 뉴스1</span>  \n",
    "\n",
    "> id 포함 셀렉터 html.select('span#1235')  \n",
    ">> <span class=\"product\" id=\"1235\">현대모비스 뉴스2</span>  "
   ]
  },
  {
   "cell_type": "markdown",
   "metadata": {},
   "source": [
    "#### 복합 셀렉터\n",
    "<span>1</span>  \n",
    "<span class=\"txt\">2</span>  \n",
    "<em class=\"txt\">3</em>  \n",
    "\n",
    "> 태그 이름이 span이고 클래스 이름은 txt인 라인을 찾고 싶다. : span.txt  \n",
    "> em 태그 중에서 class가 txt 인 라인을 찾고 싶다. : em.txt  \n",
    "\n",
    "#### 경로 셀렉터\n",
    "<ul>\n",
    "    <li><span>이걸 찾으려면?</span></li>\n",
    "</ul>\n",
    "<span>이건 아님</span>\n",
    "\n",
    "> ul 태그안 li 태그 안 span 라인을 찾는다  \n",
    "ul > li > span 혹은 ul li span"
   ]
  },
  {
   "cell_type": "code",
   "execution_count": null,
   "metadata": {
    "ExecuteTime": {
     "end_time": "2022-07-29T00:04:02.022218Z",
     "start_time": "2022-07-29T00:04:02.022218Z"
    }
   },
   "outputs": [],
   "source": [
    "html.select('strong.title') # title elss"
   ]
  },
  {
   "cell_type": "markdown",
   "metadata": {},
   "source": [
    "### 다음 뉴스페이지 뉴스 헤더 크롤링"
   ]
  },
  {
   "cell_type": "code",
   "execution_count": null,
   "metadata": {
    "ExecuteTime": {
     "end_time": "2022-07-29T00:04:02.023216Z",
     "start_time": "2022-07-29T00:04:02.023216Z"
    }
   },
   "outputs": [],
   "source": [
    "# 다음 뉴스 페이지 크롤링\n",
    "# url정의\n",
    "url = 'https://news.daum.net/'\n",
    "# requsts로 url에 정보요청\n",
    "resp = requests.get(url)\n",
    "# 정보를 html 변환 (보기 쉽게)\n",
    "html = BeautifulSoup(resp.text, 'html.parser')\n",
    "# html 내에서 뉴스헤더 선별\n",
    "for item in html.select('a.link_txt')[:-13]:\n",
    "    print(item.text.strip())"
   ]
  },
  {
   "cell_type": "markdown",
   "metadata": {
    "ExecuteTime": {
     "end_time": "2022-06-05T08:49:06.402572Z",
     "start_time": "2022-06-05T08:49:06.394988Z"
    }
   },
   "source": [
    "## 패턴 URL 크롤링\n",
    "앞으로는 패턴을 순환하는 크롤링이 진행이 되는데 서비스 제공자가 이를 감지하고 기계적인 접속을 차단하는 경우가 많습니다.  \n",
    "이를 해결하기 위한 여러가지 방법을 소개합니다."
   ]
  },
  {
   "cell_type": "code",
   "execution_count": null,
   "metadata": {
    "ExecuteTime": {
     "end_time": "2022-07-29T00:04:02.024212Z",
     "start_time": "2022-07-29T00:04:02.024212Z"
    }
   },
   "outputs": [],
   "source": [
    "resp"
   ]
  },
  {
   "cell_type": "code",
   "execution_count": null,
   "metadata": {
    "ExecuteTime": {
     "end_time": "2022-07-29T00:04:02.025208Z",
     "start_time": "2022-07-29T00:04:02.025208Z"
    }
   },
   "outputs": [],
   "source": [
    "# requests 요청 객체의 상태코드\n",
    "resp.status_code"
   ]
  },
  {
   "cell_type": "code",
   "execution_count": null,
   "metadata": {
    "ExecuteTime": {
     "end_time": "2022-07-29T00:04:02.025208Z",
     "start_time": "2022-07-29T00:04:02.025208Z"
    }
   },
   "outputs": [],
   "source": [
    "# HTTP 요청 시 상태코드 확인\n",
    "requests.codes."
   ]
  },
  {
   "cell_type": "code",
   "execution_count": null,
   "metadata": {
    "ExecuteTime": {
     "end_time": "2022-07-29T00:04:02.026204Z",
     "start_time": "2022-07-29T00:04:02.026204Z"
    }
   },
   "outputs": [],
   "source": [
    "resp.codes.ok\n",
    "# 100 우리 이런정보 내주는거야\n",
    "# 200 성공\n",
    "# 300 우리 이 사이트 이리루 이사했어 일루가\n",
    "# 400 유저가 요청을 잘못한경우\n",
    "# 500 서버 문제\n",
    "\n",
    "# 크롤링 시 문제가 없을 경우에만 진행\n",
    "if resp.status_code == requests.codes.ok:\n",
    "    # 크롤링 코드 진행\n",
    "elif resp.status_code == requests.codes.NOT_FOUND:\n",
    "    # 경고메세지 출력 등등등"
   ]
  },
  {
   "cell_type": "code",
   "execution_count": null,
   "metadata": {
    "ExecuteTime": {
     "end_time": "2022-07-29T00:04:02.027201Z",
     "start_time": "2022-07-29T00:04:02.027201Z"
    }
   },
   "outputs": [],
   "source": [
    "# 차단막는 코드\n",
    "# 난수 생성 후 요청 작업에 시간차를 둠\n",
    "for i in range(10):\n",
    "    seed = np.random.randint(100)\n",
    "    np.random.seed(seed)\n",
    "    a = np.random.randint(5)\n",
    "    time.sleep(a)\n",
    "    print(i)"
   ]
  },
  {
   "cell_type": "markdown",
   "metadata": {},
   "source": [
    "### 다음에서 로또번호 혹은 로또로 검색해서 표시되는 로또번호 크롤링 해오기"
   ]
  },
  {
   "cell_type": "code",
   "execution_count": null,
   "metadata": {
    "ExecuteTime": {
     "end_time": "2022-07-29T00:04:02.027201Z",
     "start_time": "2022-07-29T00:04:02.027201Z"
    }
   },
   "outputs": [],
   "source": [
    "# 다음에서 로또번호 혹은 로또로 검색해서 표시되는 로또번호 크롤링 해오기\n",
    "url = 'https://search.daum.net/search?nil_suggest=btn&w=tot&DA=SBC&q=%EB%A1%9C%EB%98%90'\n",
    "\n",
    "# requsts로 url에 정보요청\n",
    "resp = requests.get(url)\n",
    "\n",
    "# 정보를 html 변환 (보기 쉽게)\n",
    "html = BeautifulSoup(resp.text, 'html.parser')\n",
    "\n",
    "# 필요정보 선별\n",
    "for ball in html.select('span.ball')[:6]:\n",
    "    print(ball.text)"
   ]
  },
  {
   "cell_type": "markdown",
   "metadata": {},
   "source": [
    "### 다음에서 로또번호 가져와 볼께요 몽땅 다 가져옵니다 (10페이지)"
   ]
  },
  {
   "cell_type": "code",
   "execution_count": null,
   "metadata": {
    "ExecuteTime": {
     "end_time": "2022-07-29T00:04:02.028198Z",
     "start_time": "2022-07-29T00:04:02.028198Z"
    }
   },
   "outputs": [],
   "source": [
    "# url 설정 (페이지 넘어가는 url 설정을 어떻게 할건지?)\n",
    "# 순환시키면서 저 requests 요청을 어떻게 컨트롤 할 건지?\n",
    "total_lotto = []\n",
    "for page in range(1, 10):\n",
    "    \n",
    "    lotto_list = []\n",
    "    seed = np.random.randint(100)\n",
    "    np.random.seed(seed)\n",
    "    a = np.random.randint(5)\n",
    "    time.sleep(a)\n",
    "    print(f'{page}페이지 크롤링 중입니다.') \n",
    "    # url 설정\n",
    "    url = f'https://search.daum.net/search?w=tot&D A=LOT&rtmaxcoll=LOT&&q={page}회차%20로또'\n",
    "    print(f'{page}페이지 크롤링 중입니다.') \n",
    "\n",
    "    # requests로 데이터 요청하기\n",
    "    resp = requests.get(url)\n",
    "\n",
    "    # html로 변환\n",
    "    html = BeautifulSoup(resp.text, 'html.parser')\n",
    "\n",
    "    # 데이터 선별\n",
    "    for ball in html.select('span.ball')[:6]:\n",
    "        total_lotto.append(ball.text)\n",
    "        \n",
    "lotto_array = np.array(total_lotto).reshape(-1, 6)\n",
    "\n",
    "print('크롤링 완료!')"
   ]
  },
  {
   "cell_type": "code",
   "execution_count": null,
   "metadata": {
    "ExecuteTime": {
     "end_time": "2022-07-29T00:04:02.028198Z",
     "start_time": "2022-07-29T00:04:02.028198Z"
    }
   },
   "outputs": [],
   "source": [
    "lotto_array"
   ]
  },
  {
   "cell_type": "code",
   "execution_count": null,
   "metadata": {
    "ExecuteTime": {
     "end_time": "2022-07-29T00:04:02.029194Z",
     "start_time": "2022-07-29T00:04:02.029194Z"
    }
   },
   "outputs": [],
   "source": [
    "# 데이터 시각화까지\n",
    "plt.figure(figsize=(12, 6))\n",
    "sns.countplot(lotto_array.flatten())\n",
    "plt.show()"
   ]
  },
  {
   "cell_type": "code",
   "execution_count": null,
   "metadata": {
    "ExecuteTime": {
     "end_time": "2022-07-29T00:04:02.030194Z",
     "start_time": "2022-07-29T00:04:02.030194Z"
    }
   },
   "outputs": [],
   "source": [
    "lotto_array.shape"
   ]
  },
  {
   "cell_type": "code",
   "execution_count": null,
   "metadata": {
    "ExecuteTime": {
     "end_time": "2022-07-29T00:04:02.030194Z",
     "start_time": "2022-07-29T00:04:02.030194Z"
    }
   },
   "outputs": [],
   "source": [
    "# 데이터프레임으로 저장\n",
    "df = pd.DataFrame(lotto_array,\n",
    "                 index=[f'{i}회차' for i in range(1, 9)])\n",
    "df"
   ]
  },
  {
   "cell_type": "markdown",
   "metadata": {},
   "source": [
    "### 네이버 키워드로 검색한 결과를 크롤링"
   ]
  },
  {
   "cell_type": "code",
   "execution_count": null,
   "metadata": {
    "ExecuteTime": {
     "end_time": "2022-07-29T00:04:02.031187Z",
     "start_time": "2022-07-29T00:04:02.031187Z"
    },
    "scrolled": true
   },
   "outputs": [],
   "source": [
    "content_list = ['이상한+변호사+우영우', '탑건', '닥터스트레인지', '범죄도시']"
   ]
  },
  {
   "cell_type": "code",
   "execution_count": null,
   "metadata": {
    "ExecuteTime": {
     "end_time": "2022-07-29T00:04:02.032184Z",
     "start_time": "2022-07-29T00:04:02.032184Z"
    }
   },
   "outputs": [],
   "source": [
    "# url 정의\n",
    "for keyword in content_list:\n",
    "    \n",
    "    seed = np.random.randint(100)\n",
    "    np.random.seed(seed)\n",
    "    a = np.random.randint(5)\n",
    "    time.sleep(a)\n",
    "    # print(f'{page}페이지 크롤링 중입니다.') \n",
    "    url = f'https://search.naver.com/search.naver?where=nexearch&sm=top_hty&fbm=1&ie=utf8&query={keyword}'\n",
    "\n",
    "# requsts로 url에 정보요청\n",
    "    resp = requests.get(url)\n",
    "\n",
    "# 정보를 html 변환 (보기 쉽게)\n",
    "    html = BeautifulSoup(resp.text, 'html.parser')\n",
    "\n",
    "# 정보선별\n",
    "    print(keyword, html.select('span.desc')[0].text)"
   ]
  },
  {
   "cell_type": "markdown",
   "metadata": {
    "id": "L--NnRPK9LAN",
    "slideshow": {
     "slide_type": "slide"
    }
   },
   "source": [
    "## 크롤링 결과에서 html 속성 접근"
   ]
  },
  {
   "cell_type": "code",
   "execution_count": null,
   "metadata": {
    "ExecuteTime": {
     "end_time": "2022-07-29T00:04:02.033181Z",
     "start_time": "2022-07-29T00:04:02.033181Z"
    },
    "scrolled": true
   },
   "outputs": [],
   "source": [
    "url = 'https://news.daum.net/'\n",
    "# requsts로 url에 정보요청\n",
    "resp = requests.get(url)\n",
    "# 정보를 html 변환 (보기 쉽게)\n",
    "html = BeautifulSoup(resp.text, 'html.parser')\n",
    "# html 내에서 뉴스헤더 선별\n",
    "# for item in html.select('a.link_txt')[:-13]:\n",
    "#     print(item.text.strip())"
   ]
  },
  {
   "cell_type": "code",
   "execution_count": null,
   "metadata": {
    "ExecuteTime": {
     "end_time": "2022-07-29T00:04:02.034178Z",
     "start_time": "2022-07-29T00:04:02.034178Z"
    }
   },
   "outputs": [],
   "source": [
    "for item in html.select('a.link_txt')[:-13]:\n",
    "    print(item.text.strip(), item.attrs['href'])"
   ]
  },
  {
   "cell_type": "markdown",
   "metadata": {
    "id": "P_ssRYoV88a7",
    "slideshow": {
     "slide_type": "slide"
    }
   },
   "source": [
    "가져온 데이터에 접근을 하는 방식 자체는 판다스 색인처럼 결과값을 확인하며 진행하는 것이 가장 좋습니다."
   ]
  },
  {
   "cell_type": "markdown",
   "metadata": {
    "ExecuteTime": {
     "end_time": "2021-09-27T00:05:01.376165Z",
     "start_time": "2021-09-27T00:05:01.368066Z"
    }
   },
   "source": [
    "## 관심있는 개별종목의 시가총액, 외국인 소진률, PER, PBR 가져오기 실습"
   ]
  },
  {
   "cell_type": "code",
   "execution_count": null,
   "metadata": {
    "ExecuteTime": {
     "end_time": "2022-07-29T00:04:02.034178Z",
     "start_time": "2022-07-29T00:04:02.034178Z"
    }
   },
   "outputs": [],
   "source": [
    "# url 정의\n",
    "url = 'https://finance.naver.com/item/main.naver?code=120110'\n",
    "# requests 요청\n",
    "resp = requests.get(url)\n",
    "# html 변환\n",
    "html = BeautifulSoup(resp.text, 'html.parser')\n",
    "# 시가총액, 외국인소진률, PER, PBR\n",
    "# 시가총액\n",
    "html.select('em#_market_sum')[0].text.strip().replace('\\n', '').replace('\\t', '')\n",
    "# 외국인소진율(경로셀렉터)\n",
    "html.select('tr.strong em')[1].text\n",
    "# per\n",
    "html.select('em#_per')[0].text\n",
    "# pbr\n",
    "html.select('em#_pbr')[0].text\n",
    "# 종목명"
   ]
  },
  {
   "cell_type": "markdown",
   "metadata": {},
   "source": [
    "#### 여러 종목의 시가총액, 외국인 소진률, PER, PBR 한꺼번에 가져오기"
   ]
  },
  {
   "cell_type": "code",
   "execution_count": null,
   "metadata": {
    "ExecuteTime": {
     "end_time": "2022-07-29T00:04:02.035176Z",
     "start_time": "2022-07-29T00:04:02.035176Z"
    }
   },
   "outputs": [],
   "source": [
    "# 종목리스트 정의\n",
    "code_list = ['120110', '005930']\n",
    "# url 정의\n",
    "data_list = []\n",
    "for code in code_list:\n",
    "    \n",
    "    seed = np.random.randint(100)\n",
    "    np.random.seed(seed)\n",
    "    a = np.random.randint(5)\n",
    "    time.sleep(a)\n",
    "    \n",
    "    print(f'{code} 크롤링 중입니다.')\n",
    "    url = f'https://finance.naver.com/item/main.naver?code={code}'\n",
    "    resp = requests.get(url)\n",
    "    html = BeautifulSoup(resp.text, 'html.parser')\n",
    "\n",
    "# 시가총액\n",
    "    data_list.append(html.select('em#_market_sum')[0].text.strip().replace('\\n', '').replace('\\t', ''))\n",
    "# 외국인소진율(경로셀렉터)\n",
    "    data_list.append(html.select('tr.strong em')[1].text)\n",
    "# per\n",
    "    data_list.append(html.select('em#_per')[0].text)\n",
    "# pbr\n",
    "    data_list.append(html.select('em#_pbr')[0].text)\n",
    "df = pd.DataFrame(np.array(data_list).reshape(-1, 4),\n",
    "                  index=['코오롱인더', '삼성전자'],\n",
    "                  columns=['시가총액', '외국인소진률', 'PER', 'PBR']\n",
    "                 )\n",
    "df"
   ]
  },
  {
   "cell_type": "markdown",
   "metadata": {
    "id": "XYhXePUPB7FF",
    "slideshow": {
     "slide_type": "slide"
    }
   },
   "source": [
    "## **동적페이지 크롤링**\n",
    "> 최근에는 Js로 변경이 되며 일반적인 크롤링이 되지 않는 경우가 많음  \n",
    "동적페이지와 숨겨진 url을 가져오는 방법을 알아봅니다"
   ]
  },
  {
   "cell_type": "markdown",
   "metadata": {},
   "source": [
    "### 네이버 주식 시세 데이터 크롤링"
   ]
  },
  {
   "cell_type": "code",
   "execution_count": 26,
   "metadata": {
    "ExecuteTime": {
     "end_time": "2022-07-29T01:27:01.448929Z",
     "start_time": "2022-07-29T01:27:01.303408Z"
    }
   },
   "outputs": [
    {
     "data": {
      "text/html": [
       "<div>\n",
       "<style scoped>\n",
       "    .dataframe tbody tr th:only-of-type {\n",
       "        vertical-align: middle;\n",
       "    }\n",
       "\n",
       "    .dataframe tbody tr th {\n",
       "        vertical-align: top;\n",
       "    }\n",
       "\n",
       "    .dataframe thead th {\n",
       "        text-align: right;\n",
       "    }\n",
       "</style>\n",
       "<table border=\"1\" class=\"dataframe\">\n",
       "  <thead>\n",
       "    <tr style=\"text-align: right;\">\n",
       "      <th></th>\n",
       "      <th>날짜</th>\n",
       "      <th>종가</th>\n",
       "      <th>전일비</th>\n",
       "      <th>시가</th>\n",
       "      <th>고가</th>\n",
       "      <th>저가</th>\n",
       "      <th>거래량</th>\n",
       "    </tr>\n",
       "  </thead>\n",
       "  <tbody>\n",
       "    <tr>\n",
       "      <th>0</th>\n",
       "      <td>2022.07.29</td>\n",
       "      <td>62,000</td>\n",
       "      <td>100</td>\n",
       "      <td>62,400</td>\n",
       "      <td>62,600</td>\n",
       "      <td>61,800</td>\n",
       "      <td>4,549,984</td>\n",
       "    </tr>\n",
       "    <tr>\n",
       "      <th>1</th>\n",
       "      <td>2022.07.28</td>\n",
       "      <td>61,900</td>\n",
       "      <td>100</td>\n",
       "      <td>62,300</td>\n",
       "      <td>62,600</td>\n",
       "      <td>61,600</td>\n",
       "      <td>10,745,302</td>\n",
       "    </tr>\n",
       "    <tr>\n",
       "      <th>2</th>\n",
       "      <td>2022.07.27</td>\n",
       "      <td>61,800</td>\n",
       "      <td>100</td>\n",
       "      <td>61,300</td>\n",
       "      <td>61,900</td>\n",
       "      <td>61,200</td>\n",
       "      <td>7,320,997</td>\n",
       "    </tr>\n",
       "    <tr>\n",
       "      <th>3</th>\n",
       "      <td>2022.07.26</td>\n",
       "      <td>61,700</td>\n",
       "      <td>600</td>\n",
       "      <td>60,800</td>\n",
       "      <td>61,900</td>\n",
       "      <td>60,800</td>\n",
       "      <td>6,597,211</td>\n",
       "    </tr>\n",
       "    <tr>\n",
       "      <th>4</th>\n",
       "      <td>2022.07.25</td>\n",
       "      <td>61,100</td>\n",
       "      <td>200</td>\n",
       "      <td>60,900</td>\n",
       "      <td>61,900</td>\n",
       "      <td>60,800</td>\n",
       "      <td>9,193,681</td>\n",
       "    </tr>\n",
       "    <tr>\n",
       "      <th>5</th>\n",
       "      <td>2022.07.22</td>\n",
       "      <td>61,300</td>\n",
       "      <td>500</td>\n",
       "      <td>61,800</td>\n",
       "      <td>62,200</td>\n",
       "      <td>61,200</td>\n",
       "      <td>10,261,310</td>\n",
       "    </tr>\n",
       "    <tr>\n",
       "      <th>6</th>\n",
       "      <td>2022.07.21</td>\n",
       "      <td>61,800</td>\n",
       "      <td>1,300</td>\n",
       "      <td>61,100</td>\n",
       "      <td>61,900</td>\n",
       "      <td>60,700</td>\n",
       "      <td>12,291,374</td>\n",
       "    </tr>\n",
       "    <tr>\n",
       "      <th>7</th>\n",
       "      <td>2022.07.20</td>\n",
       "      <td>60,500</td>\n",
       "      <td>400</td>\n",
       "      <td>61,800</td>\n",
       "      <td>62,100</td>\n",
       "      <td>60,500</td>\n",
       "      <td>16,782,238</td>\n",
       "    </tr>\n",
       "    <tr>\n",
       "      <th>8</th>\n",
       "      <td>2022.07.19</td>\n",
       "      <td>60,900</td>\n",
       "      <td>1,000</td>\n",
       "      <td>61,400</td>\n",
       "      <td>61,500</td>\n",
       "      <td>60,200</td>\n",
       "      <td>15,248,261</td>\n",
       "    </tr>\n",
       "    <tr>\n",
       "      <th>9</th>\n",
       "      <td>2022.07.18</td>\n",
       "      <td>61,900</td>\n",
       "      <td>1,900</td>\n",
       "      <td>60,600</td>\n",
       "      <td>62,000</td>\n",
       "      <td>60,500</td>\n",
       "      <td>20,832,517</td>\n",
       "    </tr>\n",
       "  </tbody>\n",
       "</table>\n",
       "</div>"
      ],
      "text/plain": [
       "           날짜      종가    전일비      시가      고가      저가         거래량\n",
       "0  2022.07.29  62,000    100  62,400  62,600  61,800   4,549,984\n",
       "1  2022.07.28  61,900    100  62,300  62,600  61,600  10,745,302\n",
       "2  2022.07.27  61,800    100  61,300  61,900  61,200   7,320,997\n",
       "3  2022.07.26  61,700    600  60,800  61,900  60,800   6,597,211\n",
       "4  2022.07.25  61,100    200  60,900  61,900  60,800   9,193,681\n",
       "5  2022.07.22  61,300    500  61,800  62,200  61,200  10,261,310\n",
       "6  2022.07.21  61,800  1,300  61,100  61,900  60,700  12,291,374\n",
       "7  2022.07.20  60,500    400  61,800  62,100  60,500  16,782,238\n",
       "8  2022.07.19  60,900  1,000  61,400  61,500  60,200  15,248,261\n",
       "9  2022.07.18  61,900  1,900  60,600  62,000  60,500  20,832,517"
      ]
     },
     "execution_count": 26,
     "metadata": {},
     "output_type": "execute_result"
    }
   ],
   "source": [
    "# 동적페이지의 숨은 URL\n",
    "# 동적페이지에 요청을 할 때 웹 정책에 필요한 정보를 같이 전달을 해줘야 함.\n",
    "\n",
    "url ='https://finance.naver.com/item/sise_day.naver?code=005930&page=1'\n",
    "# requests 요청시에 헤더정보 추가\n",
    "header={\n",
    "   'referer' : 'https://finance.naver.com/item/sise_day.naver?code=005930&page=3',\n",
    "    'user-agent' : 'Mozilla/5.0 (Windows NT 10.0; Win64; x64) AppleWebKit/537.36 (KHTML, like Gecko) Chrome/103.0.0.0 Safari/537.36'\n",
    "    \n",
    "}\n",
    "resp=requests.get(url, headers=header)\n",
    "# html 변환\n",
    "html=BeautifulSoup(resp.text, 'html.parser')\n",
    "# 정보선별\n",
    "# # 날짜\n",
    "# date= list()\n",
    "# for item in range(10):\n",
    "#     date.append(html.select('span.p10')[item].text)\n",
    "# # 종가\n",
    "# end=[]\n",
    "# for item in range(10):\n",
    "#     end.append(html.select('span.p10')[item].text)\n",
    "\n",
    "# 한꺼번에\n",
    "alldata=[]\n",
    "for i in range(70):\n",
    "    alldata.append(html.select('span.tah')[i].text.replace('\\n', '').replace('\\t', ''))\n",
    "# df 제작\n",
    "#index=['코오롱인더', '삼성전자'],\n",
    "df = pd.DataFrame(np.array(alldata).reshape(-1, 7),\n",
    "                  columns=['날짜', '종가', '전일비', '시가', '고가', '저가', '거래량'],\n",
    "                 )\n",
    "df"
   ]
  },
  {
   "cell_type": "code",
   "execution_count": 22,
   "metadata": {
    "ExecuteTime": {
     "end_time": "2022-07-29T01:20:14.353856Z",
     "start_time": "2022-07-29T01:20:14.269920Z"
    },
    "scrolled": true
   },
   "outputs": [],
   "source": [
    "alldata=[]\n",
    "for i in range(70):\n",
    "    alldata.append(html.select('span.tah')[i].text.replace('\\n', '').replace('\\t', ''))"
   ]
  },
  {
   "cell_type": "markdown",
   "metadata": {},
   "source": [
    "#### 20페이지 주가 정보 크롤링 해서 종가 그래프 출력"
   ]
  },
  {
   "cell_type": "code",
   "execution_count": 39,
   "metadata": {
    "ExecuteTime": {
     "end_time": "2022-07-29T01:47:39.231511Z",
     "start_time": "2022-07-29T01:46:49.725079Z"
    },
    "scrolled": true
   },
   "outputs": [
    {
     "data": {
      "text/html": [
       "<div>\n",
       "<style scoped>\n",
       "    .dataframe tbody tr th:only-of-type {\n",
       "        vertical-align: middle;\n",
       "    }\n",
       "\n",
       "    .dataframe tbody tr th {\n",
       "        vertical-align: top;\n",
       "    }\n",
       "\n",
       "    .dataframe thead th {\n",
       "        text-align: right;\n",
       "    }\n",
       "</style>\n",
       "<table border=\"1\" class=\"dataframe\">\n",
       "  <thead>\n",
       "    <tr style=\"text-align: right;\">\n",
       "      <th></th>\n",
       "      <th>종가</th>\n",
       "      <th>전일비</th>\n",
       "      <th>시가</th>\n",
       "      <th>고가</th>\n",
       "      <th>저가</th>\n",
       "      <th>거래량</th>\n",
       "    </tr>\n",
       "    <tr>\n",
       "      <th>날짜</th>\n",
       "      <th></th>\n",
       "      <th></th>\n",
       "      <th></th>\n",
       "      <th></th>\n",
       "      <th></th>\n",
       "      <th></th>\n",
       "    </tr>\n",
       "  </thead>\n",
       "  <tbody>\n",
       "    <tr>\n",
       "      <th>2022-07-29</th>\n",
       "      <td>62,000</td>\n",
       "      <td>100</td>\n",
       "      <td>62,400</td>\n",
       "      <td>62,600</td>\n",
       "      <td>61,800</td>\n",
       "      <td>5,175,818</td>\n",
       "    </tr>\n",
       "    <tr>\n",
       "      <th>2022-07-28</th>\n",
       "      <td>61,900</td>\n",
       "      <td>100</td>\n",
       "      <td>62,300</td>\n",
       "      <td>62,600</td>\n",
       "      <td>61,600</td>\n",
       "      <td>10,745,302</td>\n",
       "    </tr>\n",
       "    <tr>\n",
       "      <th>2022-07-27</th>\n",
       "      <td>61,800</td>\n",
       "      <td>100</td>\n",
       "      <td>61,300</td>\n",
       "      <td>61,900</td>\n",
       "      <td>61,200</td>\n",
       "      <td>7,320,997</td>\n",
       "    </tr>\n",
       "    <tr>\n",
       "      <th>2022-07-26</th>\n",
       "      <td>61,700</td>\n",
       "      <td>600</td>\n",
       "      <td>60,800</td>\n",
       "      <td>61,900</td>\n",
       "      <td>60,800</td>\n",
       "      <td>6,597,211</td>\n",
       "    </tr>\n",
       "    <tr>\n",
       "      <th>2022-07-25</th>\n",
       "      <td>61,100</td>\n",
       "      <td>200</td>\n",
       "      <td>60,900</td>\n",
       "      <td>61,900</td>\n",
       "      <td>60,800</td>\n",
       "      <td>9,193,681</td>\n",
       "    </tr>\n",
       "    <tr>\n",
       "      <th>...</th>\n",
       "      <td>...</td>\n",
       "      <td>...</td>\n",
       "      <td>...</td>\n",
       "      <td>...</td>\n",
       "      <td>...</td>\n",
       "      <td>...</td>\n",
       "    </tr>\n",
       "    <tr>\n",
       "      <th>2021-10-18</th>\n",
       "      <td>70,200</td>\n",
       "      <td>100</td>\n",
       "      <td>70,200</td>\n",
       "      <td>70,300</td>\n",
       "      <td>69,200</td>\n",
       "      <td>13,486,391</td>\n",
       "    </tr>\n",
       "    <tr>\n",
       "      <th>2021-10-15</th>\n",
       "      <td>70,100</td>\n",
       "      <td>700</td>\n",
       "      <td>70,200</td>\n",
       "      <td>71,000</td>\n",
       "      <td>70,000</td>\n",
       "      <td>18,051,612</td>\n",
       "    </tr>\n",
       "    <tr>\n",
       "      <th>2021-10-14</th>\n",
       "      <td>69,400</td>\n",
       "      <td>600</td>\n",
       "      <td>69,000</td>\n",
       "      <td>69,800</td>\n",
       "      <td>68,800</td>\n",
       "      <td>19,520,641</td>\n",
       "    </tr>\n",
       "    <tr>\n",
       "      <th>2021-10-13</th>\n",
       "      <td>68,800</td>\n",
       "      <td>200</td>\n",
       "      <td>68,700</td>\n",
       "      <td>69,600</td>\n",
       "      <td>68,300</td>\n",
       "      <td>24,172,015</td>\n",
       "    </tr>\n",
       "    <tr>\n",
       "      <th>2021-10-12</th>\n",
       "      <td>69,000</td>\n",
       "      <td>2,500</td>\n",
       "      <td>70,700</td>\n",
       "      <td>70,900</td>\n",
       "      <td>68,700</td>\n",
       "      <td>31,001,484</td>\n",
       "    </tr>\n",
       "  </tbody>\n",
       "</table>\n",
       "<p>200 rows × 6 columns</p>\n",
       "</div>"
      ],
      "text/plain": [
       "                종가    전일비      시가      고가      저가         거래량\n",
       "날짜                                                           \n",
       "2022-07-29  62,000    100  62,400  62,600  61,800   5,175,818\n",
       "2022-07-28  61,900    100  62,300  62,600  61,600  10,745,302\n",
       "2022-07-27  61,800    100  61,300  61,900  61,200   7,320,997\n",
       "2022-07-26  61,700    600  60,800  61,900  60,800   6,597,211\n",
       "2022-07-25  61,100    200  60,900  61,900  60,800   9,193,681\n",
       "...            ...    ...     ...     ...     ...         ...\n",
       "2021-10-18  70,200    100  70,200  70,300  69,200  13,486,391\n",
       "2021-10-15  70,100    700  70,200  71,000  70,000  18,051,612\n",
       "2021-10-14  69,400    600  69,000  69,800  68,800  19,520,641\n",
       "2021-10-13  68,800    200  68,700  69,600  68,300  24,172,015\n",
       "2021-10-12  69,000  2,500  70,700  70,900  68,700  31,001,484\n",
       "\n",
       "[200 rows x 6 columns]"
      ]
     },
     "execution_count": 39,
     "metadata": {},
     "output_type": "execute_result"
    }
   ],
   "source": [
    "\n",
    "# 동적페이지의 숨은 URL\n",
    "# 동적페이지에 요청을 할 때 웹 정책에 필요한 정보를 같이 전달을 해줘야 함.\n",
    "alldata=[]\n",
    "for page in range(1,21):\n",
    "    seed = np.random.randint(100)\n",
    "    np.random.seed(seed)\n",
    "    a = np.random.randint(5)\n",
    "    time.sleep(a)\n",
    "    url =f'https://finance.naver.com/item/sise_day.naver?code=005930&page={page}'\n",
    "    # requests 요청시에 헤더정보 추가\n",
    "    # 헤더정보 정의 (동적페이지 헤더정보 그대로 사용)\n",
    "    header={\n",
    "       'referer' : 'https://finance.naver.com/item/sise_day.naver?code=005930&page=3',\n",
    "        'user-agent' : 'Mozilla/5.0 (Windows NT 10.0; Win64; x64) AppleWebKit/537.36 (KHTML, like Gecko) Chrome/103.0.0.0 Safari/537.36'\n",
    "\n",
    "    }\n",
    "    resp=requests.get(url, headers=header)\n",
    "    # html 변환\n",
    "    html=BeautifulSoup(resp.text, 'html.parser')\n",
    "    # 정보선별\n",
    "    \n",
    "    for i in range(70):\n",
    "        alldata.append(html.select('span.tah')[i].text.replace('\\n', '').replace('\\t', ''))\n",
    "# df 제작\n",
    "#index=['코오롱인더', '삼성전자'],\n",
    "df = pd.DataFrame(np.array(alldata).reshape(-1, 7),\n",
    "                  columns=['날짜', '종가', '전일비', '시가', '고가', '저가', '거래량'],\n",
    "                 )\n",
    "\n",
    "\n",
    "\n",
    "# 날짜 인덱스 살려서 활용하기\n",
    "df['날짜']=df['날짜'].astype('str')\n",
    "df['날짜']= pd.to_datetime(df['날짜'])\n",
    "df.set_index('날짜', inplace=True)\n",
    "# 데이터프레임 출력\n",
    "df"
   ]
  },
  {
   "cell_type": "code",
   "execution_count": 42,
   "metadata": {
    "ExecuteTime": {
     "end_time": "2022-07-29T04:12:01.040529Z",
     "start_time": "2022-07-29T04:12:00.997660Z"
    },
    "collapsed": true
   },
   "outputs": [
    {
     "ename": "AttributeError",
     "evalue": "'int' object has no attribute 'replace'",
     "output_type": "error",
     "traceback": [
      "\u001b[1;31m---------------------------------------------------------------------------\u001b[0m",
      "\u001b[1;31mAttributeError\u001b[0m                            Traceback (most recent call last)",
      "\u001b[1;32m~\\AppData\\Local\\Temp/ipykernel_11208/592552459.py\u001b[0m in \u001b[0;36m<module>\u001b[1;34m\u001b[0m\n\u001b[0;32m      1\u001b[0m \u001b[1;31m# 데이터 ,삭제\u001b[0m\u001b[1;33m\u001b[0m\u001b[1;33m\u001b[0m\u001b[0m\n\u001b[1;32m----> 2\u001b[1;33m \u001b[0mdf\u001b[0m\u001b[1;33m[\u001b[0m\u001b[1;34m'종가'\u001b[0m\u001b[1;33m]\u001b[0m\u001b[1;33m=\u001b[0m\u001b[0mdf\u001b[0m\u001b[1;33m[\u001b[0m\u001b[1;34m'종가'\u001b[0m\u001b[1;33m]\u001b[0m\u001b[1;33m.\u001b[0m\u001b[0mapply\u001b[0m\u001b[1;33m(\u001b[0m\u001b[1;32mlambda\u001b[0m \u001b[0mx\u001b[0m \u001b[1;33m:\u001b[0m \u001b[0mint\u001b[0m\u001b[1;33m(\u001b[0m\u001b[0mx\u001b[0m\u001b[1;33m.\u001b[0m\u001b[0mreplace\u001b[0m\u001b[1;33m(\u001b[0m\u001b[1;34m','\u001b[0m\u001b[1;33m,\u001b[0m \u001b[1;34m''\u001b[0m\u001b[1;33m)\u001b[0m\u001b[1;33m)\u001b[0m\u001b[1;33m)\u001b[0m\u001b[1;33m\u001b[0m\u001b[1;33m\u001b[0m\u001b[0m\n\u001b[0m",
      "\u001b[1;32m~\\anaconda3\\lib\\site-packages\\pandas\\core\\series.py\u001b[0m in \u001b[0;36mapply\u001b[1;34m(self, func, convert_dtype, args, **kwargs)\u001b[0m\n\u001b[0;32m   4355\u001b[0m         \u001b[0mdtype\u001b[0m\u001b[1;33m:\u001b[0m \u001b[0mfloat64\u001b[0m\u001b[1;33m\u001b[0m\u001b[1;33m\u001b[0m\u001b[0m\n\u001b[0;32m   4356\u001b[0m         \"\"\"\n\u001b[1;32m-> 4357\u001b[1;33m         \u001b[1;32mreturn\u001b[0m \u001b[0mSeriesApply\u001b[0m\u001b[1;33m(\u001b[0m\u001b[0mself\u001b[0m\u001b[1;33m,\u001b[0m \u001b[0mfunc\u001b[0m\u001b[1;33m,\u001b[0m \u001b[0mconvert_dtype\u001b[0m\u001b[1;33m,\u001b[0m \u001b[0margs\u001b[0m\u001b[1;33m,\u001b[0m \u001b[0mkwargs\u001b[0m\u001b[1;33m)\u001b[0m\u001b[1;33m.\u001b[0m\u001b[0mapply\u001b[0m\u001b[1;33m(\u001b[0m\u001b[1;33m)\u001b[0m\u001b[1;33m\u001b[0m\u001b[1;33m\u001b[0m\u001b[0m\n\u001b[0m\u001b[0;32m   4358\u001b[0m \u001b[1;33m\u001b[0m\u001b[0m\n\u001b[0;32m   4359\u001b[0m     def _reduce(\n",
      "\u001b[1;32m~\\anaconda3\\lib\\site-packages\\pandas\\core\\apply.py\u001b[0m in \u001b[0;36mapply\u001b[1;34m(self)\u001b[0m\n\u001b[0;32m   1041\u001b[0m             \u001b[1;32mreturn\u001b[0m \u001b[0mself\u001b[0m\u001b[1;33m.\u001b[0m\u001b[0mapply_str\u001b[0m\u001b[1;33m(\u001b[0m\u001b[1;33m)\u001b[0m\u001b[1;33m\u001b[0m\u001b[1;33m\u001b[0m\u001b[0m\n\u001b[0;32m   1042\u001b[0m \u001b[1;33m\u001b[0m\u001b[0m\n\u001b[1;32m-> 1043\u001b[1;33m         \u001b[1;32mreturn\u001b[0m \u001b[0mself\u001b[0m\u001b[1;33m.\u001b[0m\u001b[0mapply_standard\u001b[0m\u001b[1;33m(\u001b[0m\u001b[1;33m)\u001b[0m\u001b[1;33m\u001b[0m\u001b[1;33m\u001b[0m\u001b[0m\n\u001b[0m\u001b[0;32m   1044\u001b[0m \u001b[1;33m\u001b[0m\u001b[0m\n\u001b[0;32m   1045\u001b[0m     \u001b[1;32mdef\u001b[0m \u001b[0magg\u001b[0m\u001b[1;33m(\u001b[0m\u001b[0mself\u001b[0m\u001b[1;33m)\u001b[0m\u001b[1;33m:\u001b[0m\u001b[1;33m\u001b[0m\u001b[1;33m\u001b[0m\u001b[0m\n",
      "\u001b[1;32m~\\anaconda3\\lib\\site-packages\\pandas\\core\\apply.py\u001b[0m in \u001b[0;36mapply_standard\u001b[1;34m(self)\u001b[0m\n\u001b[0;32m   1096\u001b[0m                 \u001b[1;31m# List[Union[Callable[..., Any], str]]]]]\"; expected\u001b[0m\u001b[1;33m\u001b[0m\u001b[1;33m\u001b[0m\u001b[0m\n\u001b[0;32m   1097\u001b[0m                 \u001b[1;31m# \"Callable[[Any], Any]\"\u001b[0m\u001b[1;33m\u001b[0m\u001b[1;33m\u001b[0m\u001b[0m\n\u001b[1;32m-> 1098\u001b[1;33m                 mapped = lib.map_infer(\n\u001b[0m\u001b[0;32m   1099\u001b[0m                     \u001b[0mvalues\u001b[0m\u001b[1;33m,\u001b[0m\u001b[1;33m\u001b[0m\u001b[1;33m\u001b[0m\u001b[0m\n\u001b[0;32m   1100\u001b[0m                     \u001b[0mf\u001b[0m\u001b[1;33m,\u001b[0m  \u001b[1;31m# type: ignore[arg-type]\u001b[0m\u001b[1;33m\u001b[0m\u001b[1;33m\u001b[0m\u001b[0m\n",
      "\u001b[1;32m~\\anaconda3\\lib\\site-packages\\pandas\\_libs\\lib.pyx\u001b[0m in \u001b[0;36mpandas._libs.lib.map_infer\u001b[1;34m()\u001b[0m\n",
      "\u001b[1;32m~\\AppData\\Local\\Temp/ipykernel_11208/592552459.py\u001b[0m in \u001b[0;36m<lambda>\u001b[1;34m(x)\u001b[0m\n\u001b[0;32m      1\u001b[0m \u001b[1;31m# 데이터 ,삭제\u001b[0m\u001b[1;33m\u001b[0m\u001b[1;33m\u001b[0m\u001b[0m\n\u001b[1;32m----> 2\u001b[1;33m \u001b[0mdf\u001b[0m\u001b[1;33m[\u001b[0m\u001b[1;34m'종가'\u001b[0m\u001b[1;33m]\u001b[0m\u001b[1;33m=\u001b[0m\u001b[0mdf\u001b[0m\u001b[1;33m[\u001b[0m\u001b[1;34m'종가'\u001b[0m\u001b[1;33m]\u001b[0m\u001b[1;33m.\u001b[0m\u001b[0mapply\u001b[0m\u001b[1;33m(\u001b[0m\u001b[1;32mlambda\u001b[0m \u001b[0mx\u001b[0m \u001b[1;33m:\u001b[0m \u001b[0mint\u001b[0m\u001b[1;33m(\u001b[0m\u001b[0mx\u001b[0m\u001b[1;33m.\u001b[0m\u001b[0mreplace\u001b[0m\u001b[1;33m(\u001b[0m\u001b[1;34m','\u001b[0m\u001b[1;33m,\u001b[0m \u001b[1;34m''\u001b[0m\u001b[1;33m)\u001b[0m\u001b[1;33m)\u001b[0m\u001b[1;33m)\u001b[0m\u001b[1;33m\u001b[0m\u001b[1;33m\u001b[0m\u001b[0m\n\u001b[0m",
      "\u001b[1;31mAttributeError\u001b[0m: 'int' object has no attribute 'replace'"
     ]
    }
   ],
   "source": [
    "# 데이터 ,삭제 \n",
    "df['종가']=df['종가'].apply(lambda x : int(x.replace(',', '')))"
   ]
  },
  {
   "cell_type": "code",
   "execution_count": 45,
   "metadata": {
    "ExecuteTime": {
     "end_time": "2022-07-29T04:13:32.469718Z",
     "start_time": "2022-07-29T04:13:32.457759Z"
    }
   },
   "outputs": [],
   "source": [
    "# 데이터 ,삭제 추가\n",
    "df['시가']=df['시가'].apply(lambda x : int(x.replace(',', '')))\n",
    "df['고가']=df['고가'].apply(lambda x : int(x.replace(',', '')))\n",
    "df['저가']=df['저가'].apply(lambda x : int(x.replace(',', '')))\n",
    "df['거래량']=df['거래량'].apply(lambda x : int(x.replace(',', '')))"
   ]
  },
  {
   "cell_type": "code",
   "execution_count": 46,
   "metadata": {
    "ExecuteTime": {
     "end_time": "2022-07-29T04:13:43.830925Z",
     "start_time": "2022-07-29T04:13:43.813287Z"
    }
   },
   "outputs": [
    {
     "data": {
      "text/html": [
       "<div>\n",
       "<style scoped>\n",
       "    .dataframe tbody tr th:only-of-type {\n",
       "        vertical-align: middle;\n",
       "    }\n",
       "\n",
       "    .dataframe tbody tr th {\n",
       "        vertical-align: top;\n",
       "    }\n",
       "\n",
       "    .dataframe thead th {\n",
       "        text-align: right;\n",
       "    }\n",
       "</style>\n",
       "<table border=\"1\" class=\"dataframe\">\n",
       "  <thead>\n",
       "    <tr style=\"text-align: right;\">\n",
       "      <th></th>\n",
       "      <th>종가</th>\n",
       "      <th>전일비</th>\n",
       "      <th>시가</th>\n",
       "      <th>고가</th>\n",
       "      <th>저가</th>\n",
       "      <th>거래량</th>\n",
       "    </tr>\n",
       "    <tr>\n",
       "      <th>날짜</th>\n",
       "      <th></th>\n",
       "      <th></th>\n",
       "      <th></th>\n",
       "      <th></th>\n",
       "      <th></th>\n",
       "      <th></th>\n",
       "    </tr>\n",
       "  </thead>\n",
       "  <tbody>\n",
       "    <tr>\n",
       "      <th>2022-07-29</th>\n",
       "      <td>62000</td>\n",
       "      <td>100</td>\n",
       "      <td>62400</td>\n",
       "      <td>62600</td>\n",
       "      <td>61800</td>\n",
       "      <td>5175818</td>\n",
       "    </tr>\n",
       "    <tr>\n",
       "      <th>2022-07-28</th>\n",
       "      <td>61900</td>\n",
       "      <td>100</td>\n",
       "      <td>62300</td>\n",
       "      <td>62600</td>\n",
       "      <td>61600</td>\n",
       "      <td>10745302</td>\n",
       "    </tr>\n",
       "    <tr>\n",
       "      <th>2022-07-27</th>\n",
       "      <td>61800</td>\n",
       "      <td>100</td>\n",
       "      <td>61300</td>\n",
       "      <td>61900</td>\n",
       "      <td>61200</td>\n",
       "      <td>7320997</td>\n",
       "    </tr>\n",
       "    <tr>\n",
       "      <th>2022-07-26</th>\n",
       "      <td>61700</td>\n",
       "      <td>600</td>\n",
       "      <td>60800</td>\n",
       "      <td>61900</td>\n",
       "      <td>60800</td>\n",
       "      <td>6597211</td>\n",
       "    </tr>\n",
       "    <tr>\n",
       "      <th>2022-07-25</th>\n",
       "      <td>61100</td>\n",
       "      <td>200</td>\n",
       "      <td>60900</td>\n",
       "      <td>61900</td>\n",
       "      <td>60800</td>\n",
       "      <td>9193681</td>\n",
       "    </tr>\n",
       "    <tr>\n",
       "      <th>...</th>\n",
       "      <td>...</td>\n",
       "      <td>...</td>\n",
       "      <td>...</td>\n",
       "      <td>...</td>\n",
       "      <td>...</td>\n",
       "      <td>...</td>\n",
       "    </tr>\n",
       "    <tr>\n",
       "      <th>2021-10-18</th>\n",
       "      <td>70200</td>\n",
       "      <td>100</td>\n",
       "      <td>70200</td>\n",
       "      <td>70300</td>\n",
       "      <td>69200</td>\n",
       "      <td>13486391</td>\n",
       "    </tr>\n",
       "    <tr>\n",
       "      <th>2021-10-15</th>\n",
       "      <td>70100</td>\n",
       "      <td>700</td>\n",
       "      <td>70200</td>\n",
       "      <td>71000</td>\n",
       "      <td>70000</td>\n",
       "      <td>18051612</td>\n",
       "    </tr>\n",
       "    <tr>\n",
       "      <th>2021-10-14</th>\n",
       "      <td>69400</td>\n",
       "      <td>600</td>\n",
       "      <td>69000</td>\n",
       "      <td>69800</td>\n",
       "      <td>68800</td>\n",
       "      <td>19520641</td>\n",
       "    </tr>\n",
       "    <tr>\n",
       "      <th>2021-10-13</th>\n",
       "      <td>68800</td>\n",
       "      <td>200</td>\n",
       "      <td>68700</td>\n",
       "      <td>69600</td>\n",
       "      <td>68300</td>\n",
       "      <td>24172015</td>\n",
       "    </tr>\n",
       "    <tr>\n",
       "      <th>2021-10-12</th>\n",
       "      <td>69000</td>\n",
       "      <td>2,500</td>\n",
       "      <td>70700</td>\n",
       "      <td>70900</td>\n",
       "      <td>68700</td>\n",
       "      <td>31001484</td>\n",
       "    </tr>\n",
       "  </tbody>\n",
       "</table>\n",
       "<p>200 rows × 6 columns</p>\n",
       "</div>"
      ],
      "text/plain": [
       "               종가    전일비     시가     고가     저가       거래량\n",
       "날짜                                                     \n",
       "2022-07-29  62000    100  62400  62600  61800   5175818\n",
       "2022-07-28  61900    100  62300  62600  61600  10745302\n",
       "2022-07-27  61800    100  61300  61900  61200   7320997\n",
       "2022-07-26  61700    600  60800  61900  60800   6597211\n",
       "2022-07-25  61100    200  60900  61900  60800   9193681\n",
       "...           ...    ...    ...    ...    ...       ...\n",
       "2021-10-18  70200    100  70200  70300  69200  13486391\n",
       "2021-10-15  70100    700  70200  71000  70000  18051612\n",
       "2021-10-14  69400    600  69000  69800  68800  19520641\n",
       "2021-10-13  68800    200  68700  69600  68300  24172015\n",
       "2021-10-12  69000  2,500  70700  70900  68700  31001484\n",
       "\n",
       "[200 rows x 6 columns]"
      ]
     },
     "execution_count": 46,
     "metadata": {},
     "output_type": "execute_result"
    }
   ],
   "source": [
    "df"
   ]
  },
  {
   "cell_type": "code",
   "execution_count": 47,
   "metadata": {
    "ExecuteTime": {
     "end_time": "2022-07-29T04:13:53.684997Z",
     "start_time": "2022-07-29T04:13:53.555430Z"
    }
   },
   "outputs": [
    {
     "name": "stderr",
     "output_type": "stream",
     "text": [
      "C:\\Users\\tjtmd\\anaconda3\\lib\\site-packages\\matplotlib\\backends\\backend_agg.py:240: RuntimeWarning: Glyph 45216 missing from current font.\n",
      "  font.set_text(s, 0.0, flags=flags)\n",
      "C:\\Users\\tjtmd\\anaconda3\\lib\\site-packages\\matplotlib\\backends\\backend_agg.py:240: RuntimeWarning: Glyph 51676 missing from current font.\n",
      "  font.set_text(s, 0.0, flags=flags)\n",
      "C:\\Users\\tjtmd\\anaconda3\\lib\\site-packages\\matplotlib\\backends\\backend_agg.py:203: RuntimeWarning: Glyph 45216 missing from current font.\n",
      "  font.set_text(s, 0, flags=flags)\n",
      "C:\\Users\\tjtmd\\anaconda3\\lib\\site-packages\\matplotlib\\backends\\backend_agg.py:203: RuntimeWarning: Glyph 51676 missing from current font.\n",
      "  font.set_text(s, 0, flags=flags)\n"
     ]
    },
    {
     "data": {
      "image/png": "[encoded data removed]",
      "text/plain": [
       "<Figure size 432x288 with 1 Axes>"
      ]
     },
     "metadata": {
      "needs_background": "light"
     },
     "output_type": "display_data"
    }
   ],
   "source": [
    "# 종가 그래프 출력(str)\n",
    "df['종가'].plot();"
   ]
  },
  {
   "cell_type": "markdown",
   "metadata": {},
   "source": [
    "### JSON 파싱\n",
    "> 동적페이지 크롤링의 경우에는 일반적인 HTML text 형태의 데이터만을 사용하지 않습니다.  \n",
    "JSON, xml 형식의 데이터도 통신에 사용하기에 요청결과값에 따른 처리가 필요합니다."
   ]
  },
  {
   "cell_type": "markdown",
   "metadata": {},
   "source": [
    "### 다음 주식 일자별 주가 데이터 크롤링 연습"
   ]
  },
  {
   "cell_type": "code",
   "execution_count": 50,
   "metadata": {
    "ExecuteTime": {
     "end_time": "2022-07-29T04:26:42.054055Z",
     "start_time": "2022-07-29T04:26:41.125904Z"
    }
   },
   "outputs": [],
   "source": [
    "url='https://finance.daum.net/api/quote/A005930/times?symbolCode=A005930&page=2&perPage=10&pagination=true'\n",
    "# requests 요청시에 헤더정보 추가\n",
    "header={\n",
    "    'referer' : 'https://finance.daum.net/quotes/A005930',\n",
    "    'user-agent' : 'Mozilla/5.0 (Windows NT 10.0; Win64; x64) AppleWebKit/537.36 (KHTML, like Gecko) Chrome/103.0.0.0 Safari/537.36'\n",
    "    \n",
    "}    \n",
    "resp=requests.get(url, headers=header)\n",
    "# html 변환\n",
    "html=BeautifulSoup(resp.text, 'html.parser')\n",
    " )\n",
    "# df\n"
   ]
  },
  {
   "cell_type": "code",
   "execution_count": 51,
   "metadata": {
    "ExecuteTime": {
     "end_time": "2022-07-29T04:26:50.568638Z",
     "start_time": "2022-07-29T04:26:50.556675Z"
    },
    "scrolled": true
   },
   "outputs": [
    {
     "data": {
      "text/plain": [
       "'{\"data\":[{\"symbolCode\":null,\"date\":\"2022-07-29 13:15:59\",\"tradePrice\":61800.0,\"tradeTime\":\"13:15:59\",\"change\":\"FALL\",\"changePrice\":-100.0,\"changeRate\":-0.0016155089,\"prevClosingPrice\":61900.0,\"openingPrice\":61800.0,\"highPrice\":61900.0,\"lowPrice\":61800.0,\"accTradePrice\":493204796400,\"accTradeVolume\":7938166,\"periodTradePrice\":408724600,\"periodTradeVolume\":6610,\"askTradePrice\":null,\"bidTradePrice\":null},{\"symbolCode\":null,\"date\":\"2022-07-29 13:14:59\",\"tradePrice\":61800.0,\"tradeTime\":\"13:14:59\",\"change\":\"FALL\",\"changePrice\":-100.0,\"changeRate\":-0.0016155089,\"prevClosingPrice\":61900.0,\"openingPrice\":61800.0,\"highPrice\":61900.0,\"lowPrice\":61800.0,\"accTradePrice\":492796071800,\"accTradeVolume\":7931556,\"periodTradePrice\":396409900,\"periodTradeVolume\":6411,\"askTradePrice\":null,\"bidTradePrice\":null},{\"symbolCode\":null,\"date\":\"2022-07-29 13:13:59\",\"tradePrice\":61900.0,\"tradeTime\":\"13:13:59\",\"change\":\"EVEN\",\"changePrice\":0.0,\"changeRate\":0,\"prevClosingPrice\":61900.0,\"openingPrice\":61900.0,\"highPrice\":61900.0,\"lowPrice\":61800.0,\"accTradePrice\":492399661900,\"accTradeVolume\":7925145,\"periodTradePrice\":470271300,\"periodTradeVolume\":7604,\"askTradePrice\":null,\"bidTradePrice\":null},{\"symbolCode\":null,\"date\":\"2022-07-29 13:12:59\",\"tradePrice\":61900.0,\"tradeTime\":\"13:12:59\",\"change\":\"EVEN\",\"changePrice\":0.0,\"changeRate\":0,\"prevClosingPrice\":61900.0,\"openingPrice\":61800.0,\"highPrice\":61900.0,\"lowPrice\":61800.0,\"accTradePrice\":491929390600,\"accTradeVolume\":7917541,\"periodTradePrice\":908014100,\"periodTradeVolume\":14677,\"askTradePrice\":null,\"bidTradePrice\":null},{\"symbolCode\":null,\"date\":\"2022-07-29 13:11:59\",\"tradePrice\":61800.0,\"tradeTime\":\"13:11:59\",\"change\":\"FALL\",\"changePrice\":-100.0,\"changeRate\":-0.0016155089,\"prevClosingPrice\":61900.0,\"openingPrice\":61800.0,\"highPrice\":61900.0,\"lowPrice\":61800.0,\"accTradePrice\":491021376500,\"accTradeVolume\":7902864,\"periodTradePrice\":535090100,\"periodTradeVolume\":8653,\"askTradePrice\":null,\"bidTradePrice\":null},{\"symbolCode\":null,\"date\":\"2022-07-29 13:10:59\",\"tradePrice\":61900.0,\"tradeTime\":\"13:10:59\",\"change\":\"EVEN\",\"changePrice\":0.0,\"changeRate\":0,\"prevClosingPrice\":61900.0,\"openingPrice\":61900.0,\"highPrice\":61900.0,\"lowPrice\":61800.0,\"accTradePrice\":490486286400,\"accTradeVolume\":7894211,\"periodTradePrice\":493725500,\"periodTradeVolume\":7983,\"askTradePrice\":null,\"bidTradePrice\":null},{\"symbolCode\":null,\"date\":\"2022-07-29 13:09:59\",\"tradePrice\":61900.0,\"tradeTime\":\"13:09:59\",\"change\":\"EVEN\",\"changePrice\":0.0,\"changeRate\":0,\"prevClosingPrice\":61900.0,\"openingPrice\":61800.0,\"highPrice\":61900.0,\"lowPrice\":61800.0,\"accTradePrice\":489992560900,\"accTradeVolume\":7886228,\"periodTradePrice\":349802500,\"periodTradeVolume\":5657,\"askTradePrice\":null,\"bidTradePrice\":null},{\"symbolCode\":null,\"date\":\"2022-07-29 13:08:59\",\"tradePrice\":61800.0,\"tradeTime\":\"13:08:59\",\"change\":\"FALL\",\"changePrice\":-100.0,\"changeRate\":-0.0016155089,\"prevClosingPrice\":61900.0,\"openingPrice\":61900.0,\"highPrice\":61900.0,\"lowPrice\":61800.0,\"accTradePrice\":489642758400,\"accTradeVolume\":7880571,\"periodTradePrice\":1150139900,\"periodTradeVolume\":18607,\"askTradePrice\":null,\"bidTradePrice\":null},{\"symbolCode\":null,\"date\":\"2022-07-29 13:07:59\",\"tradePrice\":61900.0,\"tradeTime\":\"13:07:59\",\"change\":\"EVEN\",\"changePrice\":0.0,\"changeRate\":0,\"prevClosingPrice\":61900.0,\"openingPrice\":61900.0,\"highPrice\":61900.0,\"lowPrice\":61800.0,\"accTradePrice\":488492618500,\"accTradeVolume\":7861964,\"periodTradePrice\":265828100,\"periodTradeVolume\":4297,\"askTradePrice\":null,\"bidTradePrice\":null},{\"symbolCode\":null,\"date\":\"2022-07-29 13:06:58\",\"tradePrice\":61900.0,\"tradeTime\":\"13:06:58\",\"change\":\"EVEN\",\"changePrice\":0.0,\"changeRate\":0,\"prevClosingPrice\":61900.0,\"openingPrice\":61800.0,\"highPrice\":61900.0,\"lowPrice\":61800.0,\"accTradePrice\":488226790400,\"accTradeVolume\":7857667,\"periodTradePrice\":319970500,\"periodTradeVolume\":5174,\"askTradePrice\":null,\"bidTradePrice\":null}],\"totalPages\":27,\"currentPage\":2,\"pageSize\":10}'"
      ]
     },
     "execution_count": 51,
     "metadata": {},
     "output_type": "execute_result"
    }
   ],
   "source": [
    "resp.text"
   ]
  },
  {
   "cell_type": "code",
   "execution_count": 53,
   "metadata": {
    "ExecuteTime": {
     "end_time": "2022-07-29T04:29:03.437025Z",
     "start_time": "2022-07-29T04:29:03.432042Z"
    }
   },
   "outputs": [],
   "source": [
    "import json\n",
    "data=json.loads(resp.text)"
   ]
  },
  {
   "cell_type": "code",
   "execution_count": 54,
   "metadata": {
    "ExecuteTime": {
     "end_time": "2022-07-29T04:29:10.424191Z",
     "start_time": "2022-07-29T04:29:10.410239Z"
    }
   },
   "outputs": [
    {
     "data": {
      "text/plain": [
       "{'data': [{'symbolCode': None,\n",
       "   'date': '2022-07-29 13:15:59',\n",
       "   'tradePrice': 61800.0,\n",
       "   'tradeTime': '13:15:59',\n",
       "   'change': 'FALL',\n",
       "   'changePrice': -100.0,\n",
       "   'changeRate': -0.0016155089,\n",
       "   'prevClosingPrice': 61900.0,\n",
       "   'openingPrice': 61800.0,\n",
       "   'highPrice': 61900.0,\n",
       "   'lowPrice': 61800.0,\n",
       "   'accTradePrice': 493204796400,\n",
       "   'accTradeVolume': 7938166,\n",
       "   'periodTradePrice': 408724600,\n",
       "   'periodTradeVolume': 6610,\n",
       "   'askTradePrice': None,\n",
       "   'bidTradePrice': None},\n",
       "  {'symbolCode': None,\n",
       "   'date': '2022-07-29 13:14:59',\n",
       "   'tradePrice': 61800.0,\n",
       "   'tradeTime': '13:14:59',\n",
       "   'change': 'FALL',\n",
       "   'changePrice': -100.0,\n",
       "   'changeRate': -0.0016155089,\n",
       "   'prevClosingPrice': 61900.0,\n",
       "   'openingPrice': 61800.0,\n",
       "   'highPrice': 61900.0,\n",
       "   'lowPrice': 61800.0,\n",
       "   'accTradePrice': 492796071800,\n",
       "   'accTradeVolume': 7931556,\n",
       "   'periodTradePrice': 396409900,\n",
       "   'periodTradeVolume': 6411,\n",
       "   'askTradePrice': None,\n",
       "   'bidTradePrice': None},\n",
       "  {'symbolCode': None,\n",
       "   'date': '2022-07-29 13:13:59',\n",
       "   'tradePrice': 61900.0,\n",
       "   'tradeTime': '13:13:59',\n",
       "   'change': 'EVEN',\n",
       "   'changePrice': 0.0,\n",
       "   'changeRate': 0,\n",
       "   'prevClosingPrice': 61900.0,\n",
       "   'openingPrice': 61900.0,\n",
       "   'highPrice': 61900.0,\n",
       "   'lowPrice': 61800.0,\n",
       "   'accTradePrice': 492399661900,\n",
       "   'accTradeVolume': 7925145,\n",
       "   'periodTradePrice': 470271300,\n",
       "   'periodTradeVolume': 7604,\n",
       "   'askTradePrice': None,\n",
       "   'bidTradePrice': None},\n",
       "  {'symbolCode': None,\n",
       "   'date': '2022-07-29 13:12:59',\n",
       "   'tradePrice': 61900.0,\n",
       "   'tradeTime': '13:12:59',\n",
       "   'change': 'EVEN',\n",
       "   'changePrice': 0.0,\n",
       "   'changeRate': 0,\n",
       "   'prevClosingPrice': 61900.0,\n",
       "   'openingPrice': 61800.0,\n",
       "   'highPrice': 61900.0,\n",
       "   'lowPrice': 61800.0,\n",
       "   'accTradePrice': 491929390600,\n",
       "   'accTradeVolume': 7917541,\n",
       "   'periodTradePrice': 908014100,\n",
       "   'periodTradeVolume': 14677,\n",
       "   'askTradePrice': None,\n",
       "   'bidTradePrice': None},\n",
       "  {'symbolCode': None,\n",
       "   'date': '2022-07-29 13:11:59',\n",
       "   'tradePrice': 61800.0,\n",
       "   'tradeTime': '13:11:59',\n",
       "   'change': 'FALL',\n",
       "   'changePrice': -100.0,\n",
       "   'changeRate': -0.0016155089,\n",
       "   'prevClosingPrice': 61900.0,\n",
       "   'openingPrice': 61800.0,\n",
       "   'highPrice': 61900.0,\n",
       "   'lowPrice': 61800.0,\n",
       "   'accTradePrice': 491021376500,\n",
       "   'accTradeVolume': 7902864,\n",
       "   'periodTradePrice': 535090100,\n",
       "   'periodTradeVolume': 8653,\n",
       "   'askTradePrice': None,\n",
       "   'bidTradePrice': None},\n",
       "  {'symbolCode': None,\n",
       "   'date': '2022-07-29 13:10:59',\n",
       "   'tradePrice': 61900.0,\n",
       "   'tradeTime': '13:10:59',\n",
       "   'change': 'EVEN',\n",
       "   'changePrice': 0.0,\n",
       "   'changeRate': 0,\n",
       "   'prevClosingPrice': 61900.0,\n",
       "   'openingPrice': 61900.0,\n",
       "   'highPrice': 61900.0,\n",
       "   'lowPrice': 61800.0,\n",
       "   'accTradePrice': 490486286400,\n",
       "   'accTradeVolume': 7894211,\n",
       "   'periodTradePrice': 493725500,\n",
       "   'periodTradeVolume': 7983,\n",
       "   'askTradePrice': None,\n",
       "   'bidTradePrice': None},\n",
       "  {'symbolCode': None,\n",
       "   'date': '2022-07-29 13:09:59',\n",
       "   'tradePrice': 61900.0,\n",
       "   'tradeTime': '13:09:59',\n",
       "   'change': 'EVEN',\n",
       "   'changePrice': 0.0,\n",
       "   'changeRate': 0,\n",
       "   'prevClosingPrice': 61900.0,\n",
       "   'openingPrice': 61800.0,\n",
       "   'highPrice': 61900.0,\n",
       "   'lowPrice': 61800.0,\n",
       "   'accTradePrice': 489992560900,\n",
       "   'accTradeVolume': 7886228,\n",
       "   'periodTradePrice': 349802500,\n",
       "   'periodTradeVolume': 5657,\n",
       "   'askTradePrice': None,\n",
       "   'bidTradePrice': None},\n",
       "  {'symbolCode': None,\n",
       "   'date': '2022-07-29 13:08:59',\n",
       "   'tradePrice': 61800.0,\n",
       "   'tradeTime': '13:08:59',\n",
       "   'change': 'FALL',\n",
       "   'changePrice': -100.0,\n",
       "   'changeRate': -0.0016155089,\n",
       "   'prevClosingPrice': 61900.0,\n",
       "   'openingPrice': 61900.0,\n",
       "   'highPrice': 61900.0,\n",
       "   'lowPrice': 61800.0,\n",
       "   'accTradePrice': 489642758400,\n",
       "   'accTradeVolume': 7880571,\n",
       "   'periodTradePrice': 1150139900,\n",
       "   'periodTradeVolume': 18607,\n",
       "   'askTradePrice': None,\n",
       "   'bidTradePrice': None},\n",
       "  {'symbolCode': None,\n",
       "   'date': '2022-07-29 13:07:59',\n",
       "   'tradePrice': 61900.0,\n",
       "   'tradeTime': '13:07:59',\n",
       "   'change': 'EVEN',\n",
       "   'changePrice': 0.0,\n",
       "   'changeRate': 0,\n",
       "   'prevClosingPrice': 61900.0,\n",
       "   'openingPrice': 61900.0,\n",
       "   'highPrice': 61900.0,\n",
       "   'lowPrice': 61800.0,\n",
       "   'accTradePrice': 488492618500,\n",
       "   'accTradeVolume': 7861964,\n",
       "   'periodTradePrice': 265828100,\n",
       "   'periodTradeVolume': 4297,\n",
       "   'askTradePrice': None,\n",
       "   'bidTradePrice': None},\n",
       "  {'symbolCode': None,\n",
       "   'date': '2022-07-29 13:06:58',\n",
       "   'tradePrice': 61900.0,\n",
       "   'tradeTime': '13:06:58',\n",
       "   'change': 'EVEN',\n",
       "   'changePrice': 0.0,\n",
       "   'changeRate': 0,\n",
       "   'prevClosingPrice': 61900.0,\n",
       "   'openingPrice': 61800.0,\n",
       "   'highPrice': 61900.0,\n",
       "   'lowPrice': 61800.0,\n",
       "   'accTradePrice': 488226790400,\n",
       "   'accTradeVolume': 7857667,\n",
       "   'periodTradePrice': 319970500,\n",
       "   'periodTradeVolume': 5174,\n",
       "   'askTradePrice': None,\n",
       "   'bidTradePrice': None}],\n",
       " 'totalPages': 27,\n",
       " 'currentPage': 2,\n",
       " 'pageSize': 10}"
      ]
     },
     "execution_count": 54,
     "metadata": {},
     "output_type": "execute_result"
    }
   ],
   "source": [
    "data"
   ]
  },
  {
   "cell_type": "code",
   "execution_count": 55,
   "metadata": {
    "ExecuteTime": {
     "end_time": "2022-07-29T04:30:27.575064Z",
     "start_time": "2022-07-29T04:30:27.547150Z"
    }
   },
   "outputs": [
    {
     "data": {
      "text/html": [
       "<div>\n",
       "<style scoped>\n",
       "    .dataframe tbody tr th:only-of-type {\n",
       "        vertical-align: middle;\n",
       "    }\n",
       "\n",
       "    .dataframe tbody tr th {\n",
       "        vertical-align: top;\n",
       "    }\n",
       "\n",
       "    .dataframe thead th {\n",
       "        text-align: right;\n",
       "    }\n",
       "</style>\n",
       "<table border=\"1\" class=\"dataframe\">\n",
       "  <thead>\n",
       "    <tr style=\"text-align: right;\">\n",
       "      <th></th>\n",
       "      <th>symbolCode</th>\n",
       "      <th>date</th>\n",
       "      <th>tradePrice</th>\n",
       "      <th>tradeTime</th>\n",
       "      <th>change</th>\n",
       "      <th>changePrice</th>\n",
       "      <th>changeRate</th>\n",
       "      <th>prevClosingPrice</th>\n",
       "      <th>openingPrice</th>\n",
       "      <th>highPrice</th>\n",
       "      <th>lowPrice</th>\n",
       "      <th>accTradePrice</th>\n",
       "      <th>accTradeVolume</th>\n",
       "      <th>periodTradePrice</th>\n",
       "      <th>periodTradeVolume</th>\n",
       "      <th>askTradePrice</th>\n",
       "      <th>bidTradePrice</th>\n",
       "    </tr>\n",
       "  </thead>\n",
       "  <tbody>\n",
       "    <tr>\n",
       "      <th>0</th>\n",
       "      <td>None</td>\n",
       "      <td>2022-07-29 13:15:59</td>\n",
       "      <td>61800.0</td>\n",
       "      <td>13:15:59</td>\n",
       "      <td>FALL</td>\n",
       "      <td>-100.0</td>\n",
       "      <td>-0.001616</td>\n",
       "      <td>61900.0</td>\n",
       "      <td>61800.0</td>\n",
       "      <td>61900.0</td>\n",
       "      <td>61800.0</td>\n",
       "      <td>493204796400</td>\n",
       "      <td>7938166</td>\n",
       "      <td>408724600</td>\n",
       "      <td>6610</td>\n",
       "      <td>None</td>\n",
       "      <td>None</td>\n",
       "    </tr>\n",
       "    <tr>\n",
       "      <th>1</th>\n",
       "      <td>None</td>\n",
       "      <td>2022-07-29 13:14:59</td>\n",
       "      <td>61800.0</td>\n",
       "      <td>13:14:59</td>\n",
       "      <td>FALL</td>\n",
       "      <td>-100.0</td>\n",
       "      <td>-0.001616</td>\n",
       "      <td>61900.0</td>\n",
       "      <td>61800.0</td>\n",
       "      <td>61900.0</td>\n",
       "      <td>61800.0</td>\n",
       "      <td>492796071800</td>\n",
       "      <td>7931556</td>\n",
       "      <td>396409900</td>\n",
       "      <td>6411</td>\n",
       "      <td>None</td>\n",
       "      <td>None</td>\n",
       "    </tr>\n",
       "    <tr>\n",
       "      <th>2</th>\n",
       "      <td>None</td>\n",
       "      <td>2022-07-29 13:13:59</td>\n",
       "      <td>61900.0</td>\n",
       "      <td>13:13:59</td>\n",
       "      <td>EVEN</td>\n",
       "      <td>0.0</td>\n",
       "      <td>0.000000</td>\n",
       "      <td>61900.0</td>\n",
       "      <td>61900.0</td>\n",
       "      <td>61900.0</td>\n",
       "      <td>61800.0</td>\n",
       "      <td>492399661900</td>\n",
       "      <td>7925145</td>\n",
       "      <td>470271300</td>\n",
       "      <td>7604</td>\n",
       "      <td>None</td>\n",
       "      <td>None</td>\n",
       "    </tr>\n",
       "    <tr>\n",
       "      <th>3</th>\n",
       "      <td>None</td>\n",
       "      <td>2022-07-29 13:12:59</td>\n",
       "      <td>61900.0</td>\n",
       "      <td>13:12:59</td>\n",
       "      <td>EVEN</td>\n",
       "      <td>0.0</td>\n",
       "      <td>0.000000</td>\n",
       "      <td>61900.0</td>\n",
       "      <td>61800.0</td>\n",
       "      <td>61900.0</td>\n",
       "      <td>61800.0</td>\n",
       "      <td>491929390600</td>\n",
       "      <td>7917541</td>\n",
       "      <td>908014100</td>\n",
       "      <td>14677</td>\n",
       "      <td>None</td>\n",
       "      <td>None</td>\n",
       "    </tr>\n",
       "    <tr>\n",
       "      <th>4</th>\n",
       "      <td>None</td>\n",
       "      <td>2022-07-29 13:11:59</td>\n",
       "      <td>61800.0</td>\n",
       "      <td>13:11:59</td>\n",
       "      <td>FALL</td>\n",
       "      <td>-100.0</td>\n",
       "      <td>-0.001616</td>\n",
       "      <td>61900.0</td>\n",
       "      <td>61800.0</td>\n",
       "      <td>61900.0</td>\n",
       "      <td>61800.0</td>\n",
       "      <td>491021376500</td>\n",
       "      <td>7902864</td>\n",
       "      <td>535090100</td>\n",
       "      <td>8653</td>\n",
       "      <td>None</td>\n",
       "      <td>None</td>\n",
       "    </tr>\n",
       "    <tr>\n",
       "      <th>5</th>\n",
       "      <td>None</td>\n",
       "      <td>2022-07-29 13:10:59</td>\n",
       "      <td>61900.0</td>\n",
       "      <td>13:10:59</td>\n",
       "      <td>EVEN</td>\n",
       "      <td>0.0</td>\n",
       "      <td>0.000000</td>\n",
       "      <td>61900.0</td>\n",
       "      <td>61900.0</td>\n",
       "      <td>61900.0</td>\n",
       "      <td>61800.0</td>\n",
       "      <td>490486286400</td>\n",
       "      <td>7894211</td>\n",
       "      <td>493725500</td>\n",
       "      <td>7983</td>\n",
       "      <td>None</td>\n",
       "      <td>None</td>\n",
       "    </tr>\n",
       "    <tr>\n",
       "      <th>6</th>\n",
       "      <td>None</td>\n",
       "      <td>2022-07-29 13:09:59</td>\n",
       "      <td>61900.0</td>\n",
       "      <td>13:09:59</td>\n",
       "      <td>EVEN</td>\n",
       "      <td>0.0</td>\n",
       "      <td>0.000000</td>\n",
       "      <td>61900.0</td>\n",
       "      <td>61800.0</td>\n",
       "      <td>61900.0</td>\n",
       "      <td>61800.0</td>\n",
       "      <td>489992560900</td>\n",
       "      <td>7886228</td>\n",
       "      <td>349802500</td>\n",
       "      <td>5657</td>\n",
       "      <td>None</td>\n",
       "      <td>None</td>\n",
       "    </tr>\n",
       "    <tr>\n",
       "      <th>7</th>\n",
       "      <td>None</td>\n",
       "      <td>2022-07-29 13:08:59</td>\n",
       "      <td>61800.0</td>\n",
       "      <td>13:08:59</td>\n",
       "      <td>FALL</td>\n",
       "      <td>-100.0</td>\n",
       "      <td>-0.001616</td>\n",
       "      <td>61900.0</td>\n",
       "      <td>61900.0</td>\n",
       "      <td>61900.0</td>\n",
       "      <td>61800.0</td>\n",
       "      <td>489642758400</td>\n",
       "      <td>7880571</td>\n",
       "      <td>1150139900</td>\n",
       "      <td>18607</td>\n",
       "      <td>None</td>\n",
       "      <td>None</td>\n",
       "    </tr>\n",
       "    <tr>\n",
       "      <th>8</th>\n",
       "      <td>None</td>\n",
       "      <td>2022-07-29 13:07:59</td>\n",
       "      <td>61900.0</td>\n",
       "      <td>13:07:59</td>\n",
       "      <td>EVEN</td>\n",
       "      <td>0.0</td>\n",
       "      <td>0.000000</td>\n",
       "      <td>61900.0</td>\n",
       "      <td>61900.0</td>\n",
       "      <td>61900.0</td>\n",
       "      <td>61800.0</td>\n",
       "      <td>488492618500</td>\n",
       "      <td>7861964</td>\n",
       "      <td>265828100</td>\n",
       "      <td>4297</td>\n",
       "      <td>None</td>\n",
       "      <td>None</td>\n",
       "    </tr>\n",
       "    <tr>\n",
       "      <th>9</th>\n",
       "      <td>None</td>\n",
       "      <td>2022-07-29 13:06:58</td>\n",
       "      <td>61900.0</td>\n",
       "      <td>13:06:58</td>\n",
       "      <td>EVEN</td>\n",
       "      <td>0.0</td>\n",
       "      <td>0.000000</td>\n",
       "      <td>61900.0</td>\n",
       "      <td>61800.0</td>\n",
       "      <td>61900.0</td>\n",
       "      <td>61800.0</td>\n",
       "      <td>488226790400</td>\n",
       "      <td>7857667</td>\n",
       "      <td>319970500</td>\n",
       "      <td>5174</td>\n",
       "      <td>None</td>\n",
       "      <td>None</td>\n",
       "    </tr>\n",
       "  </tbody>\n",
       "</table>\n",
       "</div>"
      ],
      "text/plain": [
       "  symbolCode                 date  tradePrice tradeTime change  changePrice  \\\n",
       "0       None  2022-07-29 13:15:59     61800.0  13:15:59   FALL       -100.0   \n",
       "1       None  2022-07-29 13:14:59     61800.0  13:14:59   FALL       -100.0   \n",
       "2       None  2022-07-29 13:13:59     61900.0  13:13:59   EVEN          0.0   \n",
       "3       None  2022-07-29 13:12:59     61900.0  13:12:59   EVEN          0.0   \n",
       "4       None  2022-07-29 13:11:59     61800.0  13:11:59   FALL       -100.0   \n",
       "5       None  2022-07-29 13:10:59     61900.0  13:10:59   EVEN          0.0   \n",
       "6       None  2022-07-29 13:09:59     61900.0  13:09:59   EVEN          0.0   \n",
       "7       None  2022-07-29 13:08:59     61800.0  13:08:59   FALL       -100.0   \n",
       "8       None  2022-07-29 13:07:59     61900.0  13:07:59   EVEN          0.0   \n",
       "9       None  2022-07-29 13:06:58     61900.0  13:06:58   EVEN          0.0   \n",
       "\n",
       "   changeRate  prevClosingPrice  openingPrice  highPrice  lowPrice  \\\n",
       "0   -0.001616           61900.0       61800.0    61900.0   61800.0   \n",
       "1   -0.001616           61900.0       61800.0    61900.0   61800.0   \n",
       "2    0.000000           61900.0       61900.0    61900.0   61800.0   \n",
       "3    0.000000           61900.0       61800.0    61900.0   61800.0   \n",
       "4   -0.001616           61900.0       61800.0    61900.0   61800.0   \n",
       "5    0.000000           61900.0       61900.0    61900.0   61800.0   \n",
       "6    0.000000           61900.0       61800.0    61900.0   61800.0   \n",
       "7   -0.001616           61900.0       61900.0    61900.0   61800.0   \n",
       "8    0.000000           61900.0       61900.0    61900.0   61800.0   \n",
       "9    0.000000           61900.0       61800.0    61900.0   61800.0   \n",
       "\n",
       "   accTradePrice  accTradeVolume  periodTradePrice  periodTradeVolume  \\\n",
       "0   493204796400         7938166         408724600               6610   \n",
       "1   492796071800         7931556         396409900               6411   \n",
       "2   492399661900         7925145         470271300               7604   \n",
       "3   491929390600         7917541         908014100              14677   \n",
       "4   491021376500         7902864         535090100               8653   \n",
       "5   490486286400         7894211         493725500               7983   \n",
       "6   489992560900         7886228         349802500               5657   \n",
       "7   489642758400         7880571        1150139900              18607   \n",
       "8   488492618500         7861964         265828100               4297   \n",
       "9   488226790400         7857667         319970500               5174   \n",
       "\n",
       "  askTradePrice bidTradePrice  \n",
       "0          None          None  \n",
       "1          None          None  \n",
       "2          None          None  \n",
       "3          None          None  \n",
       "4          None          None  \n",
       "5          None          None  \n",
       "6          None          None  \n",
       "7          None          None  \n",
       "8          None          None  \n",
       "9          None          None  "
      ]
     },
     "execution_count": 55,
     "metadata": {},
     "output_type": "execute_result"
    }
   ],
   "source": [
    "df=pd.DataFrame(data['data'])\n",
    "df"
   ]
  },
  {
   "cell_type": "markdown",
   "metadata": {
    "id": "GIvAIByBCAz1",
    "slideshow": {
     "slide_type": "slide"
    }
   },
   "source": [
    "### 네이버 데이터랩 인기검색어 크롤링"
   ]
  },
  {
   "cell_type": "code",
   "execution_count": 60,
   "metadata": {
    "ExecuteTime": {
     "end_time": "2022-07-29T04:45:22.044298Z",
     "start_time": "2022-07-29T04:45:21.997543Z"
    }
   },
   "outputs": [
    {
     "data": {
      "text/plain": [
       "[]"
      ]
     },
     "execution_count": 60,
     "metadata": {},
     "output_type": "execute_result"
    }
   ],
   "source": [
    "# 동적페이지의 숨은 URL\n",
    "# 동적페이지에 요청을 할 때 웹 정책에 필요한 정보를 같이 전달을 해줘야 함.\n",
    "\n",
    "url ='https://datalab.naver.com/shoppingInsight/getKeywordRank.naver?timeUnit=date&cid=50000001'\n",
    "#'https://datalab.naver.com/'\n",
    "#\n",
    "\n",
    "# requests 요청시에 헤더정보 추가\n",
    "header={\n",
    "   'referer' : 'https://datalab.naver.com/',\n",
    "    'user-agent' : 'Mozilla/5.0 (Windows NT 10.0; Win64; x64) AppleWebKit/537.36 (KHTML, like Gecko) Chrome/103.0.0.0 Safari/537.36'\n",
    "    \n",
    "}\n",
    "resp=requests.get(url, headers=header)\n",
    "# html 변환\n",
    "html=BeautifulSoup(resp.text, 'html.parser')\n",
    "# 정보선별\n",
    "html.select('span.title')\n",
    "# # 날짜\n",
    "# date= list()\n",
    "# for item in range(10):\n",
    "#     date.append(html.select('span.p10')[item].text)\n",
    "# # 종가\n",
    "# end=[]\n",
    "# for item in range(10):\n",
    "#     end.append(html.select('span.p10')[item].text)\n",
    "\n",
    "# 한꺼번에\n",
    "# alldata=[]\n",
    "# for i in range(70):\n",
    "#     alldata.append(html.select('span.tah')[i].text.replace('\\n', '').replace('\\t', ''))\n",
    "# df 제작\n",
    "#index=['코오롱인더', '삼성전자'],\n",
    "# df = pd.DataFrame(np.array(alldata).reshape(-1, 7),\n",
    "#                   columns=['날짜', '종가', '전일비', '시가', '고가', '저가', '거래량'],\n",
    "#                  )\n",
    "# df"
   ]
  },
  {
   "cell_type": "markdown",
   "metadata": {},
   "source": [
    "## APIs\n",
    "> 어플리케이션  \n",
    "웹 서비스 제공자가 사용자에게 정보를 제공하기 위한 통신프로그램  \n",
    "일반적인 API의 경우 requests -> response 형태의 크롤링 방법과 동일한 형태를 취한다.  "
   ]
  },
  {
   "cell_type": "markdown",
   "metadata": {},
   "source": [
    "### 네이버 파파고 API"
   ]
  },
  {
   "cell_type": "code",
   "execution_count": 87,
   "metadata": {
    "ExecuteTime": {
     "end_time": "2022-07-29T06:17:29.174578Z",
     "start_time": "2022-07-29T06:17:29.155844Z"
    }
   },
   "outputs": [],
   "source": [
    "c_id = 'GSwv9xaItLeoJV5VJGag'\n",
    "pw='i7aqwrxXab'\n",
    "url = 'https://openapi.naver.com/v1/papago/n2mt'"
   ]
  },
  {
   "cell_type": "code",
   "execution_count": 93,
   "metadata": {
    "ExecuteTime": {
     "end_time": "2022-07-29T06:21:24.050725Z",
     "start_time": "2022-07-29T06:21:24.039308Z"
    }
   },
   "outputs": [],
   "source": [
    "def ko_to_en(text):\n",
    "    header={\n",
    "        \"Content-Type\": \"application/x-www-form-urlencoded; charset=UTF-8\",\n",
    "        \"X-Naver-Client-Id\": c_id,\n",
    "        \"X-Naver-Client-Secret\": pw\n",
    "\n",
    "    }\n",
    "    data={\n",
    "        \"source\":\"ko\",\n",
    "        \"target\":\"en\",\n",
    "        \"text\": text\n",
    "    }\n",
    "    # get -> 헤더 정보 포함 요청방법\n",
    "    # post -> 헤더정보 +데이터 요청 방법\n",
    "    resp=requests.post(url, headers=header, data=data)\n",
    "    papago= json.loads(resp.text)\n",
    "    return papago['message']['result']['translatedText']"
   ]
  },
  {
   "cell_type": "code",
   "execution_count": 94,
   "metadata": {
    "ExecuteTime": {
     "end_time": "2022-07-29T06:21:24.869909Z",
     "start_time": "2022-07-29T06:21:24.764921Z"
    }
   },
   "outputs": [
    {
     "data": {
      "text/plain": [
       "'Hi.'"
      ]
     },
     "execution_count": 94,
     "metadata": {},
     "output_type": "execute_result"
    }
   ],
   "source": [
    "ko_to_en('안녕')"
   ]
  },
  {
   "cell_type": "code",
   "execution_count": 95,
   "metadata": {
    "ExecuteTime": {
     "end_time": "2022-07-29T06:22:32.167381Z",
     "start_time": "2022-07-29T06:22:32.156195Z"
    }
   },
   "outputs": [],
   "source": [
    "def en_to_ko(text):\n",
    "    header={\n",
    "        \"Content-Type\": \"application/x-www-form-urlencoded; charset=UTF-8\",\n",
    "        \"X-Naver-Client-Id\": c_id,\n",
    "        \"X-Naver-Client-Secret\": pw\n",
    "\n",
    "    }\n",
    "    data={\n",
    "        \"source\":\"en\",\n",
    "        \"target\":\"ko\",\n",
    "        \"text\": text\n",
    "    }\n",
    "    # get -> 헤더 정보 포함 요청방법\n",
    "    # post -> 헤더정보 +데이터 요청 방법\n",
    "    resp=requests.post(url, headers=header, data=data)\n",
    "    papago= json.loads(resp.text)\n",
    "    return papago['message']['result']['translatedText']"
   ]
  },
  {
   "cell_type": "code",
   "execution_count": 96,
   "metadata": {
    "ExecuteTime": {
     "end_time": "2022-07-29T06:22:43.029288Z",
     "start_time": "2022-07-29T06:22:42.917682Z"
    }
   },
   "outputs": [
    {
     "data": {
      "text/plain": [
       "'안녕'"
      ]
     },
     "execution_count": 96,
     "metadata": {},
     "output_type": "execute_result"
    }
   ],
   "source": [
    "en_to_ko('hi')"
   ]
  },
  {
   "cell_type": "markdown",
   "metadata": {},
   "source": [
    "### 공공데이터 API"
   ]
  },
  {
   "cell_type": "code",
   "execution_count": 61,
   "metadata": {
    "ExecuteTime": {
     "end_time": "2022-07-29T05:25:46.284803Z",
     "start_time": "2022-07-29T05:25:46.271498Z"
    }
   },
   "outputs": [],
   "source": [
    "key1 ='5608247JXIxP56YLMZdZMCOgWU3MR%2FMcbUys0lEFDh4UGG8sX1PK%2FlcVDoR91ma50RoqvtQEzHh%2BN5H703gIuA%3D%3D'\n",
    "key2 ='5608247JXIxP56YLMZdZMCOgWU3MR/McbUys0lEFDh4UGG8sX1PK/lcVDoR91ma50RoqvtQEzHh+N5H703gIuA==' \n",
    "url = 'http://apis.data.go.kr/3130000/openapi/sns/getsns'\n"
   ]
  },
  {
   "cell_type": "code",
   "execution_count": 65,
   "metadata": {
    "ExecuteTime": {
     "end_time": "2022-07-29T05:28:29.236163Z",
     "start_time": "2022-07-29T05:28:29.131278Z"
    }
   },
   "outputs": [
    {
     "name": "stdout",
     "output_type": "stream",
     "text": [
      "{\"resultCode\":\"0\",\"resultMsg\":\"SUCCESS\",\"numOfRows\":10,\"pageNo\":0,\"totalCount\":377,\"items\":[{\"date\":\"2018-07-01\",\"positive\":\"2956\",\"negative\":\"648\",\"neutral\":\"295\",\"addr\":\"홍대 걷고 싶은 거리\"},{\"date\":\"2018-08-01\",\"positive\":\"2247\",\"negative\":\"111\",\"neutral\":\"200\",\"addr\":\"홍대 걷고 싶은 거리\"},{\"date\":\"2018-09-01\",\"positive\":\"3602\",\"negative\":\"635\",\"neutral\":\"436\",\"addr\":\"홍대 걷고 싶은 거리\"},{\"date\":\"2018-10-01\",\"positive\":\"2827\",\"negative\":\"394\",\"neutral\":\"623\",\"addr\":\"홍대 걷고 싶은 거리\"},{\"date\":\"2018-11-01\",\"positive\":\"2004\",\"negative\":\"356\",\"neutral\":\"583\",\"addr\":\"홍대 걷고 싶은 거리\"},{\"date\":\"2018-12-01\",\"positive\":\"1457\",\"negative\":\"223\",\"neutral\":\"173\",\"addr\":\"홍대 걷고 싶은 거리\"},{\"date\":\"2019-01-01\",\"positive\":\"1444\",\"negative\":\"143\",\"neutral\":\"127\",\"addr\":\"홍대 걷고 싶은 거리\"},{\"date\":\"2019-02-01\",\"positive\":\"6886\",\"negative\":\"215\",\"neutral\":\"220\",\"addr\":\"홍대 걷고 싶은 거리\"},{\"date\":\"2019-03-01\",\"positive\":\"1945\",\"negative\":\"175\",\"neutral\":\"160\",\"addr\":\"홍대 걷고 싶은 거리\"},{\"date\":\"2019-04-01\",\"positive\":\"1773\",\"negative\":\"90\",\"neutral\":\"103\",\"addr\":\"홍대 걷고 싶은 거리\"}]}\n"
     ]
    }
   ],
   "source": [
    "import requests\n",
    "\n",
    "url = 'http://apis.data.go.kr/3130000/openapi/sns/getsns'\n",
    "params ={'serviceKey' : key2, \n",
    "         'type' : 'json', \n",
    "        }\n",
    "\n",
    "resp = requests.get(url, params=params)\n",
    "print(resp.text)"
   ]
  },
  {
   "cell_type": "code",
   "execution_count": 66,
   "metadata": {
    "ExecuteTime": {
     "end_time": "2022-07-29T05:29:34.667598Z",
     "start_time": "2022-07-29T05:29:34.660119Z"
    }
   },
   "outputs": [],
   "source": [
    "data=json.loads(resp.text)"
   ]
  },
  {
   "cell_type": "code",
   "execution_count": 68,
   "metadata": {
    "ExecuteTime": {
     "end_time": "2022-07-29T05:29:50.250122Z",
     "start_time": "2022-07-29T05:29:50.237551Z"
    },
    "scrolled": true
   },
   "outputs": [
    {
     "data": {
      "text/plain": [
       "[{'date': '2018-07-01',\n",
       "  'positive': '2956',\n",
       "  'negative': '648',\n",
       "  'neutral': '295',\n",
       "  'addr': '홍대 걷고 싶은 거리'},\n",
       " {'date': '2018-08-01',\n",
       "  'positive': '2247',\n",
       "  'negative': '111',\n",
       "  'neutral': '200',\n",
       "  'addr': '홍대 걷고 싶은 거리'},\n",
       " {'date': '2018-09-01',\n",
       "  'positive': '3602',\n",
       "  'negative': '635',\n",
       "  'neutral': '436',\n",
       "  'addr': '홍대 걷고 싶은 거리'},\n",
       " {'date': '2018-10-01',\n",
       "  'positive': '2827',\n",
       "  'negative': '394',\n",
       "  'neutral': '623',\n",
       "  'addr': '홍대 걷고 싶은 거리'},\n",
       " {'date': '2018-11-01',\n",
       "  'positive': '2004',\n",
       "  'negative': '356',\n",
       "  'neutral': '583',\n",
       "  'addr': '홍대 걷고 싶은 거리'},\n",
       " {'date': '2018-12-01',\n",
       "  'positive': '1457',\n",
       "  'negative': '223',\n",
       "  'neutral': '173',\n",
       "  'addr': '홍대 걷고 싶은 거리'},\n",
       " {'date': '2019-01-01',\n",
       "  'positive': '1444',\n",
       "  'negative': '143',\n",
       "  'neutral': '127',\n",
       "  'addr': '홍대 걷고 싶은 거리'},\n",
       " {'date': '2019-02-01',\n",
       "  'positive': '6886',\n",
       "  'negative': '215',\n",
       "  'neutral': '220',\n",
       "  'addr': '홍대 걷고 싶은 거리'},\n",
       " {'date': '2019-03-01',\n",
       "  'positive': '1945',\n",
       "  'negative': '175',\n",
       "  'neutral': '160',\n",
       "  'addr': '홍대 걷고 싶은 거리'},\n",
       " {'date': '2019-04-01',\n",
       "  'positive': '1773',\n",
       "  'negative': '90',\n",
       "  'neutral': '103',\n",
       "  'addr': '홍대 걷고 싶은 거리'}]"
      ]
     },
     "execution_count": 68,
     "metadata": {},
     "output_type": "execute_result"
    }
   ],
   "source": [
    "\n",
    "data['items']"
   ]
  },
  {
   "cell_type": "code",
   "execution_count": 69,
   "metadata": {
    "ExecuteTime": {
     "end_time": "2022-07-29T05:30:25.077846Z",
     "start_time": "2022-07-29T05:30:25.066807Z"
    }
   },
   "outputs": [
    {
     "data": {
      "text/html": [
       "<div>\n",
       "<style scoped>\n",
       "    .dataframe tbody tr th:only-of-type {\n",
       "        vertical-align: middle;\n",
       "    }\n",
       "\n",
       "    .dataframe tbody tr th {\n",
       "        vertical-align: top;\n",
       "    }\n",
       "\n",
       "    .dataframe thead th {\n",
       "        text-align: right;\n",
       "    }\n",
       "</style>\n",
       "<table border=\"1\" class=\"dataframe\">\n",
       "  <thead>\n",
       "    <tr style=\"text-align: right;\">\n",
       "      <th></th>\n",
       "      <th>date</th>\n",
       "      <th>positive</th>\n",
       "      <th>negative</th>\n",
       "      <th>neutral</th>\n",
       "      <th>addr</th>\n",
       "    </tr>\n",
       "  </thead>\n",
       "  <tbody>\n",
       "    <tr>\n",
       "      <th>0</th>\n",
       "      <td>2018-07-01</td>\n",
       "      <td>2956</td>\n",
       "      <td>648</td>\n",
       "      <td>295</td>\n",
       "      <td>홍대 걷고 싶은 거리</td>\n",
       "    </tr>\n",
       "    <tr>\n",
       "      <th>1</th>\n",
       "      <td>2018-08-01</td>\n",
       "      <td>2247</td>\n",
       "      <td>111</td>\n",
       "      <td>200</td>\n",
       "      <td>홍대 걷고 싶은 거리</td>\n",
       "    </tr>\n",
       "    <tr>\n",
       "      <th>2</th>\n",
       "      <td>2018-09-01</td>\n",
       "      <td>3602</td>\n",
       "      <td>635</td>\n",
       "      <td>436</td>\n",
       "      <td>홍대 걷고 싶은 거리</td>\n",
       "    </tr>\n",
       "    <tr>\n",
       "      <th>3</th>\n",
       "      <td>2018-10-01</td>\n",
       "      <td>2827</td>\n",
       "      <td>394</td>\n",
       "      <td>623</td>\n",
       "      <td>홍대 걷고 싶은 거리</td>\n",
       "    </tr>\n",
       "    <tr>\n",
       "      <th>4</th>\n",
       "      <td>2018-11-01</td>\n",
       "      <td>2004</td>\n",
       "      <td>356</td>\n",
       "      <td>583</td>\n",
       "      <td>홍대 걷고 싶은 거리</td>\n",
       "    </tr>\n",
       "    <tr>\n",
       "      <th>5</th>\n",
       "      <td>2018-12-01</td>\n",
       "      <td>1457</td>\n",
       "      <td>223</td>\n",
       "      <td>173</td>\n",
       "      <td>홍대 걷고 싶은 거리</td>\n",
       "    </tr>\n",
       "    <tr>\n",
       "      <th>6</th>\n",
       "      <td>2019-01-01</td>\n",
       "      <td>1444</td>\n",
       "      <td>143</td>\n",
       "      <td>127</td>\n",
       "      <td>홍대 걷고 싶은 거리</td>\n",
       "    </tr>\n",
       "    <tr>\n",
       "      <th>7</th>\n",
       "      <td>2019-02-01</td>\n",
       "      <td>6886</td>\n",
       "      <td>215</td>\n",
       "      <td>220</td>\n",
       "      <td>홍대 걷고 싶은 거리</td>\n",
       "    </tr>\n",
       "    <tr>\n",
       "      <th>8</th>\n",
       "      <td>2019-03-01</td>\n",
       "      <td>1945</td>\n",
       "      <td>175</td>\n",
       "      <td>160</td>\n",
       "      <td>홍대 걷고 싶은 거리</td>\n",
       "    </tr>\n",
       "    <tr>\n",
       "      <th>9</th>\n",
       "      <td>2019-04-01</td>\n",
       "      <td>1773</td>\n",
       "      <td>90</td>\n",
       "      <td>103</td>\n",
       "      <td>홍대 걷고 싶은 거리</td>\n",
       "    </tr>\n",
       "  </tbody>\n",
       "</table>\n",
       "</div>"
      ],
      "text/plain": [
       "         date positive negative neutral         addr\n",
       "0  2018-07-01     2956      648     295  홍대 걷고 싶은 거리\n",
       "1  2018-08-01     2247      111     200  홍대 걷고 싶은 거리\n",
       "2  2018-09-01     3602      635     436  홍대 걷고 싶은 거리\n",
       "3  2018-10-01     2827      394     623  홍대 걷고 싶은 거리\n",
       "4  2018-11-01     2004      356     583  홍대 걷고 싶은 거리\n",
       "5  2018-12-01     1457      223     173  홍대 걷고 싶은 거리\n",
       "6  2019-01-01     1444      143     127  홍대 걷고 싶은 거리\n",
       "7  2019-02-01     6886      215     220  홍대 걷고 싶은 거리\n",
       "8  2019-03-01     1945      175     160  홍대 걷고 싶은 거리\n",
       "9  2019-04-01     1773       90     103  홍대 걷고 싶은 거리"
      ]
     },
     "execution_count": 69,
     "metadata": {},
     "output_type": "execute_result"
    }
   ],
   "source": [
    "df=pd.DataFrame(data['items'])\n",
    "df"
   ]
  },
  {
   "cell_type": "code",
   "execution_count": 70,
   "metadata": {
    "ExecuteTime": {
     "end_time": "2022-07-29T05:40:07.631222Z",
     "start_time": "2022-07-29T05:40:07.614182Z"
    }
   },
   "outputs": [],
   "source": [
    "key1= '5608247JXIxP56YLMZdZMCOgWU3MR%2FMcbUys0lEFDh4UGG8sX1PK%2FlcVDoR91ma50RoqvtQEzHh%2BN5H703gIuA%3D%3D'\n",
    "key2 = '5608247JXIxP56YLMZdZMCOgWU3MR/McbUys0lEFDh4UGG8sX1PK/lcVDoR91ma50RoqvtQEzHh+N5H703gIuA=='\n",
    "url = 'http://apis.data.go.kr/1790387/covid19CurrentStatusKorea/covid19CurrentStatusKoreaJason'"
   ]
  },
  {
   "cell_type": "code",
   "execution_count": 83,
   "metadata": {
    "ExecuteTime": {
     "end_time": "2022-07-29T05:46:24.253620Z",
     "start_time": "2022-07-29T05:46:24.054275Z"
    }
   },
   "outputs": [
    {
     "data": {
      "text/plain": [
       "{'response': {'resultMsg': '조회성공',\n",
       "  'result': [{'rate_hospitalizations': '0.64',\n",
       "    'rate_confirmations': '165.22',\n",
       "    'cnt_severe_symptoms': '234',\n",
       "    'cnt_deaths': '35',\n",
       "    'rate_severe_symptoms': '0.45',\n",
       "    'cnt_hospitalizations': '330',\n",
       "    'cnt_confirmations': '85320',\n",
       "    'mmddhh': '7.29.00시',\n",
       "    'rate_deaths': '0.07'}],\n",
       "  'resultCnt': '1',\n",
       "  'resultCode': '1'}}"
      ]
     },
     "execution_count": 83,
     "metadata": {},
     "output_type": "execute_result"
    }
   ],
   "source": [
    "import requests\n",
    "\n",
    "url = 'http://apis.data.go.kr/1790387/covid19CurrentStatusKorea/covid19CurrentStatusKoreaJason'\n",
    "params ={'serviceKey' : key2,\n",
    "        }\n",
    "\n",
    "response = requests.get(url, params=params)\n",
    "data=json.loads(response.text)\n",
    "data"
   ]
  },
  {
   "cell_type": "code",
   "execution_count": null,
   "metadata": {},
   "outputs": [],
   "source": []
  }
 ],
 "metadata": {
  "colab": {
   "authorship_tag": "ABX9TyMM9bcGMQdkO/nwIX0kAuhm",
   "collapsed_sections": [],
   "name": "08_crawler.ipynb",
   "provenance": []
  },
  "kernelspec": {
   "display_name": "Python 3 (ipykernel)",
   "language": "python",
   "name": "python3"
  },
  "language_info": {
   "codemirror_mode": {
    "name": "ipython",
    "version": 3
   },
   "file_extension": ".py",
   "mimetype": "text/x-python",
   "name": "python",
   "nbconvert_exporter": "python",
   "pygments_lexer": "ipython3",
   "version": "3.9.7"
  },
  "toc": {
   "base_numbering": 1,
   "nav_menu": {},
   "number_sections": true,
   "sideBar": true,
   "skip_h1_title": true,
   "title_cell": "Table of Contents",
   "title_sidebar": "Contents",
   "toc_cell": false,
   "toc_position": {},
   "toc_section_display": true,
   "toc_window_display": false
  },
  "varInspector": {
   "cols": {
    "lenName": 16,
    "lenType": 16,
    "lenVar": 40
   },
   "kernels_config": {
    "python": {
     "delete_cmd_postfix": "",
     "delete_cmd_prefix": "del ",
     "library": "var_list.py",
     "varRefreshCmd": "print(var_dic_list())"
    },
    "r": {
     "delete_cmd_postfix": ") ",
     "delete_cmd_prefix": "rm(",
     "library": "var_list.r",
     "varRefreshCmd": "cat(var_dic_list()) "
    }
   },
   "types_to_exclude": [
    "module",
    "function",
    "builtin_function_or_method",
    "instance",
    "_Feature"
   ],
   "window_display": false
  }
 },
 "nbformat": 4,
 "nbformat_minor": 1
}
