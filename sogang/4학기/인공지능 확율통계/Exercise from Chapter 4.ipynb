{
 "cells": [
  {
   "cell_type": "code",
   "execution_count": 74,
   "id": "703ad4ee",
   "metadata": {
    "ExecuteTime": {
     "end_time": "2022-10-03T18:44:56.312161Z",
     "start_time": "2022-10-03T18:44:56.296127Z"
    }
   },
   "outputs": [],
   "source": [
    "# Exercise1 -1\n",
    "# 메이저리그 야구에서 대부분 0.2~0.33 사이의 타율을 가지고 있음. \n",
    "# 첫 게임에 등장한 플레이어가 3번의 시도중 3번의 안타를 기록했다고 가정, 적중확률에 대한 사후 분포는?\n",
    "# prior / likelihood / unnorm / posterior\n",
    "# prior\n",
    "# 0.1~0.4 사이 100개의 사전 데이터 생성\n",
    "import numpy as np\n",
    "from empiricaldist import Pmf\n",
    "\n",
    "hypos = np.linspace(0.1, 0.4, 101)\n",
    "prior = Pmf(1, hypos)"
   ]
  },
  {
   "cell_type": "code",
   "execution_count": 75,
   "id": "016955a8",
   "metadata": {
    "ExecuteTime": {
     "end_time": "2022-10-03T18:44:56.328164Z",
     "start_time": "2022-10-03T18:44:56.313162Z"
    }
   },
   "outputs": [],
   "source": [
    "# likelihood, 딕셔너리형태로 Y: getting a hit, N not getting a hit 생성\n",
    "likelihood = {\n",
    "    'Y': hypos,\n",
    "    'N': 1-hypos\n",
    "}"
   ]
  },
  {
   "cell_type": "code",
   "execution_count": 76,
   "id": "42680685",
   "metadata": {
    "ExecuteTime": {
     "end_time": "2022-10-03T18:44:56.344019Z",
     "start_time": "2022-10-03T18:44:56.329165Z"
    }
   },
   "outputs": [],
   "source": [
    "# 사전 분포 생성 안타가 25프로가 되도록\n",
    "dataset = 'Y' * 25 + 'N' * 75"
   ]
  },
  {
   "cell_type": "code",
   "execution_count": 77,
   "id": "3b316f81",
   "metadata": {
    "ExecuteTime": {
     "end_time": "2022-10-03T18:44:56.359578Z",
     "start_time": "2022-10-03T18:44:56.344019Z"
    }
   },
   "outputs": [
    {
     "data": {
      "text/plain": [
       "1.3596964206970507e-23"
      ]
     },
     "execution_count": 77,
     "metadata": {},
     "output_type": "execute_result"
    }
   ],
   "source": [
    "for data in dataset:\n",
    "    prior *= likelihood[data]\n",
    "\n",
    "prior.normalize()"
   ]
  },
  {
   "cell_type": "code",
   "execution_count": 78,
   "id": "f819aa27",
   "metadata": {
    "ExecuteTime": {
     "end_time": "2022-10-03T18:44:56.375582Z",
     "start_time": "2022-10-03T18:44:56.360579Z"
    }
   },
   "outputs": [
    {
     "data": {
      "text/html": [
       "<div>\n",
       "<style scoped>\n",
       "    .dataframe tbody tr th:only-of-type {\n",
       "        vertical-align: middle;\n",
       "    }\n",
       "\n",
       "    .dataframe tbody tr th {\n",
       "        vertical-align: top;\n",
       "    }\n",
       "\n",
       "    .dataframe thead th {\n",
       "        text-align: right;\n",
       "    }\n",
       "</style>\n",
       "<table border=\"1\" class=\"dataframe\">\n",
       "  <thead>\n",
       "    <tr style=\"text-align: right;\">\n",
       "      <th></th>\n",
       "      <th>probs</th>\n",
       "    </tr>\n",
       "  </thead>\n",
       "  <tbody>\n",
       "    <tr>\n",
       "      <th>0.100</th>\n",
       "      <td>0.000003</td>\n",
       "    </tr>\n",
       "    <tr>\n",
       "      <th>0.103</th>\n",
       "      <td>0.000004</td>\n",
       "    </tr>\n",
       "    <tr>\n",
       "      <th>0.106</th>\n",
       "      <td>0.000007</td>\n",
       "    </tr>\n",
       "    <tr>\n",
       "      <th>0.109</th>\n",
       "      <td>0.000011</td>\n",
       "    </tr>\n",
       "    <tr>\n",
       "      <th>0.112</th>\n",
       "      <td>0.000017</td>\n",
       "    </tr>\n",
       "    <tr>\n",
       "      <th>...</th>\n",
       "      <td>...</td>\n",
       "    </tr>\n",
       "    <tr>\n",
       "      <th>0.388</th>\n",
       "      <td>0.000392</td>\n",
       "    </tr>\n",
       "    <tr>\n",
       "      <th>0.391</th>\n",
       "      <td>0.000329</td>\n",
       "    </tr>\n",
       "    <tr>\n",
       "      <th>0.394</th>\n",
       "      <td>0.000275</td>\n",
       "    </tr>\n",
       "    <tr>\n",
       "      <th>0.397</th>\n",
       "      <td>0.000229</td>\n",
       "    </tr>\n",
       "    <tr>\n",
       "      <th>0.400</th>\n",
       "      <td>0.000190</td>\n",
       "    </tr>\n",
       "  </tbody>\n",
       "</table>\n",
       "<p>101 rows × 1 columns</p>\n",
       "</div>"
      ],
      "text/plain": [
       "0.100    0.000003\n",
       "0.103    0.000004\n",
       "0.106    0.000007\n",
       "0.109    0.000011\n",
       "0.112    0.000017\n",
       "           ...   \n",
       "0.388    0.000392\n",
       "0.391    0.000329\n",
       "0.394    0.000275\n",
       "0.397    0.000229\n",
       "0.400    0.000190\n",
       "Name: , Length: 101, dtype: float64"
      ]
     },
     "execution_count": 78,
     "metadata": {},
     "output_type": "execute_result"
    }
   ],
   "source": [
    "prior"
   ]
  },
  {
   "cell_type": "code",
   "execution_count": 79,
   "id": "c27ecf74",
   "metadata": {
    "ExecuteTime": {
     "end_time": "2022-10-03T18:44:56.455602Z",
     "start_time": "2022-10-03T18:44:56.376582Z"
    }
   },
   "outputs": [
    {
     "data": {
      "text/plain": [
       "<matplotlib.legend.Legend at 0x1a3fb0f90d0>"
      ]
     },
     "execution_count": 79,
     "metadata": {},
     "output_type": "execute_result"
    },
    {
     "data": {
      "image/png": "[encoded data removed]",
      "text/plain": [
       "<Figure size 432x288 with 1 Axes>"
      ]
     },
     "metadata": {
      "needs_background": "light"
     },
     "output_type": "display_data"
    }
   ],
   "source": [
    "import matplotlib.pyplot as plt\n",
    "plt.plot(prior, label='prior')\n",
    "plt.xlabel('Probability of getting a hit')\n",
    "plt.ylabel('PMF')\n",
    "plt.legend()"
   ]
  },
  {
   "cell_type": "code",
   "execution_count": 80,
   "id": "bd2ad8d0",
   "metadata": {
    "ExecuteTime": {
     "end_time": "2022-10-03T18:44:56.535356Z",
     "start_time": "2022-10-03T18:44:56.456601Z"
    }
   },
   "outputs": [
    {
     "name": "stdout",
     "output_type": "stream",
     "text": [
      "0.017944179687707326\n"
     ]
    },
    {
     "data": {
      "text/plain": [
       "<matplotlib.legend.Legend at 0x1a3fb2269d0>"
      ]
     },
     "execution_count": 80,
     "metadata": {},
     "output_type": "execute_result"
    },
    {
     "data": {
      "image/png": "[encoded data removed]",
      "text/plain": [
       "<Figure size 432x288 with 1 Axes>"
      ]
     },
     "metadata": {
      "needs_background": "light"
     },
     "output_type": "display_data"
    }
   ],
   "source": [
    "# # E 1-1 정답 분포 시각화\n",
    "#적중확률에 대한 사후 분포는\n",
    "# posterior 구하기(hit에 대한!!!)\n",
    "posterior = prior.copy()\n",
    "# hit이 3번 이어야함!!\n",
    "for data in 'YYY':\n",
    "    posterior *= likelihood[data]\n",
    "print(posterior.normalize())\n",
    "\n",
    "plt.plot(prior, label='prior')\n",
    "plt.plot(posterior, label='posterior')\n",
    "plt.xlabel('Probability of getting a hit')\n",
    "plt.ylabel('PMF')\n",
    "plt.legend()"
   ]
  },
  {
   "cell_type": "code",
   "execution_count": 81,
   "id": "7efcc8f6",
   "metadata": {
    "ExecuteTime": {
     "end_time": "2022-10-03T18:44:56.550356Z",
     "start_time": "2022-10-03T18:44:56.536357Z"
    }
   },
   "outputs": [
    {
     "data": {
      "text/plain": [
       "0.271"
      ]
     },
     "execution_count": 81,
     "metadata": {},
     "output_type": "execute_result"
    }
   ],
   "source": [
    "# E 1-2\n",
    "# What is the most likely quantity in the posterior distribution?\n",
    "# e1-2 답 : 0.271\n",
    "posterior.max_prob()"
   ]
  },
  {
   "cell_type": "code",
   "execution_count": 82,
   "id": "b789d215",
   "metadata": {
    "ExecuteTime": {
     "end_time": "2022-10-03T18:44:56.566355Z",
     "start_time": "2022-10-03T18:44:56.551357Z"
    }
   },
   "outputs": [],
   "source": [
    "# Exercise2\n",
    "# Suppose you survey 100 people this way and get 80 YESes and 20 NOs. \n",
    "# E2-1 : Based on this data, what is the posterior distribution for the fraction of people who cheat on their taxes? \n",
    "# E2-2 : What is the most likely quantity in the posterior distribution?\n",
    "# prior 계산\n",
    "hypos = np.linspace(0, 1, 101)\n",
    "prior = Pmf(1, hypos)"
   ]
  },
  {
   "cell_type": "code",
   "execution_count": 83,
   "id": "5206d891",
   "metadata": {
    "ExecuteTime": {
     "end_time": "2022-10-03T18:44:56.581356Z",
     "start_time": "2022-10-03T18:44:56.567356Z"
    }
   },
   "outputs": [],
   "source": [
    "# likelihood 계산\n",
    "likelihood = {\n",
    "    'Y': 0.5 + hypos/2,\n",
    "    'N': (1-hypos)/2\n",
    "}"
   ]
  },
  {
   "cell_type": "code",
   "execution_count": 84,
   "id": "825d1aef",
   "metadata": {
    "ExecuteTime": {
     "end_time": "2022-10-03T18:44:56.597356Z",
     "start_time": "2022-10-03T18:44:56.581356Z"
    }
   },
   "outputs": [
    {
     "data": {
      "text/plain": [
       "3.6945139133967024e-21"
      ]
     },
     "execution_count": 84,
     "metadata": {},
     "output_type": "execute_result"
    }
   ],
   "source": [
    "# 80개의 예와 20개의 아니요\n",
    "dataset = 'Y' * 80 + 'N' * 20\n",
    "# 80개의 예와 20개의 아니요의 posterior 계산\n",
    "posterior = prior.copy()\n",
    "\n",
    "for data in dataset:\n",
    "    posterior *= likelihood[data]\n",
    "# 정규화\n",
    "posterior.normalize()"
   ]
  },
  {
   "cell_type": "code",
   "execution_count": 85,
   "id": "a34a391b",
   "metadata": {
    "ExecuteTime": {
     "end_time": "2022-10-03T18:44:56.741389Z",
     "start_time": "2022-10-03T18:44:56.598356Z"
    }
   },
   "outputs": [
    {
     "data": {
      "text/plain": [
       "Text(0, 0.5, 'PMF')"
      ]
     },
     "execution_count": 85,
     "metadata": {},
     "output_type": "execute_result"
    },
    {
     "data": {
      "image/png": "[encoded data removed]",
      "text/plain": [
       "<Figure size 432x288 with 1 Axes>"
      ]
     },
     "metadata": {
      "needs_background": "light"
     },
     "output_type": "display_data"
    }
   ],
   "source": [
    "# e2-1 답을 위한 시각화\n",
    "plt.plot(posterior, label='80 YES, 20 NO')\n",
    "plt.xlabel('Proportion of cheaters')\n",
    "plt.ylabel('PMF')"
   ]
  },
  {
   "cell_type": "code",
   "execution_count": 86,
   "id": "921d928f",
   "metadata": {
    "ExecuteTime": {
     "end_time": "2022-10-03T18:44:56.757395Z",
     "start_time": "2022-10-03T18:44:56.742390Z"
    }
   },
   "outputs": [
    {
     "data": {
      "text/plain": [
       "0.6"
      ]
     },
     "execution_count": 86,
     "metadata": {},
     "output_type": "execute_result"
    }
   ],
   "source": [
    "# E2-2 번 답 : 0.6\n",
    "posterior.idxmax()"
   ]
  },
  {
   "cell_type": "code",
   "execution_count": 87,
   "id": "a65eb3a3",
   "metadata": {
    "ExecuteTime": {
     "end_time": "2022-10-03T18:44:56.789403Z",
     "start_time": "2022-10-03T18:44:56.758396Z"
    }
   },
   "outputs": [
    {
     "data": {
      "text/plain": [
       "4.391534169454059e-74"
      ]
     },
     "execution_count": 87,
     "metadata": {},
     "output_type": "execute_result"
    }
   ],
   "source": [
    "# Exercise3\n",
    "\"\"\"Suppose you want to test whether a coin is fair, but you don’t want to spin it hundreds of times. \n",
    "So you make a machine that spins the coin automatically and uses computer vision to determine the outcome.\n",
    "However, you discover that the machine is not always accurate. \n",
    "Specifically, suppose the probability is y=0.2 that an actual heads is reported as tails, or actual tails reported as heads.\n",
    "\n",
    "\"\"\"\n",
    "# E3-1 : If we spin a coin 250 times and the machine reports 140 heads, what is the posterior distribution of x? \n",
    "# E3-2 : What happens as you vary the value of y?\n",
    "# prior 계산\n",
    "hypos = np.linspace(0, 1, 101)\n",
    "prior = Pmf(1, hypos)\n",
    "# likelihood 계산\n",
    "y=0.2\n",
    "likelihood = {\n",
    "        'H': (1-y) * hypos + y * (1-hypos),\n",
    "        'T': y * hypos + (1-y) * (1-hypos)\n",
    "}\n",
    "# spin a coin 250 times and the machine reports 140 heads\n",
    "dataset = 'H' * 140 + 'T' * 110\n",
    "# spin a coin 250 times and the machine reports 140 heads의 posterior 계산\n",
    "posterior = prior.copy()\n",
    "\n",
    "for data in dataset:\n",
    "    posterior *= likelihood[data]\n",
    "# 정규화\n",
    "posterior.normalize()\n",
    "# e3-1 답 "
   ]
  },
  {
   "cell_type": "code",
   "execution_count": 88,
   "id": "fd2fa529",
   "metadata": {
    "ExecuteTime": {
     "end_time": "2022-10-03T18:44:56.868869Z",
     "start_time": "2022-10-03T18:44:56.790403Z"
    }
   },
   "outputs": [
    {
     "data": {
      "text/plain": [
       "Text(0, 0.5, 'PMF')"
      ]
     },
     "execution_count": 88,
     "metadata": {},
     "output_type": "execute_result"
    },
    {
     "data": {
      "image/png": "[encoded data removed]",
      "text/plain": [
       "<Figure size 432x288 with 1 Axes>"
      ]
     },
     "metadata": {
      "needs_background": "light"
     },
     "output_type": "display_data"
    }
   ],
   "source": [
    "# e3-1 답 시각화\n",
    "plt.plot(posterior, label='spin a coin 250 times and the machine reports 140 heads')\n",
    "plt.xlabel('Proportion of heads')\n",
    "plt.ylabel('PMF')"
   ]
  },
  {
   "cell_type": "code",
   "execution_count": 89,
   "id": "510fddc5",
   "metadata": {
    "ExecuteTime": {
     "end_time": "2022-10-03T18:44:56.900636Z",
     "start_time": "2022-10-03T18:44:56.869871Z"
    }
   },
   "outputs": [
    {
     "data": {
      "text/plain": [
       "0.56"
      ]
     },
     "execution_count": 89,
     "metadata": {},
     "output_type": "execute_result"
    }
   ],
   "source": [
    "# e3-2\n",
    "y=0.0\n",
    "# prior 계산\n",
    "hypos = np.linspace(0, 1, 101)\n",
    "prior = Pmf(1, hypos)\n",
    "# likelihood 계산\n",
    "likelihood = {\n",
    "        'H': (1-y) * hypos + y * (1-hypos),\n",
    "        'T': y * hypos + (1-y) * (1-hypos)\n",
    "}\n",
    "# spin a coin 250 times and the machine reports 140 heads\n",
    "dataset = 'H' * 140 + 'T' * 110\n",
    "# spin a coin 250 times and the machine reports 140 heads의 posterior 계산\n",
    "posterior = prior.copy()\n",
    "\n",
    "for data in dataset:\n",
    "    posterior *= likelihood[data]\n",
    "# 정규화\n",
    "posterior.normalize()\n",
    "# e3-2 답\n",
    "posterior.idxmax()"
   ]
  },
  {
   "cell_type": "code",
   "execution_count": 90,
   "id": "f3c310b4",
   "metadata": {
    "ExecuteTime": {
     "end_time": "2022-10-03T18:44:56.932422Z",
     "start_time": "2022-10-03T18:44:56.901638Z"
    }
   },
   "outputs": [
    {
     "data": {
      "text/plain": [
       "0.5700000000000001"
      ]
     },
     "execution_count": 90,
     "metadata": {},
     "output_type": "execute_result"
    }
   ],
   "source": [
    "# e3-2\n",
    "y=0.1\n",
    "# prior 계산\n",
    "hypos = np.linspace(0, 1, 101)\n",
    "prior = Pmf(1, hypos)\n",
    "# likelihood 계산\n",
    "likelihood = {\n",
    "        'H': (1-y) * hypos + y * (1-hypos),\n",
    "        'T': y * hypos + (1-y) * (1-hypos)\n",
    "}\n",
    "# spin a coin 250 times and the machine reports 140 heads\n",
    "dataset = 'H' * 140 + 'T' * 110\n",
    "# spin a coin 250 times and the machine reports 140 heads의 posterior 계산\n",
    "posterior = prior.copy()\n",
    "\n",
    "for data in dataset:\n",
    "    posterior *= likelihood[data]\n",
    "# 정규화\n",
    "posterior.normalize()\n",
    "# e3-2 답\n",
    "posterior.idxmax()"
   ]
  },
  {
   "cell_type": "code",
   "execution_count": 91,
   "id": "c8224530",
   "metadata": {
    "ExecuteTime": {
     "end_time": "2022-10-03T18:44:56.963797Z",
     "start_time": "2022-10-03T18:44:56.933422Z"
    }
   },
   "outputs": [
    {
     "data": {
      "text/plain": [
       "0.65"
      ]
     },
     "execution_count": 91,
     "metadata": {},
     "output_type": "execute_result"
    }
   ],
   "source": [
    "# e3-2\n",
    "y=0.3\n",
    "# prior 계산\n",
    "hypos = np.linspace(0, 1, 101)\n",
    "prior = Pmf(1, hypos)\n",
    "# likelihood 계산\n",
    "likelihood = {\n",
    "        'H': (1-y) * hypos + y * (1-hypos),\n",
    "        'T': y * hypos + (1-y) * (1-hypos)\n",
    "}\n",
    "# spin a coin 250 times and the machine reports 140 heads\n",
    "dataset = 'H' * 140 + 'T' * 110\n",
    "# spin a coin 250 times and the machine reports 140 heads의 posterior 계산\n",
    "posterior = prior.copy()\n",
    "\n",
    "for data in dataset:\n",
    "    posterior *= likelihood[data]\n",
    "# 정규화\n",
    "posterior.normalize()\n",
    "# e3-2 답\n",
    "posterior.idxmax()"
   ]
  },
  {
   "cell_type": "code",
   "execution_count": 92,
   "id": "0f1c3f5c",
   "metadata": {
    "ExecuteTime": {
     "end_time": "2022-10-03T18:44:56.994948Z",
     "start_time": "2022-10-03T18:44:56.964798Z"
    }
   },
   "outputs": [
    {
     "data": {
      "text/plain": [
       "0.8"
      ]
     },
     "execution_count": 92,
     "metadata": {},
     "output_type": "execute_result"
    }
   ],
   "source": [
    "# e3-2\n",
    "y=0.4\n",
    "# prior 계산\n",
    "hypos = np.linspace(0, 1, 101)\n",
    "prior = Pmf(1, hypos)\n",
    "# likelihood 계산\n",
    "likelihood = {\n",
    "        'H': (1-y) * hypos + y * (1-hypos),\n",
    "        'T': y * hypos + (1-y) * (1-hypos)\n",
    "}\n",
    "# spin a coin 250 times and the machine reports 140 heads\n",
    "dataset = 'H' * 140 + 'T' * 110\n",
    "# spin a coin 250 times and the machine reports 140 heads의 posterior 계산\n",
    "posterior = prior.copy()\n",
    "\n",
    "for data in dataset:\n",
    "    posterior *= likelihood[data]\n",
    "# 정규화\n",
    "posterior.normalize()\n",
    "# e3-2 답\n",
    "posterior.idxmax()"
   ]
  },
  {
   "cell_type": "code",
   "execution_count": 93,
   "id": "0e08a1b6",
   "metadata": {
    "ExecuteTime": {
     "end_time": "2022-10-03T18:44:57.009953Z",
     "start_time": "2022-10-03T18:44:56.995950Z"
    }
   },
   "outputs": [
    {
     "ename": "IndexError",
     "evalue": "only integers, slices (`:`), ellipsis (`...`), numpy.newaxis (`None`) and integer or boolean arrays are valid indices",
     "output_type": "error",
     "traceback": [
      "\u001b[1;31m---------------------------------------------------------------------------\u001b[0m",
      "\u001b[1;31mIndexError\u001b[0m                                Traceback (most recent call last)",
      "\u001b[1;32m~\\AppData\\Local\\Temp/ipykernel_3444/1005124202.py\u001b[0m in \u001b[0;36m<module>\u001b[1;34m\u001b[0m\n\u001b[0;32m     32\u001b[0m \u001b[1;33m\u001b[0m\u001b[0m\n\u001b[0;32m     33\u001b[0m \u001b[1;32mfor\u001b[0m \u001b[0mdata\u001b[0m \u001b[1;32min\u001b[0m \u001b[0mdataset\u001b[0m\u001b[1;33m:\u001b[0m\u001b[1;33m\u001b[0m\u001b[1;33m\u001b[0m\u001b[0m\n\u001b[1;32m---> 34\u001b[1;33m     \u001b[0mposterior\u001b[0m \u001b[1;33m*=\u001b[0m \u001b[0mlikelihood\u001b[0m\u001b[1;33m[\u001b[0m\u001b[0mdata\u001b[0m\u001b[1;33m]\u001b[0m\u001b[1;33m\u001b[0m\u001b[1;33m\u001b[0m\u001b[0m\n\u001b[0m\u001b[0;32m     35\u001b[0m \u001b[1;31m# 정규화\u001b[0m\u001b[1;33m\u001b[0m\u001b[1;33m\u001b[0m\u001b[0m\n\u001b[0;32m     36\u001b[0m \u001b[0mposterior\u001b[0m\u001b[1;33m.\u001b[0m\u001b[0mnormalize\u001b[0m\u001b[1;33m(\u001b[0m\u001b[1;33m)\u001b[0m\u001b[1;33m\u001b[0m\u001b[1;33m\u001b[0m\u001b[0m\n",
      "\u001b[1;31mIndexError\u001b[0m: only integers, slices (`:`), ellipsis (`...`), numpy.newaxis (`None`) and integer or boolean arrays are valid indices"
     ]
    }
   ],
   "source": [
    "# exercise 4\n",
    "# 모르겠습니다 likelihood부터 모르겠습니다.\n",
    "\"\"\"\n",
    "In preparation for an alien invasion, the Earth Defense League (EDL) has been working on new missiles to shoot down space invaders. \n",
    "Of course, some missile designs are better than others; let’s assume that each design has some probability of hitting an alien ship, x.\n",
    "\n",
    "Based on previous tests, the distribution of x in the population of designs is approximately uniform between 0.1 and 0.4.\n",
    "\n",
    "Now suppose the new ultra-secret Alien Blaster 9000 is being tested. In a press conference, \n",
    "an EDL general reports that the new design has been tested twice, taking two shots during each test. \n",
    "The results of the test are confidential, so the general won’t say how many targets were hit, \n",
    "but they report: “The same number of targets were hit in the two tests, so we have reason to think this new design is consistent.”\n",
    "\n",
    "Is this data good or bad? That is, does it increase or decrease your estimate of x for the Alien Blaster 9000?\n",
    "\n",
    "Hint: If the probability of hitting each target is x, the probability of hitting one target in both tests is 2*x*(1-x))**2.\n",
    "\"\"\"\n",
    "# Is this data good or bad? That is, does it increase or decrease your estimate of x for the Alien Blaster 9000?\n",
    "# prior 계산\n",
    "hypos = np.linspace(0.1, 0.4, 101)\n",
    "prior = Pmf(1, hypos)\n",
    "\n",
    "# likelihood 계산\n",
    "x = hypos\n",
    "likes = [(1-x)**4, (2*x*(1-x))**2, x**4]\n",
    "likelihood = np.sum(likes, axis=0)\n",
    "\n",
    "# spin a coin 250 times and the machine reports 140 heads\n",
    "dataset = 'H' * 140 + 'T' * 110\n",
    "# spin a coin 250 times and the machine reports 140 heads의 posterior 계산\n",
    "posterior = prior.copy()\n",
    "\n",
    "for data in dataset:\n",
    "    posterior *= likelihood[data]\n",
    "# 정규화\n",
    "posterior.normalize()\n",
    "# e3-1 답 "
   ]
  },
  {
   "cell_type": "code",
   "execution_count": null,
   "id": "52b4d095",
   "metadata": {},
   "outputs": [],
   "source": []
  }
 ],
 "metadata": {
  "kernelspec": {
   "display_name": "Python 3 (ipykernel)",
   "language": "python",
   "name": "python3"
  },
  "language_info": {
   "codemirror_mode": {
    "name": "ipython",
    "version": 3
   },
   "file_extension": ".py",
   "mimetype": "text/x-python",
   "name": "python",
   "nbconvert_exporter": "python",
   "pygments_lexer": "ipython3",
   "version": "3.9.7"
  },
  "toc": {
   "base_numbering": 1,
   "nav_menu": {},
   "number_sections": true,
   "sideBar": true,
   "skip_h1_title": false,
   "title_cell": "Table of Contents",
   "title_sidebar": "Contents",
   "toc_cell": false,
   "toc_position": {},
   "toc_section_display": true,
   "toc_window_display": false
  }
 },
 "nbformat": 4,
 "nbformat_minor": 5
}
